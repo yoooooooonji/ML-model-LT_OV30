{
 "cells": [
  {
   "cell_type": "code",
   "execution_count": 1,
   "metadata": {},
   "outputs": [
    {
     "name": "stdout",
     "output_type": "stream",
     "text": [
      "/Users/yj.noh/Documents/GitHub\n"
     ]
    }
   ],
   "source": [
    "import pandas as pd\n",
    "import numpy as np\n",
    "import os\n",
    "import matplotlib.pyplot as plt\n",
    "import statsmodels.api as sm\n",
    "from datetime import datetime\n",
    "import seaborn as sns\n",
    "from sklearn.preprocessing import OneHotEncoder\n",
    "from sklearn.preprocessing import StandardScaler\n",
    "from sklearn.preprocessing import MinMaxScaler\n",
    "from sklearn.linear_model import LogisticRegression\n",
    "from sklearn.model_selection import train_test_split, cross_val_score\n",
    "from sklearn.metrics import log_loss, roc_auc_score, recall_score, precision_score, average_precision_score, f1_score, classification_report, accuracy_score,confusion_matrix, silhouette_score\n",
    "from statsmodels.stats.outliers_influence import variance_inflation_factor\n",
    "\n",
    "from sklearn.cluster import KMeans, AgglomerativeClustering, DBSCAN\n",
    "from sklearn.datasets import make_blobs\n",
    "\n",
    "\n",
    "import warnings\n",
    "warnings.filterwarnings(\"ignore\")\n",
    "os.chdir(\"/Users/yj.noh/Documents/GitHub\")\n",
    "print(os.getcwd())"
   ]
  },
  {
   "cell_type": "code",
   "execution_count": 7,
   "metadata": {},
   "outputs": [
    {
     "name": "stdout",
     "output_type": "stream",
     "text": [
      "            dlvry_id business_day  reg_hour service_type   shop_no  ord_price  \\\n",
      "0  20230916_1540YBKT   2023-09-16        22          배민1  14150430      17500   \n",
      "1  20230915_6952RRHU   2023-09-15        11          배민1  10643316      62500   \n",
      "2  20230915_8153UNMT   2023-09-15        23          배민1  13502976      26000   \n",
      "\n",
      "   notiOver  actual_dlvry_distance  shop_loc_pnt_lat  shop_loc_pnt_lon  ...  \\\n",
      "0         0                    566         37.481687        126.992855  ...   \n",
      "1         0                    551         37.505045        127.022297  ...   \n",
      "2         0                   1821         37.481632        127.041157  ...   \n",
      "\n",
      "   dlvry_loc_pnt_lon  추천노출시간_AI  추천노출시간_일반   추천미발생시간유  추천미발생시간무  배차후취소시간  \\\n",
      "0         126.992994   0.416667        0.0  21.950000  2.383333      0.0   \n",
      "1         127.024574   0.850000        0.0   0.333333  0.166667      0.0   \n",
      "2         127.048878   0.533333        0.0   0.083333  0.233333      0.0   \n",
      "\n",
      "   전체배차시간  notiOver_min_max  per_display  per_no_recomm  \n",
      "0   24.75               0.0     1.683502      98.316498  \n",
      "1    1.35               0.0    62.962963      37.037037  \n",
      "2    0.85               0.0    62.745098      37.254901  \n",
      "\n",
      "[3 rows x 21 columns]\n",
      "(27654, 21)\n"
     ]
    }
   ],
   "source": [
    "data = pd.read_csv(\"prj-ML-model-LT_OV30/new_data.csv\", encoding = \"utf-8\")\n",
    "print(data.head(3))\n",
    "print(data.shape)"
   ]
  },
  {
   "cell_type": "code",
   "execution_count": null,
   "metadata": {},
   "outputs": [],
   "source": []
  }
 ],
 "metadata": {
  "kernelspec": {
   "display_name": ".venv",
   "language": "python",
   "name": "python3"
  },
  "language_info": {
   "codemirror_mode": {
    "name": "ipython",
    "version": 3
   },
   "file_extension": ".py",
   "mimetype": "text/x-python",
   "name": "python",
   "nbconvert_exporter": "python",
   "pygments_lexer": "ipython3",
   "version": "3.9.6"
  },
  "orig_nbformat": 4
 },
 "nbformat": 4,
 "nbformat_minor": 2
}
