{
 "cells": [
  {
   "cell_type": "code",
   "execution_count": 95,
   "metadata": {},
   "outputs": [
    {
     "name": "stdout",
     "output_type": "stream",
     "text": [
      "/Users/yj.noh/Documents/GitHub\n"
     ]
    }
   ],
   "source": [
    "import pandas as pd\n",
    "import numpy as np\n",
    "import os\n",
    "import requests\n",
    "import matplotlib.pyplot as plt\n",
    "import statsmodels.api as sm\n",
    "from datetime import datetime\n",
    "import seaborn as sns\n",
    "from sklearn.preprocessing import OneHotEncoder\n",
    "from sklearn.preprocessing import StandardScaler\n",
    "from sklearn.preprocessing import MinMaxScaler\n",
    "from sklearn.linear_model import LogisticRegression\n",
    "from sklearn.model_selection import train_test_split, cross_val_score\n",
    "from sklearn.metrics import log_loss, roc_auc_score, recall_score, precision_score, average_precision_score, f1_score, classification_report, accuracy_score,confusion_matrix, silhouette_score\n",
    "from statsmodels.stats.outliers_influence import variance_inflation_factor\n",
    "\n",
    "from sklearn.cluster import KMeans, AgglomerativeClustering, DBSCAN\n",
    "from sklearn.datasets import make_blobs\n",
    "\n",
    "\n",
    "import warnings\n",
    "warnings.filterwarnings(\"ignore\")\n",
    "os.chdir(\"/Users/yj.noh/Documents/GitHub\")\n",
    "print(os.getcwd())"
   ]
  },
  {
   "attachments": {},
   "cell_type": "markdown",
   "metadata": {},
   "source": [
    "## 1. 위경도 - 지번주소 변환"
   ]
  },
  {
   "cell_type": "code",
   "execution_count": null,
   "metadata": {},
   "outputs": [],
   "source": [
    "# 픽업지 지번 주소 추출 \n",
    "\n",
    "# apiurl = \"https://api.vworld.kr/req/address\"\n",
    "# api_key = \"57C428EF-A97E-3028-9BF6-734745493260\"\n",
    "\n",
    "# data = pd.read_csv('prj-ML-model-LT_OV30/new_data_pick_address.csv', encoding=\"utf-8\")\n",
    "\n",
    "# shop_results = []\n",
    "\n",
    "# for index, row in data.iterrows():\n",
    "#     lat = row['shop_loc_pnt_lat']\n",
    "#     lon = row['shop_loc_pnt_lon']\n",
    "    \n",
    "#     # 픽업지 주소 추출\n",
    "#     params_shop = {\n",
    "#         \"service\": \"address\",\n",
    "#         \"request\": \"getaddress\",\n",
    "#         \"crs\": \"epsg:4326\",\n",
    "#         \"point\": f\"{lon},{lat}\",  # 경도, 위도 순서로 입력\n",
    "#         \"format\": \"json\",\n",
    "#         \"type\": \"parcel\",\n",
    "#         \"key\": api_key\n",
    "#     }\n",
    "    \n",
    "#     response_shop = requests.get(apiurl, params=params_shop)\n",
    "    \n",
    "#     if response_shop.status_code == 200:\n",
    "#         result_shop = response_shop.json()\n",
    "#         shop_address = result_shop['response']['result'][0]['text']  # 매장의 지번 주소\n",
    "            \n",
    "#     shop_results.append({\n",
    "#         \"Latitude\": lat,\n",
    "#         \"Longitude\": lon,\n",
    "#         \"Address\": shop_address\n",
    "#         })\n",
    "    \n",
    "# shop_result = pd.DataFrame(shop_results)\n",
    "# shop_result.to_csv('prj-ML-model-LT_OV30/new_data_shop_result.csv', index=False, encoding=\"cp949\")"
   ]
  },
  {
   "cell_type": "code",
   "execution_count": null,
   "metadata": {},
   "outputs": [],
   "source": [
    "\n",
    "# apiurl = \"https://api.vworld.kr/req/address\"\n",
    "# api_key = \"57C428EF-A97E-3028-9BF6-734745493260\"\n",
    "\n",
    "# data = pd.read_csv('prj-ML-model-LT_OV30/new_data_dlvry_address.csv', encoding=\"utf-8\")\n",
    "\n",
    "# dlvry_results = []\n",
    "\n",
    "# for index, row in data.iterrows():\n",
    "#     lat = row['dlvry_loc_pnt_lat']\n",
    "#     lon = row['dlvry_loc_pnt_lon']\n",
    "    \n",
    "#     # 픽업지 주소 추출\n",
    "#     params_shop = {\n",
    "#         \"service\": \"address\",\n",
    "#         \"request\": \"getaddress\",\n",
    "#         \"crs\": \"epsg:4326\",\n",
    "#         \"point\": f\"{lon},{lat}\",  # 경도, 위도 순서로 입력\n",
    "#         \"format\": \"json\",\n",
    "#         \"type\": \"parcel\",\n",
    "#         \"key\": api_key\n",
    "#     }\n",
    "    \n",
    "#     response_shop = requests.get(apiurl, params=params_shop)\n",
    "    \n",
    "#     if response_shop.status_code == 200:\n",
    "#         result_shop = response_shop.json()\n",
    "#         shop_address = result_shop['response']['result'][0]['text']  # 매장의 지번 주소\n",
    "            \n",
    "#     dlvry_results.append({\n",
    "#         \"Latitude\": lat,\n",
    "#         \"Longitude\": lon,\n",
    "#         \"Address\": shop_address\n",
    "#         })\n",
    "    \n",
    "# dlvry_result = pd.DataFrame(dlvry_results)\n",
    "# dlvry_result.to_csv('prj-ML-model-LT_OV30/new_data_dlvry_result.csv', index=False, encoding=\"cp949\")"
   ]
  },
  {
   "attachments": {},
   "cell_type": "markdown",
   "metadata": {},
   "source": [
    "## 2. 지번주소 - 건축물대장 join"
   ]
  },
  {
   "cell_type": "code",
   "execution_count": 96,
   "metadata": {},
   "outputs": [],
   "source": [
    "# dataload\n",
    "#픽업지 층 데이터\n",
    "pick_floor = pd.read_excel(\"prj-ML-model-LT_OV30/pick_floor_data.xls\")\n",
    "\n",
    "#픽업지/전달지 지번주소 데이터\n",
    "pick = pd.read_csv(\"prj-ML-model-LT_OV30/address/new_data_shop_result.csv\", encoding = \"cp949\")\n",
    "dlvry = pd.read_csv(\"prj-ML-model-LT_OV30/address/new_data_dlvry_result.csv\", encoding = \"cp949\")\n",
    "\n",
    "# 건축물대장 데이터\n",
    "info_1 = pd.read_csv('/Users/yj.noh/Documents/GitHub/prj-ML-model-LT_OV30/address/건축물정보/building_final.csv', encoding = \"cp949\")\n",
    "info_2 = pd.read_csv('/Users/yj.noh/Documents/GitHub/prj-ML-model-LT_OV30/address/건축물대장_all.csv', encoding = \"cp949\")\n"
   ]
  },
  {
   "cell_type": "code",
   "execution_count": 97,
   "metadata": {},
   "outputs": [
    {
     "name": "stdout",
     "output_type": "stream",
     "text": [
      "             address  건물용도명  지상층수_max  지하층수_min  n  pick  dlvry\n",
      "0  서울특별시 서초구 방배동 1-3  일반음식점       6.0         2  1     1      1\n",
      "1  서울특별시 서초구 방배동 1-4   공동주택       2.0         1  1     1      1\n"
     ]
    }
   ],
   "source": [
    "print(info_1.head(2)) # address로 pick, dlvry join"
   ]
  },
  {
   "cell_type": "code",
   "execution_count": 98,
   "metadata": {},
   "outputs": [
    {
     "name": "stdout",
     "output_type": "stream",
     "text": [
      "Latitude     0\n",
      "Longitude    0\n",
      "Address      0\n",
      "dtype: int64\n"
     ]
    }
   ],
   "source": [
    "print(pick.isna().sum())"
   ]
  },
  {
   "cell_type": "code",
   "execution_count": 99,
   "metadata": {},
   "outputs": [
    {
     "name": "stdout",
     "output_type": "stream",
     "text": [
      "Index(['address', '건물용도명', '지상층수_max', '지하층수_min', 'n', 'pick', 'dlvry'], dtype='object')\n",
      "Index(['Latitude', 'Longitude', 'Address'], dtype='object')\n",
      "(1336, 3)\n"
     ]
    }
   ],
   "source": [
    "info_1_pick = info_1[info_1['pick'] == 1]\n",
    "info_1_dlvry = info_1[info_1['dlvry'] == 1]\n",
    "\n",
    "print(info_1_pick.columns)\n",
    "print(pick.columns)\n",
    "print(pick.shape) #1,336"
   ]
  },
  {
   "attachments": {},
   "cell_type": "markdown",
   "metadata": {},
   "source": [
    "## 2-1. info_1 join"
   ]
  },
  {
   "cell_type": "code",
   "execution_count": 100,
   "metadata": {},
   "outputs": [
    {
     "name": "stdout",
     "output_type": "stream",
     "text": [
      "Latitude       0\n",
      "Longitude      0\n",
      "Address        0\n",
      "address      183\n",
      "건물용도명        183\n",
      "dtype: int64\n",
      "(1336, 5)\n"
     ]
    }
   ],
   "source": [
    "pick = pd.merge(pick, info_1_pick[['address', '건물용도명']], \n",
    "                left_on = ['Address'], right_on = ['address'], how = 'left')\n",
    "\n",
    "print(pick.isna().sum()) #183개\n",
    "print(pick.shape)"
   ]
  },
  {
   "cell_type": "code",
   "execution_count": 101,
   "metadata": {},
   "outputs": [
    {
     "name": "stdout",
     "output_type": "stream",
     "text": [
      "Latitude        0\n",
      "Longitude       0\n",
      "Address         0\n",
      "address      5125\n",
      "건물용도명        5125\n",
      "dtype: int64\n",
      "(17824, 5)\n"
     ]
    }
   ],
   "source": [
    "dlvry = pd.merge(dlvry, info_1_dlvry[['address', '건물용도명']], \n",
    "                left_on = ['Address'], right_on = ['address'], how = 'left')\n",
    "\n",
    "print(dlvry.isna().sum()) # 5,125개\n",
    "print(dlvry.shape)"
   ]
  },
  {
   "attachments": {},
   "cell_type": "markdown",
   "metadata": {},
   "source": [
    "## 2-2. info_2 join"
   ]
  },
  {
   "cell_type": "code",
   "execution_count": 104,
   "metadata": {},
   "outputs": [],
   "source": [
    "info_2 = info_2[[\"주용도코드명\", \"대지위치\"]]\n",
    "pick = pd.merge(pick, info_2, \n",
    "                left_on=\"Address\", right_on=\"대지위치\", how=\"left\")\n",
    "\n",
    "dlvry = pd.merge(dlvry, info_2, left_on=\"Address\", right_on=\"대지위치\", how=\"left\")\n",
    "\n",
    "\n",
    "pick[\"건물용도명_2\"] = pick.apply(lambda row: row[\"주용도코드명\"] if pd.isna(row[\"건물용도명\"]) else row[\"건물용도명\"], axis=1)\n",
    "dlvry[\"건물용도명_2\"] = dlvry.apply(lambda row: row[\"주용도코드명\"] if pd.isna(row[\"건물용도명\"]) else row[\"건물용도명\"], axis=1)\n"
   ]
  },
  {
   "cell_type": "code",
   "execution_count": 105,
   "metadata": {},
   "outputs": [
    {
     "name": "stdout",
     "output_type": "stream",
     "text": [
      "Latitude        0\n",
      "Longitude       0\n",
      "Address         0\n",
      "address       183\n",
      "건물용도명         183\n",
      "주용도코드명       1292\n",
      "대지위치         1290\n",
      "건물용도명_2       169\n",
      "dtype: int64\n",
      "Latitude         0\n",
      "Longitude        0\n",
      "Address          0\n",
      "address       5131\n",
      "건물용도명         5131\n",
      "주용도코드명       13793\n",
      "대지위치         13766\n",
      "건물용도명_2       3823\n",
      "dtype: int64\n"
     ]
    }
   ],
   "source": [
    "print(pick.isna().sum()) \n",
    "print(dlvry.isna().sum())"
   ]
  },
  {
   "cell_type": "code",
   "execution_count": null,
   "metadata": {},
   "outputs": [],
   "source": []
  },
  {
   "cell_type": "code",
   "execution_count": null,
   "metadata": {},
   "outputs": [],
   "source": []
  },
  {
   "cell_type": "code",
   "execution_count": null,
   "metadata": {},
   "outputs": [],
   "source": []
  }
 ],
 "metadata": {
  "kernelspec": {
   "display_name": ".venv",
   "language": "python",
   "name": "python3"
  },
  "language_info": {
   "codemirror_mode": {
    "name": "ipython",
    "version": 3
   },
   "file_extension": ".py",
   "mimetype": "text/x-python",
   "name": "python",
   "nbconvert_exporter": "python",
   "pygments_lexer": "ipython3",
   "version": "3.9.6"
  },
  "orig_nbformat": 4
 },
 "nbformat": 4,
 "nbformat_minor": 2
}
