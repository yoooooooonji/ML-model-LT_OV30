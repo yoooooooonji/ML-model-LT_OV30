{
 "cells": [
  {
   "cell_type": "code",
   "execution_count": 88,
   "metadata": {},
   "outputs": [
    {
     "name": "stdout",
     "output_type": "stream",
     "text": [
      "/Users/yj.noh/Documents/GitHub\n"
     ]
    }
   ],
   "source": [
    "import pandas as pd\n",
    "import numpy as np\n",
    "import random \n",
    "import os\n",
    "import joblib\n",
    "import matplotlib.pyplot as plt\n",
    "import statsmodels.api as sm\n",
    "from datetime import date\n",
    "import seaborn as sns\n",
    "\n",
    "\n",
    "import warnings\n",
    "warnings.filterwarnings(\"ignore\")\n",
    "os.chdir(\"/Users/yj.noh/Documents/GitHub\")\n",
    "print(os.getcwd())"
   ]
  },
  {
   "cell_type": "code",
   "execution_count": 89,
   "metadata": {},
   "outputs": [
    {
     "name": "stdout",
     "output_type": "stream",
     "text": [
      "(11106, 27)\n"
     ]
    }
   ],
   "source": [
    "data = pd.read_csv(\"/Users/yj.noh/Desktop/7day.csv\", encoding = \"utf-8\")\n",
    "data = data.sort_values(by=[\"brms_rider_id\"])\n",
    "\n",
    "print(data.shape) # 11,106"
   ]
  },
  {
   "cell_type": "code",
   "execution_count": 90,
   "metadata": {},
   "outputs": [],
   "source": [
    "data = data.fillna('NA')"
   ]
  },
  {
   "cell_type": "code",
   "execution_count": 91,
   "metadata": {},
   "outputs": [
    {
     "name": "stdout",
     "output_type": "stream",
     "text": [
      "is_recom\n",
      "0    7360\n",
      "1    3746\n",
      "Name: count, dtype: int64\n"
     ]
    }
   ],
   "source": [
    "# 친구추천 데이터 삭제 \n",
    "print(data['is_recom'].value_counts()) \n",
    "df = data\n",
    "\n",
    "# df = data[data['is_recom'] == 0 ] \n",
    "# print(df.shape) #7,360"
   ]
  },
  {
   "cell_type": "code",
   "execution_count": 92,
   "metadata": {},
   "outputs": [],
   "source": [
    "# 날짜 형식 변환\n",
    "df['first_available_date'] = pd.to_datetime(df['first_available_date'], format='%Y-%m-%d', errors='coerce')\n",
    "df['business_start_day'] = pd.to_datetime(df['business_start_day'], format='%Y-%m-%d', errors='coerce')\n",
    "df['last_working_day'] = pd.to_datetime(df['last_working_day'], format='%Y-%m-%d', errors='coerce')"
   ]
  },
  {
   "attachments": {},
   "cell_type": "markdown",
   "metadata": {},
   "source": [
    "## 1. first_available_date 없는 사람 / 첫 배달 가능일 존재, 실제 첫 배달 수행 여부 x 제외 "
   ]
  },
  {
   "cell_type": "code",
   "execution_count": 93,
   "metadata": {},
   "outputs": [
    {
     "name": "stdout",
     "output_type": "stream",
     "text": [
      "'first_available_date'가 null인 데이터 개수: 1330 개\n",
      "'first_available_date'는 있지만 'business_start_day'가 없는 데이터 개수: 3774 개\n",
      "{5115}\n"
     ]
    }
   ],
   "source": [
    "null_first_available_date_count = df['first_available_date'].isna().sum()\n",
    "count_missing_business_start_day = df['first_available_date'].notnull() & df['business_start_day'].isnull()\n",
    "count = df['last_working_day'].isna().sum()\n",
    "\n",
    "print(f\"'first_available_date'가 null인 데이터 개수: {null_first_available_date_count} 개\") # 1,336\n",
    "print(f\"'first_available_date'는 있지만 'business_start_day'가 없는 데이터 개수: {count_missing_business_start_day.sum()} 개\") # 3,767\n",
    "print({count}) #5114"
   ]
  },
  {
   "cell_type": "code",
   "execution_count": 94,
   "metadata": {},
   "outputs": [
    {
     "name": "stdout",
     "output_type": "stream",
     "text": [
      "(5991, 27)\n"
     ]
    }
   ],
   "source": [
    "filtered_df = df[df['first_available_date'].notnull() & df['business_start_day'].notnull() & df['last_working_day'].notnull() ]\n",
    "print(filtered_df.shape) # 5,991"
   ]
  },
  {
   "attachments": {},
   "cell_type": "markdown",
   "metadata": {},
   "source": [
    "## 2. 최소 한 건 이상 수행한 라이더 대상"
   ]
  },
  {
   "cell_type": "code",
   "execution_count": 95,
   "metadata": {},
   "outputs": [
    {
     "name": "stdout",
     "output_type": "stream",
     "text": [
      "brms_rider_id                   0\n",
      "birth                           0\n",
      "delivery_method                 0\n",
      "first_available_date            0\n",
      "business_start_day              0\n",
      "is_recom                        0\n",
      "insurance_type                  0\n",
      "gender                          0\n",
      "recommender_rider_account_id    0\n",
      "rider_no                        0\n",
      "수행건수                            0\n",
      "실제수행기간                          0\n",
      "최다수행시각                          0\n",
      "최다수행시각.1                        0\n",
      "평일/주말선호                         0\n",
      "2순위평일/주말                        0\n",
      "최다수행요일                          0\n",
      "2순위수행요일                         0\n",
      "최다기상타입                          0\n",
      "주요수행service_type                0\n",
      "주요수행allocated_type              0\n",
      "주요수행method                      0\n",
      "최다수행전달거리                        0\n",
      "2순위수행전달거리                       0\n",
      "기본배달비_중간값                       0\n",
      "총배달비_중간값                        0\n",
      "last_working_day                0\n",
      "dtype: int64\n"
     ]
    }
   ],
   "source": [
    "print(filtered_df.isna().sum())"
   ]
  },
  {
   "cell_type": "code",
   "execution_count": 96,
   "metadata": {},
   "outputs": [
    {
     "name": "stdout",
     "output_type": "stream",
     "text": [
      "                                          brms_rider_id  birth  \\\n",
      "926   0003198AAE6FE85D1F86B2D4D45F992CFAE1D3E22256C0...   1990   \n",
      "2764  001E1E700EBC869D19DB54B950E506910250998C3F0446...   1990   \n",
      "\n",
      "        delivery_method first_available_date business_start_day  is_recom  \\\n",
      "926                BIKE           2023-09-08         2023-09-14         0   \n",
      "2764  THROTTLE_BICYCLES           2023-09-04         2023-09-08         0   \n",
      "\n",
      "              insurance_type gender recommender_rider_account_id  \\\n",
      "926   BIKE_ON_DEMAND_HYUNDAI    MAN                           NA   \n",
      "2764           ETC_ON_DEMAND    MAN                           NA   \n",
      "\n",
      "                                               rider_no  ... 주요수행service_type  \\\n",
      "926   0003198AAE6FE85D1F86B2D4D45F992CFAE1D3E22256C0...  ...           SINGLE   \n",
      "2764  001E1E700EBC869D19DB54B950E506910250998C3F0446...  ...            STACK   \n",
      "\n",
      "     주요수행allocated_type         주요수행method 최다수행전달거리 2순위수행전달거리 기본배달비_중간값  \\\n",
      "926                 0.0               BIKE   2000.0    2500.0    3820.0   \n",
      "2764                1.0  THROTTLE_BICYCLES   1500.0     500.0    3500.0   \n",
      "\n",
      "     총배달비_중간값 last_working_day not_working 첫운행이후  \n",
      "926    4500.0       2023-09-19          24    29  \n",
      "2764   3740.0       2023-10-10           3    35  \n",
      "\n",
      "[2 rows x 29 columns]\n"
     ]
    }
   ],
   "source": [
    "# 마지막 수행일 ~ 현재까지 기간\n",
    "today = pd.to_datetime(date.today())\n",
    "\n",
    "filtered_df['not_working'] = (today - filtered_df['last_working_day']).dt.days +1\n",
    "filtered_df['첫운행이후'] = (today - filtered_df['business_start_day']).dt.days +1 \n",
    "\n",
    "print(filtered_df.head(2))"
   ]
  },
  {
   "cell_type": "code",
   "execution_count": 97,
   "metadata": {},
   "outputs": [
    {
     "name": "stdout",
     "output_type": "stream",
     "text": [
      "not_working\n",
      "2     1382\n",
      "3      449\n",
      "4      361\n",
      "5      153\n",
      "6      140\n",
      "      ... \n",
      "69      12\n",
      "68      10\n",
      "72       7\n",
      "71       6\n",
      "73       2\n",
      "Name: count, Length: 72, dtype: int64\n",
      "첫운행이후\n",
      "50    220\n",
      "49    215\n",
      "43    212\n",
      "44    200\n",
      "47    195\n",
      "     ... \n",
      "16     13\n",
      "8      12\n",
      "7      12\n",
      "6      11\n",
      "2       9\n",
      "Name: count, Length: 72, dtype: int64\n"
     ]
    }
   ],
   "source": [
    "print(filtered_df['not_working'].value_counts())\n",
    "print(filtered_df['첫운행이후'].value_counts())"
   ]
  },
  {
   "cell_type": "code",
   "execution_count": 98,
   "metadata": {},
   "outputs": [],
   "source": [
    "def period (value):\n",
    "    if value < 11:\n",
    "        return '10일 이하'\n",
    "    elif 11 <= value <= 20:\n",
    "        return '20일 이하'\n",
    "    elif 21 <= value <= 30 :\n",
    "        return '30일 이하'\n",
    "    elif 31 <= value <= 40 : \n",
    "        return '40일 이하'\n",
    "    elif 41 <= value <= 50 :\n",
    "        return '50일 이하'\n",
    "    elif 51 <= value <= 60 :\n",
    "        return '60일 이하'\n",
    "    elif 61 <= value :\n",
    "        return '61일 이상'\n",
    "        \n",
    "    \n",
    "filtered_df['미운행기간'] = filtered_df['not_working'].apply(period)\n",
    "filtered_df['첫운행이후기간'] = filtered_df['첫운행이후'].apply(period)"
   ]
  },
  {
   "cell_type": "code",
   "execution_count": 99,
   "metadata": {},
   "outputs": [
    {
     "name": "stdout",
     "output_type": "stream",
     "text": [
      "미운행기간\n",
      "10일 이하    2896\n",
      "50일 이하     729\n",
      "40일 이하     592\n",
      "20일 이하     557\n",
      "60일 이하     520\n",
      "30일 이하     463\n",
      "61일 이상     234\n",
      "Name: count, dtype: int64\n",
      "첫운행이후기간\n",
      "50일 이하    1814\n",
      "60일 이하    1615\n",
      "61일 이상    1214\n",
      "40일 이하     770\n",
      "30일 이하     276\n",
      "20일 이하     181\n",
      "10일 이하     121\n",
      "Name: count, dtype: int64\n"
     ]
    }
   ],
   "source": [
    "print(filtered_df['미운행기간'].value_counts())\n",
    "print(filtered_df['첫운행이후기간'].value_counts())"
   ]
  },
  {
   "attachments": {},
   "cell_type": "markdown",
   "metadata": {},
   "source": [
    "## 첫운행이후기간 ~ 미운행기간 표 "
   ]
  },
  {
   "cell_type": "code",
   "execution_count": 100,
   "metadata": {},
   "outputs": [
    {
     "name": "stdout",
     "output_type": "stream",
     "text": [
      "1번째 표: 전체 데이터에 대한 교차표\n",
      "첫운행이후기간  10일 이하  20일 이하  30일 이하  40일 이하  50일 이하  60일 이하  61일 이상\n",
      "미운행기간                                                          \n",
      "10일 이하      121     113     160     399     871     696     536\n",
      "20일 이하        0      68      29      78     148     142      92\n",
      "30일 이하        0       0      87      80     129      94      73\n",
      "40일 이하        0       0       0     213     197     110      72\n",
      "50일 이하        0       0       0       0     469     177      83\n",
      "60일 이하        0       0       0       0       0     396     124\n",
      "61일 이상        0       0       0       0       0       0     234\n",
      "\n",
      "2번째 표: 최다수행method가 'BIKE'인 데이터에 대한 교차표\n",
      "첫운행이후기간  10일 이하  20일 이하  30일 이하  40일 이하  50일 이하  60일 이하  61일 이상\n",
      "미운행기간                                                          \n",
      "10일 이하       52      59      84     220     505     372     258\n",
      "20일 이하        0      19      12      38      71      64      31\n",
      "30일 이하        0       0      29      26      55      31      28\n",
      "40일 이하        0       0       0      70      64      38      25\n",
      "50일 이하        0       0       0       0     153      48      20\n",
      "60일 이하        0       0       0       0       0     111      31\n",
      "61일 이상        0       0       0       0       0       0      52\n",
      "\n",
      "3번째 표: 최다수행method가 'BIKE'이고 is_recom이 0인 데이터에 대한 교차표\n",
      "첫운행이후기간  10일 이하  20일 이하  30일 이하  40일 이하  50일 이하  60일 이하  61일 이상\n",
      "미운행기간                                                          \n",
      "10일 이하       39      43      58     128     209     141      95\n",
      "20일 이하        0      16      11      21      30      31       9\n",
      "30일 이하        0       0      18      13      25      16      10\n",
      "40일 이하        0       0       0      33      24      21      15\n",
      "50일 이하        0       0       0       0      45      17       8\n",
      "60일 이하        0       0       0       0       0      37      16\n",
      "61일 이상        0       0       0       0       0       0      15\n"
     ]
    }
   ],
   "source": [
    "cross_table1 = pd.crosstab(filtered_df['미운행기간'], filtered_df['첫운행이후기간'])\n",
    "\n",
    "# 2번째 표: 최다수행method가 'BIKE'인 데이터에 대한 교차표\n",
    "filtered_df_bike = filtered_df[filtered_df['주요수행method'] == 'BIKE']\n",
    "cross_table2 = pd.crosstab(filtered_df_bike['미운행기간'], filtered_df_bike['첫운행이후기간'])\n",
    "\n",
    "# 3번째 표: 최다수행method가 'BIKE'이고 is_recom이 0인 데이터에 대한 교차표\n",
    "filtered_df_bike_recom_0 = filtered_df[(filtered_df['주요수행method'] == 'BIKE') & (filtered_df['is_recom'] == 0)]\n",
    "cross_table3 = pd.crosstab(filtered_df_bike_recom_0['미운행기간'], filtered_df_bike_recom_0['첫운행이후기간'])\n",
    "\n",
    "# 결과 출력\n",
    "print(\"1번째 표: 전체 데이터에 대한 교차표\")\n",
    "print(cross_table1)\n",
    "\n",
    "print(\"\\n2번째 표: 최다수행method가 'BIKE'인 데이터에 대한 교차표\")\n",
    "print(cross_table2)\n",
    "\n",
    "print(\"\\n3번째 표: 최다수행method가 'BIKE'이고 is_recom이 0인 데이터에 대한 교차표\")\n",
    "print(cross_table3)"
   ]
  },
  {
   "cell_type": "code",
   "execution_count": 101,
   "metadata": {},
   "outputs": [
    {
     "name": "stdout",
     "output_type": "stream",
     "text": [
      "2023-09-13 00:00:00\n"
     ]
    }
   ],
   "source": [
    "reference_date = pd.to_datetime('2023-10-11') - pd.DateOffset(days=28) #9/13\n",
    "\n",
    "filtered_df['outcome'] = (filtered_df['last_working_day'] < reference_date).astype(int)\n",
    "\n",
    "print(reference_date)"
   ]
  },
  {
   "cell_type": "code",
   "execution_count": 102,
   "metadata": {},
   "outputs": [],
   "source": [
    "filtered_df.to_csv('prj-ML-model-LT_OV30/on_boarding_data.csv', index= False, encoding = \"utf-8\")"
   ]
  }
 ],
 "metadata": {
  "kernelspec": {
   "display_name": ".venv",
   "language": "python",
   "name": "python3"
  },
  "language_info": {
   "codemirror_mode": {
    "name": "ipython",
    "version": 3
   },
   "file_extension": ".py",
   "mimetype": "text/x-python",
   "name": "python",
   "nbconvert_exporter": "python",
   "pygments_lexer": "ipython3",
   "version": "3.9.6"
  },
  "orig_nbformat": 4
 },
 "nbformat": 4,
 "nbformat_minor": 2
}
