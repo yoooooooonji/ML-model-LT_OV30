{
 "cells": [
  {
   "cell_type": "code",
   "execution_count": 361,
   "metadata": {},
   "outputs": [
    {
     "name": "stdout",
     "output_type": "stream",
     "text": [
      "/Users/yj.noh/Documents/GitHub\n"
     ]
    }
   ],
   "source": [
    "import pandas as pd\n",
    "import numpy as np\n",
    "import random \n",
    "import os\n",
    "import joblib\n",
    "import matplotlib.pyplot as plt\n",
    "import statsmodels.api as sm\n",
    "from datetime import date\n",
    "import seaborn as sns\n",
    "\n",
    "\n",
    "import warnings\n",
    "warnings.filterwarnings(\"ignore\")\n",
    "os.chdir(\"/Users/yj.noh/Documents/GitHub\")\n",
    "print(os.getcwd())"
   ]
  },
  {
   "cell_type": "code",
   "execution_count": 362,
   "metadata": {},
   "outputs": [
    {
     "name": "stdout",
     "output_type": "stream",
     "text": [
      "(11099, 28)\n"
     ]
    }
   ],
   "source": [
    "data = pd.read_csv(\"/Users/yj.noh/Desktop/total_working.csv\", encoding = \"utf-8\")\n",
    "data = data.sort_values(by=[\"brms_rider_id\"])\n",
    "\n",
    "print(data.shape) # 11,099"
   ]
  },
  {
   "cell_type": "code",
   "execution_count": 363,
   "metadata": {},
   "outputs": [],
   "source": [
    "data = data.fillna('NA')"
   ]
  },
  {
   "cell_type": "code",
   "execution_count": 364,
   "metadata": {},
   "outputs": [
    {
     "name": "stdout",
     "output_type": "stream",
     "text": [
      "is_recom\n",
      "0    7353\n",
      "1    3746\n",
      "Name: count, dtype: int64\n"
     ]
    }
   ],
   "source": [
    "# 친구추천 데이터 삭제 \n",
    "print(data['is_recom'].value_counts()) \n",
    "df = data\n",
    "\n",
    "# df = data[data['is_recom'] == 0 ] \n",
    "# print(df.shape) #7,353"
   ]
  },
  {
   "cell_type": "code",
   "execution_count": 365,
   "metadata": {},
   "outputs": [],
   "source": [
    "# 날짜 형식 변환\n",
    "df['first_available_date'] = pd.to_datetime(df['first_available_date'], format='%Y-%m-%d', errors='coerce')\n",
    "df['business_start_day'] = pd.to_datetime(df['business_start_day'], format='%Y-%m-%d', errors='coerce')\n",
    "df['last_working_day'] = pd.to_datetime(df['last_working_day'], format='%Y-%m-%d', errors='coerce')"
   ]
  },
  {
   "attachments": {},
   "cell_type": "markdown",
   "metadata": {},
   "source": [
    "## 1. first_available_date 없는 사람 / 첫 배달 가능일 존재, 실제 첫 배달 수행 여부 x 제외 "
   ]
  },
  {
   "cell_type": "code",
   "execution_count": 366,
   "metadata": {},
   "outputs": [
    {
     "name": "stdout",
     "output_type": "stream",
     "text": [
      "'first_available_date'가 null인 데이터 개수: 1336 개\n",
      "'first_available_date'는 있지만 'business_start_day'가 없는 데이터 개수: 3767 개\n",
      "{5114}\n"
     ]
    }
   ],
   "source": [
    "null_first_available_date_count = df['first_available_date'].isna().sum()\n",
    "count_missing_business_start_day = df['first_available_date'].notnull() & df['business_start_day'].isnull()\n",
    "count = df['last_working_day'].isna().sum()\n",
    "\n",
    "print(f\"'first_available_date'가 null인 데이터 개수: {null_first_available_date_count} 개\") # 1,336\n",
    "print(f\"'first_available_date'는 있지만 'business_start_day'가 없는 데이터 개수: {count_missing_business_start_day.sum()} 개\") # 3,767\n",
    "print({count}) #5114"
   ]
  },
  {
   "cell_type": "code",
   "execution_count": 367,
   "metadata": {},
   "outputs": [
    {
     "name": "stdout",
     "output_type": "stream",
     "text": [
      "(5985, 28)\n"
     ]
    }
   ],
   "source": [
    "filtered_df = df[df['first_available_date'].notnull() & df['business_start_day'].notnull() & df['last_working_day'].notnull() ]\n",
    "print(filtered_df.shape) # 5,985"
   ]
  },
  {
   "attachments": {},
   "cell_type": "markdown",
   "metadata": {},
   "source": [
    "## 2. 최소 한 건 이상 수행한 라이더 대상"
   ]
  },
  {
   "cell_type": "code",
   "execution_count": 368,
   "metadata": {},
   "outputs": [
    {
     "name": "stdout",
     "output_type": "stream",
     "text": [
      "brms_rider_id                   0\n",
      "birth                           0\n",
      "delivery_method                 0\n",
      "first_available_date            0\n",
      "business_start_day              0\n",
      "is_recom                        0\n",
      "insurance_type                  0\n",
      "gender                          0\n",
      "recommender_rider_account_id    0\n",
      "rider_no                        0\n",
      "수행건수                            0\n",
      "조회기간                            0\n",
      "실제수행기간                          0\n",
      "last_working_day                0\n",
      "1순위수행시각                         0\n",
      "2순위수행시각                         0\n",
      "1순위평일/주말                        0\n",
      "2순위평일/주말                        0\n",
      "1순위수행요일                         0\n",
      "2순위수행요일                         0\n",
      "1순위기상타입                         0\n",
      "주요수행service_type                0\n",
      "주요수행allocated_type              0\n",
      "주요수행method                      0\n",
      "1순위수행전달거리                       0\n",
      "2순위수행전달거리                       0\n",
      "기본배달비_중간값                       0\n",
      "총배달비_중간값                        0\n",
      "dtype: int64\n"
     ]
    }
   ],
   "source": [
    "print(filtered_df.isna().sum())"
   ]
  },
  {
   "cell_type": "code",
   "execution_count": 369,
   "metadata": {},
   "outputs": [
    {
     "name": "stdout",
     "output_type": "stream",
     "text": [
      "                                          brms_rider_id  birth  \\\n",
      "5104  0003198AAE6FE85D1F86B2D4D45F992CFAE1D3E22256C0...   1990   \n",
      "3618  001E1E700EBC869D19DB54B950E506910250998C3F0446...   1990   \n",
      "\n",
      "        delivery_method first_available_date business_start_day  is_recom  \\\n",
      "5104               BIKE           2023-09-08         2023-09-14         0   \n",
      "3618  THROTTLE_BICYCLES           2023-09-04         2023-09-08         0   \n",
      "\n",
      "              insurance_type gender recommender_rider_account_id  \\\n",
      "5104  BIKE_ON_DEMAND_HYUNDAI    MAN                           NA   \n",
      "3618           ETC_ON_DEMAND    MAN                           NA   \n",
      "\n",
      "                                               rider_no  ... 1순위기상타입  \\\n",
      "5104  0003198AAE6FE85D1F86B2D4D45F992CFAE1D3E22256C0...  ...     0.0   \n",
      "3618  001E1E700EBC869D19DB54B950E506910250998C3F0446...  ...     0.0   \n",
      "\n",
      "     주요수행service_type 주요수행allocated_type         주요수행method 1순위수행전달거리  \\\n",
      "5104           SINGLE                0.0               BIKE    2000.0   \n",
      "3618            STACK                1.0  THROTTLE_BICYCLES    1500.0   \n",
      "\n",
      "     2순위수행전달거리 기본배달비_중간값 총배달비_중간값 not_working 첫운행이후  \n",
      "5104    2500.0    3841.0   4503.0          23    28  \n",
      "3618    2000.0    3630.0   3947.0           2    34  \n",
      "\n",
      "[2 rows x 30 columns]\n"
     ]
    }
   ],
   "source": [
    "# 마지막 수행일 ~ 현재까지 기간\n",
    "today = pd.to_datetime(date.today())\n",
    "\n",
    "filtered_df['not_working'] = (today - filtered_df['last_working_day']).dt.days +1\n",
    "filtered_df['첫운행이후'] = (today - filtered_df['business_start_day']).dt.days +1 \n",
    "\n",
    "print(filtered_df.head(2))"
   ]
  },
  {
   "cell_type": "code",
   "execution_count": 370,
   "metadata": {},
   "outputs": [
    {
     "name": "stdout",
     "output_type": "stream",
     "text": [
      "not_working\n",
      "2     1384\n",
      "3      568\n",
      "4      221\n",
      "5      180\n",
      "9      140\n",
      "      ... \n",
      "68      12\n",
      "67      10\n",
      "71       7\n",
      "70       6\n",
      "72       2\n",
      "Name: count, Length: 71, dtype: int64\n",
      "첫운행이후\n",
      "49    220\n",
      "48    215\n",
      "42    212\n",
      "43    200\n",
      "46    195\n",
      "     ... \n",
      "9      13\n",
      "15     13\n",
      "7      12\n",
      "6      12\n",
      "5      11\n",
      "Name: count, Length: 71, dtype: int64\n"
     ]
    }
   ],
   "source": [
    "print(filtered_df['not_working'].value_counts())\n",
    "print(filtered_df['첫운행이후'].value_counts())"
   ]
  },
  {
   "cell_type": "code",
   "execution_count": 371,
   "metadata": {},
   "outputs": [],
   "source": [
    "def period (value):\n",
    "    if value < 11:\n",
    "        return '10일 이하'\n",
    "    elif 11 <= value <= 20:\n",
    "        return '20일 이하'\n",
    "    elif 21 <= value <= 30 :\n",
    "        return '30일 이하'\n",
    "    elif 31 <= value <= 40 : \n",
    "        return '40일 이하'\n",
    "    elif 41 <= value <= 50 :\n",
    "        return '50일 이하'\n",
    "    elif 51 <= value <= 60 :\n",
    "        return '60일 이하'\n",
    "    elif 61 <= value :\n",
    "        return '61일 이상'\n",
    "        \n",
    "    \n",
    "filtered_df['미운행기간'] = filtered_df['not_working'].apply(period)\n",
    "filtered_df['첫운행이후기간'] = filtered_df['첫운행이후'].apply(period)"
   ]
  },
  {
   "cell_type": "code",
   "execution_count": 372,
   "metadata": {},
   "outputs": [
    {
     "name": "stdout",
     "output_type": "stream",
     "text": [
      "미운행기간\n",
      "10일 이하    2915\n",
      "50일 이하     718\n",
      "40일 이하     613\n",
      "20일 이하     575\n",
      "60일 이하     507\n",
      "30일 이하     460\n",
      "61일 이상     197\n",
      "Name: count, dtype: int64\n",
      "첫운행이후기간\n",
      "50일 이하    1829\n",
      "60일 이하    1586\n",
      "61일 이상    1090\n",
      "40일 이하     862\n",
      "30일 이하     300\n",
      "20일 이하     189\n",
      "10일 이하     129\n",
      "Name: count, dtype: int64\n"
     ]
    }
   ],
   "source": [
    "print(filtered_df['미운행기간'].value_counts())\n",
    "print(filtered_df['첫운행이후기간'].value_counts())"
   ]
  },
  {
   "cell_type": "code",
   "execution_count": 373,
   "metadata": {},
   "outputs": [
    {
     "name": "stdout",
     "output_type": "stream",
     "text": [
      "첫운행이후기간  10일 이하  20일 이하  30일 이하  40일 이하  50일 이하  60일 이하  61일 이상\n",
      "미운행기간                                                          \n",
      "10일 이하      129     122     171     445     865     708     475\n",
      "20일 이하        0      67      43      84     159     140      82\n",
      "30일 이하        0       0      86      87     134      86      67\n",
      "40일 이하        0       0       0     246     184     107      76\n",
      "50일 이하        0       0       0       0     487     164      67\n",
      "60일 이하        0       0       0       0       0     381     126\n",
      "61일 이상        0       0       0       0       0       0     197\n"
     ]
    }
   ],
   "source": [
    "cross_table = pd.crosstab(filtered_df['미운행기간'], filtered_df['첫운행이후기간'])\n",
    "print(cross_table)"
   ]
  },
  {
   "cell_type": "code",
   "execution_count": 374,
   "metadata": {},
   "outputs": [],
   "source": [
    "reference_date = pd.to_datetime('2023-10-10') - pd.DateOffset(days=21) #9/19 \n",
    "\n",
    "filtered_df['outcome'] = (filtered_df['last_working_day'] < reference_date).astype(int)\n"
   ]
  },
  {
   "cell_type": "code",
   "execution_count": 375,
   "metadata": {},
   "outputs": [],
   "source": [
    "filtered_df.to_csv('prj-ML-model-LT_OV30/on_boarding_data.csv', index= False, encoding = \"utf-8\")"
   ]
  },
  {
   "attachments": {},
   "cell_type": "markdown",
   "metadata": {},
   "source": [
    "## 첫 운행일 ~ 7일 동안의 배달건 "
   ]
  },
  {
   "cell_type": "code",
   "execution_count": 376,
   "metadata": {},
   "outputs": [
    {
     "name": "stdout",
     "output_type": "stream",
     "text": [
      "(11099, 28)\n"
     ]
    }
   ],
   "source": [
    "data_7 = pd.read_csv(\"/Users/yj.noh/Desktop/7day.csv\", encoding = \"utf-8\")\n",
    "data_7 = data_7.sort_values(by=[\"brms_rider_id\"])\n",
    "\n",
    "print(data_7.shape) # 11,099"
   ]
  },
  {
   "cell_type": "code",
   "execution_count": 377,
   "metadata": {},
   "outputs": [],
   "source": [
    "data_7 = data_7.fillna('NA')"
   ]
  },
  {
   "cell_type": "code",
   "execution_count": 378,
   "metadata": {},
   "outputs": [
    {
     "name": "stdout",
     "output_type": "stream",
     "text": [
      "'first_available_date'가 null인 데이터 개수: 1336 개\n",
      "'first_available_date'는 있지만 'business_start_day'가 없는 데이터 개수: 3767 개\n",
      "{5120}\n"
     ]
    }
   ],
   "source": [
    "# 날짜 형식 변환\n",
    "data_7['first_available_date'] = pd.to_datetime(data_7['first_available_date'], format='%Y-%m-%d', errors='coerce')\n",
    "data_7['business_start_day'] = pd.to_datetime(data_7['business_start_day'], format='%Y-%m-%d', errors='coerce')\n",
    "data_7['last_working_day'] = pd.to_datetime(data_7['last_working_day'], format='%Y-%m-%d', errors='coerce')\n",
    "\n",
    "null_first_available_date_count = data_7['first_available_date'].isna().sum()\n",
    "count_missing_business_start_day = data_7['first_available_date'].notnull() & data_7['business_start_day'].isnull()\n",
    "count = data_7['last_working_day'].isna().sum()\n",
    "\n",
    "print(f\"'first_available_date'가 null인 데이터 개수: {null_first_available_date_count} 개\") # 1,336\n",
    "print(f\"'first_available_date'는 있지만 'business_start_day'가 없는 데이터 개수: {count_missing_business_start_day.sum()} 개\") # 3,767\n",
    "print({count}) #5114\n",
    "\n"
   ]
  },
  {
   "cell_type": "code",
   "execution_count": 379,
   "metadata": {},
   "outputs": [
    {
     "name": "stdout",
     "output_type": "stream",
     "text": [
      "(5979, 28)\n"
     ]
    }
   ],
   "source": [
    "df_7 = data_7[data_7['first_available_date'].notnull() & data_7['business_start_day'].notnull() & data_7['last_working_day'].notnull() ]\n",
    "print(df_7.shape) # 5,985 "
   ]
  },
  {
   "cell_type": "code",
   "execution_count": 380,
   "metadata": {},
   "outputs": [
    {
     "name": "stdout",
     "output_type": "stream",
     "text": [
      "(5979, 29)\n"
     ]
    }
   ],
   "source": [
    "final_data = pd.merge(df_7, filtered_df[['brms_rider_id', 'outcome']], on = 'brms_rider_id', how='left')\n",
    "\n",
    "print(final_data.shape) # 5985\n"
   ]
  },
  {
   "cell_type": "code",
   "execution_count": 381,
   "metadata": {},
   "outputs": [],
   "source": [
    "final_data.to_csv('prj-ML-model-LT_OV30/on_boarding_data_7day.csv', index= False, encoding = \"utf-8\")"
   ]
  },
  {
   "cell_type": "code",
   "execution_count": null,
   "metadata": {},
   "outputs": [],
   "source": []
  }
 ],
 "metadata": {
  "kernelspec": {
   "display_name": ".venv",
   "language": "python",
   "name": "python3"
  },
  "language_info": {
   "codemirror_mode": {
    "name": "ipython",
    "version": 3
   },
   "file_extension": ".py",
   "mimetype": "text/x-python",
   "name": "python",
   "nbconvert_exporter": "python",
   "pygments_lexer": "ipython3",
   "version": "3.9.6"
  },
  "orig_nbformat": 4
 },
 "nbformat": 4,
 "nbformat_minor": 2
}
