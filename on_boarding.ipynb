{
 "cells": [
  {
   "cell_type": "code",
   "execution_count": 1,
   "metadata": {},
   "outputs": [
    {
     "name": "stdout",
     "output_type": "stream",
     "text": [
      "/Users/yj.noh/Documents/GitHub\n"
     ]
    }
   ],
   "source": [
    "import pandas as pd\n",
    "import numpy as np\n",
    "import random \n",
    "import os\n",
    "import joblib\n",
    "import matplotlib.pyplot as plt\n",
    "import statsmodels.api as sm\n",
    "from datetime import datetime\n",
    "import seaborn as sns\n",
    "from sklearn.preprocessing import OneHotEncoder\n",
    "from sklearn.preprocessing import StandardScaler\n",
    "from sklearn.preprocessing import MinMaxScaler\n",
    "from sklearn.linear_model import LogisticRegression\n",
    "from sklearn.model_selection import train_test_split, cross_val_score\n",
    "from sklearn.metrics import log_loss, roc_auc_score, recall_score, precision_score, average_precision_score, f1_score, classification_report, accuracy_score,confusion_matrix, silhouette_score\n",
    "from statsmodels.stats.outliers_influence import variance_inflation_factor\n",
    "from sklearn.model_selection import GridSearchCV\n",
    "from sklearn.model_selection import cross_val_predict\n",
    "\n",
    "from sklearn.cluster import KMeans, AgglomerativeClustering, DBSCAN\n",
    "from sklearn.datasets import make_blobs\n",
    "\n",
    "import warnings\n",
    "warnings.filterwarnings(\"ignore\")\n",
    "os.chdir(\"/Users/yj.noh/Documents/GitHub\")\n",
    "print(os.getcwd())"
   ]
  },
  {
   "cell_type": "code",
   "execution_count": 4,
   "metadata": {},
   "outputs": [
    {
     "name": "stdout",
     "output_type": "stream",
     "text": [
      "                                           brms_rider_id  birth  \\\n",
      "18635  0003198AAE6FE85D1F86B2D4D45F992CFAE1D3E22256C0...   1990   \n",
      "16292  000D03494DB444F1F929C5A73DE30DAC8BDEAB5F6530B1...   1950   \n",
      "2997   0011233F41929E879E97D4B1CB9C186CACAFBF7DEB3C71...   1990   \n",
      "17703  00154284CDD04FFA4526ACF5D70A7C229F3B359CFD328A...   1990   \n",
      "14154  001711D89BF29875A95FB9B9DBAE335B75B0C110F57190...   1960   \n",
      "\n",
      "      delivery_method first_available_date business_start_day  is_recom  \\\n",
      "18635            BIKE             2023.9.8          2023.9.14         0   \n",
      "16292            WALK            2023.9.25                NaN         0   \n",
      "2997             WALK            2023.8.25                NaN         1   \n",
      "17703            BIKE            2023.9.28          2023.9.29         1   \n",
      "14154            BIKE            2023.9.11                NaN         0   \n",
      "\n",
      "               insurance_type gender  \\\n",
      "18635  BIKE_ON_DEMAND_HYUNDAI    MAN   \n",
      "16292            NOT_REQUIRED  WOMAN   \n",
      "2997             NOT_REQUIRED  WOMAN   \n",
      "17703  BIKE_ON_DEMAND_HYUNDAI    MAN   \n",
      "14154  BIKE_ON_DEMAND_HYUNDAI    MAN   \n",
      "\n",
      "                            recommender_rider_account_id  \\\n",
      "18635                                                NaN   \n",
      "16292                                                NaN   \n",
      "2997   24743B65C8A81705AE3E8A5F266B0C676EA37DC20B5B32...   \n",
      "17703  31856C24FB7BA16673A2322E10AA70CD8F2CF449345A6C...   \n",
      "14154                                                NaN   \n",
      "\n",
      "                                                rider_no  ...  1순위수행rgn2  \\\n",
      "18635  0003198AAE6FE85D1F86B2D4D45F992CFAE1D3E22256C0...  ...        관악구   \n",
      "16292                                                NaN  ...        NaN   \n",
      "2997                                                 NaN  ...        NaN   \n",
      "17703  00154284CDD04FFA4526ACF5D70A7C229F3B359CFD328A...  ...         북구   \n",
      "14154                                                NaN  ...        NaN   \n",
      "\n",
      "       cnt_rgn2  2순위수행rgn2 주요수행service_type  주요수행allocated_type 주요수행method  \\\n",
      "18635      26.0        서초구           SINGLE                 0.0       BIKE   \n",
      "16292       NaN        NaN              NaN                 NaN        NaN   \n",
      "2997        NaN        NaN              NaN                 NaN        NaN   \n",
      "17703      32.0        광산구            STACK                 1.0       BIKE   \n",
      "14154       NaN        NaN              NaN                 NaN        NaN   \n",
      "\n",
      "      1순위수행전달거리  2순위수행전달거리 기본배달비_중간값 총배달비_중간값  \n",
      "18635    2000.0     2500.0    3900.0   4540.0  \n",
      "16292       NaN        NaN       NaN      NaN  \n",
      "2997        NaN        NaN       NaN      NaN  \n",
      "17703     500.0     1500.0    3440.0   5500.0  \n",
      "14154       NaN        NaN       NaN      NaN  \n",
      "\n",
      "[5 rows x 34 columns]\n",
      "(21199, 34)\n"
     ]
    }
   ],
   "source": [
    "data = pd.read_csv(\"/Users/yj.noh/Desktop/total_working.csv\", encoding = \"utf-8\")\n",
    "data = data.sort_values(by=[\"brms_rider_id\"])\n",
    "print(data.head())\n",
    "print(data.shape)"
   ]
  },
  {
   "cell_type": "code",
   "execution_count": 8,
   "metadata": {},
   "outputs": [
    {
     "name": "stdout",
     "output_type": "stream",
     "text": [
      "is_recom\n",
      "0    14250\n",
      "1     6949\n",
      "Name: count, dtype: int64\n",
      "(14250, 34)\n"
     ]
    }
   ],
   "source": [
    "# 친구추천 데이터 삭제 \n",
    "print(data['is_recom'].value_counts()) \n",
    "\n",
    "df = data[data['is_recom'] == 0 ] \n",
    "print(df.shape) #14,250 "
   ]
  },
  {
   "cell_type": "code",
   "execution_count": 9,
   "metadata": {},
   "outputs": [],
   "source": [
    "# 날짜 형식 변환\n",
    "df['first_available_date'] = pd.to_datetime(df['first_available_date'], format='%Y.%m.%d')\n",
    "df['business_start_day'] = pd.to_datetime(df['business_start_day'], format='%Y.%m.%d')\n"
   ]
  },
  {
   "attachments": {},
   "cell_type": "markdown",
   "metadata": {},
   "source": [
    "## 1. first_available_date 없는 사람 / 첫 배달 가능일 존재, 실제 첫 배달 수행 여부 x 제외 "
   ]
  },
  {
   "cell_type": "code",
   "execution_count": 18,
   "metadata": {},
   "outputs": [
    {
     "name": "stdout",
     "output_type": "stream",
     "text": [
      "'first_available_date'가 null인 데이터 개수: 2104 개\n",
      "'first_available_date'는 있지만 'business_start_day'가 없는 데이터 개수: 5818 개\n"
     ]
    }
   ],
   "source": [
    "null_first_available_date_count = df['first_available_date'].isnull().sum()\n",
    "count_missing_business_start_day = df['first_available_date'].notnull() & df['business_start_day'].isnull()\n",
    "\n",
    "\n",
    "print(f\"'first_available_date'가 null인 데이터 개수: {null_first_available_date_count} 개\") # 2104명\n",
    "print(f\"'first_available_date'는 있지만 'business_start_day'가 없는 데이터 개수: {count_missing_business_start_day.sum()} 개\") #5818명 "
   ]
  },
  {
   "cell_type": "code",
   "execution_count": null,
   "metadata": {},
   "outputs": [],
   "source": []
  },
  {
   "cell_type": "code",
   "execution_count": null,
   "metadata": {},
   "outputs": [],
   "source": []
  },
  {
   "cell_type": "code",
   "execution_count": null,
   "metadata": {},
   "outputs": [],
   "source": []
  },
  {
   "cell_type": "code",
   "execution_count": null,
   "metadata": {},
   "outputs": [],
   "source": []
  }
 ],
 "metadata": {
  "kernelspec": {
   "display_name": ".venv",
   "language": "python",
   "name": "python3"
  },
  "language_info": {
   "codemirror_mode": {
    "name": "ipython",
    "version": 3
   },
   "file_extension": ".py",
   "mimetype": "text/x-python",
   "name": "python",
   "nbconvert_exporter": "python",
   "pygments_lexer": "ipython3",
   "version": "3.9.6"
  },
  "orig_nbformat": 4
 },
 "nbformat": 4,
 "nbformat_minor": 2
}
