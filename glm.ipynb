{
 "cells": [
  {
   "cell_type": "code",
   "execution_count": 695,
   "metadata": {},
   "outputs": [
    {
     "name": "stdout",
     "output_type": "stream",
     "text": [
      "/Users/yj.noh/Documents/GitHub\n"
     ]
    }
   ],
   "source": [
    "import pandas as pd\n",
    "import numpy as np\n",
    "import os\n",
    "import joblib\n",
    "import matplotlib.pyplot as plt\n",
    "import statsmodels.api as sm\n",
    "from datetime import datetime\n",
    "import seaborn as sns\n",
    "from sklearn.preprocessing import OneHotEncoder\n",
    "from sklearn.preprocessing import StandardScaler\n",
    "from sklearn.preprocessing import MinMaxScaler\n",
    "from sklearn.linear_model import LogisticRegression\n",
    "from sklearn.model_selection import train_test_split, cross_val_score\n",
    "from sklearn.metrics import log_loss, roc_auc_score, recall_score, precision_score, average_precision_score, f1_score, classification_report, accuracy_score,confusion_matrix, silhouette_score\n",
    "from statsmodels.stats.outliers_influence import variance_inflation_factor\n",
    "\n",
    "from sklearn.cluster import KMeans, AgglomerativeClustering, DBSCAN\n",
    "from sklearn.datasets import make_blobs\n",
    "\n",
    "\n",
    "import warnings\n",
    "warnings.filterwarnings(\"ignore\")\n",
    "os.chdir(\"/Users/yj.noh/Documents/GitHub\")\n",
    "print(os.getcwd())"
   ]
  },
  {
   "cell_type": "code",
   "execution_count": 696,
   "metadata": {},
   "outputs": [
    {
     "name": "stdout",
     "output_type": "stream",
     "text": [
      "                dlvry_id    전체배차시간  reg_hour  ord_price  \\\n",
      "17290  20230821_0000UUJQ  0.550000        19      16000   \n",
      "19315  20230821_0001DIBV  0.950000        10      35200   \n",
      "21143  20230821_0002BYML  1.150000        11      14400   \n",
      "20366  20230821_0003SQZC  0.516667        10      21100   \n",
      "18254  20230821_0004RRXD  0.250000        18      31100   \n",
      "\n",
      "       actual_dlvry_distance  pick_floor pick_rgn2_nm pick_rgn3_nm  \\\n",
      "17290                    123         1.0          서초구          서초동   \n",
      "19315                   1314         1.0          서초구          반포동   \n",
      "21143                   2067         1.0          서초구          방배동   \n",
      "20366                   1825         1.0          서초구          방배동   \n",
      "18254                   3867         1.0          서초구          반포동   \n",
      "\n",
      "      pick_category pick_건물용도  dlvry_지상층수  dlvry_지하층수 dlvry_건물용도 day_of_week  \\\n",
      "17290         SNACK      의료시설         6.0         2.0       의료시설         Mon   \n",
      "19315       BAEKBAN      의료시설         NaN         NaN        NaN         Mon   \n",
      "21143       WESTERN      업무시설        11.0         0.0        아파트         Mon   \n",
      "20366          CAFE     일반음식점         NaN         NaN       공동주택         Mon   \n",
      "18254        BURGER      교육시설        10.0         0.0        아파트         Mon   \n",
      "\n",
      "       is_holiday    기온  강수량 dlvry_rgn2_nm dlvry_rgn3_nm  outcome  \n",
      "17290       False  31.3  0.0           서초구           서초동        0  \n",
      "19315       False  28.8  0.0           서초구           반포동        0  \n",
      "21143       False  30.2  0.0           관악구           남현동        0  \n",
      "20366       False  28.8  0.0           서초구           반포동        0  \n",
      "18254       False  31.4  0.0           서초구           방배동        0  \n",
      "(68027, 20)\n"
     ]
    }
   ],
   "source": [
    "data = pd.read_csv(\"prj-ML-model-LT_OV30/modeling_data.csv\", encoding = \"cp949\")\n",
    "data = data.sort_values(by=[\"dlvry_id\"])\n",
    "print(data.head())\n",
    "print(data.shape)"
   ]
  },
  {
   "cell_type": "code",
   "execution_count": 697,
   "metadata": {},
   "outputs": [
    {
     "name": "stdout",
     "output_type": "stream",
     "text": [
      "(44644, 20)\n",
      "outcome\n",
      "0    38816\n",
      "1     5828\n",
      "Name: count, dtype: int64\n"
     ]
    }
   ],
   "source": [
    "# 건물 정보 없는 데이터 삭제 \n",
    "filtered_data = data.dropna(subset=['pick_건물용도', 'dlvry_건물용도'])\n",
    "print(filtered_data.shape) #44,644 \n",
    "print(filtered_data['outcome'].value_counts()) # 38,816, 5,828 "
   ]
  },
  {
   "cell_type": "code",
   "execution_count": 698,
   "metadata": {},
   "outputs": [
    {
     "name": "stdout",
     "output_type": "stream",
     "text": [
      "dlvry_id                    0\n",
      "전체배차시간                      0\n",
      "reg_hour                    0\n",
      "ord_price                   0\n",
      "actual_dlvry_distance       0\n",
      "pick_floor                  0\n",
      "pick_rgn2_nm                0\n",
      "pick_rgn3_nm                0\n",
      "pick_category               0\n",
      "pick_건물용도                   0\n",
      "dlvry_지상층수               5726\n",
      "dlvry_지하층수               5726\n",
      "dlvry_건물용도                  0\n",
      "day_of_week                 0\n",
      "is_holiday                  0\n",
      "기온                          0\n",
      "강수량                         0\n",
      "dlvry_rgn2_nm               0\n",
      "dlvry_rgn3_nm               0\n",
      "outcome                     0\n",
      "dtype: int64\n"
     ]
    }
   ],
   "source": [
    "print(filtered_data.isna().sum())"
   ]
  },
  {
   "cell_type": "code",
   "execution_count": 699,
   "metadata": {},
   "outputs": [
    {
     "name": "stdout",
     "output_type": "stream",
     "text": [
      "dlvry_id                  object\n",
      "전체배차시간                   float64\n",
      "reg_hour                   int64\n",
      "ord_price                  int64\n",
      "actual_dlvry_distance      int64\n",
      "pick_floor               float64\n",
      "pick_rgn2_nm              object\n",
      "pick_rgn3_nm              object\n",
      "pick_category             object\n",
      "pick_건물용도                 object\n",
      "dlvry_지상층수               float64\n",
      "dlvry_지하층수               float64\n",
      "dlvry_건물용도                object\n",
      "day_of_week               object\n",
      "is_holiday                  bool\n",
      "기온                       float64\n",
      "강수량                      float64\n",
      "dlvry_rgn2_nm             object\n",
      "dlvry_rgn3_nm             object\n",
      "outcome                    int64\n",
      "dtype: object\n"
     ]
    }
   ],
   "source": [
    "print(filtered_data.dtypes)"
   ]
  },
  {
   "cell_type": "code",
   "execution_count": 700,
   "metadata": {},
   "outputs": [
    {
     "name": "stdout",
     "output_type": "stream",
     "text": [
      "dlvry_id                    0\n",
      "전체배차시간                      0\n",
      "reg_hour                    0\n",
      "ord_price                   0\n",
      "actual_dlvry_distance       0\n",
      "pick_floor                  0\n",
      "pick_rgn2_nm                0\n",
      "pick_rgn3_nm                0\n",
      "pick_category               0\n",
      "pick_건물용도                   0\n",
      "dlvry_지상층수               5726\n",
      "dlvry_지하층수               5726\n",
      "dlvry_건물용도                  0\n",
      "day_of_week                 0\n",
      "is_holiday                  0\n",
      "기온                          0\n",
      "강수량                         0\n",
      "dlvry_rgn2_nm               0\n",
      "dlvry_rgn3_nm               0\n",
      "outcome                     0\n",
      "dtype: int64\n"
     ]
    }
   ],
   "source": [
    "# dlvry_지하층수 음수로\n",
    "# filtered_data['dlvry_지하층수'] = pd.to_numeric(filtered_data['dlvry_지하층수'], errors='coerce')\n",
    "# filtered_data['dlvry_지상층수'] = pd.to_numeric(filtered_data['dlvry_지상층수'], errors='coerce')\n",
    "# filtered_data['pick_floor'] = pd.to_numeric(filtered_data['pick_floor'], errors='coerce')\n",
    "\n",
    "filtered_data['dlvry_지하층수'] = filtered_data['dlvry_지하층수'].apply(lambda x: -x)\n",
    "#print(filtered_data.head())\n",
    "print(filtered_data.isna().sum())"
   ]
  },
  {
   "attachments": {},
   "cell_type": "markdown",
   "metadata": {},
   "source": [
    "## 1. 데이터 전처리\n"
   ]
  },
  {
   "attachments": {},
   "cell_type": "markdown",
   "metadata": {},
   "source": [
    "## 1-1. pick_건물용도/ dlvry_건물용도 : 개수 축소"
   ]
  },
  {
   "cell_type": "code",
   "execution_count": 701,
   "metadata": {},
   "outputs": [
    {
     "name": "stdout",
     "output_type": "stream",
     "text": [
      "pick_건물용도\n",
      "업무시설          14372\n",
      "근린생활시설         7875\n",
      "아파트            5367\n",
      "일반음식점          5206\n",
      "일반상점           3881\n",
      "공동주택           3089\n",
      "교육시설           1604\n",
      "의료시설           1177\n",
      "백화점             534\n",
      "자동차관련시설         471\n",
      "오피스텔            266\n",
      "기타시설            210\n",
      "숙박시설            174\n",
      "대형판매점           141\n",
      "위락시설            134\n",
      "문화시설             87\n",
      "종교시설             30\n",
      "체육시설             16\n",
      "위험물저장및처리시설       10\n",
      "Name: count, dtype: int64\n"
     ]
    }
   ],
   "source": [
    "print(filtered_data['pick_건물용도'].value_counts())"
   ]
  },
  {
   "cell_type": "code",
   "execution_count": 702,
   "metadata": {},
   "outputs": [
    {
     "name": "stdout",
     "output_type": "stream",
     "text": [
      "pick_건물용도\n",
      "업무시설      14372\n",
      "근린생활시설     7875\n",
      "아파트        5367\n",
      "일반음식점      5206\n",
      "일반상점       3881\n",
      "공동주택       3089\n",
      "교육시설       1604\n",
      "의료시설       1177\n",
      "기타시설        958\n",
      "백화점         534\n",
      "오피스텔        266\n",
      "숙박시설        174\n",
      "대형판매점       141\n",
      "Name: count, dtype: int64\n"
     ]
    }
   ],
   "source": [
    "# 데이터 정리\n",
    "values_to_replace = ['위락시설', '문화시설', '종교시설', '체육시설','위험물저장및처리시설', '자동차관련시설']\n",
    "filtered_data['pick_건물용도'] = data['pick_건물용도'].replace(values_to_replace, '기타시설')\n",
    "print(filtered_data['pick_건물용도'].value_counts())"
   ]
  },
  {
   "cell_type": "code",
   "execution_count": 703,
   "metadata": {},
   "outputs": [
    {
     "name": "stdout",
     "output_type": "stream",
     "text": [
      "dlvry_건물용도\n",
      "공동주택          16952\n",
      "아파트           13910\n",
      "업무시설           7279\n",
      "근린생활시설         1559\n",
      "일반상점           1224\n",
      "교육시설           1028\n",
      "의료시설            758\n",
      "일반음식점           557\n",
      "숙박시설            459\n",
      "공공시설            241\n",
      "종교시설            127\n",
      "교육연구시설          120\n",
      "오피스텔            101\n",
      "자동차관련시설          67\n",
      "방송통신시설           53\n",
      "기타시설             39\n",
      "백화점              36\n",
      "체육시설             36\n",
      "위험물저장및처리시설       18\n",
      "복지시설             16\n",
      "문화시설             14\n",
      "위락시설             12\n",
      "복합몰               7\n",
      "창고시설              6\n",
      "수련시설              6\n",
      "단독주택              5\n",
      "동식물시설             5\n",
      "운수시설              3\n",
      "노유자시설             2\n",
      "호텔                2\n",
      "체력시설              1\n",
      "공공용시설             1\n",
      "Name: count, dtype: int64\n"
     ]
    }
   ],
   "source": [
    "print(filtered_data['dlvry_건물용도'].value_counts())"
   ]
  },
  {
   "cell_type": "code",
   "execution_count": 704,
   "metadata": {},
   "outputs": [
    {
     "name": "stdout",
     "output_type": "stream",
     "text": [
      "dlvry_건물용도\n",
      "공동주택      16952\n",
      "아파트       13910\n",
      "업무시설       7279\n",
      "근린생활시설     1559\n",
      "일반상점       1224\n",
      "교육시설       1148\n",
      "의료시설        758\n",
      "일반음식점       557\n",
      "숙박시설        459\n",
      "기타시설        329\n",
      "공공시설        241\n",
      "종교시설        127\n",
      "오피스텔        101\n",
      "Name: count, dtype: int64\n"
     ]
    }
   ],
   "source": [
    "value_counts = filtered_data['dlvry_건물용도'].value_counts()\n",
    "\n",
    "threshold = 100\n",
    "filtered_data['dlvry_건물용도'] = filtered_data['dlvry_건물용도'].apply(lambda x: '기타시설' if value_counts[x] <= threshold else x)\n",
    "\n",
    "filtered_data['dlvry_건물용도'] = filtered_data['dlvry_건물용도'].replace('교육연구시설', '교육시설')\n",
    "filtered_data['dlvry_건물용도'] = filtered_data['dlvry_건물용도'].replace('공공용시설', '공공시설')\n",
    "\n",
    "print(filtered_data['dlvry_건물용도'].value_counts())"
   ]
  },
  {
   "attachments": {},
   "cell_type": "markdown",
   "metadata": {},
   "source": [
    "## 1-2. dlvry_지상층수 /지하층수 : dlvry_건물용도 median 값 가져오기"
   ]
  },
  {
   "cell_type": "code",
   "execution_count": 705,
   "metadata": {},
   "outputs": [
    {
     "name": "stdout",
     "output_type": "stream",
     "text": [
      "Median Values:\n",
      "            dlvry_지상층수  dlvry_지하층수\n",
      "dlvry_건물용도                        \n",
      "공공시설               3.0        -0.0\n",
      "공동주택               4.0        -1.0\n",
      "교육시설               6.0        -1.0\n",
      "근린생활시설             5.0        -1.0\n",
      "기타시설               5.0        -2.0\n",
      "숙박시설              10.0        -1.0\n",
      "아파트               15.0        -1.0\n",
      "업무시설              10.0        -3.0\n",
      "오피스텔              15.0        -7.0\n",
      "의료시설              10.0        -1.0\n",
      "일반상점               4.0        -1.0\n",
      "일반음식점              5.0        -1.0\n",
      "종교시설               4.0        -3.0\n",
      "\n",
      "Mean Values:\n",
      "            dlvry_지상층수  dlvry_지하층수\n",
      "dlvry_건물용도                        \n",
      "공공시설          3.066390   -0.203320\n",
      "공동주택          3.844208   -0.732086\n",
      "교육시설          6.414397   -1.383268\n",
      "근린생활시설        5.316228   -1.250160\n",
      "기타시설          8.412698   -2.501587\n",
      "숙박시설         10.838428   -2.397380\n",
      "아파트          18.313515   -1.368009\n",
      "업무시설         11.697593   -3.120231\n",
      "오피스텔         15.000000   -6.118812\n",
      "의료시설          9.507916   -1.928760\n",
      "일반상점          5.041667   -1.446078\n",
      "일반음식점         4.746858   -1.263914\n",
      "종교시설          4.227642   -2.560976\n"
     ]
    }
   ],
   "source": [
    "median_values = filtered_data.dropna().groupby('dlvry_건물용도')[['dlvry_지상층수', 'dlvry_지하층수']].median()\n",
    "mean_values = filtered_data.dropna().groupby('dlvry_건물용도')[['dlvry_지상층수', 'dlvry_지하층수']].mean()\n",
    "\n",
    "print(\"Median Values:\")\n",
    "print(median_values)\n",
    "\n",
    "print(\"\\nMean Values:\")\n",
    "print(mean_values)\n"
   ]
  },
  {
   "cell_type": "code",
   "execution_count": 706,
   "metadata": {},
   "outputs": [
    {
     "name": "stdout",
     "output_type": "stream",
     "text": [
      "             전체배차시간      reg_hour      ord_price  actual_dlvry_distance  \\\n",
      "count  44644.000000  44644.000000   44644.000000           44644.000000   \n",
      "mean       2.737062     15.780866   27080.946757            1959.281538   \n",
      "std        4.813153      3.745221   17994.351039            1156.483892   \n",
      "min        0.083333      9.000000    5000.000000               1.000000   \n",
      "25%        0.550000     12.000000   16700.000000            1115.000000   \n",
      "50%        1.000000     16.000000   22400.000000            1756.000000   \n",
      "75%        2.483333     19.000000   31400.000000            2514.000000   \n",
      "max       77.600000     23.000000  483000.000000            8003.000000   \n",
      "\n",
      "         pick_floor    dlvry_지상층수    dlvry_지하층수            기온           강수량  \\\n",
      "count  44644.000000  44644.000000  44644.000000  44644.000000  44644.000000   \n",
      "mean       0.748006     10.028380     -1.476481     26.778833      0.609437   \n",
      "std        0.924460      8.766227      1.608017      2.664765      3.162902   \n",
      "min       -1.000000      0.000000     -9.000000     20.800000      0.000000   \n",
      "25%        1.000000      4.000000     -1.000000     24.600000      0.000000   \n",
      "50%        1.000000      6.000000     -1.000000     27.100000      0.000000   \n",
      "75%        1.000000     15.000000     -1.000000     28.800000      0.000000   \n",
      "max        8.000000     69.000000     -0.000000     33.500000     27.600000   \n",
      "\n",
      "            outcome  \n",
      "count  44644.000000  \n",
      "mean       0.130544  \n",
      "std        0.336905  \n",
      "min        0.000000  \n",
      "25%        0.000000  \n",
      "50%        0.000000  \n",
      "75%        0.000000  \n",
      "max        1.000000  \n",
      "Index(['dlvry_id', '전체배차시간', 'reg_hour', 'ord_price', 'actual_dlvry_distance',\n",
      "       'pick_floor', 'pick_rgn2_nm', 'pick_rgn3_nm', 'pick_category',\n",
      "       'pick_건물용도', 'dlvry_지상층수', 'dlvry_지하층수', 'dlvry_건물용도', 'day_of_week',\n",
      "       'is_holiday', '기온', '강수량', 'dlvry_rgn2_nm', 'dlvry_rgn3_nm', 'outcome'],\n",
      "      dtype='object')\n"
     ]
    }
   ],
   "source": [
    "# na 값을 중앙값으로 채우기\n",
    "filtered_data['dlvry_지상층수'].fillna(filtered_data['dlvry_건물용도'].map(median_values['dlvry_지상층수']), inplace=True)\n",
    "filtered_data['dlvry_지하층수'].fillna(filtered_data['dlvry_건물용도'].map(median_values['dlvry_지하층수']), inplace=True)\n",
    "\n",
    "print(filtered_data.describe())\n",
    "print(filtered_data.columns)"
   ]
  },
  {
   "cell_type": "code",
   "execution_count": 707,
   "metadata": {},
   "outputs": [
    {
     "name": "stdout",
     "output_type": "stream",
     "text": [
      "dlvry_id                 0\n",
      "전체배차시간                   0\n",
      "reg_hour                 0\n",
      "ord_price                0\n",
      "actual_dlvry_distance    0\n",
      "pick_floor               0\n",
      "pick_rgn2_nm             0\n",
      "pick_rgn3_nm             0\n",
      "pick_category            0\n",
      "pick_건물용도                0\n",
      "dlvry_지상층수               0\n",
      "dlvry_지하층수               0\n",
      "dlvry_건물용도               0\n",
      "day_of_week              0\n",
      "is_holiday               0\n",
      "기온                       0\n",
      "강수량                      0\n",
      "dlvry_rgn2_nm            0\n",
      "dlvry_rgn3_nm            0\n",
      "outcome                  0\n",
      "dtype: int64\n"
     ]
    }
   ],
   "source": [
    "print(filtered_data.isna().sum())"
   ]
  },
  {
   "attachments": {},
   "cell_type": "markdown",
   "metadata": {},
   "source": [
    "## 1-3.  pick_floor, dlvry_지상층수, dlvry_지하층수 "
   ]
  },
  {
   "cell_type": "code",
   "execution_count": 708,
   "metadata": {},
   "outputs": [
    {
     "name": "stdout",
     "output_type": "stream",
     "text": [
      "pick_floor\n",
      " 1.0    31450\n",
      "-1.0     7548\n",
      " 2.0     3810\n",
      " 0.0     1363\n",
      " 3.0      314\n",
      " 4.0       85\n",
      " 8.0       73\n",
      " 6.0        1\n",
      "Name: count, dtype: int64\n"
     ]
    }
   ],
   "source": [
    "print(filtered_data['pick_floor'].value_counts())"
   ]
  },
  {
   "cell_type": "code",
   "execution_count": 709,
   "metadata": {},
   "outputs": [
    {
     "name": "stdout",
     "output_type": "stream",
     "text": [
      "dlvry_지하층수\n",
      "-1.0    24736\n",
      "-0.0     9058\n",
      "-2.0     3590\n",
      "-3.0     1876\n",
      "-4.0     1778\n",
      "-5.0     1483\n",
      "-6.0     1233\n",
      "-7.0      674\n",
      "-8.0      215\n",
      "-9.0        1\n",
      "Name: count, dtype: int64\n"
     ]
    }
   ],
   "source": [
    "print(filtered_data['dlvry_지하층수'].value_counts())"
   ]
  },
  {
   "cell_type": "code",
   "execution_count": 710,
   "metadata": {},
   "outputs": [
    {
     "name": "stdout",
     "output_type": "stream",
     "text": [
      "dlvry_지상층수\n",
      "4.0     9546\n",
      "5.0     5935\n",
      "3.0     4366\n",
      "15.0    4286\n",
      "6.0     2892\n",
      "2.0     1796\n",
      "12.0    1556\n",
      "7.0     1408\n",
      "20.0    1372\n",
      "10.0    1270\n",
      "13.0    1182\n",
      "29.0     872\n",
      "32.0     782\n",
      "14.0     722\n",
      "9.0      713\n",
      "25.0     599\n",
      "18.0     551\n",
      "24.0     526\n",
      "8.0      522\n",
      "11.0     466\n",
      "27.0     413\n",
      "22.0     412\n",
      "16.0     329\n",
      "17.0     269\n",
      "37.0     267\n",
      "21.0     262\n",
      "19.0     248\n",
      "46.0     184\n",
      "26.0     177\n",
      "1.0      171\n",
      "23.0     166\n",
      "31.0     114\n",
      "66.0      52\n",
      "28.0      43\n",
      "69.0      40\n",
      "55.0      30\n",
      "51.0      26\n",
      "34.0      22\n",
      "44.0      20\n",
      "45.0      16\n",
      "0.0        9\n",
      "30.0       8\n",
      "33.0       4\n",
      "Name: count, dtype: int64\n",
      "count    44644.000000\n",
      "mean        10.028380\n",
      "std          8.766227\n",
      "min          0.000000\n",
      "25%          4.000000\n",
      "50%          6.000000\n",
      "75%         15.000000\n",
      "max         69.000000\n",
      "Name: dlvry_지상층수, dtype: float64\n"
     ]
    }
   ],
   "source": [
    "print(filtered_data['dlvry_지상층수'].value_counts())\n",
    "print(filtered_data['dlvry_지상층수'].describe())"
   ]
  },
  {
   "cell_type": "code",
   "execution_count": 711,
   "metadata": {},
   "outputs": [
    {
     "name": "stdout",
     "output_type": "stream",
     "text": [
      "dlvry_지상층수\n",
      "저층      21823\n",
      "중상층      8212\n",
      "중층       6805\n",
      "고층       6239\n",
      "준초고층     1417\n",
      "초고층       148\n",
      "Name: count, dtype: int64\n",
      "pick_floor\n",
      "저층    37022\n",
      "지하     7548\n",
      "중층       74\n",
      "Name: count, dtype: int64\n"
     ]
    }
   ],
   "source": [
    "def categorize_floor(value):\n",
    "    if value < 0:\n",
    "        return '지하'\n",
    "    elif 0 <= value <= 5:\n",
    "        return '저층'\n",
    "    elif 6 <= value <= 10 :\n",
    "        return '중층'\n",
    "    elif 11 <= value <= 15 : \n",
    "        return '중상층'\n",
    "    elif 16 <= value <= 29 :\n",
    "        return '고층'\n",
    "    elif 30 <= value <= 49 :\n",
    "        return '준초고층'\n",
    "    elif 50 <= value:\n",
    "        return '초고층'\n",
    "\n",
    "filtered_data['pick_floor'] = filtered_data['pick_floor'].apply(categorize_floor)\n",
    "filtered_data['dlvry_지상층수'] = filtered_data['dlvry_지상층수'].apply(categorize_floor)\n",
    "\n",
    "print(filtered_data['dlvry_지상층수'].value_counts())\n",
    "print(filtered_data['pick_floor'].value_counts())"
   ]
  },
  {
   "attachments": {},
   "cell_type": "markdown",
   "metadata": {},
   "source": [
    "## 1-4. pick_rgn2_nm, dlvry_rgn2_nm, dlvry_rgn3_nm 정제"
   ]
  },
  {
   "cell_type": "code",
   "execution_count": 712,
   "metadata": {},
   "outputs": [
    {
     "name": "stdout",
     "output_type": "stream",
     "text": [
      "dlvry_rgn2_nm\n",
      "서초구    32886\n",
      "강남구     8302\n",
      "동작구     2388\n",
      "관악구      937\n",
      "과천시      126\n",
      "용산구        5\n",
      "Name: count, dtype: int64\n",
      "dlvry_rgn3_nm\n",
      "서초동      13101\n",
      "방배동       6994\n",
      "반포동       6344\n",
      "역삼동       2814\n",
      "양재동       2729\n",
      "잠원동       2043\n",
      "사당동       1999\n",
      "논현동       1832\n",
      "우면동       1675\n",
      "도곡동       1218\n",
      "개포동        995\n",
      "남현동        500\n",
      "봉천동        427\n",
      "대치동        418\n",
      "신사동        417\n",
      "삼성동        267\n",
      "압구정동       161\n",
      "흑석동        151\n",
      "청담동        148\n",
      "동작동        128\n",
      "상도동         76\n",
      "주암동         75\n",
      "과천동         48\n",
      "일원동         25\n",
      "상도1동        18\n",
      "신림동         10\n",
      "본동          10\n",
      "노량진동         6\n",
      "용산동6가        5\n",
      "자곡동          5\n",
      "부림동          3\n",
      "수서동          2\n",
      "Name: count, dtype: int64\n"
     ]
    }
   ],
   "source": [
    "print(filtered_data['dlvry_rgn2_nm'].value_counts())\n",
    "print(filtered_data['dlvry_rgn3_nm'].value_counts())"
   ]
  },
  {
   "attachments": {},
   "cell_type": "markdown",
   "metadata": {},
   "source": [
    "## 2. 데이터 전처리"
   ]
  },
  {
   "cell_type": "code",
   "execution_count": 713,
   "metadata": {},
   "outputs": [
    {
     "name": "stdout",
     "output_type": "stream",
     "text": [
      "(44644, 20)\n",
      "<class 'pandas.core.frame.DataFrame'>\n",
      "Index: 44644 entries, 17290 to 15409\n",
      "Data columns (total 20 columns):\n",
      " #   Column                 Non-Null Count  Dtype  \n",
      "---  ------                 --------------  -----  \n",
      " 0   dlvry_id               44644 non-null  object \n",
      " 1   전체배차시간                 44644 non-null  float64\n",
      " 2   reg_hour               44644 non-null  int64  \n",
      " 3   ord_price              44644 non-null  int64  \n",
      " 4   actual_dlvry_distance  44644 non-null  int64  \n",
      " 5   pick_floor             44644 non-null  object \n",
      " 6   pick_rgn2_nm           44644 non-null  object \n",
      " 7   pick_rgn3_nm           44644 non-null  object \n",
      " 8   pick_category          44644 non-null  object \n",
      " 9   pick_건물용도              44644 non-null  object \n",
      " 10  dlvry_지상층수             44644 non-null  object \n",
      " 11  dlvry_지하층수             44644 non-null  float64\n",
      " 12  dlvry_건물용도             44644 non-null  object \n",
      " 13  day_of_week            44644 non-null  object \n",
      " 14  is_holiday             44644 non-null  bool   \n",
      " 15  기온                     44644 non-null  float64\n",
      " 16  강수량                    44644 non-null  float64\n",
      " 17  dlvry_rgn2_nm          44644 non-null  object \n",
      " 18  dlvry_rgn3_nm          44644 non-null  object \n",
      " 19  outcome                44644 non-null  int64  \n",
      "dtypes: bool(1), float64(4), int64(4), object(11)\n",
      "memory usage: 6.9+ MB\n",
      "None\n"
     ]
    }
   ],
   "source": [
    "print(filtered_data.shape) #44,644\n",
    "print(filtered_data.info())"
   ]
  },
  {
   "cell_type": "code",
   "execution_count": 714,
   "metadata": {},
   "outputs": [],
   "source": [
    "dataset = filtered_data[[ 'dlvry_id','reg_hour', 'ord_price','actual_dlvry_distance', 'pick_floor', \n",
    "                         'pick_category', 'pick_건물용도','dlvry_지상층수', 'dlvry_지하층수',\n",
    "                         'dlvry_건물용도','day_of_week', 'is_holiday', '기온', 'dlvry_rgn2_nm', 'outcome', '전체배차시간'\n",
    "                        ]]\n",
    "dataset.isna().sum()\n",
    "dataset = dataset.sort_values(by=[\"dlvry_id\"])\n",
    "dataset.to_csv('prj-ML-model-LT_OV30/modeling_data_final.csv', index= False, encoding = \"utf-8\")"
   ]
  },
  {
   "cell_type": "code",
   "execution_count": 715,
   "metadata": {},
   "outputs": [
    {
     "name": "stdout",
     "output_type": "stream",
     "text": [
      "outcome\n",
      "0    38816\n",
      "1     5828\n",
      "Name: count, dtype: int64\n",
      "0\n"
     ]
    }
   ],
   "source": [
    "print(dataset['outcome'].value_counts())\n",
    "print(dataset['outcome'].isna().sum())"
   ]
  },
  {
   "attachments": {},
   "cell_type": "markdown",
   "metadata": {},
   "source": [
    "## 2-1. factor 변수 / one-hot-encoding"
   ]
  },
  {
   "cell_type": "code",
   "execution_count": 716,
   "metadata": {},
   "outputs": [
    {
     "name": "stdout",
     "output_type": "stream",
     "text": [
      "dlvry_id                   object\n",
      "reg_hour                 category\n",
      "ord_price                   int64\n",
      "actual_dlvry_distance       int64\n",
      "pick_floor               category\n",
      "pick_category            category\n",
      "pick_건물용도                category\n",
      "dlvry_지상층수               category\n",
      "dlvry_지하층수                float64\n",
      "dlvry_건물용도               category\n",
      "day_of_week              category\n",
      "is_holiday               category\n",
      "기온                        float64\n",
      "dlvry_rgn2_nm            category\n",
      "outcome                  category\n",
      "전체배차시간                    float64\n",
      "dtype: object\n"
     ]
    }
   ],
   "source": [
    "# category  \n",
    "for col in ['reg_hour','pick_floor',  'pick_category', 'pick_건물용도','dlvry_지상층수','dlvry_건물용도',\n",
    "            'day_of_week', 'is_holiday','dlvry_rgn2_nm', 'outcome' ] : \n",
    "    dataset[col] = dataset[col].astype('category')\n",
    "\n",
    "print(dataset.dtypes)"
   ]
  },
  {
   "cell_type": "code",
   "execution_count": 717,
   "metadata": {},
   "outputs": [
    {
     "name": "stdout",
     "output_type": "stream",
     "text": [
      "Index(['reg_hour_9', 'reg_hour_10', 'reg_hour_11', 'reg_hour_12',\n",
      "       'reg_hour_13', 'reg_hour_14', 'reg_hour_15', 'reg_hour_16',\n",
      "       'reg_hour_17', 'reg_hour_18', 'reg_hour_19', 'reg_hour_20',\n",
      "       'reg_hour_21', 'reg_hour_22', 'reg_hour_23', 'pick_floor_저층',\n",
      "       'pick_floor_중층', 'pick_floor_지하', 'pick_category_ASIAN',\n",
      "       'pick_category_BAEKBAN', 'pick_category_BURGER', 'pick_category_CAFE',\n",
      "       'pick_category_CHICKEN', 'pick_category_CHINESE',\n",
      "       'pick_category_JAPANESE', 'pick_category_JOKBAL', 'pick_category_MEAT',\n",
      "       'pick_category_PIZZA', 'pick_category_SNACK', 'pick_category_WESTERN',\n",
      "       'pick_category_ZZIM_TANG', 'pick_건물용도_공동주택', 'pick_건물용도_교육시설',\n",
      "       'pick_건물용도_근린생활시설', 'pick_건물용도_기타시설', 'pick_건물용도_대형판매점',\n",
      "       'pick_건물용도_백화점', 'pick_건물용도_숙박시설', 'pick_건물용도_아파트', 'pick_건물용도_업무시설',\n",
      "       'pick_건물용도_오피스텔', 'pick_건물용도_의료시설', 'pick_건물용도_일반상점', 'pick_건물용도_일반음식점',\n",
      "       'dlvry_지상층수_고층', 'dlvry_지상층수_저층', 'dlvry_지상층수_준초고층', 'dlvry_지상층수_중상층',\n",
      "       'dlvry_지상층수_중층', 'dlvry_지상층수_초고층', 'dlvry_건물용도_공공시설', 'dlvry_건물용도_공동주택',\n",
      "       'dlvry_건물용도_교육시설', 'dlvry_건물용도_근린생활시설', 'dlvry_건물용도_기타시설',\n",
      "       'dlvry_건물용도_숙박시설', 'dlvry_건물용도_아파트', 'dlvry_건물용도_업무시설',\n",
      "       'dlvry_건물용도_오피스텔', 'dlvry_건물용도_의료시설', 'dlvry_건물용도_일반상점',\n",
      "       'dlvry_건물용도_일반음식점', 'dlvry_건물용도_종교시설', 'day_of_week_Fri',\n",
      "       'day_of_week_Mon', 'day_of_week_Sat', 'day_of_week_Sun',\n",
      "       'day_of_week_Thu', 'day_of_week_Tue', 'day_of_week_Wed',\n",
      "       'is_holiday_0.0', 'is_holiday_1.0', 'dlvry_rgn2_nm_강남구',\n",
      "       'dlvry_rgn2_nm_과천시', 'dlvry_rgn2_nm_관악구', 'dlvry_rgn2_nm_동작구',\n",
      "       'dlvry_rgn2_nm_서초구', 'dlvry_rgn2_nm_용산구', 'dlvry_id', 'ord_price',\n",
      "       'actual_dlvry_distance', 'dlvry_지하층수', '기온', 'outcome', '전체배차시간'],\n",
      "      dtype='object')\n"
     ]
    }
   ],
   "source": [
    "var = ['reg_hour','pick_floor',  'pick_category', 'pick_건물용도','dlvry_지상층수','dlvry_건물용도',\n",
    "            'day_of_week', 'is_holiday','dlvry_rgn2_nm' ] \n",
    "encoder = OneHotEncoder()\n",
    "onehot = pd.DataFrame(encoder.fit_transform(dataset[var]).toarray(), columns=encoder.get_feature_names_out(var), index = dataset.index)\n",
    "dataset = pd.concat([onehot, dataset.drop(columns=var)], axis=1)\n",
    "dataset = dataset.sort_values(by=[\"dlvry_id\"])\n",
    "print(dataset.columns)"
   ]
  },
  {
   "attachments": {},
   "cell_type": "markdown",
   "metadata": {},
   "source": [
    "## 3. train/test set split"
   ]
  },
  {
   "cell_type": "code",
   "execution_count": 718,
   "metadata": {},
   "outputs": [
    {
     "name": "stdout",
     "output_type": "stream",
     "text": [
      "outcome\n",
      "0    29112\n",
      "1     4371\n",
      "Name: count, dtype: int64\n",
      "outcome\n",
      "0    9704\n",
      "1    1457\n",
      "Name: count, dtype: int64\n",
      "(33483, 85)\n",
      "(11161, 85)\n"
     ]
    }
   ],
   "source": [
    "outcome_counts = dataset['outcome'].value_counts()\n",
    "train_set, test_set = train_test_split(dataset, test_size=0.25, stratify = dataset['outcome'], random_state=1234)\n",
    "\n",
    "train_outcome_counts = train_set['outcome'].value_counts()\n",
    "test_outcome_counts = test_set['outcome'].value_counts()\n",
    "\n",
    "print(train_outcome_counts)\n",
    "print(test_outcome_counts)\n",
    "\n",
    "print(train_set.shape) #33,483\n",
    "print(test_set.shape) #11,161"
   ]
  },
  {
   "cell_type": "code",
   "execution_count": 719,
   "metadata": {},
   "outputs": [
    {
     "name": "stdout",
     "output_type": "stream",
     "text": [
      "Index(['reg_hour_9', 'reg_hour_10', 'reg_hour_11', 'reg_hour_12',\n",
      "       'reg_hour_13', 'reg_hour_14', 'reg_hour_15', 'reg_hour_16',\n",
      "       'reg_hour_17', 'reg_hour_18', 'reg_hour_19', 'reg_hour_20',\n",
      "       'reg_hour_21', 'reg_hour_22', 'reg_hour_23', 'pick_floor_저층',\n",
      "       'pick_floor_중층', 'pick_floor_지하', 'pick_category_ASIAN',\n",
      "       'pick_category_BAEKBAN', 'pick_category_BURGER', 'pick_category_CAFE',\n",
      "       'pick_category_CHICKEN', 'pick_category_CHINESE',\n",
      "       'pick_category_JAPANESE', 'pick_category_JOKBAL', 'pick_category_MEAT',\n",
      "       'pick_category_PIZZA', 'pick_category_SNACK', 'pick_category_WESTERN',\n",
      "       'pick_category_ZZIM_TANG', 'pick_건물용도_공동주택', 'pick_건물용도_교육시설',\n",
      "       'pick_건물용도_근린생활시설', 'pick_건물용도_기타시설', 'pick_건물용도_대형판매점',\n",
      "       'pick_건물용도_백화점', 'pick_건물용도_숙박시설', 'pick_건물용도_아파트', 'pick_건물용도_업무시설',\n",
      "       'pick_건물용도_오피스텔', 'pick_건물용도_의료시설', 'pick_건물용도_일반상점', 'pick_건물용도_일반음식점',\n",
      "       'dlvry_지상층수_고층', 'dlvry_지상층수_저층', 'dlvry_지상층수_준초고층', 'dlvry_지상층수_중상층',\n",
      "       'dlvry_지상층수_중층', 'dlvry_지상층수_초고층', 'dlvry_건물용도_공공시설', 'dlvry_건물용도_공동주택',\n",
      "       'dlvry_건물용도_교육시설', 'dlvry_건물용도_근린생활시설', 'dlvry_건물용도_기타시설',\n",
      "       'dlvry_건물용도_숙박시설', 'dlvry_건물용도_아파트', 'dlvry_건물용도_업무시설',\n",
      "       'dlvry_건물용도_오피스텔', 'dlvry_건물용도_의료시설', 'dlvry_건물용도_일반상점',\n",
      "       'dlvry_건물용도_일반음식점', 'dlvry_건물용도_종교시설', 'day_of_week_Fri',\n",
      "       'day_of_week_Mon', 'day_of_week_Sat', 'day_of_week_Sun',\n",
      "       'day_of_week_Thu', 'day_of_week_Tue', 'day_of_week_Wed',\n",
      "       'is_holiday_0.0', 'is_holiday_1.0', 'dlvry_rgn2_nm_강남구',\n",
      "       'dlvry_rgn2_nm_과천시', 'dlvry_rgn2_nm_관악구', 'dlvry_rgn2_nm_동작구',\n",
      "       'dlvry_rgn2_nm_서초구', 'dlvry_rgn2_nm_용산구', 'ord_price',\n",
      "       'actual_dlvry_distance', 'dlvry_지하층수', '기온'],\n",
      "      dtype='object')\n"
     ]
    }
   ],
   "source": [
    "X_train = train_set.drop(columns=['outcome', '전체배차시간','dlvry_id'])\n",
    "y_train = train_set['outcome']\n",
    "\n",
    "X_test = test_set.drop(columns=['outcome', '전체배차시간','dlvry_id'])\n",
    "y_test = test_set['outcome']\n",
    "\n",
    "print(X_train.columns)"
   ]
  },
  {
   "cell_type": "code",
   "execution_count": 720,
   "metadata": {},
   "outputs": [],
   "source": [
    "# set.seed(1234)\n",
    "# train_ratio = 0.75\n",
    "# total_samples = dataset.shape[0]\n",
    "# train_samples = int(train_ratio * total_samples)\n",
    "# train_set = dataset[:train_samples]\n",
    "# test_set = dataset[train_samples:]\n",
    "\n",
    "# print(train_set.shape) #33483\n",
    "# print(test_set.shape) #11161"
   ]
  },
  {
   "attachments": {},
   "cell_type": "markdown",
   "metadata": {},
   "source": [
    "## 4. numeric variables"
   ]
  },
  {
   "cell_type": "code",
   "execution_count": 721,
   "metadata": {},
   "outputs": [
    {
     "name": "stdout",
     "output_type": "stream",
     "text": [
      "(33483, 82)\n",
      "(11161, 82)\n"
     ]
    }
   ],
   "source": [
    "num_vars = ['ord_price', 'actual_dlvry_distance', 'dlvry_지하층수', '기온']\n",
    "scaler = MinMaxScaler()\n",
    "\n",
    "X_train[num_vars] = scaler.fit_transform(X_train[num_vars])\n",
    "X_test[num_vars] = scaler.transform(X_test[num_vars])\n",
    "\n",
    "#print(X_train.head())\n",
    "print(X_train.shape) #33,483\n",
    "print(X_test.shape) #11,161"
   ]
  },
  {
   "attachments": {},
   "cell_type": "markdown",
   "metadata": {},
   "source": [
    "## 5. modeling - Logistic Regression"
   ]
  },
  {
   "cell_type": "code",
   "execution_count": 722,
   "metadata": {},
   "outputs": [
    {
     "name": "stdout",
     "output_type": "stream",
     "text": [
      "                 Variable           VIF\n",
      "0              reg_hour_9  1.990880e+07\n",
      "1             reg_hour_10  2.047168e+07\n",
      "2             reg_hour_11  1.926410e+06\n",
      "3             reg_hour_12  1.101846e+06\n",
      "4             reg_hour_13  4.289599e+06\n",
      "..                    ...           ...\n",
      "77      dlvry_rgn2_nm_용산구  3.254046e+12\n",
      "78              ord_price  1.101595e+00\n",
      "79  actual_dlvry_distance  1.109140e+00\n",
      "80             dlvry_지하층수  1.733442e+00\n",
      "81                     기온  1.491587e+00\n",
      "\n",
      "[82 rows x 2 columns]\n"
     ]
    }
   ],
   "source": [
    "def calculate_vif(data):\n",
    "    vif_data = pd.DataFrame()\n",
    "    vif_data[\"Variable\"] = data.columns\n",
    "    vif_data[\"VIF\"] = [variance_inflation_factor(data.values, i) for i in range(data.shape[1])]\n",
    "    return vif_data\n",
    "\n",
    "# 다중 공선성 확인\n",
    "vif_result = calculate_vif(X_train)\n",
    "print(vif_result)"
   ]
  },
  {
   "cell_type": "code",
   "execution_count": 723,
   "metadata": {},
   "outputs": [
    {
     "name": "stdout",
     "output_type": "stream",
     "text": [
      "                 Generalized Linear Model Regression Results                  \n",
      "==============================================================================\n",
      "Dep. Variable:                outcome   No. Observations:                33483\n",
      "Model:                            GLM   Df Residuals:                    33410\n",
      "Model Family:                Binomial   Df Model:                           72\n",
      "Link Function:                  Logit   Scale:                          1.0000\n",
      "Method:                          IRLS   Log-Likelihood:                -10453.\n",
      "Date:                Fri, 22 Sep 2023   Deviance:                       20906.\n",
      "Time:                        17:23:17   Pearson chi2:                 3.44e+04\n",
      "No. Iterations:                   100   Pseudo R-squ. (CS):             0.1397\n",
      "Covariance Type:            nonrobust                                         \n",
      "===========================================================================================\n",
      "                              coef    std err          z      P>|z|      [0.025      0.975]\n",
      "-------------------------------------------------------------------------------------------\n",
      "reg_hour_9               6.951e+11   2.14e+12      0.325      0.745    -3.5e+12    4.89e+12\n",
      "reg_hour_10              6.951e+11   2.14e+12      0.325      0.745    -3.5e+12    4.89e+12\n",
      "reg_hour_11              6.951e+11   2.14e+12      0.325      0.745    -3.5e+12    4.89e+12\n",
      "reg_hour_12              6.951e+11   2.14e+12      0.325      0.745    -3.5e+12    4.89e+12\n",
      "reg_hour_13              6.951e+11   2.14e+12      0.325      0.745    -3.5e+12    4.89e+12\n",
      "reg_hour_14              6.951e+11   2.14e+12      0.325      0.745    -3.5e+12    4.89e+12\n",
      "reg_hour_15              6.951e+11   2.14e+12      0.325      0.745    -3.5e+12    4.89e+12\n",
      "reg_hour_16              6.951e+11   2.14e+12      0.325      0.745    -3.5e+12    4.89e+12\n",
      "reg_hour_17              6.951e+11   2.14e+12      0.325      0.745    -3.5e+12    4.89e+12\n",
      "reg_hour_18              6.951e+11   2.14e+12      0.325      0.745    -3.5e+12    4.89e+12\n",
      "reg_hour_19              6.951e+11   2.14e+12      0.325      0.745    -3.5e+12    4.89e+12\n",
      "reg_hour_20              6.951e+11   2.14e+12      0.325      0.745    -3.5e+12    4.89e+12\n",
      "reg_hour_21              6.951e+11   2.14e+12      0.325      0.745    -3.5e+12    4.89e+12\n",
      "reg_hour_22              6.951e+11   2.14e+12      0.325      0.745    -3.5e+12    4.89e+12\n",
      "reg_hour_23              6.951e+11   2.14e+12      0.325      0.745    -3.5e+12    4.89e+12\n",
      "pick_floor_저층            7.395e+11   8.93e+11      0.828      0.408   -1.01e+12    2.49e+12\n",
      "pick_floor_중층            7.395e+11   8.93e+11      0.828      0.408   -1.01e+12    2.49e+12\n",
      "pick_floor_지하            7.395e+11   8.93e+11      0.828      0.408   -1.01e+12    2.49e+12\n",
      "pick_category_ASIAN      2.249e+11   2.47e+11      0.910      0.363    -2.6e+11    7.09e+11\n",
      "pick_category_BAEKBAN    2.249e+11   2.47e+11      0.910      0.363    -2.6e+11    7.09e+11\n",
      "pick_category_BURGER     2.249e+11   2.47e+11      0.910      0.363    -2.6e+11    7.09e+11\n",
      "pick_category_CAFE       2.249e+11   2.47e+11      0.910      0.363    -2.6e+11    7.09e+11\n",
      "pick_category_CHICKEN    2.249e+11   2.47e+11      0.910      0.363    -2.6e+11    7.09e+11\n",
      "pick_category_CHINESE    2.249e+11   2.47e+11      0.910      0.363    -2.6e+11    7.09e+11\n",
      "pick_category_JAPANESE   2.249e+11   2.47e+11      0.910      0.363    -2.6e+11    7.09e+11\n",
      "pick_category_JOKBAL     2.249e+11   2.47e+11      0.910      0.363    -2.6e+11    7.09e+11\n",
      "pick_category_MEAT       2.249e+11   2.47e+11      0.910      0.363    -2.6e+11    7.09e+11\n",
      "pick_category_PIZZA      2.249e+11   2.47e+11      0.910      0.363    -2.6e+11    7.09e+11\n",
      "pick_category_SNACK      2.249e+11   2.47e+11      0.910      0.363    -2.6e+11    7.09e+11\n",
      "pick_category_WESTERN    2.249e+11   2.47e+11      0.910      0.363    -2.6e+11    7.09e+11\n",
      "pick_category_ZZIM_TANG  2.249e+11   2.47e+11      0.910      0.363    -2.6e+11    7.09e+11\n",
      "pick_건물용도_공동주택            1.18e+11   1.69e+11      0.698      0.485   -2.13e+11     4.5e+11\n",
      "pick_건물용도_교육시설            1.18e+11   1.69e+11      0.698      0.485   -2.13e+11     4.5e+11\n",
      "pick_건물용도_근린생활시설          1.18e+11   1.69e+11      0.698      0.485   -2.13e+11     4.5e+11\n",
      "pick_건물용도_기타시설            1.18e+11   1.69e+11      0.698      0.485   -2.13e+11     4.5e+11\n",
      "pick_건물용도_대형판매점           1.18e+11   1.69e+11      0.698      0.485   -2.13e+11     4.5e+11\n",
      "pick_건물용도_백화점             1.18e+11   1.69e+11      0.698      0.485   -2.13e+11     4.5e+11\n",
      "pick_건물용도_숙박시설            1.18e+11   1.69e+11      0.698      0.485   -2.13e+11     4.5e+11\n",
      "pick_건물용도_아파트             1.18e+11   1.69e+11      0.698      0.485   -2.13e+11     4.5e+11\n",
      "pick_건물용도_업무시설            1.18e+11   1.69e+11      0.698      0.485   -2.13e+11     4.5e+11\n",
      "pick_건물용도_오피스텔            1.18e+11   1.69e+11      0.698      0.485   -2.13e+11     4.5e+11\n",
      "pick_건물용도_의료시설            1.18e+11   1.69e+11      0.698      0.485   -2.13e+11     4.5e+11\n",
      "pick_건물용도_일반상점            1.18e+11   1.69e+11      0.698      0.485   -2.13e+11     4.5e+11\n",
      "pick_건물용도_일반음식점           1.18e+11   1.69e+11      0.698      0.485   -2.13e+11     4.5e+11\n",
      "dlvry_지상층수_고층            2.312e+11    3.5e+11      0.660      0.509   -4.55e+11    9.18e+11\n",
      "dlvry_지상층수_저층            2.312e+11    3.5e+11      0.660      0.509   -4.55e+11    9.18e+11\n",
      "dlvry_지상층수_준초고층          2.312e+11    3.5e+11      0.660      0.509   -4.55e+11    9.18e+11\n",
      "dlvry_지상층수_중상층           2.312e+11    3.5e+11      0.660      0.509   -4.55e+11    9.18e+11\n",
      "dlvry_지상층수_중층            2.312e+11    3.5e+11      0.660      0.509   -4.55e+11    9.18e+11\n",
      "dlvry_지상층수_초고층           2.312e+11    3.5e+11      0.660      0.509   -4.55e+11    9.18e+11\n",
      "dlvry_건물용도_공공시설          7.172e+10    1.4e+11      0.511      0.610   -2.04e+11    3.47e+11\n",
      "dlvry_건물용도_공동주택          7.172e+10    1.4e+11      0.511      0.610   -2.04e+11    3.47e+11\n",
      "dlvry_건물용도_교육시설          7.172e+10    1.4e+11      0.511      0.610   -2.04e+11    3.47e+11\n",
      "dlvry_건물용도_근린생활시설        7.172e+10    1.4e+11      0.511      0.610   -2.04e+11    3.47e+11\n",
      "dlvry_건물용도_기타시설          7.172e+10    1.4e+11      0.511      0.610   -2.04e+11    3.47e+11\n",
      "dlvry_건물용도_숙박시설          7.172e+10    1.4e+11      0.511      0.610   -2.04e+11    3.47e+11\n",
      "dlvry_건물용도_아파트           7.172e+10    1.4e+11      0.511      0.610   -2.04e+11    3.47e+11\n",
      "dlvry_건물용도_업무시설          7.172e+10    1.4e+11      0.511      0.610   -2.04e+11    3.47e+11\n",
      "dlvry_건물용도_오피스텔          7.172e+10    1.4e+11      0.511      0.610   -2.04e+11    3.47e+11\n",
      "dlvry_건물용도_의료시설          7.172e+10    1.4e+11      0.511      0.610   -2.04e+11    3.47e+11\n",
      "dlvry_건물용도_일반상점          7.172e+10    1.4e+11      0.511      0.610   -2.04e+11    3.47e+11\n",
      "dlvry_건물용도_일반음식점         7.172e+10    1.4e+11      0.511      0.610   -2.04e+11    3.47e+11\n",
      "dlvry_건물용도_종교시설          7.172e+10    1.4e+11      0.511      0.610   -2.04e+11    3.47e+11\n",
      "day_of_week_Fri         -5.491e+12   4.66e+12     -1.178      0.239   -1.46e+13    3.65e+12\n",
      "day_of_week_Mon         -3.896e+11   3.36e+11     -1.158      0.247   -1.05e+12     2.7e+11\n",
      "day_of_week_Sat         -5.491e+12   4.66e+12     -1.178      0.239   -1.46e+13    3.65e+12\n",
      "day_of_week_Sun         -5.491e+12   4.66e+12     -1.178      0.239   -1.46e+13    3.65e+12\n",
      "day_of_week_Thu         -3.896e+11   3.36e+11     -1.158      0.247   -1.05e+12     2.7e+11\n",
      "day_of_week_Tue         -3.896e+11   3.36e+11     -1.158      0.247   -1.05e+12     2.7e+11\n",
      "day_of_week_Wed         -3.896e+11   3.36e+11     -1.158      0.247   -1.05e+12     2.7e+11\n",
      "is_holiday_0.0          -1.913e+12   1.61e+12     -1.187      0.235   -5.07e+12    1.25e+12\n",
      "is_holiday_1.0           3.189e+12      3e+12      1.062      0.288    -2.7e+12    9.08e+12\n",
      "dlvry_rgn2_nm_강남구         2.22e+11   3.44e+11      0.645      0.519   -4.53e+11    8.97e+11\n",
      "dlvry_rgn2_nm_과천시         2.22e+11   3.44e+11      0.645      0.519   -4.53e+11    8.97e+11\n",
      "dlvry_rgn2_nm_관악구         2.22e+11   3.44e+11      0.645      0.519   -4.53e+11    8.97e+11\n",
      "dlvry_rgn2_nm_동작구         2.22e+11   3.44e+11      0.645      0.519   -4.53e+11    8.97e+11\n",
      "dlvry_rgn2_nm_서초구         2.22e+11   3.44e+11      0.645      0.519   -4.53e+11    8.97e+11\n",
      "dlvry_rgn2_nm_용산구         2.22e+11   3.44e+11      0.645      0.519   -4.53e+11    8.97e+11\n",
      "ord_price                   2.9752      0.454      6.551      0.000       2.085       3.865\n",
      "actual_dlvry_distance       5.3732      0.119     45.029      0.000       5.139       5.607\n",
      "dlvry_지하층수                  0.3178      0.122      2.599      0.009       0.078       0.557\n",
      "기온                         -0.5704      0.116     -4.936      0.000      -0.797      -0.344\n",
      "===========================================================================================\n"
     ]
    },
    {
     "data": {
      "text/plain": [
       "['prj-ML-model-LT_OV30/glm_model.joblib']"
      ]
     },
     "execution_count": 723,
     "metadata": {},
     "output_type": "execute_result"
    }
   ],
   "source": [
    "glm_1 = sm.GLM(y_train, X_train, family = sm.families.Binomial())\n",
    "glm1_fit = glm_1.fit()\n",
    "print(glm1_fit.summary())\n",
    "\n",
    "joblib.dump(glm1_fit,'prj-ML-model-LT_OV30/glm_model.joblib')"
   ]
  },
  {
   "cell_type": "code",
   "execution_count": 724,
   "metadata": {},
   "outputs": [
    {
     "name": "stdout",
     "output_type": "stream",
     "text": [
      "0.8163265306122449\n",
      "\n",
      "Confusion Matrix:\n",
      "[[9695    9]\n",
      " [1417   40]]\n",
      "\n",
      "Accuracy: 0.872233670818027\n",
      "Sensitivity (True Positive Rate): 0.027453671928620454\n",
      "Specificity (True Negative Rate): 0.9990725474031328\n"
     ]
    }
   ],
   "source": [
    "y_pred = glm1_fit.predict(X_test)\n",
    "\n",
    "threshold = 0.8 # cut-off 값 \n",
    "y_pred_binary = (y_pred > threshold).astype(int)\n",
    "\n",
    "accuracy = accuracy_score(y_test, y_pred_binary)\n",
    "conf_matrix = confusion_matrix(y_test, y_pred_binary)\n",
    "\n",
    "sensitivity = conf_matrix[1, 1] / (conf_matrix[1, 0] + conf_matrix[1, 1])\n",
    "specificity = conf_matrix[0, 0] / (conf_matrix[0, 0] + conf_matrix[0, 1])\n",
    "\n",
    "test = conf_matrix[1,1] / (conf_matrix[0, 1] + conf_matrix[1, 1])\n",
    "print(test)\n",
    "\n",
    "print(\"\\nConfusion Matrix:\")\n",
    "print(conf_matrix)\n",
    "print(\"\\nAccuracy:\", accuracy) #0.87\n",
    "print(\"Sensitivity (True Positive Rate):\", sensitivity) # 0.18\n",
    "print(\"Specificity (True Negative Rate):\", specificity) # 0.98\n"
   ]
  },
  {
   "cell_type": "code",
   "execution_count": 725,
   "metadata": {},
   "outputs": [
    {
     "name": "stdout",
     "output_type": "stream",
     "text": [
      "(11161,)\n",
      "Number of values greater than 0.5: 242\n"
     ]
    }
   ],
   "source": [
    "print(y_pred.shape) #11,161  \n",
    " \n",
    "count_greater_than_0_5 = (y_pred > 0.6).sum()\n",
    "print(\"Number of values greater than 0.5:\", count_greater_than_0_5)                          "
   ]
  },
  {
   "cell_type": "code",
   "execution_count": 726,
   "metadata": {},
   "outputs": [],
   "source": [
    "# logit_model = LogisticRegression(penalty = 'none')\n",
    "# cv_scores = cross_val_score(logit_model, X_train, y_train, cv=5, scoring='accuracy')\n",
    "# mean_cv_accuracy = cv_scores.mean()\n",
    "# print(\"Cross-Validation Mean Accuracy:\", mean_cv_accuracy)\n",
    "\n",
    "# logit_model.fit(X_train, y_train)\n",
    "# print(\"Model Coefficients:\", logit_model.coef_)\n"
   ]
  },
  {
   "cell_type": "code",
   "execution_count": 727,
   "metadata": {},
   "outputs": [],
   "source": [
    "# X_train = sm.add_constant(X_train) \n",
    "# logit_model = sm.Logit(y_train, X_train)\n",
    "# result = logit_model.fit()\n",
    "\n",
    "# print(result.summary())\n",
    "\n",
    "# X_test = sm.add_constant(X_test) \n",
    "# y_pred = result.predict(X_test)  \n",
    "\n",
    "# y_pred_binary = (y_pred > 0.5).astype(int)\n",
    "\n",
    "# conf_matrix = confusion_matrix(y_test, y_pred_binary)\n",
    "# accuracy = accuracy_score(y_test, y_pred_binary)\n",
    "# sensitivity = conf_matrix[1, 1] / (conf_matrix[1, 0] + conf_matrix[1, 1])\n",
    "# specificity = conf_matrix[0, 0] / (conf_matrix[0, 0] + conf_matrix[0, 1])\n",
    "\n",
    "# print(\"\\nConfusion Matrix:\")\n",
    "# print(conf_matrix)\n",
    "# print(\"\\nAccuracy:\", accuracy)\n",
    "# print(\"Sensitivity (True Positive Rate):\", sensitivity)\n",
    "# print(\"Specificity (True Negative Rate):\", specificity)\n"
   ]
  },
  {
   "cell_type": "code",
   "execution_count": 728,
   "metadata": {},
   "outputs": [],
   "source": [
    "# glm_2 = LogisticRegression(penalty='none')\n",
    "# glm_2.fit(X_train, y_train)\n",
    "\n",
    "# variable_names = X_train.columns\n",
    "# coef = glm_2.coef_[0]\n",
    "\n",
    "# coef_table = pd.DataFrame({'Variable': variable_names, 'Coefficient': coef})\n",
    "\n",
    "# logit_model = sm.Logit(y_train, X_train)\n",
    "# result = logit_model.fit()\n",
    "# p_values = result.pvalues\n",
    "# coef_table['p-value'] = p_values\n",
    "\n",
    "# print(coef_table)\n",
    "# pred_glm = glm_2.predict(X_test)\n",
    "# class_report = classification_report(y_test, pred_glm)\n",
    "# print(class_report)"
   ]
  },
  {
   "attachments": {},
   "cell_type": "markdown",
   "metadata": {},
   "source": [
    "## 6. clustering"
   ]
  },
  {
   "cell_type": "code",
   "execution_count": 763,
   "metadata": {},
   "outputs": [],
   "source": [
    "def visualize_silhouette_scores(data, method='kmeans', param_init='random', param_n_init=10, param_max_iter=300):\n",
    "    clusters_range = range(2, 15)\n",
    "    results = []\n",
    "\n",
    "    for i in clusters_range:\n",
    "        if method == 'kmeans':\n",
    "            clusterer = KMeans(n_clusters=i, init=param_init, n_init=param_n_init, max_iter=param_max_iter, random_state=0)\n",
    "        elif method == 'agglomerative':\n",
    "            clusterer = AgglomerativeClustering(n_clusters=i)\n",
    "        else:\n",
    "            raise ValueError(\"Invalid method. Choose 'kmeans' or 'agglomerative'.\")\n",
    "\n",
    "        cluster_labels = clusterer.fit_predict(data)\n",
    "        silhouette_avg = silhouette_score(data, cluster_labels)\n",
    "        results.append([i, silhouette_avg])\n",
    "\n",
    "    result = pd.DataFrame(results, columns=[\"n_clusters\", \"silhouette_score\"])\n",
    "    \n",
    "    plt.figure()\n",
    "    sns.heatmap(pd.pivot_table(result, index=\"n_clusters\", values=\"silhouette_score\"),annot=True, linewidths=.5, fmt='.3f', cmap=sns.cm._rocket_lut)\n",
    "    plt.tight_layout()\n",
    "    plt.title(f\"Silhouette Scores for {method.capitalize()} Clustering\")\n",
    "    plt.xlabel(\"Number of Clusters\")\n",
    "    plt.ylabel(\"Silhouette Score\")\n",
    "    plt.show()\n"
   ]
  },
  {
   "cell_type": "code",
   "execution_count": 764,
   "metadata": {},
   "outputs": [
    {
     "data": {
      "image/png": "[encoded data removed]",
      "text/plain": [
       "<Figure size 640x480 with 2 Axes>"
      ]
     },
     "metadata": {},
     "output_type": "display_data"
    },
    {
     "data": {
      "image/png": "[encoded data removed]",
      "text/plain": [
       "<Figure size 640x480 with 2 Axes>"
      ]
     },
     "metadata": {},
     "output_type": "display_data"
    }
   ],
   "source": [
    "data  = y_pred.to_numpy().reshape(-1, 1)\n",
    "\n",
    "visualize_silhouette_scores(data, method='kmeans')\n",
    "visualize_silhouette_scores(data, method='agglomerative')"
   ]
  },
  {
   "cell_type": "code",
   "execution_count": 765,
   "metadata": {},
   "outputs": [
    {
     "name": "stderr",
     "output_type": "stream",
     "text": [
      "No artists with labels found to put in legend.  Note that artists whose label start with an underscore are ignored when legend() is called with no argument.\n"
     ]
    },
    {
     "name": "stdout",
     "output_type": "stream",
     "text": [
      "K-Means Silhouette Score: 0.63\n",
      "Agglomerative Silhouette Score: 0.58\n"
     ]
    },
    {
     "data": {
      "image/png": "[encoded data removed]",
      "text/plain": [
       "<Figure size 1200x400 with 3 Axes>"
      ]
     },
     "metadata": {},
     "output_type": "display_data"
    }
   ],
   "source": [
    "n_clusters = 4\n",
    "X = y_pred.values.reshape(-1,1)\n",
    "\n",
    "kmeans = KMeans(n_clusters=n_clusters)\n",
    "kmeans_clusters = kmeans.fit_predict(X)\n",
    "\n",
    "agglomerative = AgglomerativeClustering(n_clusters=n_clusters)\n",
    "agglomerative_clusters = agglomerative.fit_predict(X)\n",
    "\n",
    "kmeans_silhouette_score = silhouette_score(X, kmeans_clusters)\n",
    "agglomerative_silhouette_score = silhouette_score(X, agglomerative_clusters)\n",
    "\n",
    "print(f\"K-Means Silhouette Score: {kmeans_silhouette_score:.2f}\")\n",
    "print(f\"Agglomerative Silhouette Score: {agglomerative_silhouette_score:.2f}\")\n",
    "\n",
    "# 데이터 시각화\n",
    "plt.figure(figsize=(12, 4))\n",
    "\n",
    "plt.subplot(131)\n",
    "plt.scatter(X, X , c=y_pred, cmap='viridis')\n",
    "plt.title('True Clusters')\n",
    "plt.xlabel('Y_pred')\n",
    "plt.ylabel('Y_pred')\n",
    "\n",
    "plt.subplot(132)\n",
    "plt.scatter(X, X , c=kmeans_clusters, cmap='viridis')\n",
    "plt.scatter(kmeans.cluster_centers_, kmeans.cluster_centers_, c='red', marker='x', s=100, label='Cluster Centers')\n",
    "plt.title('K-Means Clusters')\n",
    "plt.xlabel('Y_pred')\n",
    "plt.ylabel('Y_pred')\n",
    "for i, cluster_num in enumerate(np.unique(kmeans_clusters)):\n",
    "    plt.text(y_pred[kmeans_clusters == cluster_num].mean(), y_pred[kmeans_clusters == cluster_num].mean(), str(cluster_num), color='black', fontsize=12)\n",
    "\n",
    "plt.subplot(133)\n",
    "plt.scatter(X, X , c=agglomerative_clusters, cmap='viridis')\n",
    "plt.title('Agglomerative Clusters')\n",
    "plt.xlabel('Y_pred')\n",
    "plt.ylabel('Y_pred')\n",
    "for i, cluster_num in enumerate(np.unique(agglomerative_clusters)):\n",
    "    plt.text(y_pred[agglomerative_clusters == cluster_num].mean(), y_pred[agglomerative_clusters == cluster_num].mean(), str(cluster_num), color='black', fontsize=12)\n",
    "\n",
    "plt.legend()\n",
    "plt.show()\n"
   ]
  },
  {
   "cell_type": "code",
   "execution_count": 766,
   "metadata": {},
   "outputs": [],
   "source": [
    "# np.random.seed(0)\n",
    "# X = np.random.randn(100, 2)\n",
    "# y_pred = np.concatenate([np.zeros(50), np.ones(50)])\n",
    "\n",
    "# # 클러스터 개수\n",
    "# n_clusters = 5\n",
    "\n",
    "# kmeans = KMeans(n_clusters=n_clusters)\n",
    "# kmeans_clusters = kmeans.fit_predict(X)\n",
    "\n",
    "# agglomerative = AgglomerativeClustering(n_clusters=n_clusters)\n",
    "# agglomerative_clusters = agglomerative.fit_predict(X)\n",
    "\n",
    "# # 데이터 시각화\n",
    "# plt.figure(figsize=(12, 4))\n",
    "\n",
    "# plt.subplot(131)\n",
    "# plt.scatter(X[:, 0], X[:, 1], c=y_pred, cmap='viridis')\n",
    "# plt.title('True Clusters')\n",
    "# plt.xlabel('X')\n",
    "# plt.ylabel('Y_pred')\n",
    "\n",
    "# plt.subplot(132)\n",
    "# plt.scatter(X[:, 0], X[:, 1], c=kmeans_clusters, cmap='viridis')\n",
    "# plt.scatter(kmeans.cluster_centers_[:, 0], kmeans.cluster_centers_[:, 1], c='red', marker='x', s=100, label='Cluster Centers')\n",
    "# plt.title('K-Means Clusters')\n",
    "# plt.xlabel('X')\n",
    "# plt.ylabel('Y_pred')\n",
    "# for i, cluster_num in enumerate(np.unique(kmeans_clusters)):\n",
    "#     plt.text(X[kmeans_clusters == cluster_num, 0].mean(), X[kmeans_clusters == cluster_num, 1].mean(), str(cluster_num), color='black', fontsize=12)\n",
    "\n",
    "# plt.subplot(133)\n",
    "# plt.scatter(X[:, 0], X[:, 1], c=agglomerative_clusters, cmap='viridis')\n",
    "# plt.title('Agglomerative Clusters')\n",
    "# plt.xlabel('X')\n",
    "# plt.ylabel('Y_pred')\n",
    "# for i, cluster_num in enumerate(np.unique(agglomerative_clusters)):\n",
    "#     plt.text(X[agglomerative_clusters == cluster_num, 0].mean(), X[agglomerative_clusters == cluster_num, 1].mean(), str(cluster_num), color='black', fontsize=12)\n",
    "\n",
    "# plt.legend()\n",
    "# plt.show()\n"
   ]
  },
  {
   "cell_type": "code",
   "execution_count": 767,
   "metadata": {},
   "outputs": [
    {
     "name": "stdout",
     "output_type": "stream",
     "text": [
      "                dlvry_id    전체배차시간 outcome    y_pred  KMeansCluster  \\\n",
      "25622  20230822_3561PFNZ  8.000000       1  0.165653              2   \n",
      "52745  20230825_4404SMBE  0.750000       0  0.041834              1   \n",
      "44564  20230823_0365XUHR  3.633333       0  0.211530              2   \n",
      "7455   20230901_5143VCEC  0.483333       0  0.081319              1   \n",
      "14651  20230903_0867KHNV  1.666667       0  0.029752              1   \n",
      "\n",
      "       AgglomerativeCluster  \n",
      "25622                     1  \n",
      "52745                     3  \n",
      "44564                     1  \n",
      "7455                      1  \n",
      "14651                     3  \n"
     ]
    }
   ],
   "source": [
    "result_df = pd.DataFrame({'dlvry_id': test_set[\"dlvry_id\"], '전체배차시간': test_set[\"전체배차시간\"],\n",
    "                          'outcome': test_set[\"outcome\"], 'y_pred': y_pred.squeeze(),\n",
    "                          'KMeansCluster': kmeans_clusters, 'AgglomerativeCluster': agglomerative_clusters})\n",
    "\n",
    "print(result_df.head())\n",
    "result_df.to_csv('prj-ML-model-LT_OV30/cluster_add_data.csv', index= False, encoding = \"utf-8\")"
   ]
  },
  {
   "cell_type": "code",
   "execution_count": 768,
   "metadata": {},
   "outputs": [
    {
     "name": "stdout",
     "output_type": "stream",
     "text": [
      "KMeansCluster\n",
      "1    6980\n",
      "2    2570\n",
      "0    1165\n",
      "3     446\n",
      "Name: count, dtype: int64\n",
      "AgglomerativeCluster\n",
      "3    5313\n",
      "1    3854\n",
      "0    1565\n",
      "2     429\n",
      "Name: count, dtype: int64\n"
     ]
    }
   ],
   "source": [
    "print(result_df['KMeansCluster'].value_counts())\n",
    "print(result_df['AgglomerativeCluster'].value_counts())"
   ]
  },
  {
   "cell_type": "code",
   "execution_count": 769,
   "metadata": {},
   "outputs": [
    {
     "data": {
      "text/html": [
       "<div>\n",
       "<style scoped>\n",
       "    .dataframe tbody tr th:only-of-type {\n",
       "        vertical-align: middle;\n",
       "    }\n",
       "\n",
       "    .dataframe tbody tr th {\n",
       "        vertical-align: top;\n",
       "    }\n",
       "\n",
       "    .dataframe thead th {\n",
       "        text-align: right;\n",
       "    }\n",
       "</style>\n",
       "<table border=\"1\" class=\"dataframe\">\n",
       "  <thead>\n",
       "    <tr style=\"text-align: right;\">\n",
       "      <th></th>\n",
       "      <th>mean</th>\n",
       "      <th>std</th>\n",
       "      <th>min</th>\n",
       "      <th>max</th>\n",
       "    </tr>\n",
       "    <tr>\n",
       "      <th>KMeansCluster</th>\n",
       "      <th></th>\n",
       "      <th></th>\n",
       "      <th></th>\n",
       "      <th></th>\n",
       "    </tr>\n",
       "  </thead>\n",
       "  <tbody>\n",
       "    <tr>\n",
       "      <th>0</th>\n",
       "      <td>5.743519</td>\n",
       "      <td>7.273357</td>\n",
       "      <td>0.116667</td>\n",
       "      <td>57.400000</td>\n",
       "    </tr>\n",
       "    <tr>\n",
       "      <th>1</th>\n",
       "      <td>1.534568</td>\n",
       "      <td>2.428824</td>\n",
       "      <td>0.116667</td>\n",
       "      <td>41.550000</td>\n",
       "    </tr>\n",
       "    <tr>\n",
       "      <th>2</th>\n",
       "      <td>3.214870</td>\n",
       "      <td>4.617147</td>\n",
       "      <td>0.150000</td>\n",
       "      <td>46.383333</td>\n",
       "    </tr>\n",
       "    <tr>\n",
       "      <th>3</th>\n",
       "      <td>11.161435</td>\n",
       "      <td>10.117054</td>\n",
       "      <td>0.233333</td>\n",
       "      <td>50.783333</td>\n",
       "    </tr>\n",
       "  </tbody>\n",
       "</table>\n",
       "</div>"
      ],
      "text/plain": [
       "                    mean        std       min        max\n",
       "KMeansCluster                                           \n",
       "0               5.743519   7.273357  0.116667  57.400000\n",
       "1               1.534568   2.428824  0.116667  41.550000\n",
       "2               3.214870   4.617147  0.150000  46.383333\n",
       "3              11.161435  10.117054  0.233333  50.783333"
      ]
     },
     "execution_count": 769,
     "metadata": {},
     "output_type": "execute_result"
    }
   ],
   "source": [
    "result_df.groupby('KMeansCluster')['전체배차시간'].agg(['mean', 'std', 'min', 'max'])\n"
   ]
  },
  {
   "cell_type": "code",
   "execution_count": 770,
   "metadata": {},
   "outputs": [
    {
     "data": {
      "text/html": [
       "<div>\n",
       "<style scoped>\n",
       "    .dataframe tbody tr th:only-of-type {\n",
       "        vertical-align: middle;\n",
       "    }\n",
       "\n",
       "    .dataframe tbody tr th {\n",
       "        vertical-align: top;\n",
       "    }\n",
       "\n",
       "    .dataframe thead th {\n",
       "        text-align: right;\n",
       "    }\n",
       "</style>\n",
       "<table border=\"1\" class=\"dataframe\">\n",
       "  <thead>\n",
       "    <tr style=\"text-align: right;\">\n",
       "      <th></th>\n",
       "      <th>mean</th>\n",
       "      <th>std</th>\n",
       "      <th>min</th>\n",
       "      <th>max</th>\n",
       "    </tr>\n",
       "    <tr>\n",
       "      <th>AgglomerativeCluster</th>\n",
       "      <th></th>\n",
       "      <th></th>\n",
       "      <th></th>\n",
       "      <th></th>\n",
       "    </tr>\n",
       "  </thead>\n",
       "  <tbody>\n",
       "    <tr>\n",
       "      <th>0</th>\n",
       "      <td>5.337859</td>\n",
       "      <td>6.848545</td>\n",
       "      <td>0.116667</td>\n",
       "      <td>57.400000</td>\n",
       "    </tr>\n",
       "    <tr>\n",
       "      <th>1</th>\n",
       "      <td>2.618924</td>\n",
       "      <td>4.016417</td>\n",
       "      <td>0.133333</td>\n",
       "      <td>46.383333</td>\n",
       "    </tr>\n",
       "    <tr>\n",
       "      <th>2</th>\n",
       "      <td>11.225408</td>\n",
       "      <td>10.078157</td>\n",
       "      <td>0.233333</td>\n",
       "      <td>50.783333</td>\n",
       "    </tr>\n",
       "    <tr>\n",
       "      <th>3</th>\n",
       "      <td>1.389030</td>\n",
       "      <td>2.201174</td>\n",
       "      <td>0.116667</td>\n",
       "      <td>41.550000</td>\n",
       "    </tr>\n",
       "  </tbody>\n",
       "</table>\n",
       "</div>"
      ],
      "text/plain": [
       "                           mean        std       min        max\n",
       "AgglomerativeCluster                                           \n",
       "0                      5.337859   6.848545  0.116667  57.400000\n",
       "1                      2.618924   4.016417  0.133333  46.383333\n",
       "2                     11.225408  10.078157  0.233333  50.783333\n",
       "3                      1.389030   2.201174  0.116667  41.550000"
      ]
     },
     "execution_count": 770,
     "metadata": {},
     "output_type": "execute_result"
    }
   ],
   "source": [
    "result_df.groupby('AgglomerativeCluster')['전체배차시간'].agg(['mean', 'std', 'min', 'max'])\n"
   ]
  },
  {
   "cell_type": "code",
   "execution_count": 771,
   "metadata": {},
   "outputs": [
    {
     "data": {
      "text/html": [
       "<div>\n",
       "<style scoped>\n",
       "    .dataframe tbody tr th:only-of-type {\n",
       "        vertical-align: middle;\n",
       "    }\n",
       "\n",
       "    .dataframe tbody tr th {\n",
       "        vertical-align: top;\n",
       "    }\n",
       "\n",
       "    .dataframe thead th {\n",
       "        text-align: right;\n",
       "    }\n",
       "</style>\n",
       "<table border=\"1\" class=\"dataframe\">\n",
       "  <thead>\n",
       "    <tr style=\"text-align: right;\">\n",
       "      <th></th>\n",
       "      <th>mean</th>\n",
       "      <th>std</th>\n",
       "      <th>min</th>\n",
       "      <th>max</th>\n",
       "    </tr>\n",
       "    <tr>\n",
       "      <th>KMeansCluster</th>\n",
       "      <th></th>\n",
       "      <th></th>\n",
       "      <th></th>\n",
       "      <th></th>\n",
       "    </tr>\n",
       "  </thead>\n",
       "  <tbody>\n",
       "    <tr>\n",
       "      <th>0</th>\n",
       "      <td>0.345793</td>\n",
       "      <td>0.065975</td>\n",
       "      <td>0.255923</td>\n",
       "      <td>0.493150</td>\n",
       "    </tr>\n",
       "    <tr>\n",
       "      <th>1</th>\n",
       "      <td>0.050201</td>\n",
       "      <td>0.026403</td>\n",
       "      <td>0.004472</td>\n",
       "      <td>0.108093</td>\n",
       "    </tr>\n",
       "    <tr>\n",
       "      <th>2</th>\n",
       "      <td>0.166400</td>\n",
       "      <td>0.041218</td>\n",
       "      <td>0.108124</td>\n",
       "      <td>0.255901</td>\n",
       "    </tr>\n",
       "    <tr>\n",
       "      <th>3</th>\n",
       "      <td>0.641348</td>\n",
       "      <td>0.114349</td>\n",
       "      <td>0.494473</td>\n",
       "      <td>0.941777</td>\n",
       "    </tr>\n",
       "  </tbody>\n",
       "</table>\n",
       "</div>"
      ],
      "text/plain": [
       "                   mean       std       min       max\n",
       "KMeansCluster                                        \n",
       "0              0.345793  0.065975  0.255923  0.493150\n",
       "1              0.050201  0.026403  0.004472  0.108093\n",
       "2              0.166400  0.041218  0.108124  0.255901\n",
       "3              0.641348  0.114349  0.494473  0.941777"
      ]
     },
     "execution_count": 771,
     "metadata": {},
     "output_type": "execute_result"
    }
   ],
   "source": [
    "result_df.groupby('KMeansCluster')['y_pred'].agg(['mean', 'std', 'min', 'max'])\n"
   ]
  },
  {
   "cell_type": "code",
   "execution_count": 772,
   "metadata": {},
   "outputs": [
    {
     "data": {
      "text/html": [
       "<div>\n",
       "<style scoped>\n",
       "    .dataframe tbody tr th:only-of-type {\n",
       "        vertical-align: middle;\n",
       "    }\n",
       "\n",
       "    .dataframe tbody tr th {\n",
       "        vertical-align: top;\n",
       "    }\n",
       "\n",
       "    .dataframe thead th {\n",
       "        text-align: right;\n",
       "    }\n",
       "</style>\n",
       "<table border=\"1\" class=\"dataframe\">\n",
       "  <thead>\n",
       "    <tr style=\"text-align: right;\">\n",
       "      <th></th>\n",
       "      <th>mean</th>\n",
       "      <th>std</th>\n",
       "      <th>min</th>\n",
       "      <th>max</th>\n",
       "    </tr>\n",
       "    <tr>\n",
       "      <th>AgglomerativeCluster</th>\n",
       "      <th></th>\n",
       "      <th></th>\n",
       "      <th></th>\n",
       "      <th></th>\n",
       "    </tr>\n",
       "  </thead>\n",
       "  <tbody>\n",
       "    <tr>\n",
       "      <th>0</th>\n",
       "      <td>0.320723</td>\n",
       "      <td>0.076193</td>\n",
       "      <td>0.218874</td>\n",
       "      <td>0.500350</td>\n",
       "    </tr>\n",
       "    <tr>\n",
       "      <th>1</th>\n",
       "      <td>0.125670</td>\n",
       "      <td>0.040656</td>\n",
       "      <td>0.071534</td>\n",
       "      <td>0.218579</td>\n",
       "    </tr>\n",
       "    <tr>\n",
       "      <th>2</th>\n",
       "      <td>0.647068</td>\n",
       "      <td>0.112847</td>\n",
       "      <td>0.501853</td>\n",
       "      <td>0.941777</td>\n",
       "    </tr>\n",
       "    <tr>\n",
       "      <th>3</th>\n",
       "      <td>0.038225</td>\n",
       "      <td>0.016753</td>\n",
       "      <td>0.004472</td>\n",
       "      <td>0.071463</td>\n",
       "    </tr>\n",
       "  </tbody>\n",
       "</table>\n",
       "</div>"
      ],
      "text/plain": [
       "                          mean       std       min       max\n",
       "AgglomerativeCluster                                        \n",
       "0                     0.320723  0.076193  0.218874  0.500350\n",
       "1                     0.125670  0.040656  0.071534  0.218579\n",
       "2                     0.647068  0.112847  0.501853  0.941777\n",
       "3                     0.038225  0.016753  0.004472  0.071463"
      ]
     },
     "execution_count": 772,
     "metadata": {},
     "output_type": "execute_result"
    }
   ],
   "source": [
    "result_df.groupby('AgglomerativeCluster')['y_pred'].agg(['mean', 'std', 'min', 'max'])\n"
   ]
  },
  {
   "attachments": {},
   "cell_type": "markdown",
   "metadata": {},
   "source": [
    "## 7. 최근 3일 서초구 배차건 대입"
   ]
  },
  {
   "cell_type": "code",
   "execution_count": 773,
   "metadata": {},
   "outputs": [
    {
     "name": "stdout",
     "output_type": "stream",
     "text": [
      "            dlvry_id business_day  reg_hour service_type   shop_no  ord_price  \\\n",
      "0  20230916_1540YBKT   2023-09-16        22          배민1  14150430      17500   \n",
      "1  20230916_8028XRNQ   2023-09-16        16          배민1  14071109      14500   \n",
      "\n",
      "   notiOver  actual_dlvry_distance  shop_loc_pnt_lat  shop_loc_pnt_lon  ...  \\\n",
      "0         0                    566         37.481687        126.992855  ...   \n",
      "1         0                   3121         37.487130        126.983189  ...   \n",
      "\n",
      "         dlvry_address  dlvry_지상층수  dlvry_지하층수  dlvry_건물용도  day_of_week  \\\n",
      "0  서울특별시 서초구 방배동 934-7         5.0         0.0        공동주택          Sat   \n",
      "1   서울특별시 서초구 반포동 18-3         5.0         3.0        기타시설          Sat   \n",
      "\n",
      "   is_holiday          일시    기온  강수량  시간  \n",
      "0        True  2023-09-16  24.1  0.1  21  \n",
      "1        True  2023-09-16  26.5  0.0  15  \n",
      "\n",
      "[2 rows x 39 columns]\n"
     ]
    }
   ],
   "source": [
    "new_data = pd.read_csv(\"prj-ML-model-LT_OV30/new_data_final.csv\", encoding=\"utf-8\")\n",
    "print(new_data.head(2))\n",
    "new_data = new_data.sort_values(by=[\"dlvry_id\"])"
   ]
  },
  {
   "cell_type": "code",
   "execution_count": 774,
   "metadata": {},
   "outputs": [
    {
     "name": "stdout",
     "output_type": "stream",
     "text": [
      "dlvry_id                    0\n",
      "business_day                0\n",
      "reg_hour                    0\n",
      "service_type                0\n",
      "shop_no                     0\n",
      "ord_price                   0\n",
      "notiOver                    0\n",
      "actual_dlvry_distance       0\n",
      "shop_loc_pnt_lat            0\n",
      "shop_loc_pnt_lon            0\n",
      "dlvry_loc_pnt_lat           0\n",
      "dlvry_loc_pnt_lon           0\n",
      "추천노출시간_AI                   0\n",
      "추천노출시간_일반                   0\n",
      "추천미발생시간유                    0\n",
      "추천미발생시간무                    0\n",
      "배차후취소시간                     0\n",
      "전체배차시간                      0\n",
      "notiOver_min_max            0\n",
      "per_display                 0\n",
      "per_no_recomm               0\n",
      "pick_floor                  0\n",
      "pick_rgn2_nm                0\n",
      "pick_rgn3_nm                0\n",
      "pick_category               0\n",
      "pick_건물용도                   0\n",
      "pick_address                0\n",
      "Latitude                    0\n",
      "Longitude                   0\n",
      "dlvry_address               0\n",
      "dlvry_지상층수               2310\n",
      "dlvry_지하층수               2310\n",
      "dlvry_건물용도                  0\n",
      "day_of_week                 0\n",
      "is_holiday                  0\n",
      "일시                          0\n",
      "기온                          0\n",
      "강수량                         0\n",
      "시간                          0\n",
      "dtype: int64\n",
      "(18213, 39)\n"
     ]
    }
   ],
   "source": [
    "print(new_data.isna().sum())\n",
    "print(new_data.shape) #18213"
   ]
  },
  {
   "cell_type": "code",
   "execution_count": 775,
   "metadata": {},
   "outputs": [
    {
     "name": "stdout",
     "output_type": "stream",
     "text": [
      "Index(['dlvry_id', 'business_day', 'reg_hour', 'service_type', 'shop_no',\n",
      "       'ord_price', 'notiOver', 'actual_dlvry_distance', 'shop_loc_pnt_lat',\n",
      "       'shop_loc_pnt_lon', 'dlvry_loc_pnt_lat', 'dlvry_loc_pnt_lon',\n",
      "       '추천노출시간_AI', '추천노출시간_일반', '추천미발생시간유', '추천미발생시간무', '배차후취소시간', '전체배차시간',\n",
      "       'notiOver_min_max', 'per_display', 'per_no_recomm', 'pick_floor',\n",
      "       'pick_rgn2_nm', 'pick_rgn3_nm', 'pick_category', 'pick_건물용도',\n",
      "       'pick_address', 'Latitude', 'Longitude', 'dlvry_address', 'dlvry_지상층수',\n",
      "       'dlvry_지하층수', 'dlvry_건물용도', 'day_of_week', 'is_holiday', '일시', '기온',\n",
      "       '강수량', '시간', 'dlvry_rgn1_nm', 'dlvry_rgn2_nm', 'dlvry_rgn3_nm', 'etc'],\n",
      "      dtype='object')\n"
     ]
    }
   ],
   "source": [
    "new_data[['dlvry_rgn1_nm', 'dlvry_rgn2_nm', 'dlvry_rgn3_nm', 'etc']] = new_data['dlvry_address'].str.split(' ', n=3, expand=True)\n",
    "\n",
    "# dlvry_지하층수 음수로\n",
    "new_data['dlvry_지하층수']  = new_data['dlvry_지하층수'].apply(lambda x: -x)\n",
    "print(new_data.columns)"
   ]
  },
  {
   "attachments": {},
   "cell_type": "markdown",
   "metadata": {},
   "source": [
    "## 7-1. pick_건물용도/dlvry_건물용도 : 개수 축소 "
   ]
  },
  {
   "cell_type": "code",
   "execution_count": 776,
   "metadata": {},
   "outputs": [
    {
     "name": "stdout",
     "output_type": "stream",
     "text": [
      "pick_건물용도\n",
      "업무시설          5783\n",
      "근린생활시설        3277\n",
      "일반음식점         2149\n",
      "아파트           2138\n",
      "일반상점          1676\n",
      "공동주택          1241\n",
      "교육시설           668\n",
      "의료시설           497\n",
      "백화점            183\n",
      "자동차관련시설        160\n",
      "오피스텔           107\n",
      "숙박시설            75\n",
      "기타시설            70\n",
      "위락시설            56\n",
      "대형판매점           49\n",
      "문화시설            47\n",
      "체육시설            19\n",
      "종교시설            12\n",
      "위험물저장및처리시설       5\n",
      "운수시설             1\n",
      "Name: count, dtype: int64\n"
     ]
    }
   ],
   "source": [
    "print(new_data['pick_건물용도'].value_counts())"
   ]
  },
  {
   "cell_type": "code",
   "execution_count": 777,
   "metadata": {},
   "outputs": [
    {
     "name": "stdout",
     "output_type": "stream",
     "text": [
      "pick_건물용도\n",
      "업무시설      5783\n",
      "근린생활시설    3277\n",
      "일반음식점     2149\n",
      "아파트       2138\n",
      "일반상점      1676\n",
      "공동주택      1241\n",
      "교육시설       668\n",
      "의료시설       497\n",
      "기타시설       370\n",
      "백화점        183\n",
      "오피스텔       107\n",
      "숙박시설        75\n",
      "대형판매점       49\n",
      "Name: count, dtype: int64\n"
     ]
    }
   ],
   "source": [
    "# 데이터 정리\n",
    "values_to_replace = ['위락시설', '문화시설', '종교시설', '체육시설','위험물저장및처리시설', '자동차관련시설','운수시설']\n",
    "new_data['pick_건물용도'] = new_data['pick_건물용도'].replace(values_to_replace, '기타시설')\n",
    "print(new_data['pick_건물용도'].value_counts())"
   ]
  },
  {
   "cell_type": "code",
   "execution_count": 778,
   "metadata": {},
   "outputs": [
    {
     "name": "stdout",
     "output_type": "stream",
     "text": [
      "dlvry_건물용도\n",
      "공동주택          7474\n",
      "아파트           6006\n",
      "업무시설          2323\n",
      "근린생활시설         574\n",
      "일반상점           504\n",
      "교육시설           375\n",
      "의료시설           232\n",
      "일반음식점          217\n",
      "숙박시설           211\n",
      "공공시설            60\n",
      "교육연구시설          53\n",
      "종교시설            52\n",
      "오피스텔            35\n",
      "자동차관련시설         20\n",
      "기타시설            14\n",
      "방송통신시설          13\n",
      "백화점             10\n",
      "체육시설             9\n",
      "위락시설             7\n",
      "복지시설             6\n",
      "위험물저장및처리시설       6\n",
      "수련시설             3\n",
      "운수시설             2\n",
      "묘지시설             2\n",
      "동식물시설            2\n",
      "단독주택             1\n",
      "복합몰              1\n",
      "문화시설             1\n",
      "Name: count, dtype: int64\n"
     ]
    }
   ],
   "source": [
    "print(new_data['dlvry_건물용도'].value_counts())"
   ]
  },
  {
   "cell_type": "code",
   "execution_count": 779,
   "metadata": {},
   "outputs": [
    {
     "name": "stdout",
     "output_type": "stream",
     "text": [
      "dlvry_건물용도\n",
      "공동주택      7474\n",
      "아파트       6006\n",
      "업무시설      2323\n",
      "근린생활시설     574\n",
      "일반상점       504\n",
      "교육시설       375\n",
      "기타시설       297\n",
      "의료시설       232\n",
      "일반음식점      217\n",
      "숙박시설       211\n",
      "Name: count, dtype: int64\n"
     ]
    }
   ],
   "source": [
    "new_counts = new_data['dlvry_건물용도'].value_counts()\n",
    "\n",
    "threshold = 100\n",
    "new_data['dlvry_건물용도'] = new_data['dlvry_건물용도'].apply(lambda x: '기타시설' if new_counts[x] <= threshold else x)\n",
    "\n",
    "new_data['dlvry_건물용도'] = new_data['dlvry_건물용도'].replace('교육연구시설', '교육시설')\n",
    "new_data['dlvry_건물용도'] = new_data['dlvry_건물용도'].replace('공공용시설', '공공시설')\n",
    "\n",
    "print(new_data['dlvry_건물용도'].value_counts())"
   ]
  },
  {
   "attachments": {},
   "cell_type": "markdown",
   "metadata": {},
   "source": [
    "## 7-3. dlvry_지상층수/지하층수 : dlvry_건물용도별 median 값 가져오기"
   ]
  },
  {
   "cell_type": "code",
   "execution_count": 780,
   "metadata": {},
   "outputs": [
    {
     "name": "stdout",
     "output_type": "stream",
     "text": [
      "dlvry_id                 0\n",
      "business_day             0\n",
      "reg_hour                 0\n",
      "service_type             0\n",
      "shop_no                  0\n",
      "ord_price                0\n",
      "notiOver                 0\n",
      "actual_dlvry_distance    0\n",
      "shop_loc_pnt_lat         0\n",
      "shop_loc_pnt_lon         0\n",
      "dlvry_loc_pnt_lat        0\n",
      "dlvry_loc_pnt_lon        0\n",
      "추천노출시간_AI                0\n",
      "추천노출시간_일반                0\n",
      "추천미발생시간유                 0\n",
      "추천미발생시간무                 0\n",
      "배차후취소시간                  0\n",
      "전체배차시간                   0\n",
      "notiOver_min_max         0\n",
      "per_display              0\n",
      "per_no_recomm            0\n",
      "pick_floor               0\n",
      "pick_rgn2_nm             0\n",
      "pick_rgn3_nm             0\n",
      "pick_category            0\n",
      "pick_건물용도                0\n",
      "pick_address             0\n",
      "Latitude                 0\n",
      "Longitude                0\n",
      "dlvry_address            0\n",
      "dlvry_지상층수               0\n",
      "dlvry_지하층수               0\n",
      "dlvry_건물용도               0\n",
      "day_of_week              0\n",
      "is_holiday               0\n",
      "일시                       0\n",
      "기온                       0\n",
      "강수량                      0\n",
      "시간                       0\n",
      "dlvry_rgn1_nm            0\n",
      "dlvry_rgn2_nm            0\n",
      "dlvry_rgn3_nm            0\n",
      "etc                      0\n",
      "dtype: int64\n"
     ]
    }
   ],
   "source": [
    "median_values =new_data.dropna().groupby('dlvry_건물용도')[['dlvry_지상층수', 'dlvry_지하층수']].median()\n",
    "mean_values = new_data.dropna().groupby('dlvry_건물용도')[['dlvry_지상층수', 'dlvry_지하층수']].mean()\n",
    "\n",
    "#print(median_values)\n",
    "#print(mean_values)\n",
    "\n",
    "# na 값을 중앙값으로 채우기\n",
    "new_data['dlvry_지상층수'].fillna(new_data['dlvry_건물용도'].map(median_values['dlvry_지상층수']), inplace=True)\n",
    "new_data['dlvry_지하층수'].fillna(new_data['dlvry_건물용도'].map(median_values['dlvry_지하층수']), inplace=True)\n",
    "\n",
    "#print(new_data.describe())\n",
    "print(new_data.isna().sum())"
   ]
  },
  {
   "cell_type": "code",
   "execution_count": 781,
   "metadata": {},
   "outputs": [
    {
     "name": "stdout",
     "output_type": "stream",
     "text": [
      "dlvry_지상층수\n",
      "저층      9328\n",
      "중상층     3428\n",
      "고층      2422\n",
      "중층      2410\n",
      "준초고층     573\n",
      "초고층       52\n",
      "Name: count, dtype: int64\n",
      "pick_floor\n",
      "저층    15333\n",
      "지하     2840\n",
      "중층       40\n",
      "Name: count, dtype: int64\n"
     ]
    }
   ],
   "source": [
    "new_data['pick_floor'] = new_data['pick_floor'].apply(categorize_floor)\n",
    "new_data['dlvry_지상층수'] = new_data['dlvry_지상층수'].apply(categorize_floor)\n",
    "\n",
    "print(new_data['dlvry_지상층수'].value_counts())\n",
    "print(new_data['pick_floor'].value_counts())"
   ]
  },
  {
   "attachments": {},
   "cell_type": "markdown",
   "metadata": {},
   "source": [
    "## 7-4. new_data 전처리"
   ]
  },
  {
   "cell_type": "code",
   "execution_count": 782,
   "metadata": {},
   "outputs": [
    {
     "name": "stdout",
     "output_type": "stream",
     "text": [
      "(18213, 43)\n",
      "<class 'pandas.core.frame.DataFrame'>\n",
      "Index: 18213 entries, 11707 to 15878\n",
      "Data columns (total 43 columns):\n",
      " #   Column                 Non-Null Count  Dtype  \n",
      "---  ------                 --------------  -----  \n",
      " 0   dlvry_id               18213 non-null  object \n",
      " 1   business_day           18213 non-null  object \n",
      " 2   reg_hour               18213 non-null  int64  \n",
      " 3   service_type           18213 non-null  object \n",
      " 4   shop_no                18213 non-null  int64  \n",
      " 5   ord_price              18213 non-null  int64  \n",
      " 6   notiOver               18213 non-null  int64  \n",
      " 7   actual_dlvry_distance  18213 non-null  int64  \n",
      " 8   shop_loc_pnt_lat       18213 non-null  float64\n",
      " 9   shop_loc_pnt_lon       18213 non-null  float64\n",
      " 10  dlvry_loc_pnt_lat      18213 non-null  float64\n",
      " 11  dlvry_loc_pnt_lon      18213 non-null  float64\n",
      " 12  추천노출시간_AI              18213 non-null  float64\n",
      " 13  추천노출시간_일반              18213 non-null  float64\n",
      " 14  추천미발생시간유               18213 non-null  float64\n",
      " 15  추천미발생시간무               18213 non-null  float64\n",
      " 16  배차후취소시간                18213 non-null  float64\n",
      " 17  전체배차시간                 18213 non-null  float64\n",
      " 18  notiOver_min_max       18213 non-null  float64\n",
      " 19  per_display            18213 non-null  float64\n",
      " 20  per_no_recomm          18213 non-null  float64\n",
      " 21  pick_floor             18213 non-null  object \n",
      " 22  pick_rgn2_nm           18213 non-null  object \n",
      " 23  pick_rgn3_nm           18213 non-null  object \n",
      " 24  pick_category          18213 non-null  object \n",
      " 25  pick_건물용도              18213 non-null  object \n",
      " 26  pick_address           18213 non-null  object \n",
      " 27  Latitude               18213 non-null  float64\n",
      " 28  Longitude              18213 non-null  float64\n",
      " 29  dlvry_address          18213 non-null  object \n",
      " 30  dlvry_지상층수             18213 non-null  object \n",
      " 31  dlvry_지하층수             18213 non-null  float64\n",
      " 32  dlvry_건물용도             18213 non-null  object \n",
      " 33  day_of_week            18213 non-null  object \n",
      " 34  is_holiday             18213 non-null  bool   \n",
      " 35  일시                     18213 non-null  object \n",
      " 36  기온                     18213 non-null  float64\n",
      " 37  강수량                    18213 non-null  float64\n",
      " 38  시간                     18213 non-null  int64  \n",
      " 39  dlvry_rgn1_nm          18213 non-null  object \n",
      " 40  dlvry_rgn2_nm          18213 non-null  object \n",
      " 41  dlvry_rgn3_nm          18213 non-null  object \n",
      " 42  etc                    18213 non-null  object \n",
      "dtypes: bool(1), float64(18), int64(6), object(18)\n",
      "memory usage: 6.0+ MB\n",
      "None\n"
     ]
    }
   ],
   "source": [
    "print(new_data.shape) #18,213\n",
    "print(new_data.info()) "
   ]
  },
  {
   "cell_type": "code",
   "execution_count": 783,
   "metadata": {},
   "outputs": [
    {
     "data": {
      "text/plain": [
       "reg_hour                 0\n",
       "ord_price                0\n",
       "actual_dlvry_distance    0\n",
       "pick_floor               0\n",
       "pick_category            0\n",
       "pick_건물용도                0\n",
       "dlvry_지상층수               0\n",
       "dlvry_지하층수               0\n",
       "dlvry_건물용도               0\n",
       "day_of_week              0\n",
       "is_holiday               0\n",
       "기온                       0\n",
       "dlvry_rgn2_nm            0\n",
       "dtype: int64"
      ]
     },
     "execution_count": 783,
     "metadata": {},
     "output_type": "execute_result"
    }
   ],
   "source": [
    "new_model_df = new_data[['reg_hour', 'ord_price','actual_dlvry_distance', 'pick_floor', \n",
    "                         'pick_category', 'pick_건물용도','dlvry_지상층수', 'dlvry_지하층수',\n",
    "                         'dlvry_건물용도','day_of_week', 'is_holiday', '기온', 'dlvry_rgn2_nm'\n",
    "                        ]]\n",
    "new_model_df.isna().sum()\n"
   ]
  },
  {
   "attachments": {},
   "cell_type": "markdown",
   "metadata": {},
   "source": [
    "## 7-5. factor 변수 encoding"
   ]
  },
  {
   "cell_type": "code",
   "execution_count": 784,
   "metadata": {},
   "outputs": [
    {
     "name": "stdout",
     "output_type": "stream",
     "text": [
      "reg_hour                 category\n",
      "ord_price                   int64\n",
      "actual_dlvry_distance       int64\n",
      "pick_floor               category\n",
      "pick_category            category\n",
      "pick_건물용도                category\n",
      "dlvry_지상층수               category\n",
      "dlvry_지하층수                float64\n",
      "dlvry_건물용도               category\n",
      "day_of_week              category\n",
      "is_holiday               category\n",
      "기온                        float64\n",
      "dlvry_rgn2_nm            category\n",
      "dtype: object\n"
     ]
    }
   ],
   "source": [
    "for col in ['reg_hour','pick_floor',  'pick_category', 'pick_건물용도','dlvry_지상층수','dlvry_건물용도',\n",
    "            'day_of_week', 'is_holiday','dlvry_rgn2_nm'] : \n",
    "    new_model_df[col] = new_model_df[col].astype('category')\n",
    "\n",
    "print(new_model_df.dtypes)"
   ]
  },
  {
   "cell_type": "code",
   "execution_count": 785,
   "metadata": {},
   "outputs": [
    {
     "name": "stdout",
     "output_type": "stream",
     "text": [
      "Index(['reg_hour_9', 'reg_hour_10', 'reg_hour_11', 'reg_hour_12',\n",
      "       'reg_hour_13', 'reg_hour_14', 'reg_hour_15', 'reg_hour_16',\n",
      "       'reg_hour_17', 'reg_hour_18', 'reg_hour_19', 'reg_hour_20',\n",
      "       'reg_hour_21', 'reg_hour_22', 'reg_hour_23', 'pick_floor_저층',\n",
      "       'pick_floor_중층', 'pick_floor_지하', 'pick_category_ASIAN',\n",
      "       'pick_category_BAEKBAN', 'pick_category_BURGER', 'pick_category_CAFE',\n",
      "       'pick_category_CHICKEN', 'pick_category_CHINESE',\n",
      "       'pick_category_JAPANESE', 'pick_category_JOKBAL', 'pick_category_MEAT',\n",
      "       'pick_category_PIZZA', 'pick_category_SNACK', 'pick_category_WESTERN',\n",
      "       'pick_category_ZZIM_TANG', 'pick_건물용도_공동주택', 'pick_건물용도_교육시설',\n",
      "       'pick_건물용도_근린생활시설', 'pick_건물용도_기타시설', 'pick_건물용도_대형판매점',\n",
      "       'pick_건물용도_백화점', 'pick_건물용도_숙박시설', 'pick_건물용도_아파트', 'pick_건물용도_업무시설',\n",
      "       'pick_건물용도_오피스텔', 'pick_건물용도_의료시설', 'pick_건물용도_일반상점', 'pick_건물용도_일반음식점',\n",
      "       'dlvry_지상층수_고층', 'dlvry_지상층수_저층', 'dlvry_지상층수_준초고층', 'dlvry_지상층수_중상층',\n",
      "       'dlvry_지상층수_중층', 'dlvry_지상층수_초고층', 'dlvry_건물용도_공동주택', 'dlvry_건물용도_교육시설',\n",
      "       'dlvry_건물용도_근린생활시설', 'dlvry_건물용도_기타시설', 'dlvry_건물용도_숙박시설',\n",
      "       'dlvry_건물용도_아파트', 'dlvry_건물용도_업무시설', 'dlvry_건물용도_의료시설',\n",
      "       'dlvry_건물용도_일반상점', 'dlvry_건물용도_일반음식점', 'day_of_week_Fri',\n",
      "       'day_of_week_Sat', 'day_of_week_Sun', 'is_holiday_1.0',\n",
      "       'dlvry_rgn2_nm_강남구', 'dlvry_rgn2_nm_과천시', 'dlvry_rgn2_nm_관악구',\n",
      "       'dlvry_rgn2_nm_동작구', 'dlvry_rgn2_nm_서초구', 'ord_price',\n",
      "       'actual_dlvry_distance', 'dlvry_지하층수', '기온'],\n",
      "      dtype='object')\n"
     ]
    }
   ],
   "source": [
    "var = ['reg_hour','pick_floor',  'pick_category', 'pick_건물용도','dlvry_지상층수','dlvry_건물용도',\n",
    "            'day_of_week', 'is_holiday','dlvry_rgn2_nm' ] \n",
    "\n",
    "encoder = OneHotEncoder()\n",
    "onehot = pd.DataFrame(encoder.fit_transform(new_model_df[var]).toarray(), columns=encoder.get_feature_names_out(var), index = new_model_df.index)\n",
    "new_model_df = pd.concat([onehot, new_model_df.drop(columns=var)], axis=1)\n",
    "\n",
    "print(new_model_df.columns)"
   ]
  },
  {
   "cell_type": "code",
   "execution_count": 786,
   "metadata": {},
   "outputs": [
    {
     "name": "stdout",
     "output_type": "stream",
     "text": [
      "       reg_hour_9  reg_hour_10  reg_hour_11  reg_hour_12  reg_hour_13  \\\n",
      "11707         0.0          0.0          0.0          1.0          0.0   \n",
      "11693         0.0          0.0          0.0          0.0          0.0   \n",
      "\n",
      "       reg_hour_14  reg_hour_15  reg_hour_16  reg_hour_17  reg_hour_18  ...  \\\n",
      "11707          0.0          0.0          0.0          0.0          0.0  ...   \n",
      "11693          0.0          0.0          0.0          0.0          0.0  ...   \n",
      "\n",
      "       is_holiday_1.0  dlvry_rgn2_nm_강남구  dlvry_rgn2_nm_과천시  \\\n",
      "11707             1.0                0.0                0.0   \n",
      "11693             1.0                0.0                0.0   \n",
      "\n",
      "       dlvry_rgn2_nm_관악구  dlvry_rgn2_nm_동작구  dlvry_rgn2_nm_서초구  ord_price  \\\n",
      "11707                0.0                0.0                1.0   0.046025   \n",
      "11693                0.0                0.0                1.0   0.048117   \n",
      "\n",
      "       actual_dlvry_distance  dlvry_지하층수        기온  \n",
      "11707               0.017877       0.875  0.078740  \n",
      "11693               0.499187       0.875  0.204724  \n",
      "\n",
      "[2 rows x 73 columns]\n"
     ]
    }
   ],
   "source": [
    "# numeric scale\n",
    "new_model_df[num_vars] = scaler.transform(new_model_df[num_vars])\n",
    "print(new_model_df.head(2))"
   ]
  },
  {
   "cell_type": "code",
   "execution_count": 787,
   "metadata": {},
   "outputs": [
    {
     "name": "stdout",
     "output_type": "stream",
     "text": [
      "['dlvry_건물용도_공공시설', 'dlvry_건물용도_오피스텔', 'dlvry_건물용도_종교시설', 'day_of_week_Mon', 'day_of_week_Thu', 'day_of_week_Tue', 'day_of_week_Wed', 'is_holiday_0.0', 'dlvry_rgn2_nm_용산구']\n",
      "       reg_hour_9  reg_hour_10  reg_hour_11  reg_hour_12  reg_hour_13  \\\n",
      "11707         0.0          0.0          0.0          1.0          0.0   \n",
      "11693         0.0          0.0          0.0          0.0          0.0   \n",
      "10079         0.0          0.0          0.0          0.0          0.0   \n",
      "8645          0.0          0.0          1.0          0.0          0.0   \n",
      "8306          0.0          0.0          0.0          0.0          0.0   \n",
      "\n",
      "       reg_hour_14  reg_hour_15  reg_hour_16  reg_hour_17  reg_hour_18  ...  \\\n",
      "11707          0.0          0.0          0.0          0.0          0.0  ...   \n",
      "11693          0.0          0.0          0.0          0.0          0.0  ...   \n",
      "10079          0.0          0.0          0.0          0.0          1.0  ...   \n",
      "8645           0.0          0.0          0.0          0.0          0.0  ...   \n",
      "8306           0.0          0.0          0.0          0.0          1.0  ...   \n",
      "\n",
      "       dlvry_rgn2_nm_강남구  dlvry_rgn2_nm_과천시  dlvry_rgn2_nm_관악구  \\\n",
      "11707                0.0                0.0                0.0   \n",
      "11693                0.0                0.0                0.0   \n",
      "10079                0.0                0.0                0.0   \n",
      "8645                 0.0                0.0                0.0   \n",
      "8306                 0.0                0.0                0.0   \n",
      "\n",
      "       dlvry_rgn2_nm_동작구  dlvry_rgn2_nm_서초구  dlvry_rgn2_nm_용산구  ord_price  \\\n",
      "11707                0.0                1.0                  0   0.046025   \n",
      "11693                0.0                1.0                  0   0.048117   \n",
      "10079                0.0                1.0                  0   0.030335   \n",
      "8645                 0.0                1.0                  0   0.052301   \n",
      "8306                 0.0                1.0                  0   0.130753   \n",
      "\n",
      "       actual_dlvry_distance  dlvry_지하층수        기온  \n",
      "11707               0.017877       0.875  0.078740  \n",
      "11693               0.499187       0.875  0.204724  \n",
      "10079               0.236405       0.875  0.251969  \n",
      "8645                0.235404       1.000  0.031496  \n",
      "8306                0.163145       1.000  0.251969  \n",
      "\n",
      "[5 rows x 82 columns]\n"
     ]
    }
   ],
   "source": [
    "# 존재하지 않는 category 변수 추가 \n",
    "new_variables = [col for col in X_train.columns if col not in new_model_df.columns]\n",
    "encode_data = pd.DataFrame(0, columns=new_variables, index= new_model_df.index)\n",
    "print(new_variables)\n",
    "\n",
    "new_model_df = pd.concat([new_model_df, encode_data], axis=1)\n",
    "new_model_df = new_model_df.reindex(columns=X_test.columns)\n",
    "print(new_model_df.head())"
   ]
  },
  {
   "attachments": {},
   "cell_type": "markdown",
   "metadata": {},
   "source": [
    "## 7-6. modeling 적용"
   ]
  },
  {
   "cell_type": "code",
   "execution_count": 788,
   "metadata": {},
   "outputs": [
    {
     "name": "stdout",
     "output_type": "stream",
     "text": [
      "(18213,)\n"
     ]
    }
   ],
   "source": [
    "y_pred_new = glm1_fit.predict(new_model_df)\n",
    "print(y_pred_new.shape) #18,213 "
   ]
  },
  {
   "cell_type": "code",
   "execution_count": 789,
   "metadata": {},
   "outputs": [
    {
     "name": "stdout",
     "output_type": "stream",
     "text": [
      "mean    0.144797\n",
      "std     0.150343\n",
      "min     0.008663\n",
      "max     0.975109\n",
      "dtype: float64\n",
      "mean    0.131435\n",
      "std     0.146284\n",
      "min     0.004472\n",
      "max     0.941777\n",
      "dtype: float64\n"
     ]
    }
   ],
   "source": [
    "print(y_pred_new.agg(['mean', 'std', 'min', 'max']))\n",
    "print(y_pred.agg(['mean', 'std', 'min', 'max']))"
   ]
  },
  {
   "cell_type": "code",
   "execution_count": 790,
   "metadata": {},
   "outputs": [
    {
     "name": "stdout",
     "output_type": "stream",
     "text": [
      "                dlvry_id    전체배차시간  y_pred_new  KMeansCluster  \\\n",
      "11707  20230915_0000JACM  0.433333    0.016293              1   \n",
      "11693  20230915_0003QVZS  1.250000    0.436753              0   \n",
      "\n",
      "       AgglomerativeCluster  \n",
      "11707                     0  \n",
      "11693                     1  \n"
     ]
    }
   ],
   "source": [
    "new_value = y_pred_new.to_numpy().reshape(-1,1)\n",
    "kmeans_new = kmeans.predict(new_value)\n",
    "agglomerative_new = agglomerative.fit_predict(new_value)\n",
    "\n",
    "\n",
    "result_data = pd.DataFrame({'dlvry_id': new_data[\"dlvry_id\"], '전체배차시간': new_data[\"전체배차시간\"],\n",
    "                             'y_pred_new': y_pred_new.squeeze(),\n",
    "                            'KMeansCluster': kmeans_new, 'AgglomerativeCluster': agglomerative_new\n",
    "                            })\n",
    "\n",
    "print(result_data.head(2))\n",
    "result_data.to_csv('prj-ML-model-LT_OV30/cluster_add_new_data.csv', index= False, encoding = \"utf-8\")"
   ]
  },
  {
   "cell_type": "code",
   "execution_count": 791,
   "metadata": {},
   "outputs": [
    {
     "name": "stdout",
     "output_type": "stream",
     "text": [
      "KMeansCluster\n",
      "1    10448\n",
      "2     4843\n",
      "0     2087\n",
      "3      835\n",
      "Name: count, dtype: int64\n",
      "AgglomerativeCluster\n",
      "0    13253\n",
      "2     3012\n",
      "1     1562\n",
      "3      386\n",
      "Name: count, dtype: int64\n"
     ]
    }
   ],
   "source": [
    "print(result_data['KMeansCluster'].value_counts())\n",
    "print(result_data['AgglomerativeCluster'].value_counts())"
   ]
  },
  {
   "cell_type": "code",
   "execution_count": 792,
   "metadata": {},
   "outputs": [
    {
     "data": {
      "text/html": [
       "<div>\n",
       "<style scoped>\n",
       "    .dataframe tbody tr th:only-of-type {\n",
       "        vertical-align: middle;\n",
       "    }\n",
       "\n",
       "    .dataframe tbody tr th {\n",
       "        vertical-align: top;\n",
       "    }\n",
       "\n",
       "    .dataframe thead th {\n",
       "        text-align: right;\n",
       "    }\n",
       "</style>\n",
       "<table border=\"1\" class=\"dataframe\">\n",
       "  <thead>\n",
       "    <tr style=\"text-align: right;\">\n",
       "      <th></th>\n",
       "      <th>mean</th>\n",
       "      <th>std</th>\n",
       "      <th>min</th>\n",
       "      <th>max</th>\n",
       "    </tr>\n",
       "    <tr>\n",
       "      <th>AgglomerativeCluster</th>\n",
       "      <th></th>\n",
       "      <th></th>\n",
       "      <th></th>\n",
       "      <th></th>\n",
       "    </tr>\n",
       "  </thead>\n",
       "  <tbody>\n",
       "    <tr>\n",
       "      <th>0</th>\n",
       "      <td>0.071732</td>\n",
       "      <td>0.040469</td>\n",
       "      <td>0.008663</td>\n",
       "      <td>0.168818</td>\n",
       "    </tr>\n",
       "    <tr>\n",
       "      <th>1</th>\n",
       "      <td>0.444328</td>\n",
       "      <td>0.082496</td>\n",
       "      <td>0.333036</td>\n",
       "      <td>0.623036</td>\n",
       "    </tr>\n",
       "    <tr>\n",
       "      <th>2</th>\n",
       "      <td>0.235390</td>\n",
       "      <td>0.046447</td>\n",
       "      <td>0.168921</td>\n",
       "      <td>0.332861</td>\n",
       "    </tr>\n",
       "    <tr>\n",
       "      <th>3</th>\n",
       "      <td>0.734436</td>\n",
       "      <td>0.088453</td>\n",
       "      <td>0.624206</td>\n",
       "      <td>0.975109</td>\n",
       "    </tr>\n",
       "  </tbody>\n",
       "</table>\n",
       "</div>"
      ],
      "text/plain": [
       "                          mean       std       min       max\n",
       "AgglomerativeCluster                                        \n",
       "0                     0.071732  0.040469  0.008663  0.168818\n",
       "1                     0.444328  0.082496  0.333036  0.623036\n",
       "2                     0.235390  0.046447  0.168921  0.332861\n",
       "3                     0.734436  0.088453  0.624206  0.975109"
      ]
     },
     "execution_count": 792,
     "metadata": {},
     "output_type": "execute_result"
    }
   ],
   "source": [
    "result_data.groupby('AgglomerativeCluster')['y_pred_new'].agg(['mean', 'std', 'min', 'max'])"
   ]
  },
  {
   "cell_type": "code",
   "execution_count": 793,
   "metadata": {},
   "outputs": [
    {
     "data": {
      "text/html": [
       "<div>\n",
       "<style scoped>\n",
       "    .dataframe tbody tr th:only-of-type {\n",
       "        vertical-align: middle;\n",
       "    }\n",
       "\n",
       "    .dataframe tbody tr th {\n",
       "        vertical-align: top;\n",
       "    }\n",
       "\n",
       "    .dataframe thead th {\n",
       "        text-align: right;\n",
       "    }\n",
       "</style>\n",
       "<table border=\"1\" class=\"dataframe\">\n",
       "  <thead>\n",
       "    <tr style=\"text-align: right;\">\n",
       "      <th></th>\n",
       "      <th>mean</th>\n",
       "      <th>std</th>\n",
       "      <th>min</th>\n",
       "      <th>max</th>\n",
       "    </tr>\n",
       "    <tr>\n",
       "      <th>KMeansCluster</th>\n",
       "      <th></th>\n",
       "      <th></th>\n",
       "      <th></th>\n",
       "      <th></th>\n",
       "    </tr>\n",
       "  </thead>\n",
       "  <tbody>\n",
       "    <tr>\n",
       "      <th>0</th>\n",
       "      <td>0.350052</td>\n",
       "      <td>0.064990</td>\n",
       "      <td>0.256082</td>\n",
       "      <td>0.493488</td>\n",
       "    </tr>\n",
       "    <tr>\n",
       "      <th>1</th>\n",
       "      <td>0.054683</td>\n",
       "      <td>0.024948</td>\n",
       "      <td>0.008663</td>\n",
       "      <td>0.108084</td>\n",
       "    </tr>\n",
       "    <tr>\n",
       "      <th>2</th>\n",
       "      <td>0.165815</td>\n",
       "      <td>0.041502</td>\n",
       "      <td>0.108129</td>\n",
       "      <td>0.255834</td>\n",
       "    </tr>\n",
       "    <tr>\n",
       "      <th>3</th>\n",
       "      <td>0.637443</td>\n",
       "      <td>0.111849</td>\n",
       "      <td>0.493673</td>\n",
       "      <td>0.975109</td>\n",
       "    </tr>\n",
       "  </tbody>\n",
       "</table>\n",
       "</div>"
      ],
      "text/plain": [
       "                   mean       std       min       max\n",
       "KMeansCluster                                        \n",
       "0              0.350052  0.064990  0.256082  0.493488\n",
       "1              0.054683  0.024948  0.008663  0.108084\n",
       "2              0.165815  0.041502  0.108129  0.255834\n",
       "3              0.637443  0.111849  0.493673  0.975109"
      ]
     },
     "execution_count": 793,
     "metadata": {},
     "output_type": "execute_result"
    }
   ],
   "source": [
    "result_data.groupby('KMeansCluster')['y_pred_new'].agg(['mean', 'std', 'min', 'max'])"
   ]
  },
  {
   "cell_type": "code",
   "execution_count": 794,
   "metadata": {},
   "outputs": [
    {
     "data": {
      "text/html": [
       "<div>\n",
       "<style scoped>\n",
       "    .dataframe tbody tr th:only-of-type {\n",
       "        vertical-align: middle;\n",
       "    }\n",
       "\n",
       "    .dataframe tbody tr th {\n",
       "        vertical-align: top;\n",
       "    }\n",
       "\n",
       "    .dataframe thead th {\n",
       "        text-align: right;\n",
       "    }\n",
       "</style>\n",
       "<table border=\"1\" class=\"dataframe\">\n",
       "  <thead>\n",
       "    <tr style=\"text-align: right;\">\n",
       "      <th></th>\n",
       "      <th>mean</th>\n",
       "      <th>std</th>\n",
       "      <th>min</th>\n",
       "      <th>max</th>\n",
       "    </tr>\n",
       "    <tr>\n",
       "      <th>KMeansCluster</th>\n",
       "      <th></th>\n",
       "      <th></th>\n",
       "      <th></th>\n",
       "      <th></th>\n",
       "    </tr>\n",
       "  </thead>\n",
       "  <tbody>\n",
       "    <tr>\n",
       "      <th>0</th>\n",
       "      <td>7.293667</td>\n",
       "      <td>8.914021</td>\n",
       "      <td>0.150000</td>\n",
       "      <td>58.900000</td>\n",
       "    </tr>\n",
       "    <tr>\n",
       "      <th>1</th>\n",
       "      <td>1.481961</td>\n",
       "      <td>2.672332</td>\n",
       "      <td>0.116667</td>\n",
       "      <td>37.116667</td>\n",
       "    </tr>\n",
       "    <tr>\n",
       "      <th>2</th>\n",
       "      <td>3.922225</td>\n",
       "      <td>6.022212</td>\n",
       "      <td>0.133333</td>\n",
       "      <td>57.233333</td>\n",
       "    </tr>\n",
       "    <tr>\n",
       "      <th>3</th>\n",
       "      <td>11.766228</td>\n",
       "      <td>11.263343</td>\n",
       "      <td>0.150000</td>\n",
       "      <td>72.100000</td>\n",
       "    </tr>\n",
       "  </tbody>\n",
       "</table>\n",
       "</div>"
      ],
      "text/plain": [
       "                    mean        std       min        max\n",
       "KMeansCluster                                           \n",
       "0               7.293667   8.914021  0.150000  58.900000\n",
       "1               1.481961   2.672332  0.116667  37.116667\n",
       "2               3.922225   6.022212  0.133333  57.233333\n",
       "3              11.766228  11.263343  0.150000  72.100000"
      ]
     },
     "execution_count": 794,
     "metadata": {},
     "output_type": "execute_result"
    }
   ],
   "source": [
    "result_data.groupby('KMeansCluster')['전체배차시간'].agg(['mean', 'std', 'min', 'max'])"
   ]
  },
  {
   "cell_type": "code",
   "execution_count": 795,
   "metadata": {},
   "outputs": [
    {
     "data": {
      "text/html": [
       "<div>\n",
       "<style scoped>\n",
       "    .dataframe tbody tr th:only-of-type {\n",
       "        vertical-align: middle;\n",
       "    }\n",
       "\n",
       "    .dataframe tbody tr th {\n",
       "        vertical-align: top;\n",
       "    }\n",
       "\n",
       "    .dataframe thead th {\n",
       "        text-align: right;\n",
       "    }\n",
       "</style>\n",
       "<table border=\"1\" class=\"dataframe\">\n",
       "  <thead>\n",
       "    <tr style=\"text-align: right;\">\n",
       "      <th></th>\n",
       "      <th>mean</th>\n",
       "      <th>std</th>\n",
       "      <th>min</th>\n",
       "      <th>max</th>\n",
       "    </tr>\n",
       "    <tr>\n",
       "      <th>AgglomerativeCluster</th>\n",
       "      <th></th>\n",
       "      <th></th>\n",
       "      <th></th>\n",
       "      <th></th>\n",
       "    </tr>\n",
       "  </thead>\n",
       "  <tbody>\n",
       "    <tr>\n",
       "      <th>0</th>\n",
       "      <td>1.846818</td>\n",
       "      <td>3.402913</td>\n",
       "      <td>0.116667</td>\n",
       "      <td>38.750000</td>\n",
       "    </tr>\n",
       "    <tr>\n",
       "      <th>1</th>\n",
       "      <td>8.974563</td>\n",
       "      <td>9.947002</td>\n",
       "      <td>0.150000</td>\n",
       "      <td>58.900000</td>\n",
       "    </tr>\n",
       "    <tr>\n",
       "      <th>2</th>\n",
       "      <td>5.283782</td>\n",
       "      <td>7.290281</td>\n",
       "      <td>0.150000</td>\n",
       "      <td>57.233333</td>\n",
       "    </tr>\n",
       "    <tr>\n",
       "      <th>3</th>\n",
       "      <td>13.255570</td>\n",
       "      <td>11.950381</td>\n",
       "      <td>0.183333</td>\n",
       "      <td>72.100000</td>\n",
       "    </tr>\n",
       "  </tbody>\n",
       "</table>\n",
       "</div>"
      ],
      "text/plain": [
       "                           mean        std       min        max\n",
       "AgglomerativeCluster                                           \n",
       "0                      1.846818   3.402913  0.116667  38.750000\n",
       "1                      8.974563   9.947002  0.150000  58.900000\n",
       "2                      5.283782   7.290281  0.150000  57.233333\n",
       "3                     13.255570  11.950381  0.183333  72.100000"
      ]
     },
     "execution_count": 795,
     "metadata": {},
     "output_type": "execute_result"
    }
   ],
   "source": [
    "result_data.groupby('AgglomerativeCluster')['전체배차시간'].agg(['mean', 'std', 'min', 'max'])"
   ]
  },
  {
   "cell_type": "code",
   "execution_count": 796,
   "metadata": {},
   "outputs": [
    {
     "name": "stdout",
     "output_type": "stream",
     "text": [
      "KMeansCluster\n",
      "0     864\n",
      "1     540\n",
      "2    1017\n",
      "3     501\n",
      "dtype: int64\n"
     ]
    }
   ],
   "source": [
    "# 그룹별 전체배차시간 5.05분 이상인 애들 개수 \n",
    "filtered_df = result_data[result_data['전체배차시간'] > 5.05]\n",
    "grouped_counts = filtered_df.groupby('KMeansCluster').size()\n",
    "\n",
    "print(grouped_counts)"
   ]
  }
 ],
 "metadata": {
  "kernelspec": {
   "display_name": ".venv",
   "language": "python",
   "name": "python3"
  },
  "language_info": {
   "codemirror_mode": {
    "name": "ipython",
    "version": 3
   },
   "file_extension": ".py",
   "mimetype": "text/x-python",
   "name": "python",
   "nbconvert_exporter": "python",
   "pygments_lexer": "ipython3",
   "version": "3.9.6"
  },
  "orig_nbformat": 4
 },
 "nbformat": 4,
 "nbformat_minor": 2
}
