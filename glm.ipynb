{
 "cells": [
  {
   "cell_type": "code",
   "execution_count": 140,
   "metadata": {},
   "outputs": [
    {
     "name": "stdout",
     "output_type": "stream",
     "text": [
      "/Users/yj.noh/Documents/GitHub\n"
     ]
    }
   ],
   "source": [
    "import pandas as pd\n",
    "import numpy as np\n",
    "import os\n",
    "import matplotlib.pyplot as plt\n",
    "import statsmodels.api as sm\n",
    "from datetime import datetime\n",
    "import seaborn as sns\n",
    "from sklearn.preprocessing import OneHotEncoder\n",
    "from sklearn.preprocessing import StandardScaler\n",
    "from sklearn.preprocessing import MinMaxScaler\n",
    "from sklearn.linear_model import LogisticRegression\n",
    "from sklearn.model_selection import train_test_split, cross_val_score\n",
    "from sklearn.metrics import log_loss, roc_auc_score, recall_score, precision_score, average_precision_score, f1_score, classification_report, accuracy_score,confusion_matrix, silhouette_score\n",
    "from statsmodels.stats.outliers_influence import variance_inflation_factor\n",
    "\n",
    "from sklearn.cluster import KMeans, AgglomerativeClustering, DBSCAN\n",
    "from sklearn.datasets import make_blobs\n",
    "\n",
    "\n",
    "import warnings\n",
    "warnings.filterwarnings(\"ignore\")\n",
    "os.chdir(\"/Users/yj.noh/Documents/GitHub\")\n",
    "print(os.getcwd())"
   ]
  },
  {
   "cell_type": "code",
   "execution_count": 141,
   "metadata": {},
   "outputs": [
    {
     "name": "stdout",
     "output_type": "stream",
     "text": [
      "            dlvry_id  reg_hour  ord_price  actual_dlvry_distance  pick_floor  \\\n",
      "0  20230827_9376QTJN        11      22500                   1274         1.0   \n",
      "1  20230827_1765MBEB        17      15700                   2809         1.0   \n",
      "2  20230827_0741UTNW        18      20400                   1961        -1.0   \n",
      "3  20230827_6306VAVZ        19      16900                   1826         1.0   \n",
      "4  20230827_5544DEBH        11      21000                   1184         2.0   \n",
      "\n",
      "  pick_rgn2_nm pick_rgn3_nm pick_category pick_건물용도  dlvry_지상층수  dlvry_지하층수  \\\n",
      "0          서초구          잠원동       CHINESE      업무시설         NaN         NaN   \n",
      "1          서초구          반포동         SNACK     일반음식점        19.0         5.0   \n",
      "2          서초구          서초동     ZZIM_TANG       아파트         4.0         1.0   \n",
      "3          서초구          방배동         ASIAN       아파트         5.0         0.0   \n",
      "4          서초구          서초동          CAFE       NaN         4.0         1.0   \n",
      "\n",
      "  dlvry_건물용도 day_of_week  is_holiday    기온  강수량 dlvry_rgn2_nm dlvry_rgn3_nm  \\\n",
      "0        NaN         Sun        True  26.1  0.0           서초구           잠원동   \n",
      "1       업무시설         Sun        True  29.1  0.0           강남구           역삼동   \n",
      "2       업무시설         Sun        True  28.9  0.0           서초구           서초동   \n",
      "3       공동주택         Sun        True  28.0  0.0           동작구           사당동   \n",
      "4       업무시설         Sun        True  26.1  0.0           강남구           역삼동   \n",
      "\n",
      "   outcome  \n",
      "0        0  \n",
      "1        0  \n",
      "2        0  \n",
      "3        1  \n",
      "4        0  \n",
      "(68027, 19)\n"
     ]
    }
   ],
   "source": [
    "data = pd.read_csv(\"prj-ML-model-LT_OV30/modeling_data.csv\", encoding = \"cp949\")\n",
    "print(data.head())\n",
    "print(data.shape)"
   ]
  },
  {
   "cell_type": "code",
   "execution_count": 142,
   "metadata": {},
   "outputs": [
    {
     "name": "stdout",
     "output_type": "stream",
     "text": [
      "(44644, 19)\n",
      "outcome\n",
      "0    38816\n",
      "1     5828\n",
      "Name: count, dtype: int64\n"
     ]
    }
   ],
   "source": [
    "# 건물 정보 없는 데이터 삭제 \n",
    "filtered_data = data.dropna(subset=['pick_건물용도', 'dlvry_건물용도'])\n",
    "print(filtered_data.shape) #44,644 \n",
    "print(filtered_data['outcome'].value_counts()) # 38,816, 5,828 "
   ]
  },
  {
   "cell_type": "code",
   "execution_count": 143,
   "metadata": {},
   "outputs": [
    {
     "name": "stdout",
     "output_type": "stream",
     "text": [
      "dlvry_id                    0\n",
      "reg_hour                    0\n",
      "ord_price                   0\n",
      "actual_dlvry_distance       0\n",
      "pick_floor                  0\n",
      "pick_rgn2_nm                0\n",
      "pick_rgn3_nm                0\n",
      "pick_category               0\n",
      "pick_건물용도                   0\n",
      "dlvry_지상층수               5726\n",
      "dlvry_지하층수               5726\n",
      "dlvry_건물용도                  0\n",
      "day_of_week                 0\n",
      "is_holiday                  0\n",
      "기온                          0\n",
      "강수량                         0\n",
      "dlvry_rgn2_nm               0\n",
      "dlvry_rgn3_nm               0\n",
      "outcome                     0\n",
      "dtype: int64\n"
     ]
    }
   ],
   "source": [
    "print(filtered_data.isna().sum())"
   ]
  },
  {
   "cell_type": "code",
   "execution_count": 144,
   "metadata": {},
   "outputs": [
    {
     "name": "stdout",
     "output_type": "stream",
     "text": [
      "dlvry_id                  object\n",
      "reg_hour                   int64\n",
      "ord_price                  int64\n",
      "actual_dlvry_distance      int64\n",
      "pick_floor               float64\n",
      "pick_rgn2_nm              object\n",
      "pick_rgn3_nm              object\n",
      "pick_category             object\n",
      "pick_건물용도                 object\n",
      "dlvry_지상층수               float64\n",
      "dlvry_지하층수               float64\n",
      "dlvry_건물용도                object\n",
      "day_of_week               object\n",
      "is_holiday                  bool\n",
      "기온                       float64\n",
      "강수량                      float64\n",
      "dlvry_rgn2_nm             object\n",
      "dlvry_rgn3_nm             object\n",
      "outcome                    int64\n",
      "dtype: object\n"
     ]
    }
   ],
   "source": [
    "print(filtered_data.dtypes)"
   ]
  },
  {
   "cell_type": "code",
   "execution_count": 145,
   "metadata": {},
   "outputs": [
    {
     "name": "stdout",
     "output_type": "stream",
     "text": [
      "dlvry_id                    0\n",
      "reg_hour                    0\n",
      "ord_price                   0\n",
      "actual_dlvry_distance       0\n",
      "pick_floor                  0\n",
      "pick_rgn2_nm                0\n",
      "pick_rgn3_nm                0\n",
      "pick_category               0\n",
      "pick_건물용도                   0\n",
      "dlvry_지상층수               5726\n",
      "dlvry_지하층수               5726\n",
      "dlvry_건물용도                  0\n",
      "day_of_week                 0\n",
      "is_holiday                  0\n",
      "기온                          0\n",
      "강수량                         0\n",
      "dlvry_rgn2_nm               0\n",
      "dlvry_rgn3_nm               0\n",
      "outcome                     0\n",
      "dtype: int64\n"
     ]
    }
   ],
   "source": [
    "# dlvry_지하층수 음수로\n",
    "# filtered_data['dlvry_지하층수'] = pd.to_numeric(filtered_data['dlvry_지하층수'], errors='coerce')\n",
    "# filtered_data['dlvry_지상층수'] = pd.to_numeric(filtered_data['dlvry_지상층수'], errors='coerce')\n",
    "# filtered_data['pick_floor'] = pd.to_numeric(filtered_data['pick_floor'], errors='coerce')\n",
    "\n",
    "filtered_data['dlvry_지하층수'] = filtered_data['dlvry_지하층수'].apply(lambda x: -x)\n",
    "#print(filtered_data.head())\n",
    "print(filtered_data.isna().sum())"
   ]
  },
  {
   "attachments": {},
   "cell_type": "markdown",
   "metadata": {},
   "source": [
    "## 1. 데이터 전처리\n"
   ]
  },
  {
   "attachments": {},
   "cell_type": "markdown",
   "metadata": {},
   "source": [
    "## 1-1. pick_건물용도/ dlvry_건물용도 : 개수 축소"
   ]
  },
  {
   "cell_type": "code",
   "execution_count": 146,
   "metadata": {},
   "outputs": [
    {
     "name": "stdout",
     "output_type": "stream",
     "text": [
      "pick_건물용도\n",
      "업무시설          14372\n",
      "근린생활시설         7875\n",
      "아파트            5367\n",
      "일반음식점          5206\n",
      "일반상점           3881\n",
      "공동주택           3089\n",
      "교육시설           1604\n",
      "의료시설           1177\n",
      "백화점             534\n",
      "자동차관련시설         471\n",
      "오피스텔            266\n",
      "기타시설            210\n",
      "숙박시설            174\n",
      "대형판매점           141\n",
      "위락시설            134\n",
      "문화시설             87\n",
      "종교시설             30\n",
      "체육시설             16\n",
      "위험물저장및처리시설       10\n",
      "Name: count, dtype: int64\n"
     ]
    }
   ],
   "source": [
    "print(filtered_data['pick_건물용도'].value_counts())"
   ]
  },
  {
   "cell_type": "code",
   "execution_count": 147,
   "metadata": {},
   "outputs": [
    {
     "name": "stdout",
     "output_type": "stream",
     "text": [
      "pick_건물용도\n",
      "업무시설      14372\n",
      "근린생활시설     7875\n",
      "아파트        5367\n",
      "일반음식점      5206\n",
      "일반상점       3881\n",
      "공동주택       3089\n",
      "교육시설       1604\n",
      "의료시설       1177\n",
      "기타시설        958\n",
      "백화점         534\n",
      "오피스텔        266\n",
      "숙박시설        174\n",
      "대형판매점       141\n",
      "Name: count, dtype: int64\n"
     ]
    }
   ],
   "source": [
    "# 데이터 정리\n",
    "values_to_replace = ['위락시설', '문화시설', '종교시설', '체육시설','위험물저장및처리시설', '자동차관련시설']\n",
    "filtered_data['pick_건물용도'] = data['pick_건물용도'].replace(values_to_replace, '기타시설')\n",
    "print(filtered_data['pick_건물용도'].value_counts())"
   ]
  },
  {
   "cell_type": "code",
   "execution_count": 148,
   "metadata": {},
   "outputs": [
    {
     "name": "stdout",
     "output_type": "stream",
     "text": [
      "dlvry_건물용도\n",
      "공동주택          16952\n",
      "아파트           13910\n",
      "업무시설           7279\n",
      "근린생활시설         1559\n",
      "일반상점           1224\n",
      "교육시설           1028\n",
      "의료시설            758\n",
      "일반음식점           557\n",
      "숙박시설            459\n",
      "공공시설            241\n",
      "종교시설            127\n",
      "교육연구시설          120\n",
      "오피스텔            101\n",
      "자동차관련시설          67\n",
      "방송통신시설           53\n",
      "기타시설             39\n",
      "체육시설             36\n",
      "백화점              36\n",
      "위험물저장및처리시설       18\n",
      "복지시설             16\n",
      "문화시설             14\n",
      "위락시설             12\n",
      "복합몰               7\n",
      "창고시설              6\n",
      "수련시설              6\n",
      "동식물시설             5\n",
      "단독주택              5\n",
      "운수시설              3\n",
      "노유자시설             2\n",
      "호텔                2\n",
      "체력시설              1\n",
      "공공용시설             1\n",
      "Name: count, dtype: int64\n"
     ]
    }
   ],
   "source": [
    "print(filtered_data['dlvry_건물용도'].value_counts())"
   ]
  },
  {
   "cell_type": "code",
   "execution_count": 149,
   "metadata": {},
   "outputs": [
    {
     "name": "stdout",
     "output_type": "stream",
     "text": [
      "dlvry_건물용도\n",
      "공동주택      16952\n",
      "아파트       13910\n",
      "업무시설       7279\n",
      "근린생활시설     1559\n",
      "일반상점       1224\n",
      "교육시설       1148\n",
      "의료시설        758\n",
      "일반음식점       557\n",
      "숙박시설        459\n",
      "기타시설        329\n",
      "공공시설        241\n",
      "종교시설        127\n",
      "오피스텔        101\n",
      "Name: count, dtype: int64\n"
     ]
    }
   ],
   "source": [
    "value_counts = filtered_data['dlvry_건물용도'].value_counts()\n",
    "\n",
    "threshold = 100\n",
    "filtered_data['dlvry_건물용도'] = filtered_data['dlvry_건물용도'].apply(lambda x: '기타시설' if value_counts[x] <= threshold else x)\n",
    "\n",
    "filtered_data['dlvry_건물용도'] = filtered_data['dlvry_건물용도'].replace('교육연구시설', '교육시설')\n",
    "filtered_data['dlvry_건물용도'] = filtered_data['dlvry_건물용도'].replace('공공용시설', '공공시설')\n",
    "\n",
    "print(filtered_data['dlvry_건물용도'].value_counts())"
   ]
  },
  {
   "attachments": {},
   "cell_type": "markdown",
   "metadata": {},
   "source": [
    "## 1-2. dlvry_지상층수 /지하층수 : dlvry_건물용도 median 값 가져오기"
   ]
  },
  {
   "cell_type": "code",
   "execution_count": 150,
   "metadata": {},
   "outputs": [
    {
     "name": "stdout",
     "output_type": "stream",
     "text": [
      "Median Values:\n",
      "            dlvry_지상층수  dlvry_지하층수\n",
      "dlvry_건물용도                        \n",
      "공공시설               3.0        -0.0\n",
      "공동주택               4.0        -1.0\n",
      "교육시설               6.0        -1.0\n",
      "근린생활시설             5.0        -1.0\n",
      "기타시설               5.0        -2.0\n",
      "숙박시설              10.0        -1.0\n",
      "아파트               15.0        -1.0\n",
      "업무시설              10.0        -3.0\n",
      "오피스텔              15.0        -7.0\n",
      "의료시설              10.0        -1.0\n",
      "일반상점               4.0        -1.0\n",
      "일반음식점              5.0        -1.0\n",
      "종교시설               4.0        -3.0\n",
      "\n",
      "Mean Values:\n",
      "            dlvry_지상층수  dlvry_지하층수\n",
      "dlvry_건물용도                        \n",
      "공공시설          3.066390   -0.203320\n",
      "공동주택          3.844208   -0.732086\n",
      "교육시설          6.414397   -1.383268\n",
      "근린생활시설        5.316228   -1.250160\n",
      "기타시설          8.412698   -2.501587\n",
      "숙박시설         10.838428   -2.397380\n",
      "아파트          18.313515   -1.368009\n",
      "업무시설         11.697593   -3.120231\n",
      "오피스텔         15.000000   -6.118812\n",
      "의료시설          9.507916   -1.928760\n",
      "일반상점          5.041667   -1.446078\n",
      "일반음식점         4.746858   -1.263914\n",
      "종교시설          4.227642   -2.560976\n"
     ]
    }
   ],
   "source": [
    "median_values = filtered_data.dropna().groupby('dlvry_건물용도')[['dlvry_지상층수', 'dlvry_지하층수']].median()\n",
    "mean_values = filtered_data.dropna().groupby('dlvry_건물용도')[['dlvry_지상층수', 'dlvry_지하층수']].mean()\n",
    "\n",
    "print(\"Median Values:\")\n",
    "print(median_values)\n",
    "\n",
    "print(\"\\nMean Values:\")\n",
    "print(mean_values)\n"
   ]
  },
  {
   "cell_type": "code",
   "execution_count": 151,
   "metadata": {},
   "outputs": [
    {
     "name": "stdout",
     "output_type": "stream",
     "text": [
      "           reg_hour      ord_price  actual_dlvry_distance    pick_floor  \\\n",
      "count  44644.000000   44644.000000           44644.000000  44644.000000   \n",
      "mean      15.780866   27080.946757            1959.281538      0.748006   \n",
      "std        3.745221   17994.351039            1156.483892      0.924460   \n",
      "min        9.000000    5000.000000               1.000000     -1.000000   \n",
      "25%       12.000000   16700.000000            1115.000000      1.000000   \n",
      "50%       16.000000   22400.000000            1756.000000      1.000000   \n",
      "75%       19.000000   31400.000000            2514.000000      1.000000   \n",
      "max       23.000000  483000.000000            8003.000000      8.000000   \n",
      "\n",
      "         dlvry_지상층수    dlvry_지하층수            기온           강수량       outcome  \n",
      "count  44644.000000  44644.000000  44644.000000  44644.000000  44644.000000  \n",
      "mean      10.028380     -1.476481     26.778833      0.609437      0.130544  \n",
      "std        8.766227      1.608017      2.664765      3.162902      0.336905  \n",
      "min        0.000000     -9.000000     20.800000      0.000000      0.000000  \n",
      "25%        4.000000     -1.000000     24.600000      0.000000      0.000000  \n",
      "50%        6.000000     -1.000000     27.100000      0.000000      0.000000  \n",
      "75%       15.000000     -1.000000     28.800000      0.000000      0.000000  \n",
      "max       69.000000     -0.000000     33.500000     27.600000      1.000000  \n",
      "Index(['dlvry_id', 'reg_hour', 'ord_price', 'actual_dlvry_distance',\n",
      "       'pick_floor', 'pick_rgn2_nm', 'pick_rgn3_nm', 'pick_category',\n",
      "       'pick_건물용도', 'dlvry_지상층수', 'dlvry_지하층수', 'dlvry_건물용도', 'day_of_week',\n",
      "       'is_holiday', '기온', '강수량', 'dlvry_rgn2_nm', 'dlvry_rgn3_nm', 'outcome'],\n",
      "      dtype='object')\n"
     ]
    }
   ],
   "source": [
    "# na 값을 중앙값으로 채우기\n",
    "filtered_data['dlvry_지상층수'].fillna(filtered_data['dlvry_건물용도'].map(median_values['dlvry_지상층수']), inplace=True)\n",
    "filtered_data['dlvry_지하층수'].fillna(filtered_data['dlvry_건물용도'].map(median_values['dlvry_지하층수']), inplace=True)\n",
    "\n",
    "print(filtered_data.describe())\n",
    "print(filtered_data.columns)"
   ]
  },
  {
   "cell_type": "code",
   "execution_count": 152,
   "metadata": {},
   "outputs": [
    {
     "name": "stdout",
     "output_type": "stream",
     "text": [
      "dlvry_id                 0\n",
      "reg_hour                 0\n",
      "ord_price                0\n",
      "actual_dlvry_distance    0\n",
      "pick_floor               0\n",
      "pick_rgn2_nm             0\n",
      "pick_rgn3_nm             0\n",
      "pick_category            0\n",
      "pick_건물용도                0\n",
      "dlvry_지상층수               0\n",
      "dlvry_지하층수               0\n",
      "dlvry_건물용도               0\n",
      "day_of_week              0\n",
      "is_holiday               0\n",
      "기온                       0\n",
      "강수량                      0\n",
      "dlvry_rgn2_nm            0\n",
      "dlvry_rgn3_nm            0\n",
      "outcome                  0\n",
      "dtype: int64\n"
     ]
    }
   ],
   "source": [
    "print(filtered_data.isna().sum())"
   ]
  },
  {
   "attachments": {},
   "cell_type": "markdown",
   "metadata": {},
   "source": [
    "## 1-3.  pick_floor, dlvry_지상층수, dlvry_지하층수 "
   ]
  },
  {
   "cell_type": "code",
   "execution_count": 153,
   "metadata": {},
   "outputs": [
    {
     "name": "stdout",
     "output_type": "stream",
     "text": [
      "pick_floor\n",
      " 1.0    31450\n",
      "-1.0     7548\n",
      " 2.0     3810\n",
      " 0.0     1363\n",
      " 3.0      314\n",
      " 4.0       85\n",
      " 8.0       73\n",
      " 6.0        1\n",
      "Name: count, dtype: int64\n"
     ]
    }
   ],
   "source": [
    "print(filtered_data['pick_floor'].value_counts())"
   ]
  },
  {
   "cell_type": "code",
   "execution_count": 154,
   "metadata": {},
   "outputs": [
    {
     "name": "stdout",
     "output_type": "stream",
     "text": [
      "dlvry_지하층수\n",
      "-1.0    24736\n",
      "-0.0     9058\n",
      "-2.0     3590\n",
      "-3.0     1876\n",
      "-4.0     1778\n",
      "-5.0     1483\n",
      "-6.0     1233\n",
      "-7.0      674\n",
      "-8.0      215\n",
      "-9.0        1\n",
      "Name: count, dtype: int64\n"
     ]
    }
   ],
   "source": [
    "print(filtered_data['dlvry_지하층수'].value_counts())"
   ]
  },
  {
   "cell_type": "code",
   "execution_count": 155,
   "metadata": {},
   "outputs": [
    {
     "name": "stdout",
     "output_type": "stream",
     "text": [
      "dlvry_지상층수\n",
      "4.0     9546\n",
      "5.0     5935\n",
      "3.0     4366\n",
      "15.0    4286\n",
      "6.0     2892\n",
      "2.0     1796\n",
      "12.0    1556\n",
      "7.0     1408\n",
      "20.0    1372\n",
      "10.0    1270\n",
      "13.0    1182\n",
      "29.0     872\n",
      "32.0     782\n",
      "14.0     722\n",
      "9.0      713\n",
      "25.0     599\n",
      "18.0     551\n",
      "24.0     526\n",
      "8.0      522\n",
      "11.0     466\n",
      "27.0     413\n",
      "22.0     412\n",
      "16.0     329\n",
      "17.0     269\n",
      "37.0     267\n",
      "21.0     262\n",
      "19.0     248\n",
      "46.0     184\n",
      "26.0     177\n",
      "1.0      171\n",
      "23.0     166\n",
      "31.0     114\n",
      "66.0      52\n",
      "28.0      43\n",
      "69.0      40\n",
      "55.0      30\n",
      "51.0      26\n",
      "34.0      22\n",
      "44.0      20\n",
      "45.0      16\n",
      "0.0        9\n",
      "30.0       8\n",
      "33.0       4\n",
      "Name: count, dtype: int64\n",
      "count    44644.000000\n",
      "mean        10.028380\n",
      "std          8.766227\n",
      "min          0.000000\n",
      "25%          4.000000\n",
      "50%          6.000000\n",
      "75%         15.000000\n",
      "max         69.000000\n",
      "Name: dlvry_지상층수, dtype: float64\n"
     ]
    }
   ],
   "source": [
    "print(filtered_data['dlvry_지상층수'].value_counts())\n",
    "print(filtered_data['dlvry_지상층수'].describe())"
   ]
  },
  {
   "cell_type": "code",
   "execution_count": 156,
   "metadata": {},
   "outputs": [
    {
     "name": "stdout",
     "output_type": "stream",
     "text": [
      "dlvry_지상층수\n",
      "저층      21823\n",
      "중상층      8212\n",
      "중층       6805\n",
      "고층       6239\n",
      "준초고층     1417\n",
      "초고층       148\n",
      "Name: count, dtype: int64\n",
      "pick_floor\n",
      "저층    37022\n",
      "지하     7548\n",
      "중층       74\n",
      "Name: count, dtype: int64\n"
     ]
    }
   ],
   "source": [
    "def categorize_floor(value):\n",
    "    if value < 0:\n",
    "        return '지하'\n",
    "    elif 0 <= value <= 5:\n",
    "        return '저층'\n",
    "    elif 6 <= value <= 10 :\n",
    "        return '중층'\n",
    "    elif 11 <= value <= 15 : \n",
    "        return '중상층'\n",
    "    elif 16 <= value <= 29 :\n",
    "        return '고층'\n",
    "    elif 30 <= value <= 49 :\n",
    "        return '준초고층'\n",
    "    elif 50 <= value:\n",
    "        return '초고층'\n",
    "\n",
    "filtered_data['pick_floor'] = filtered_data['pick_floor'].apply(categorize_floor)\n",
    "filtered_data['dlvry_지상층수'] = filtered_data['dlvry_지상층수'].apply(categorize_floor)\n",
    "\n",
    "print(filtered_data['dlvry_지상층수'].value_counts())\n",
    "print(filtered_data['pick_floor'].value_counts())"
   ]
  },
  {
   "attachments": {},
   "cell_type": "markdown",
   "metadata": {},
   "source": [
    "## 1-4. pick_rgn2_nm, dlvry_rgn2_nm, dlvry_rgn3_nm 정제"
   ]
  },
  {
   "cell_type": "code",
   "execution_count": 157,
   "metadata": {},
   "outputs": [
    {
     "name": "stdout",
     "output_type": "stream",
     "text": [
      "dlvry_rgn2_nm\n",
      "서초구    32886\n",
      "강남구     8302\n",
      "동작구     2388\n",
      "관악구      937\n",
      "과천시      126\n",
      "용산구        5\n",
      "Name: count, dtype: int64\n",
      "dlvry_rgn3_nm\n",
      "서초동      13101\n",
      "방배동       6994\n",
      "반포동       6344\n",
      "역삼동       2814\n",
      "양재동       2729\n",
      "잠원동       2043\n",
      "사당동       1999\n",
      "논현동       1832\n",
      "우면동       1675\n",
      "도곡동       1218\n",
      "개포동        995\n",
      "남현동        500\n",
      "봉천동        427\n",
      "대치동        418\n",
      "신사동        417\n",
      "삼성동        267\n",
      "압구정동       161\n",
      "흑석동        151\n",
      "청담동        148\n",
      "동작동        128\n",
      "상도동         76\n",
      "주암동         75\n",
      "과천동         48\n",
      "일원동         25\n",
      "상도1동        18\n",
      "본동          10\n",
      "신림동         10\n",
      "노량진동         6\n",
      "자곡동          5\n",
      "용산동6가        5\n",
      "부림동          3\n",
      "수서동          2\n",
      "Name: count, dtype: int64\n"
     ]
    }
   ],
   "source": [
    "print(filtered_data['dlvry_rgn2_nm'].value_counts())\n",
    "print(filtered_data['dlvry_rgn3_nm'].value_counts())"
   ]
  },
  {
   "attachments": {},
   "cell_type": "markdown",
   "metadata": {},
   "source": [
    "## 2. 데이터 전처리"
   ]
  },
  {
   "cell_type": "code",
   "execution_count": 158,
   "metadata": {},
   "outputs": [
    {
     "name": "stdout",
     "output_type": "stream",
     "text": [
      "(44644, 19)\n",
      "<class 'pandas.core.frame.DataFrame'>\n",
      "Index: 44644 entries, 1 to 68026\n",
      "Data columns (total 19 columns):\n",
      " #   Column                 Non-Null Count  Dtype  \n",
      "---  ------                 --------------  -----  \n",
      " 0   dlvry_id               44644 non-null  object \n",
      " 1   reg_hour               44644 non-null  int64  \n",
      " 2   ord_price              44644 non-null  int64  \n",
      " 3   actual_dlvry_distance  44644 non-null  int64  \n",
      " 4   pick_floor             44644 non-null  object \n",
      " 5   pick_rgn2_nm           44644 non-null  object \n",
      " 6   pick_rgn3_nm           44644 non-null  object \n",
      " 7   pick_category          44644 non-null  object \n",
      " 8   pick_건물용도              44644 non-null  object \n",
      " 9   dlvry_지상층수             44644 non-null  object \n",
      " 10  dlvry_지하층수             44644 non-null  float64\n",
      " 11  dlvry_건물용도             44644 non-null  object \n",
      " 12  day_of_week            44644 non-null  object \n",
      " 13  is_holiday             44644 non-null  bool   \n",
      " 14  기온                     44644 non-null  float64\n",
      " 15  강수량                    44644 non-null  float64\n",
      " 16  dlvry_rgn2_nm          44644 non-null  object \n",
      " 17  dlvry_rgn3_nm          44644 non-null  object \n",
      " 18  outcome                44644 non-null  int64  \n",
      "dtypes: bool(1), float64(3), int64(4), object(11)\n",
      "memory usage: 6.5+ MB\n",
      "None\n"
     ]
    }
   ],
   "source": [
    "print(filtered_data.shape) #44,644\n",
    "print(filtered_data.info())"
   ]
  },
  {
   "cell_type": "code",
   "execution_count": 159,
   "metadata": {},
   "outputs": [],
   "source": [
    "dataset = filtered_data[['reg_hour', 'ord_price','actual_dlvry_distance', 'pick_floor', \n",
    "                         'pick_category', 'pick_건물용도','dlvry_지상층수', 'dlvry_지하층수',\n",
    "                         'dlvry_건물용도','day_of_week', 'is_holiday', '기온', 'dlvry_rgn2_nm', 'outcome'\n",
    "                        ]]\n",
    "dataset.isna().sum()\n",
    "dataset.to_csv('prj-ML-model-LT_OV30/modeling_data_final.csv', index= False, encoding = \"utf-8\")"
   ]
  },
  {
   "attachments": {},
   "cell_type": "markdown",
   "metadata": {},
   "source": [
    "## 2-1. factor 변수 / one-hot-encoding"
   ]
  },
  {
   "cell_type": "code",
   "execution_count": 160,
   "metadata": {},
   "outputs": [
    {
     "name": "stdout",
     "output_type": "stream",
     "text": [
      "reg_hour                 category\n",
      "ord_price                   int64\n",
      "actual_dlvry_distance       int64\n",
      "pick_floor               category\n",
      "pick_category            category\n",
      "pick_건물용도                category\n",
      "dlvry_지상층수               category\n",
      "dlvry_지하층수                float64\n",
      "dlvry_건물용도               category\n",
      "day_of_week              category\n",
      "is_holiday               category\n",
      "기온                        float64\n",
      "dlvry_rgn2_nm            category\n",
      "outcome                  category\n",
      "dtype: object\n"
     ]
    }
   ],
   "source": [
    "# category  \n",
    "for col in ['reg_hour','pick_floor',  'pick_category', 'pick_건물용도','dlvry_지상층수','dlvry_건물용도',\n",
    "            'day_of_week', 'is_holiday','dlvry_rgn2_nm', 'outcome' ] : \n",
    "    dataset[col] = dataset[col].astype('category')\n",
    "\n",
    "print(dataset.dtypes)"
   ]
  },
  {
   "cell_type": "code",
   "execution_count": 161,
   "metadata": {},
   "outputs": [
    {
     "name": "stdout",
     "output_type": "stream",
     "text": [
      "Index(['reg_hour_9', 'reg_hour_10', 'reg_hour_11', 'reg_hour_12',\n",
      "       'reg_hour_13', 'reg_hour_14', 'reg_hour_15', 'reg_hour_16',\n",
      "       'reg_hour_17', 'reg_hour_18', 'reg_hour_19', 'reg_hour_20',\n",
      "       'reg_hour_21', 'reg_hour_22', 'reg_hour_23', 'pick_floor_저층',\n",
      "       'pick_floor_중층', 'pick_floor_지하', 'pick_category_ASIAN',\n",
      "       'pick_category_BAEKBAN', 'pick_category_BURGER', 'pick_category_CAFE',\n",
      "       'pick_category_CHICKEN', 'pick_category_CHINESE',\n",
      "       'pick_category_JAPANESE', 'pick_category_JOKBAL', 'pick_category_MEAT',\n",
      "       'pick_category_PIZZA', 'pick_category_SNACK', 'pick_category_WESTERN',\n",
      "       'pick_category_ZZIM_TANG', 'pick_건물용도_공동주택', 'pick_건물용도_교육시설',\n",
      "       'pick_건물용도_근린생활시설', 'pick_건물용도_기타시설', 'pick_건물용도_대형판매점',\n",
      "       'pick_건물용도_백화점', 'pick_건물용도_숙박시설', 'pick_건물용도_아파트', 'pick_건물용도_업무시설',\n",
      "       'pick_건물용도_오피스텔', 'pick_건물용도_의료시설', 'pick_건물용도_일반상점', 'pick_건물용도_일반음식점',\n",
      "       'dlvry_지상층수_고층', 'dlvry_지상층수_저층', 'dlvry_지상층수_준초고층', 'dlvry_지상층수_중상층',\n",
      "       'dlvry_지상층수_중층', 'dlvry_지상층수_초고층', 'dlvry_건물용도_공공시설', 'dlvry_건물용도_공동주택',\n",
      "       'dlvry_건물용도_교육시설', 'dlvry_건물용도_근린생활시설', 'dlvry_건물용도_기타시설',\n",
      "       'dlvry_건물용도_숙박시설', 'dlvry_건물용도_아파트', 'dlvry_건물용도_업무시설',\n",
      "       'dlvry_건물용도_오피스텔', 'dlvry_건물용도_의료시설', 'dlvry_건물용도_일반상점',\n",
      "       'dlvry_건물용도_일반음식점', 'dlvry_건물용도_종교시설', 'day_of_week_Fri',\n",
      "       'day_of_week_Mon', 'day_of_week_Sat', 'day_of_week_Sun',\n",
      "       'day_of_week_Thu', 'day_of_week_Tue', 'day_of_week_Wed',\n",
      "       'is_holiday_0.0', 'is_holiday_1.0', 'dlvry_rgn2_nm_강남구',\n",
      "       'dlvry_rgn2_nm_과천시', 'dlvry_rgn2_nm_관악구', 'dlvry_rgn2_nm_동작구',\n",
      "       'dlvry_rgn2_nm_서초구', 'dlvry_rgn2_nm_용산구', 'ord_price',\n",
      "       'actual_dlvry_distance', 'dlvry_지하층수', '기온', 'outcome'],\n",
      "      dtype='object')\n"
     ]
    }
   ],
   "source": [
    "var = ['reg_hour','pick_floor',  'pick_category', 'pick_건물용도','dlvry_지상층수','dlvry_건물용도',\n",
    "            'day_of_week', 'is_holiday','dlvry_rgn2_nm' ] \n",
    "encoder = OneHotEncoder()\n",
    "onehot = pd.DataFrame(encoder.fit_transform(dataset[var]).toarray(), columns=encoder.get_feature_names_out(var), index = dataset.index)\n",
    "dataset = pd.concat([onehot, dataset.drop(columns=var)], axis=1)\n",
    "\n",
    "print(dataset.columns)"
   ]
  },
  {
   "attachments": {},
   "cell_type": "markdown",
   "metadata": {},
   "source": [
    "## 3. train/test set split"
   ]
  },
  {
   "cell_type": "code",
   "execution_count": 162,
   "metadata": {},
   "outputs": [
    {
     "name": "stdout",
     "output_type": "stream",
     "text": [
      "outcome\n",
      "0    29112\n",
      "1     4371\n",
      "Name: count, dtype: int64\n",
      "outcome\n",
      "0    9704\n",
      "1    1457\n",
      "Name: count, dtype: int64\n",
      "(33483, 83)\n",
      "(11161, 83)\n"
     ]
    }
   ],
   "source": [
    "outcome_counts = dataset['outcome'].value_counts()\n",
    "train_set, test_set = train_test_split(dataset, test_size=0.25, stratify = dataset['outcome'], random_state=1234)\n",
    "\n",
    "train_outcome_counts = train_set['outcome'].value_counts()\n",
    "test_outcome_counts = test_set['outcome'].value_counts()\n",
    "\n",
    "print(train_outcome_counts)\n",
    "print(test_outcome_counts)\n",
    "\n",
    "print(train_set.shape) #33483\n",
    "print(test_set.shape) #11161"
   ]
  },
  {
   "cell_type": "code",
   "execution_count": 163,
   "metadata": {},
   "outputs": [
    {
     "name": "stdout",
     "output_type": "stream",
     "text": [
      "Index(['reg_hour_9', 'reg_hour_10', 'reg_hour_11', 'reg_hour_12',\n",
      "       'reg_hour_13', 'reg_hour_14', 'reg_hour_15', 'reg_hour_16',\n",
      "       'reg_hour_17', 'reg_hour_18', 'reg_hour_19', 'reg_hour_20',\n",
      "       'reg_hour_21', 'reg_hour_22', 'reg_hour_23', 'pick_floor_저층',\n",
      "       'pick_floor_중층', 'pick_floor_지하', 'pick_category_ASIAN',\n",
      "       'pick_category_BAEKBAN', 'pick_category_BURGER', 'pick_category_CAFE',\n",
      "       'pick_category_CHICKEN', 'pick_category_CHINESE',\n",
      "       'pick_category_JAPANESE', 'pick_category_JOKBAL', 'pick_category_MEAT',\n",
      "       'pick_category_PIZZA', 'pick_category_SNACK', 'pick_category_WESTERN',\n",
      "       'pick_category_ZZIM_TANG', 'pick_건물용도_공동주택', 'pick_건물용도_교육시설',\n",
      "       'pick_건물용도_근린생활시설', 'pick_건물용도_기타시설', 'pick_건물용도_대형판매점',\n",
      "       'pick_건물용도_백화점', 'pick_건물용도_숙박시설', 'pick_건물용도_아파트', 'pick_건물용도_업무시설',\n",
      "       'pick_건물용도_오피스텔', 'pick_건물용도_의료시설', 'pick_건물용도_일반상점', 'pick_건물용도_일반음식점',\n",
      "       'dlvry_지상층수_고층', 'dlvry_지상층수_저층', 'dlvry_지상층수_준초고층', 'dlvry_지상층수_중상층',\n",
      "       'dlvry_지상층수_중층', 'dlvry_지상층수_초고층', 'dlvry_건물용도_공공시설', 'dlvry_건물용도_공동주택',\n",
      "       'dlvry_건물용도_교육시설', 'dlvry_건물용도_근린생활시설', 'dlvry_건물용도_기타시설',\n",
      "       'dlvry_건물용도_숙박시설', 'dlvry_건물용도_아파트', 'dlvry_건물용도_업무시설',\n",
      "       'dlvry_건물용도_오피스텔', 'dlvry_건물용도_의료시설', 'dlvry_건물용도_일반상점',\n",
      "       'dlvry_건물용도_일반음식점', 'dlvry_건물용도_종교시설', 'day_of_week_Fri',\n",
      "       'day_of_week_Mon', 'day_of_week_Sat', 'day_of_week_Sun',\n",
      "       'day_of_week_Thu', 'day_of_week_Tue', 'day_of_week_Wed',\n",
      "       'is_holiday_0.0', 'is_holiday_1.0', 'dlvry_rgn2_nm_강남구',\n",
      "       'dlvry_rgn2_nm_과천시', 'dlvry_rgn2_nm_관악구', 'dlvry_rgn2_nm_동작구',\n",
      "       'dlvry_rgn2_nm_서초구', 'dlvry_rgn2_nm_용산구', 'ord_price',\n",
      "       'actual_dlvry_distance', 'dlvry_지하층수', '기온'],\n",
      "      dtype='object')\n"
     ]
    }
   ],
   "source": [
    "X_train = train_set.drop(columns=['outcome'])\n",
    "y_train = train_set['outcome']\n",
    "\n",
    "X_test = test_set.drop(columns=['outcome'])\n",
    "y_test = test_set['outcome']\n",
    "\n",
    "print(X_train.columns)"
   ]
  },
  {
   "cell_type": "code",
   "execution_count": 164,
   "metadata": {},
   "outputs": [],
   "source": [
    "# set.seed(1234)\n",
    "# train_ratio = 0.75\n",
    "# total_samples = dataset.shape[0]\n",
    "# train_samples = int(train_ratio * total_samples)\n",
    "# train_set = dataset[:train_samples]\n",
    "# test_set = dataset[train_samples:]\n",
    "\n",
    "# print(train_set.shape) #33483\n",
    "# print(test_set.shape) #11161"
   ]
  },
  {
   "attachments": {},
   "cell_type": "markdown",
   "metadata": {},
   "source": [
    "## 4. numeric variables"
   ]
  },
  {
   "cell_type": "code",
   "execution_count": 165,
   "metadata": {},
   "outputs": [
    {
     "name": "stdout",
     "output_type": "stream",
     "text": [
      "(33483, 82)\n",
      "(11161, 82)\n"
     ]
    }
   ],
   "source": [
    "num_vars = ['ord_price', 'actual_dlvry_distance', 'dlvry_지하층수', '기온']\n",
    "scaler = MinMaxScaler()\n",
    "\n",
    "X_train[num_vars] = scaler.fit_transform(X_train[num_vars])\n",
    "X_test[num_vars] = scaler.transform(X_test[num_vars])\n",
    "\n",
    "#print(X_train.head())\n",
    "print(X_train.shape) #33483\n",
    "print(X_test.shape) #11161"
   ]
  },
  {
   "attachments": {},
   "cell_type": "markdown",
   "metadata": {},
   "source": [
    "## 5. modeling - Logistic Regression"
   ]
  },
  {
   "cell_type": "code",
   "execution_count": 166,
   "metadata": {},
   "outputs": [
    {
     "name": "stdout",
     "output_type": "stream",
     "text": [
      "                 Variable           VIF\n",
      "0              reg_hour_9  7.466814e+07\n",
      "1             reg_hour_10  2.722880e+08\n",
      "2             reg_hour_11  6.452904e+05\n",
      "3             reg_hour_12  5.288845e+05\n",
      "4             reg_hour_13  1.358733e+06\n",
      "..                    ...           ...\n",
      "77      dlvry_rgn2_nm_용산구  4.240079e+11\n",
      "78              ord_price  1.103896e+00\n",
      "79  actual_dlvry_distance  1.106544e+00\n",
      "80             dlvry_지하층수  1.734274e+00\n",
      "81                     기온  1.492611e+00\n",
      "\n",
      "[82 rows x 2 columns]\n"
     ]
    }
   ],
   "source": [
    "def calculate_vif(data):\n",
    "    vif_data = pd.DataFrame()\n",
    "    vif_data[\"Variable\"] = data.columns\n",
    "    vif_data[\"VIF\"] = [variance_inflation_factor(data.values, i) for i in range(data.shape[1])]\n",
    "    return vif_data\n",
    "\n",
    "# 다중 공선성 확인\n",
    "vif_result = calculate_vif(X_train)\n",
    "print(vif_result)\n"
   ]
  },
  {
   "cell_type": "code",
   "execution_count": 167,
   "metadata": {},
   "outputs": [
    {
     "name": "stdout",
     "output_type": "stream",
     "text": [
      "                 Generalized Linear Model Regression Results                  \n",
      "==============================================================================\n",
      "Dep. Variable:                outcome   No. Observations:                33483\n",
      "Model:                            GLM   Df Residuals:                    33410\n",
      "Model Family:                Binomial   Df Model:                           72\n",
      "Link Function:                  Logit   Scale:                          1.0000\n",
      "Method:                          IRLS   Log-Likelihood:                -10472.\n",
      "Date:                Mon, 18 Sep 2023   Deviance:                       20945.\n",
      "Time:                        14:05:15   Pearson chi2:                 3.41e+04\n",
      "No. Iterations:                   100   Pseudo R-squ. (CS):             0.1387\n",
      "Covariance Type:            nonrobust                                         \n",
      "===========================================================================================\n",
      "                              coef    std err          z      P>|z|      [0.025      0.975]\n",
      "-------------------------------------------------------------------------------------------\n",
      "reg_hour_9                 -0.0477      0.116     -0.412      0.680      -0.275       0.179\n",
      "reg_hour_10                -0.7019      0.090     -7.837      0.000      -0.877      -0.526\n",
      "reg_hour_11                -1.1238      0.064    -17.431      0.000      -1.250      -0.997\n",
      "reg_hour_12                -0.7974      0.066    -12.107      0.000      -0.927      -0.668\n",
      "reg_hour_13                -0.5597      0.076     -7.392      0.000      -0.708      -0.411\n",
      "reg_hour_14                 0.3777      0.067      5.650      0.000       0.247       0.509\n",
      "reg_hour_15                 0.3974      0.070      5.648      0.000       0.260       0.535\n",
      "reg_hour_16                 0.4863      0.064      7.631      0.000       0.361       0.611\n",
      "reg_hour_17                -0.5722      0.065     -8.823      0.000      -0.699      -0.445\n",
      "reg_hour_18                -0.7980      0.061    -13.015      0.000      -0.918      -0.678\n",
      "reg_hour_19                -0.7172      0.065    -11.030      0.000      -0.845      -0.590\n",
      "reg_hour_20                -0.2700      0.066     -4.110      0.000      -0.399      -0.141\n",
      "reg_hour_21                 0.8776      0.063     13.824      0.000       0.753       1.002\n",
      "reg_hour_22                 1.4695      0.068     21.461      0.000       1.335       1.604\n",
      "reg_hour_23                 0.5940      0.093      6.395      0.000       0.412       0.776\n",
      "pick_floor_저층              -0.9973      0.106     -9.375      0.000      -1.206      -0.789\n",
      "pick_floor_중층               0.4848      0.256      1.891      0.059      -0.018       0.987\n",
      "pick_floor_지하              -0.8730      0.109     -7.983      0.000      -1.087      -0.659\n",
      "pick_category_ASIAN        -0.1701      0.106     -1.604      0.109      -0.378       0.038\n",
      "pick_category_BAEKBAN      -0.1385      0.059     -2.335      0.020      -0.255      -0.022\n",
      "pick_category_BURGER        0.0433      0.065      0.671      0.502      -0.083       0.170\n",
      "pick_category_CAFE         -0.1186      0.049     -2.398      0.017      -0.216      -0.022\n",
      "pick_category_CHICKEN      -0.2913      0.059     -4.944      0.000      -0.407      -0.176\n",
      "pick_category_CHINESE       0.0257      0.060      0.428      0.669      -0.092       0.144\n",
      "pick_category_JAPANESE     -0.2093      0.069     -3.041      0.002      -0.344      -0.074\n",
      "pick_category_JOKBAL       -0.2882      0.119     -2.414      0.016      -0.522      -0.054\n",
      "pick_category_MEAT          0.0678      0.075      0.908      0.364      -0.079       0.214\n",
      "pick_category_PIZZA         0.1318      0.076      1.740      0.082      -0.017       0.280\n",
      "pick_category_SNACK        -0.2206      0.057     -3.843      0.000      -0.333      -0.108\n",
      "pick_category_WESTERN      -0.0093      0.075     -0.125      0.901      -0.156       0.137\n",
      "pick_category_ZZIM_TANG    -0.2084      0.067     -3.120      0.002      -0.339      -0.077\n",
      "pick_건물용도_공동주택             -0.2490      0.076     -3.258      0.001      -0.399      -0.099\n",
      "pick_건물용도_교육시설             -0.1300      0.098     -1.324      0.185      -0.322       0.062\n",
      "pick_건물용도_근린생활시설           -0.0963      0.059     -1.634      0.102      -0.212       0.019\n",
      "pick_건물용도_기타시설             -0.0741      0.120     -0.617      0.537      -0.309       0.161\n",
      "pick_건물용도_대형판매점            -0.2610      0.321     -0.814      0.416      -0.890       0.368\n",
      "pick_건물용도_백화점              -0.6815      0.168     -4.062      0.000      -1.010      -0.353\n",
      "pick_건물용도_숙박시설              0.0259      0.240      0.108      0.914      -0.445       0.497\n",
      "pick_건물용도_아파트               0.1092      0.064      1.715      0.086      -0.016       0.234\n",
      "pick_건물용도_업무시설             -0.1346      0.053     -2.541      0.011      -0.238      -0.031\n",
      "pick_건물용도_오피스텔              0.5075      0.201      2.530      0.011       0.114       0.901\n",
      "pick_건물용도_의료시설              0.0056      0.106      0.052      0.958      -0.203       0.214\n",
      "pick_건물용도_일반상점             -0.3065      0.074     -4.142      0.000      -0.452      -0.161\n",
      "pick_건물용도_일반음식점            -0.1007      0.067     -1.507      0.132      -0.232       0.030\n",
      "dlvry_지상층수_고층              -0.3373      0.066     -5.103      0.000      -0.467      -0.208\n",
      "dlvry_지상층수_저층              -0.3626      0.083     -4.359      0.000      -0.526      -0.200\n",
      "dlvry_지상층수_준초고층             0.0529      0.093      0.569      0.570      -0.130       0.235\n",
      "dlvry_지상층수_중상층             -0.4360      0.064     -6.853      0.000      -0.561      -0.311\n",
      "dlvry_지상층수_중층              -0.3502      0.070     -5.009      0.000      -0.487      -0.213\n",
      "dlvry_지상층수_초고층              0.0477      0.220      0.217      0.829      -0.384       0.479\n",
      "dlvry_건물용도_공공시설             0.5997      0.177      3.384      0.001       0.252       0.947\n",
      "dlvry_건물용도_공동주택            -0.3976      0.069     -5.743      0.000      -0.533      -0.262\n",
      "dlvry_건물용도_교육시설             0.1199      0.111      1.081      0.279      -0.097       0.337\n",
      "dlvry_건물용도_근린생활시설          -0.6456      0.115     -5.593      0.000      -0.872      -0.419\n",
      "dlvry_건물용도_기타시설            -0.0750      0.184     -0.407      0.684      -0.435       0.286\n",
      "dlvry_건물용도_숙박시설            -0.4579      0.176     -2.609      0.009      -0.802      -0.114\n",
      "dlvry_건물용도_아파트             -0.1068      0.081     -1.319      0.187      -0.265       0.052\n",
      "dlvry_건물용도_업무시설            -0.4527      0.074     -6.146      0.000      -0.597      -0.308\n",
      "dlvry_건물용도_오피스텔            -0.1047      0.425     -0.246      0.806      -0.938       0.729\n",
      "dlvry_건물용도_의료시설            -0.2103      0.149     -1.408      0.159      -0.503       0.082\n",
      "dlvry_건물용도_일반상점            -0.0817      0.111     -0.734      0.463      -0.300       0.136\n",
      "dlvry_건물용도_일반음식점           -0.1423      0.160     -0.891      0.373      -0.455       0.171\n",
      "dlvry_건물용도_종교시설             0.5693      0.281      2.024      0.043       0.018       1.121\n",
      "day_of_week_Fri            -0.3532      0.046     -7.627      0.000      -0.444      -0.262\n",
      "day_of_week_Mon            -0.8197      0.054    -15.277      0.000      -0.925      -0.715\n",
      "day_of_week_Sat            -0.1481      0.046     -3.238      0.001      -0.238      -0.058\n",
      "day_of_week_Sun            -0.1740      0.045     -3.902      0.000      -0.261      -0.087\n",
      "day_of_week_Thu            -0.5711      0.052    -10.933      0.000      -0.673      -0.469\n",
      "day_of_week_Tue             0.1573      0.046      3.407      0.001       0.067       0.248\n",
      "day_of_week_Wed             0.5232      0.050     10.436      0.000       0.425       0.621\n",
      "is_holiday_0.0             -0.7103      0.087     -8.192      0.000      -0.880      -0.540\n",
      "is_holiday_1.0             -0.6752      0.084     -8.058      0.000      -0.839      -0.511\n",
      "dlvry_rgn2_nm_강남구          -1.1696      0.183     -6.400      0.000      -1.528      -0.811\n",
      "dlvry_rgn2_nm_과천시          -0.5466      0.275     -1.989      0.047      -1.085      -0.008\n",
      "dlvry_rgn2_nm_관악구          -0.0594      0.196     -0.302      0.762      -0.444       0.326\n",
      "dlvry_rgn2_nm_동작구           0.1851      0.187      0.989      0.323      -0.182       0.552\n",
      "dlvry_rgn2_nm_서초구          -0.7415      0.180     -4.115      0.000      -1.095      -0.388\n",
      "dlvry_rgn2_nm_용산구           0.9464      0.988      0.958      0.338      -0.990       2.883\n",
      "ord_price                   3.3452      0.432      7.735      0.000       2.498       4.193\n",
      "actual_dlvry_distance       5.3396      0.119     45.033      0.000       5.107       5.572\n",
      "dlvry_지하층수                  0.3551      0.137      2.586      0.010       0.086       0.624\n",
      "기온                         -0.4658      0.115     -4.048      0.000      -0.691      -0.240\n",
      "===========================================================================================\n"
     ]
    }
   ],
   "source": [
    "glm_1 = sm.GLM(y_train, X_train, family = sm.families.Binomial())\n",
    "glm1_fit = glm_1.fit()\n",
    "print(glm1_fit.summary())"
   ]
  },
  {
   "cell_type": "code",
   "execution_count": 180,
   "metadata": {},
   "outputs": [
    {
     "name": "stdout",
     "output_type": "stream",
     "text": [
      "\n",
      "Confusion Matrix:\n",
      "[[9551  153]\n",
      " [1189  268]]\n",
      "\n",
      "Accuracy: 0.8797598781471194\n",
      "Sensitivity (True Positive Rate): 0.18393960192175704\n",
      "Specificity (True Negative Rate): 0.9842333058532564\n",
      "0.6365795724465558\n"
     ]
    }
   ],
   "source": [
    "y_pred = glm1_fit.predict(X_test)\n",
    "\n",
    "threshold = 0.5 # cut-off 값 \n",
    "y_pred_binary = (y_pred > threshold).astype(int)\n",
    "\n",
    "accuracy = accuracy_score(y_test, y_pred_binary)\n",
    "conf_matrix = confusion_matrix(y_test, y_pred_binary)\n",
    "\n",
    "sensitivity = conf_matrix[1, 1] / (conf_matrix[1, 0] + conf_matrix[1, 1])\n",
    "specificity = conf_matrix[0, 0] / (conf_matrix[0, 0] + conf_matrix[0, 1])\n",
    "\n",
    "print(\"\\nConfusion Matrix:\")\n",
    "print(conf_matrix)\n",
    "print(\"\\nAccuracy:\", accuracy) #0.87\n",
    "print(\"Sensitivity (True Positive Rate):\", sensitivity) # 0.18\n",
    "print(\"Specificity (True Negative Rate):\", specificity) # 0.98\n",
    "\n",
    "test = conf_matrix[1,1] / (conf_matrix[0, 1] + conf_matrix[1, 1])\n",
    "print(test)"
   ]
  },
  {
   "cell_type": "code",
   "execution_count": 169,
   "metadata": {},
   "outputs": [
    {
     "name": "stdout",
     "output_type": "stream",
     "text": [
      "(11161,)\n"
     ]
    }
   ],
   "source": [
    "print(y_pred.shape) #11,161                             "
   ]
  },
  {
   "cell_type": "code",
   "execution_count": 170,
   "metadata": {},
   "outputs": [],
   "source": [
    "# logit_model = LogisticRegression(penalty = 'none')\n",
    "# cv_scores = cross_val_score(logit_model, X_train, y_train, cv=5, scoring='accuracy')\n",
    "# mean_cv_accuracy = cv_scores.mean()\n",
    "# print(\"Cross-Validation Mean Accuracy:\", mean_cv_accuracy)\n",
    "\n",
    "# logit_model.fit(X_train, y_train)\n",
    "# print(\"Model Coefficients:\", logit_model.coef_)\n"
   ]
  },
  {
   "cell_type": "code",
   "execution_count": 171,
   "metadata": {},
   "outputs": [],
   "source": [
    "# X_train = sm.add_constant(X_train) \n",
    "# logit_model = sm.Logit(y_train, X_train)\n",
    "# result = logit_model.fit()\n",
    "\n",
    "# print(result.summary())\n",
    "\n",
    "# X_test = sm.add_constant(X_test) \n",
    "# y_pred = result.predict(X_test)  \n",
    "\n",
    "# y_pred_binary = (y_pred > 0.5).astype(int)\n",
    "\n",
    "# conf_matrix = confusion_matrix(y_test, y_pred_binary)\n",
    "# accuracy = accuracy_score(y_test, y_pred_binary)\n",
    "# sensitivity = conf_matrix[1, 1] / (conf_matrix[1, 0] + conf_matrix[1, 1])\n",
    "# specificity = conf_matrix[0, 0] / (conf_matrix[0, 0] + conf_matrix[0, 1])\n",
    "\n",
    "# print(\"\\nConfusion Matrix:\")\n",
    "# print(conf_matrix)\n",
    "# print(\"\\nAccuracy:\", accuracy)\n",
    "# print(\"Sensitivity (True Positive Rate):\", sensitivity)\n",
    "# print(\"Specificity (True Negative Rate):\", specificity)\n"
   ]
  },
  {
   "cell_type": "code",
   "execution_count": 172,
   "metadata": {},
   "outputs": [],
   "source": [
    "# glm_2 = LogisticRegression(penalty='none')\n",
    "# glm_2.fit(X_train, y_train)\n",
    "\n",
    "# variable_names = X_train.columns\n",
    "# coef = glm_2.coef_[0]\n",
    "\n",
    "# coef_table = pd.DataFrame({'Variable': variable_names, 'Coefficient': coef})\n",
    "\n",
    "# logit_model = sm.Logit(y_train, X_train)\n",
    "# result = logit_model.fit()\n",
    "# p_values = result.pvalues\n",
    "# coef_table['p-value'] = p_values\n",
    "\n",
    "# print(coef_table)\n",
    "# pred_glm = glm_2.predict(X_test)\n",
    "# class_report = classification_report(y_test, pred_glm)\n",
    "# print(class_report)"
   ]
  },
  {
   "attachments": {},
   "cell_type": "markdown",
   "metadata": {},
   "source": [
    "## 6. clustering"
   ]
  },
  {
   "cell_type": "code",
   "execution_count": 173,
   "metadata": {},
   "outputs": [],
   "source": [
    "def visualize_silhouette_scores(data, method='kmeans', param_init='random', param_n_init=10, param_max_iter=300):\n",
    "    clusters_range = range(2, 15)\n",
    "    results = []\n",
    "\n",
    "    for i in clusters_range:\n",
    "        if method == 'kmeans':\n",
    "            clusterer = KMeans(n_clusters=i, init=param_init, n_init=param_n_init, max_iter=param_max_iter, random_state=0)\n",
    "        elif method == 'agglomerative':\n",
    "            clusterer = AgglomerativeClustering(n_clusters=i)\n",
    "        else:\n",
    "            raise ValueError(\"Invalid method. Choose 'kmeans' or 'agglomerative'.\")\n",
    "\n",
    "        cluster_labels = clusterer.fit_predict(data)\n",
    "        silhouette_avg = silhouette_score(data, cluster_labels)\n",
    "        results.append([i, silhouette_avg])\n",
    "\n",
    "    result = pd.DataFrame(results, columns=[\"n_clusters\", \"silhouette_score\"])\n",
    "    \n",
    "    plt.figure()\n",
    "    sns.heatmap(pd.pivot_table(result, index=\"n_clusters\", values=\"silhouette_score\"),annot=True, linewidths=.5, fmt='.3f', cmap=sns.cm._rocket_lut)\n",
    "    plt.tight_layout()\n",
    "    plt.title(f\"Silhouette Scores for {method.capitalize()} Clustering\")\n",
    "    plt.xlabel(\"Number of Clusters\")\n",
    "    plt.ylabel(\"Silhouette Score\")\n",
    "    plt.show()\n"
   ]
  },
  {
   "cell_type": "code",
   "execution_count": 174,
   "metadata": {},
   "outputs": [
    {
     "data": {
      "image/png": "[encoded data removed]",
      "text/plain": [
       "<Figure size 640x480 with 2 Axes>"
      ]
     },
     "metadata": {},
     "output_type": "display_data"
    },
    {
     "data": {
      "image/png": "[encoded data removed]",
      "text/plain": [
       "<Figure size 640x480 with 2 Axes>"
      ]
     },
     "metadata": {},
     "output_type": "display_data"
    }
   ],
   "source": [
    "data  = y_pred.to_numpy().reshape(-1, 1)\n",
    "\n",
    "visualize_silhouette_scores(data, method='kmeans')\n",
    "visualize_silhouette_scores(data, method='agglomerative')"
   ]
  },
  {
   "cell_type": "code",
   "execution_count": 175,
   "metadata": {},
   "outputs": [
    {
     "data": {
      "image/png": "[encoded data removed]",
      "text/plain": [
       "<Figure size 1200x400 with 3 Axes>"
      ]
     },
     "metadata": {},
     "output_type": "display_data"
    }
   ],
   "source": [
    "X = y_pred.to_numpy().reshape(-1, 1)\n",
    "\n",
    "n = 2\n",
    "\n",
    "kmeans = KMeans(n_clusters = n )\n",
    "kmeans_clusters = kmeans.fit_predict(X)\n",
    "\n",
    "agglomerative = AgglomerativeClustering(n_clusters = n )\n",
    "agglomerative_clusters = agglomerative.fit_predict(X)\n",
    "\n",
    "kmeans_cluster_centers = kmeans.cluster_centers_\n",
    "agg_cluster_centers = np.array([X[agglomerative_clusters == i].mean() for i in range(2)])\n",
    "\n",
    "kmeans_clusters = kmeans_clusters\n",
    "agglomerative_clusters = agglomerative_clusters\n",
    "\n",
    "# 데이터 시각화\n",
    "plt.figure(figsize=(12, 4))\n",
    "\n",
    "plt.subplot(131)\n",
    "plt.scatter(X, y_pred, c=y_pred, cmap='viridis')\n",
    "plt.title('True Clusters')\n",
    "plt.xlabel('X')\n",
    "plt.ylabel('Y_pred')\n",
    "\n",
    "plt.subplot(132)\n",
    "plt.scatter(X, y_pred, c=kmeans_clusters, cmap='viridis')\n",
    "plt.scatter(kmeans_cluster_centers, [y_pred.mean()] * len(kmeans_cluster_centers), c='red', marker='x', s=100, label='Cluster Centers')\n",
    "plt.title('K-Means Clusters')\n",
    "plt.xlabel('X')\n",
    "plt.ylabel('Y_pred')\n",
    "\n",
    "plt.subplot(133)\n",
    "plt.scatter(X, y_pred, c=agglomerative_clusters, cmap='viridis')\n",
    "plt.scatter(agg_cluster_centers, [y_pred.mean()] * len(agg_cluster_centers), c='red', marker='x', s=100, label='Cluster Centers')\n",
    "plt.title('Agglomerative Clusters')\n",
    "plt.xlabel('X')\n",
    "plt.ylabel('Y_pred')\n",
    "\n",
    "plt.legend()\n",
    "plt.show()\n"
   ]
  },
  {
   "cell_type": "code",
   "execution_count": 176,
   "metadata": {},
   "outputs": [
    {
     "name": "stdout",
     "output_type": "stream",
     "text": [
      "K-Means Silhouette Score: 0.74\n",
      "Agglomerative Silhouette Score: 0.75\n"
     ]
    }
   ],
   "source": [
    "kmeans_silhouette_score = silhouette_score(X, kmeans_clusters)\n",
    "agglomerative_silhouette_score = silhouette_score(X, agglomerative_clusters)\n",
    "\n",
    "print(f\"K-Means Silhouette Score: {kmeans_silhouette_score:.2f}\")\n",
    "print(f\"Agglomerative Silhouette Score: {agglomerative_silhouette_score:.2f}\")\n"
   ]
  }
 ],
 "metadata": {
  "kernelspec": {
   "display_name": ".venv",
   "language": "python",
   "name": "python3"
  },
  "language_info": {
   "codemirror_mode": {
    "name": "ipython",
    "version": 3
   },
   "file_extension": ".py",
   "mimetype": "text/x-python",
   "name": "python",
   "nbconvert_exporter": "python",
   "pygments_lexer": "ipython3",
   "version": "3.9.6"
  },
  "orig_nbformat": 4
 },
 "nbformat": 4,
 "nbformat_minor": 2
}
