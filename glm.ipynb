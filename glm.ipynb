{
 "cells": [
  {
   "cell_type": "code",
   "execution_count": 673,
   "metadata": {},
   "outputs": [
    {
     "name": "stdout",
     "output_type": "stream",
     "text": [
      "/Users/yj.noh/Documents/GitHub\n"
     ]
    }
   ],
   "source": [
    "import pandas as pd\n",
    "import numpy as np\n",
    "import random \n",
    "import os\n",
    "import joblib\n",
    "import matplotlib.pyplot as plt\n",
    "import statsmodels.api as sm\n",
    "from datetime import datetime\n",
    "import seaborn as sns\n",
    "from sklearn.preprocessing import OneHotEncoder\n",
    "from sklearn.preprocessing import StandardScaler\n",
    "from sklearn.preprocessing import MinMaxScaler\n",
    "from sklearn.linear_model import LogisticRegression\n",
    "from sklearn.model_selection import train_test_split, cross_val_score\n",
    "from sklearn.metrics import log_loss, roc_auc_score, recall_score, precision_score, average_precision_score, f1_score, classification_report, accuracy_score,confusion_matrix, silhouette_score\n",
    "from statsmodels.stats.outliers_influence import variance_inflation_factor\n",
    "from sklearn.model_selection import GridSearchCV\n",
    "from sklearn.model_selection import cross_val_predict\n",
    "\n",
    "from sklearn.cluster import KMeans, AgglomerativeClustering, DBSCAN\n",
    "from sklearn.datasets import make_blobs\n",
    "\n",
    "import warnings\n",
    "warnings.filterwarnings(\"ignore\")\n",
    "os.chdir(\"/Users/yj.noh/Documents/GitHub\")\n",
    "print(os.getcwd())"
   ]
  },
  {
   "cell_type": "code",
   "execution_count": 674,
   "metadata": {},
   "outputs": [
    {
     "name": "stdout",
     "output_type": "stream",
     "text": [
      "                dlvry_id    전체배차시간  reg_hour  ord_price  \\\n",
      "17290  20230821_0000UUJQ  0.550000        19      16000   \n",
      "19315  20230821_0001DIBV  0.950000        10      35200   \n",
      "21143  20230821_0002BYML  1.150000        11      14400   \n",
      "20366  20230821_0003SQZC  0.516667        10      21100   \n",
      "18254  20230821_0004RRXD  0.250000        18      31100   \n",
      "\n",
      "       actual_dlvry_distance  pick_floor pick_rgn2_nm pick_rgn3_nm  \\\n",
      "17290                    123         1.0          서초구          서초동   \n",
      "19315                   1314         1.0          서초구          반포동   \n",
      "21143                   2067         1.0          서초구          방배동   \n",
      "20366                   1825         1.0          서초구          방배동   \n",
      "18254                   3867         1.0          서초구          반포동   \n",
      "\n",
      "      pick_category pick_건물용도  dlvry_지상층수  dlvry_지하층수 dlvry_건물용도 day_of_week  \\\n",
      "17290         SNACK      의료시설         6.0         2.0       의료시설         Mon   \n",
      "19315       BAEKBAN      의료시설         NaN         NaN        NaN         Mon   \n",
      "21143       WESTERN      업무시설        11.0         0.0        아파트         Mon   \n",
      "20366          CAFE     일반음식점         NaN         NaN       공동주택         Mon   \n",
      "18254        BURGER      교육시설        10.0         0.0        아파트         Mon   \n",
      "\n",
      "       is_holiday    기온  강수량 dlvry_rgn2_nm dlvry_rgn3_nm  outcome  \n",
      "17290       False  31.3  0.0           서초구           서초동        0  \n",
      "19315       False  28.8  0.0           서초구           반포동        0  \n",
      "21143       False  30.2  0.0           관악구           남현동        0  \n",
      "20366       False  28.8  0.0           서초구           반포동        0  \n",
      "18254       False  31.4  0.0           서초구           방배동        0  \n",
      "(68027, 20)\n"
     ]
    }
   ],
   "source": [
    "data = pd.read_csv(\"prj-ML-model-LT_OV30/modeling_data.csv\", encoding = \"cp949\")\n",
    "data = data.sort_values(by=[\"dlvry_id\"])\n",
    "print(data.head())\n",
    "print(data.shape)"
   ]
  },
  {
   "cell_type": "code",
   "execution_count": 675,
   "metadata": {},
   "outputs": [
    {
     "name": "stdout",
     "output_type": "stream",
     "text": [
      "(44644, 20)\n",
      "outcome\n",
      "0    38816\n",
      "1     5828\n",
      "Name: count, dtype: int64\n"
     ]
    }
   ],
   "source": [
    "# 건물 정보 없는 데이터 삭제 \n",
    "filtered_data = data.dropna(subset=['pick_건물용도', 'dlvry_건물용도'])\n",
    "print(filtered_data.shape) #44,644 \n",
    "print(filtered_data['outcome'].value_counts()) # 38,816, 5,828 "
   ]
  },
  {
   "cell_type": "code",
   "execution_count": 676,
   "metadata": {},
   "outputs": [
    {
     "name": "stdout",
     "output_type": "stream",
     "text": [
      "dlvry_id                    0\n",
      "전체배차시간                      0\n",
      "reg_hour                    0\n",
      "ord_price                   0\n",
      "actual_dlvry_distance       0\n",
      "pick_floor                  0\n",
      "pick_rgn2_nm                0\n",
      "pick_rgn3_nm                0\n",
      "pick_category               0\n",
      "pick_건물용도                   0\n",
      "dlvry_지상층수               5726\n",
      "dlvry_지하층수               5726\n",
      "dlvry_건물용도                  0\n",
      "day_of_week                 0\n",
      "is_holiday                  0\n",
      "기온                          0\n",
      "강수량                         0\n",
      "dlvry_rgn2_nm               0\n",
      "dlvry_rgn3_nm               0\n",
      "outcome                     0\n",
      "dtype: int64\n"
     ]
    }
   ],
   "source": [
    "print(filtered_data.isna().sum())"
   ]
  },
  {
   "cell_type": "code",
   "execution_count": 677,
   "metadata": {},
   "outputs": [
    {
     "name": "stdout",
     "output_type": "stream",
     "text": [
      "dlvry_id                  object\n",
      "전체배차시간                   float64\n",
      "reg_hour                   int64\n",
      "ord_price                  int64\n",
      "actual_dlvry_distance      int64\n",
      "pick_floor               float64\n",
      "pick_rgn2_nm              object\n",
      "pick_rgn3_nm              object\n",
      "pick_category             object\n",
      "pick_건물용도                 object\n",
      "dlvry_지상층수               float64\n",
      "dlvry_지하층수               float64\n",
      "dlvry_건물용도                object\n",
      "day_of_week               object\n",
      "is_holiday                  bool\n",
      "기온                       float64\n",
      "강수량                      float64\n",
      "dlvry_rgn2_nm             object\n",
      "dlvry_rgn3_nm             object\n",
      "outcome                    int64\n",
      "dtype: object\n"
     ]
    }
   ],
   "source": [
    "print(filtered_data.dtypes)"
   ]
  },
  {
   "cell_type": "code",
   "execution_count": 678,
   "metadata": {},
   "outputs": [
    {
     "name": "stdout",
     "output_type": "stream",
     "text": [
      "dlvry_id                    0\n",
      "전체배차시간                      0\n",
      "reg_hour                    0\n",
      "ord_price                   0\n",
      "actual_dlvry_distance       0\n",
      "pick_floor                  0\n",
      "pick_rgn2_nm                0\n",
      "pick_rgn3_nm                0\n",
      "pick_category               0\n",
      "pick_건물용도                   0\n",
      "dlvry_지상층수               5726\n",
      "dlvry_지하층수               5726\n",
      "dlvry_건물용도                  0\n",
      "day_of_week                 0\n",
      "is_holiday                  0\n",
      "기온                          0\n",
      "강수량                         0\n",
      "dlvry_rgn2_nm               0\n",
      "dlvry_rgn3_nm               0\n",
      "outcome                     0\n",
      "dtype: int64\n"
     ]
    }
   ],
   "source": [
    "# dlvry_지하층수 음수로\n",
    "# filtered_data['dlvry_지하층수'] = pd.to_numeric(filtered_data['dlvry_지하층수'], errors='coerce')\n",
    "# filtered_data['dlvry_지상층수'] = pd.to_numeric(filtered_data['dlvry_지상층수'], errors='coerce')\n",
    "# filtered_data['pick_floor'] = pd.to_numeric(filtered_data['pick_floor'], errors='coerce')\n",
    "\n",
    "filtered_data['dlvry_지하층수'] = filtered_data['dlvry_지하층수'].apply(lambda x: -x)\n",
    "#print(filtered_data.head())\n",
    "print(filtered_data.isna().sum())"
   ]
  },
  {
   "attachments": {},
   "cell_type": "markdown",
   "metadata": {},
   "source": [
    "## 1. 데이터 전처리\n"
   ]
  },
  {
   "attachments": {},
   "cell_type": "markdown",
   "metadata": {},
   "source": [
    "## 1-1. pick_건물용도/ dlvry_건물용도 : 개수 축소"
   ]
  },
  {
   "cell_type": "code",
   "execution_count": 679,
   "metadata": {},
   "outputs": [
    {
     "name": "stdout",
     "output_type": "stream",
     "text": [
      "pick_건물용도\n",
      "업무시설          14372\n",
      "근린생활시설         7875\n",
      "아파트            5367\n",
      "일반음식점          5206\n",
      "일반상점           3881\n",
      "공동주택           3089\n",
      "교육시설           1604\n",
      "의료시설           1177\n",
      "백화점             534\n",
      "자동차관련시설         471\n",
      "오피스텔            266\n",
      "기타시설            210\n",
      "숙박시설            174\n",
      "대형판매점           141\n",
      "위락시설            134\n",
      "문화시설             87\n",
      "종교시설             30\n",
      "체육시설             16\n",
      "위험물저장및처리시설       10\n",
      "Name: count, dtype: int64\n"
     ]
    }
   ],
   "source": [
    "print(filtered_data['pick_건물용도'].value_counts())"
   ]
  },
  {
   "cell_type": "code",
   "execution_count": 680,
   "metadata": {},
   "outputs": [
    {
     "name": "stdout",
     "output_type": "stream",
     "text": [
      "pick_건물용도\n",
      "업무시설      14372\n",
      "근린생활시설     7875\n",
      "아파트        5367\n",
      "일반음식점      5206\n",
      "일반상점       3881\n",
      "공동주택       3089\n",
      "교육시설       1604\n",
      "의료시설       1177\n",
      "기타시설        958\n",
      "백화점         534\n",
      "오피스텔        266\n",
      "숙박시설        174\n",
      "대형판매점       141\n",
      "Name: count, dtype: int64\n"
     ]
    }
   ],
   "source": [
    "# 데이터 정리\n",
    "values_to_replace = ['위락시설', '문화시설', '종교시설', '체육시설','위험물저장및처리시설', '자동차관련시설']\n",
    "filtered_data['pick_건물용도'] = data['pick_건물용도'].replace(values_to_replace, '기타시설')\n",
    "print(filtered_data['pick_건물용도'].value_counts())"
   ]
  },
  {
   "cell_type": "code",
   "execution_count": 681,
   "metadata": {},
   "outputs": [
    {
     "name": "stdout",
     "output_type": "stream",
     "text": [
      "dlvry_건물용도\n",
      "공동주택          16952\n",
      "아파트           13910\n",
      "업무시설           7279\n",
      "근린생활시설         1559\n",
      "일반상점           1224\n",
      "교육시설           1028\n",
      "의료시설            758\n",
      "일반음식점           557\n",
      "숙박시설            459\n",
      "공공시설            241\n",
      "종교시설            127\n",
      "교육연구시설          120\n",
      "오피스텔            101\n",
      "자동차관련시설          67\n",
      "방송통신시설           53\n",
      "기타시설             39\n",
      "백화점              36\n",
      "체육시설             36\n",
      "위험물저장및처리시설       18\n",
      "복지시설             16\n",
      "문화시설             14\n",
      "위락시설             12\n",
      "복합몰               7\n",
      "창고시설              6\n",
      "수련시설              6\n",
      "단독주택              5\n",
      "동식물시설             5\n",
      "운수시설              3\n",
      "노유자시설             2\n",
      "호텔                2\n",
      "체력시설              1\n",
      "공공용시설             1\n",
      "Name: count, dtype: int64\n"
     ]
    }
   ],
   "source": [
    "print(filtered_data['dlvry_건물용도'].value_counts())"
   ]
  },
  {
   "cell_type": "code",
   "execution_count": 682,
   "metadata": {},
   "outputs": [
    {
     "name": "stdout",
     "output_type": "stream",
     "text": [
      "dlvry_건물용도\n",
      "공동주택      16952\n",
      "아파트       13910\n",
      "업무시설       7279\n",
      "근린생활시설     1559\n",
      "일반상점       1224\n",
      "교육시설       1148\n",
      "의료시설        758\n",
      "일반음식점       557\n",
      "숙박시설        459\n",
      "기타시설        329\n",
      "공공시설        241\n",
      "종교시설        127\n",
      "오피스텔        101\n",
      "Name: count, dtype: int64\n"
     ]
    }
   ],
   "source": [
    "value_counts = filtered_data['dlvry_건물용도'].value_counts()\n",
    "\n",
    "threshold = 100\n",
    "filtered_data['dlvry_건물용도'] = filtered_data['dlvry_건물용도'].apply(lambda x: '기타시설' if value_counts[x] <= threshold else x)\n",
    "\n",
    "filtered_data['dlvry_건물용도'] = filtered_data['dlvry_건물용도'].replace('교육연구시설', '교육시설')\n",
    "filtered_data['dlvry_건물용도'] = filtered_data['dlvry_건물용도'].replace('공공용시설', '공공시설')\n",
    "\n",
    "print(filtered_data['dlvry_건물용도'].value_counts())"
   ]
  },
  {
   "attachments": {},
   "cell_type": "markdown",
   "metadata": {},
   "source": [
    "## 1-2. dlvry_지상층수 /지하층수 : dlvry_건물용도 median 값 가져오기"
   ]
  },
  {
   "cell_type": "code",
   "execution_count": 683,
   "metadata": {},
   "outputs": [
    {
     "name": "stdout",
     "output_type": "stream",
     "text": [
      "Median Values:\n",
      "            dlvry_지상층수  dlvry_지하층수\n",
      "dlvry_건물용도                        \n",
      "공공시설               3.0        -0.0\n",
      "공동주택               4.0        -1.0\n",
      "교육시설               6.0        -1.0\n",
      "근린생활시설             5.0        -1.0\n",
      "기타시설               5.0        -2.0\n",
      "숙박시설              10.0        -1.0\n",
      "아파트               15.0        -1.0\n",
      "업무시설              10.0        -3.0\n",
      "오피스텔              15.0        -7.0\n",
      "의료시설              10.0        -1.0\n",
      "일반상점               4.0        -1.0\n",
      "일반음식점              5.0        -1.0\n",
      "종교시설               4.0        -3.0\n",
      "\n",
      "Mean Values:\n",
      "            dlvry_지상층수  dlvry_지하층수\n",
      "dlvry_건물용도                        \n",
      "공공시설          3.066390   -0.203320\n",
      "공동주택          3.844208   -0.732086\n",
      "교육시설          6.414397   -1.383268\n",
      "근린생활시설        5.316228   -1.250160\n",
      "기타시설          8.412698   -2.501587\n",
      "숙박시설         10.838428   -2.397380\n",
      "아파트          18.313515   -1.368009\n",
      "업무시설         11.697593   -3.120231\n",
      "오피스텔         15.000000   -6.118812\n",
      "의료시설          9.507916   -1.928760\n",
      "일반상점          5.041667   -1.446078\n",
      "일반음식점         4.746858   -1.263914\n",
      "종교시설          4.227642   -2.560976\n"
     ]
    }
   ],
   "source": [
    "median_values = filtered_data.dropna().groupby('dlvry_건물용도')[['dlvry_지상층수', 'dlvry_지하층수']].median()\n",
    "mean_values = filtered_data.dropna().groupby('dlvry_건물용도')[['dlvry_지상층수', 'dlvry_지하층수']].mean()\n",
    "\n",
    "print(\"Median Values:\")\n",
    "print(median_values)\n",
    "\n",
    "print(\"\\nMean Values:\")\n",
    "print(mean_values)\n"
   ]
  },
  {
   "cell_type": "code",
   "execution_count": 684,
   "metadata": {},
   "outputs": [
    {
     "name": "stdout",
     "output_type": "stream",
     "text": [
      "             전체배차시간      reg_hour      ord_price  actual_dlvry_distance  \\\n",
      "count  44644.000000  44644.000000   44644.000000           44644.000000   \n",
      "mean       2.737062     15.780866   27080.946757            1959.281538   \n",
      "std        4.813153      3.745221   17994.351039            1156.483892   \n",
      "min        0.083333      9.000000    5000.000000               1.000000   \n",
      "25%        0.550000     12.000000   16700.000000            1115.000000   \n",
      "50%        1.000000     16.000000   22400.000000            1756.000000   \n",
      "75%        2.483333     19.000000   31400.000000            2514.000000   \n",
      "max       77.600000     23.000000  483000.000000            8003.000000   \n",
      "\n",
      "         pick_floor    dlvry_지상층수    dlvry_지하층수            기온           강수량  \\\n",
      "count  44644.000000  44644.000000  44644.000000  44644.000000  44644.000000   \n",
      "mean       0.748006     10.028380     -1.476481     26.778833      0.609437   \n",
      "std        0.924460      8.766227      1.608017      2.664765      3.162902   \n",
      "min       -1.000000      0.000000     -9.000000     20.800000      0.000000   \n",
      "25%        1.000000      4.000000     -1.000000     24.600000      0.000000   \n",
      "50%        1.000000      6.000000     -1.000000     27.100000      0.000000   \n",
      "75%        1.000000     15.000000     -1.000000     28.800000      0.000000   \n",
      "max        8.000000     69.000000     -0.000000     33.500000     27.600000   \n",
      "\n",
      "            outcome  \n",
      "count  44644.000000  \n",
      "mean       0.130544  \n",
      "std        0.336905  \n",
      "min        0.000000  \n",
      "25%        0.000000  \n",
      "50%        0.000000  \n",
      "75%        0.000000  \n",
      "max        1.000000  \n",
      "Index(['dlvry_id', '전체배차시간', 'reg_hour', 'ord_price', 'actual_dlvry_distance',\n",
      "       'pick_floor', 'pick_rgn2_nm', 'pick_rgn3_nm', 'pick_category',\n",
      "       'pick_건물용도', 'dlvry_지상층수', 'dlvry_지하층수', 'dlvry_건물용도', 'day_of_week',\n",
      "       'is_holiday', '기온', '강수량', 'dlvry_rgn2_nm', 'dlvry_rgn3_nm', 'outcome'],\n",
      "      dtype='object')\n"
     ]
    }
   ],
   "source": [
    "# na 값을 중앙값으로 채우기\n",
    "filtered_data['dlvry_지상층수'].fillna(filtered_data['dlvry_건물용도'].map(median_values['dlvry_지상층수']), inplace=True)\n",
    "filtered_data['dlvry_지하층수'].fillna(filtered_data['dlvry_건물용도'].map(median_values['dlvry_지하층수']), inplace=True)\n",
    "\n",
    "print(filtered_data.describe())\n",
    "print(filtered_data.columns)"
   ]
  },
  {
   "cell_type": "code",
   "execution_count": 685,
   "metadata": {},
   "outputs": [
    {
     "name": "stdout",
     "output_type": "stream",
     "text": [
      "dlvry_id                 0\n",
      "전체배차시간                   0\n",
      "reg_hour                 0\n",
      "ord_price                0\n",
      "actual_dlvry_distance    0\n",
      "pick_floor               0\n",
      "pick_rgn2_nm             0\n",
      "pick_rgn3_nm             0\n",
      "pick_category            0\n",
      "pick_건물용도                0\n",
      "dlvry_지상층수               0\n",
      "dlvry_지하층수               0\n",
      "dlvry_건물용도               0\n",
      "day_of_week              0\n",
      "is_holiday               0\n",
      "기온                       0\n",
      "강수량                      0\n",
      "dlvry_rgn2_nm            0\n",
      "dlvry_rgn3_nm            0\n",
      "outcome                  0\n",
      "dtype: int64\n"
     ]
    }
   ],
   "source": [
    "print(filtered_data.isna().sum())"
   ]
  },
  {
   "attachments": {},
   "cell_type": "markdown",
   "metadata": {},
   "source": [
    "## 1-3.  pick_floor, dlvry_지상층수, dlvry_지하층수 "
   ]
  },
  {
   "cell_type": "code",
   "execution_count": 686,
   "metadata": {},
   "outputs": [
    {
     "name": "stdout",
     "output_type": "stream",
     "text": [
      "pick_floor\n",
      " 1.0    31450\n",
      "-1.0     7548\n",
      " 2.0     3810\n",
      " 0.0     1363\n",
      " 3.0      314\n",
      " 4.0       85\n",
      " 8.0       73\n",
      " 6.0        1\n",
      "Name: count, dtype: int64\n"
     ]
    }
   ],
   "source": [
    "print(filtered_data['pick_floor'].value_counts())"
   ]
  },
  {
   "cell_type": "code",
   "execution_count": 687,
   "metadata": {},
   "outputs": [
    {
     "name": "stdout",
     "output_type": "stream",
     "text": [
      "dlvry_지하층수\n",
      "-1.0    24736\n",
      "-0.0     9058\n",
      "-2.0     3590\n",
      "-3.0     1876\n",
      "-4.0     1778\n",
      "-5.0     1483\n",
      "-6.0     1233\n",
      "-7.0      674\n",
      "-8.0      215\n",
      "-9.0        1\n",
      "Name: count, dtype: int64\n"
     ]
    }
   ],
   "source": [
    "print(filtered_data['dlvry_지하층수'].value_counts())"
   ]
  },
  {
   "cell_type": "code",
   "execution_count": 688,
   "metadata": {},
   "outputs": [
    {
     "name": "stdout",
     "output_type": "stream",
     "text": [
      "dlvry_지상층수\n",
      "4.0     9546\n",
      "5.0     5935\n",
      "3.0     4366\n",
      "15.0    4286\n",
      "6.0     2892\n",
      "2.0     1796\n",
      "12.0    1556\n",
      "7.0     1408\n",
      "20.0    1372\n",
      "10.0    1270\n",
      "13.0    1182\n",
      "29.0     872\n",
      "32.0     782\n",
      "14.0     722\n",
      "9.0      713\n",
      "25.0     599\n",
      "18.0     551\n",
      "24.0     526\n",
      "8.0      522\n",
      "11.0     466\n",
      "27.0     413\n",
      "22.0     412\n",
      "16.0     329\n",
      "17.0     269\n",
      "37.0     267\n",
      "21.0     262\n",
      "19.0     248\n",
      "46.0     184\n",
      "26.0     177\n",
      "1.0      171\n",
      "23.0     166\n",
      "31.0     114\n",
      "66.0      52\n",
      "28.0      43\n",
      "69.0      40\n",
      "55.0      30\n",
      "51.0      26\n",
      "34.0      22\n",
      "44.0      20\n",
      "45.0      16\n",
      "0.0        9\n",
      "30.0       8\n",
      "33.0       4\n",
      "Name: count, dtype: int64\n",
      "count    44644.000000\n",
      "mean        10.028380\n",
      "std          8.766227\n",
      "min          0.000000\n",
      "25%          4.000000\n",
      "50%          6.000000\n",
      "75%         15.000000\n",
      "max         69.000000\n",
      "Name: dlvry_지상층수, dtype: float64\n"
     ]
    }
   ],
   "source": [
    "print(filtered_data['dlvry_지상층수'].value_counts())\n",
    "print(filtered_data['dlvry_지상층수'].describe())"
   ]
  },
  {
   "cell_type": "code",
   "execution_count": 689,
   "metadata": {},
   "outputs": [
    {
     "name": "stdout",
     "output_type": "stream",
     "text": [
      "dlvry_지상층수\n",
      "저층      21823\n",
      "중상층      8212\n",
      "중층       6805\n",
      "고층       6239\n",
      "준초고층     1417\n",
      "초고층       148\n",
      "Name: count, dtype: int64\n",
      "pick_floor\n",
      "저층    37022\n",
      "지하     7548\n",
      "중층       74\n",
      "Name: count, dtype: int64\n"
     ]
    }
   ],
   "source": [
    "def categorize_floor(value):\n",
    "    if value < 0:\n",
    "        return '지하'\n",
    "    elif 0 <= value <= 5:\n",
    "        return '저층'\n",
    "    elif 6 <= value <= 10 :\n",
    "        return '중층'\n",
    "    elif 11 <= value <= 15 : \n",
    "        return '중상층'\n",
    "    elif 16 <= value <= 29 :\n",
    "        return '고층'\n",
    "    elif 30 <= value <= 49 :\n",
    "        return '준초고층'\n",
    "    elif 50 <= value:\n",
    "        return '초고층'\n",
    "\n",
    "filtered_data['pick_floor'] = filtered_data['pick_floor'].apply(categorize_floor)\n",
    "filtered_data['dlvry_지상층수'] = filtered_data['dlvry_지상층수'].apply(categorize_floor)\n",
    "\n",
    "print(filtered_data['dlvry_지상층수'].value_counts())\n",
    "print(filtered_data['pick_floor'].value_counts())"
   ]
  },
  {
   "attachments": {},
   "cell_type": "markdown",
   "metadata": {},
   "source": [
    "## 1-4. pick_rgn2_nm, dlvry_rgn2_nm, dlvry_rgn3_nm 정제"
   ]
  },
  {
   "cell_type": "code",
   "execution_count": 690,
   "metadata": {},
   "outputs": [
    {
     "name": "stdout",
     "output_type": "stream",
     "text": [
      "dlvry_rgn2_nm\n",
      "서초구    32886\n",
      "강남구     8302\n",
      "동작구     2388\n",
      "관악구      937\n",
      "과천시      126\n",
      "용산구        5\n",
      "Name: count, dtype: int64\n",
      "dlvry_rgn3_nm\n",
      "서초동      13101\n",
      "방배동       6994\n",
      "반포동       6344\n",
      "역삼동       2814\n",
      "양재동       2729\n",
      "잠원동       2043\n",
      "사당동       1999\n",
      "논현동       1832\n",
      "우면동       1675\n",
      "도곡동       1218\n",
      "개포동        995\n",
      "남현동        500\n",
      "봉천동        427\n",
      "대치동        418\n",
      "신사동        417\n",
      "삼성동        267\n",
      "압구정동       161\n",
      "흑석동        151\n",
      "청담동        148\n",
      "동작동        128\n",
      "상도동         76\n",
      "주암동         75\n",
      "과천동         48\n",
      "일원동         25\n",
      "상도1동        18\n",
      "신림동         10\n",
      "본동          10\n",
      "노량진동         6\n",
      "용산동6가        5\n",
      "자곡동          5\n",
      "부림동          3\n",
      "수서동          2\n",
      "Name: count, dtype: int64\n"
     ]
    }
   ],
   "source": [
    "print(filtered_data['dlvry_rgn2_nm'].value_counts())\n",
    "print(filtered_data['dlvry_rgn3_nm'].value_counts())"
   ]
  },
  {
   "attachments": {},
   "cell_type": "markdown",
   "metadata": {},
   "source": [
    "## 2. 데이터 전처리"
   ]
  },
  {
   "cell_type": "code",
   "execution_count": 691,
   "metadata": {},
   "outputs": [
    {
     "name": "stdout",
     "output_type": "stream",
     "text": [
      "(44644, 20)\n",
      "<class 'pandas.core.frame.DataFrame'>\n",
      "Index: 44644 entries, 17290 to 15409\n",
      "Data columns (total 20 columns):\n",
      " #   Column                 Non-Null Count  Dtype  \n",
      "---  ------                 --------------  -----  \n",
      " 0   dlvry_id               44644 non-null  object \n",
      " 1   전체배차시간                 44644 non-null  float64\n",
      " 2   reg_hour               44644 non-null  int64  \n",
      " 3   ord_price              44644 non-null  int64  \n",
      " 4   actual_dlvry_distance  44644 non-null  int64  \n",
      " 5   pick_floor             44644 non-null  object \n",
      " 6   pick_rgn2_nm           44644 non-null  object \n",
      " 7   pick_rgn3_nm           44644 non-null  object \n",
      " 8   pick_category          44644 non-null  object \n",
      " 9   pick_건물용도              44644 non-null  object \n",
      " 10  dlvry_지상층수             44644 non-null  object \n",
      " 11  dlvry_지하층수             44644 non-null  float64\n",
      " 12  dlvry_건물용도             44644 non-null  object \n",
      " 13  day_of_week            44644 non-null  object \n",
      " 14  is_holiday             44644 non-null  bool   \n",
      " 15  기온                     44644 non-null  float64\n",
      " 16  강수량                    44644 non-null  float64\n",
      " 17  dlvry_rgn2_nm          44644 non-null  object \n",
      " 18  dlvry_rgn3_nm          44644 non-null  object \n",
      " 19  outcome                44644 non-null  int64  \n",
      "dtypes: bool(1), float64(4), int64(4), object(11)\n",
      "memory usage: 6.9+ MB\n",
      "None\n"
     ]
    }
   ],
   "source": [
    "print(filtered_data.shape) #44,644\n",
    "print(filtered_data.info())"
   ]
  },
  {
   "cell_type": "code",
   "execution_count": 692,
   "metadata": {},
   "outputs": [],
   "source": [
    "dataset = filtered_data[[ 'dlvry_id','reg_hour', 'ord_price','actual_dlvry_distance', 'pick_floor', \n",
    "                         'pick_category', 'pick_건물용도','dlvry_지상층수', \n",
    "                         'dlvry_건물용도','day_of_week', 'is_holiday', '기온',  'outcome', '전체배차시간'\n",
    "                        ]]\n",
    "dataset.isna().sum()\n",
    "dataset = dataset.sort_values(by=[\"dlvry_id\"])\n",
    "dataset.to_csv('prj-ML-model-LT_OV30/modeling_data_final.csv', index= False, encoding = \"utf-8\")"
   ]
  },
  {
   "cell_type": "code",
   "execution_count": 693,
   "metadata": {},
   "outputs": [
    {
     "name": "stdout",
     "output_type": "stream",
     "text": [
      "outcome\n",
      "0    38816\n",
      "1     5828\n",
      "Name: count, dtype: int64\n",
      "0\n"
     ]
    }
   ],
   "source": [
    "print(dataset['outcome'].value_counts())\n",
    "print(dataset['outcome'].isna().sum())"
   ]
  },
  {
   "attachments": {},
   "cell_type": "markdown",
   "metadata": {},
   "source": [
    "## 2-1. factor 변수 / one-hot-encoding"
   ]
  },
  {
   "attachments": {},
   "cell_type": "markdown",
   "metadata": {},
   "source": [
    "### category화"
   ]
  },
  {
   "cell_type": "code",
   "execution_count": 694,
   "metadata": {},
   "outputs": [],
   "source": [
    "# category  \n",
    "# for col in ['reg_hour','pick_floor',  'pick_category', 'pick_건물용도','dlvry_지상층수','dlvry_건물용도',\n",
    "#             'day_of_week', 'is_holiday', 'outcome' ] : \n",
    "#     dataset[col] = dataset[col].astype('category')\n",
    "\n",
    "# print(dataset.dtypes)"
   ]
  },
  {
   "attachments": {},
   "cell_type": "markdown",
   "metadata": {},
   "source": [
    "### mean target encoding"
   ]
  },
  {
   "cell_type": "code",
   "execution_count": 695,
   "metadata": {},
   "outputs": [],
   "source": [
    "# mean target encoding \n",
    "# categorical_vars = ['reg_hour', 'pick_category', 'pick_건물용도','dlvry_지상층수','dlvry_건물용도']\n",
    "\n",
    "# for var in categorical_vars:\n",
    "#     target_mean = dataset.groupby(var)['outcome'].mean() \n",
    "#     dataset[f'{var}_target_mean'] = dataset[var].map(target_mean)\n",
    "\n",
    "# dataset.drop(columns=categorical_vars, inplace=True)\n"
   ]
  },
  {
   "attachments": {},
   "cell_type": "markdown",
   "metadata": {},
   "source": [
    "### get dummies"
   ]
  },
  {
   "cell_type": "code",
   "execution_count": 696,
   "metadata": {},
   "outputs": [
    {
     "name": "stdout",
     "output_type": "stream",
     "text": [
      "                dlvry_id  ord_price  actual_dlvry_distance day_of_week    기온  \\\n",
      "17290  20230821_0000UUJQ      16000                    123         Mon  31.3   \n",
      "21143  20230821_0002BYML      14400                   2067         Mon  30.2   \n",
      "\n",
      "       outcome  전체배차시간  is_holiday_True  pick_floor_중층  pick_floor_지하  ...  \\\n",
      "17290        0    0.55                0              0              0  ...   \n",
      "21143        0    1.15                0              0              0  ...   \n",
      "\n",
      "       dlvry_건물용도_근린생활시설  dlvry_건물용도_기타시설  dlvry_건물용도_숙박시설  dlvry_건물용도_아파트  \\\n",
      "17290                  0                0                0               0   \n",
      "21143                  0                0                0               1   \n",
      "\n",
      "       dlvry_건물용도_업무시설  dlvry_건물용도_오피스텔  dlvry_건물용도_의료시설  dlvry_건물용도_일반상점  \\\n",
      "17290                0                0                1                0   \n",
      "21143                0                0                0                0   \n",
      "\n",
      "       dlvry_건물용도_일반음식점  dlvry_건물용도_종교시설  \n",
      "17290                 0                0  \n",
      "21143                 0                0  \n",
      "\n",
      "[2 rows x 65 columns]\n"
     ]
    }
   ],
   "source": [
    "var = ['is_holiday', 'pick_floor', 'reg_hour', 'pick_category', 'pick_건물용도', 'dlvry_지상층수', 'dlvry_건물용도']\n",
    "\n",
    "dataset = pd.get_dummies(dataset, columns=var, prefix=var, drop_first=True)\n",
    "\n",
    "for column in dataset.columns:\n",
    "    for var_column in var:\n",
    "        if var_column in column:\n",
    "            dataset[column] = dataset[column].astype(int)\n",
    "\n",
    "dataset = dataset.sort_values(by=[\"dlvry_id\"])\n",
    "\n",
    "print(dataset.head(2))"
   ]
  },
  {
   "attachments": {},
   "cell_type": "markdown",
   "metadata": {},
   "source": [
    "### One Hot Encoding"
   ]
  },
  {
   "cell_type": "code",
   "execution_count": 697,
   "metadata": {},
   "outputs": [],
   "source": [
    "# var = ['is_holiday', 'pick_floor', 'reg_hour', 'pick_category', 'pick_건물용도', 'dlvry_지상층수', 'dlvry_건물용도'] \n",
    "# encoder = OneHotEncoder(sparse = False) #array 필요\n",
    "# onehot = pd.DataFrame(encoder.fit_transform(dataset[var]).toarray(), columns=encoder.get_feature_names_out(var), index = dataset.index)\n",
    "# dataset = pd.concat([onehot, dataset.drop(columns=var)], axis=1)\n",
    "# dataset = dataset.sort_values(by=[\"dlvry_id\"])\n",
    "# print(dataset.columns)"
   ]
  },
  {
   "attachments": {},
   "cell_type": "markdown",
   "metadata": {},
   "source": [
    "## 3. train/test set split"
   ]
  },
  {
   "cell_type": "code",
   "execution_count": 698,
   "metadata": {},
   "outputs": [
    {
     "name": "stdout",
     "output_type": "stream",
     "text": [
      "outcome\n",
      "0    29112\n",
      "1     4371\n",
      "Name: count, dtype: int64\n",
      "outcome\n",
      "0    9704\n",
      "1    1457\n",
      "Name: count, dtype: int64\n",
      "(33483, 65)\n",
      "(11161, 65)\n"
     ]
    }
   ],
   "source": [
    "outcome_counts = dataset['outcome'].value_counts()\n",
    "train_set, test_set = train_test_split(dataset, test_size=0.25, stratify = dataset['outcome'], random_state=1234)\n",
    "\n",
    "train_outcome_counts = train_set['outcome'].value_counts()\n",
    "test_outcome_counts = test_set['outcome'].value_counts()\n",
    "\n",
    "print(train_outcome_counts)\n",
    "print(test_outcome_counts)\n",
    "\n",
    "print(train_set.shape) #33,483\n",
    "print(test_set.shape) #11,161"
   ]
  },
  {
   "cell_type": "code",
   "execution_count": 699,
   "metadata": {},
   "outputs": [
    {
     "name": "stdout",
     "output_type": "stream",
     "text": [
      "Index(['ord_price', 'actual_dlvry_distance', '기온', 'is_holiday_True',\n",
      "       'pick_floor_중층', 'pick_floor_지하', 'reg_hour_10', 'reg_hour_11',\n",
      "       'reg_hour_12', 'reg_hour_13', 'reg_hour_14', 'reg_hour_15',\n",
      "       'reg_hour_16', 'reg_hour_17', 'reg_hour_18', 'reg_hour_19',\n",
      "       'reg_hour_20', 'reg_hour_21', 'reg_hour_22', 'reg_hour_23',\n",
      "       'pick_category_BAEKBAN', 'pick_category_BURGER', 'pick_category_CAFE',\n",
      "       'pick_category_CHICKEN', 'pick_category_CHINESE',\n",
      "       'pick_category_JAPANESE', 'pick_category_JOKBAL', 'pick_category_MEAT',\n",
      "       'pick_category_PIZZA', 'pick_category_SNACK', 'pick_category_WESTERN',\n",
      "       'pick_category_ZZIM_TANG', 'pick_건물용도_교육시설', 'pick_건물용도_근린생활시설',\n",
      "       'pick_건물용도_기타시설', 'pick_건물용도_대형판매점', 'pick_건물용도_백화점', 'pick_건물용도_숙박시설',\n",
      "       'pick_건물용도_아파트', 'pick_건물용도_업무시설', 'pick_건물용도_오피스텔', 'pick_건물용도_의료시설',\n",
      "       'pick_건물용도_일반상점', 'pick_건물용도_일반음식점', 'dlvry_지상층수_저층', 'dlvry_지상층수_준초고층',\n",
      "       'dlvry_지상층수_중상층', 'dlvry_지상층수_중층', 'dlvry_지상층수_초고층', 'dlvry_건물용도_공동주택',\n",
      "       'dlvry_건물용도_교육시설', 'dlvry_건물용도_근린생활시설', 'dlvry_건물용도_기타시설',\n",
      "       'dlvry_건물용도_숙박시설', 'dlvry_건물용도_아파트', 'dlvry_건물용도_업무시설',\n",
      "       'dlvry_건물용도_오피스텔', 'dlvry_건물용도_의료시설', 'dlvry_건물용도_일반상점',\n",
      "       'dlvry_건물용도_일반음식점', 'dlvry_건물용도_종교시설'],\n",
      "      dtype='object')\n"
     ]
    }
   ],
   "source": [
    "X_train = train_set.drop(columns=['outcome', '전체배차시간','dlvry_id', 'day_of_week'])\n",
    "y_train = train_set['outcome']\n",
    "\n",
    "X_test = test_set.drop(columns=['outcome', '전체배차시간','dlvry_id', 'day_of_week'])\n",
    "y_test = test_set['outcome']\n",
    "\n",
    "print(X_train.columns)"
   ]
  },
  {
   "cell_type": "code",
   "execution_count": 700,
   "metadata": {},
   "outputs": [],
   "source": [
    "# set.seed(1234)\n",
    "# train_ratio = 0.75\n",
    "# total_samples = dataset.shape[0]\n",
    "# train_samples = int(train_ratio * total_samples)\n",
    "# train_set = dataset[:train_samples]\n",
    "# test_set = dataset[train_samples:]\n",
    "\n",
    "# print(train_set.shape) #33483\n",
    "# print(test_set.shape) #11161"
   ]
  },
  {
   "attachments": {},
   "cell_type": "markdown",
   "metadata": {},
   "source": [
    "## 4. numeric variables"
   ]
  },
  {
   "cell_type": "code",
   "execution_count": 701,
   "metadata": {},
   "outputs": [
    {
     "name": "stdout",
     "output_type": "stream",
     "text": [
      "(33483, 61)\n",
      "(11161, 61)\n"
     ]
    }
   ],
   "source": [
    "num_vars = ['ord_price', 'actual_dlvry_distance', '기온']\n",
    "scaler = MinMaxScaler()\n",
    "\n",
    "X_train[num_vars] = scaler.fit_transform(X_train[num_vars])\n",
    "X_test[num_vars] = scaler.transform(X_test[num_vars])\n",
    "\n",
    "#print(X_train.head())\n",
    "print(X_train.shape) #33,483\n",
    "print(X_test.shape) #11,161"
   ]
  },
  {
   "attachments": {},
   "cell_type": "markdown",
   "metadata": {},
   "source": [
    "## 5. modeling - Logistic Regression"
   ]
  },
  {
   "cell_type": "code",
   "execution_count": 702,
   "metadata": {},
   "outputs": [],
   "source": [
    "# def calculate_vif(data):\n",
    "#     vif_data = pd.DataFrame()\n",
    "#     vif_data[\"Variable\"] = data.columns\n",
    "#     vif_data[\"VIF\"] = [variance_inflation_factor(data.values, i) for i in range(data.shape[1])]\n",
    "#     return vif_data\n",
    "\n",
    "# # 다중 공선성 확인\n",
    "# vif_result = calculate_vif(X_train)\n",
    "# print(vif_result)"
   ]
  },
  {
   "attachments": {},
   "cell_type": "markdown",
   "metadata": {},
   "source": [
    "### sm.GLM"
   ]
  },
  {
   "cell_type": "code",
   "execution_count": 703,
   "metadata": {},
   "outputs": [
    {
     "name": "stdout",
     "output_type": "stream",
     "text": [
      "                 Generalized Linear Model Regression Results                  \n",
      "==============================================================================\n",
      "Dep. Variable:                outcome   No. Observations:                33483\n",
      "Model:                            GLM   Df Residuals:                    33422\n",
      "Model Family:                Binomial   Df Model:                           60\n",
      "Link Function:                  Logit   Scale:                          1.0000\n",
      "Method:                          IRLS   Log-Likelihood:                -10871.\n",
      "Date:                Wed, 27 Sep 2023   Deviance:                       21743.\n",
      "Time:                        13:08:06   Pearson chi2:                 3.42e+04\n",
      "No. Iterations:                     6   Pseudo R-squ. (CS):             0.1179\n",
      "Covariance Type:            nonrobust                                         \n",
      "===========================================================================================\n",
      "                              coef    std err          z      P>|z|      [0.025      0.975]\n",
      "-------------------------------------------------------------------------------------------\n",
      "ord_price                   2.4650      0.443      5.560      0.000       1.596       3.334\n",
      "actual_dlvry_distance       5.0412      0.112     44.915      0.000       4.821       5.261\n",
      "기온                         -1.1435      0.102    -11.254      0.000      -1.343      -0.944\n",
      "is_holiday_True             0.1093      0.039      2.811      0.005       0.033       0.185\n",
      "pick_floor_중층               1.2950      0.333      3.887      0.000       0.642       1.948\n",
      "pick_floor_지하              -0.0396      0.051     -0.773      0.440      -0.140       0.061\n",
      "reg_hour_10                -0.9383      0.135     -6.966      0.000      -1.202      -0.674\n",
      "reg_hour_11                -1.2595      0.119    -10.599      0.000      -1.492      -1.027\n",
      "reg_hour_12                -0.9923      0.121     -8.234      0.000      -1.228      -0.756\n",
      "reg_hour_13                -0.7293      0.127     -5.723      0.000      -0.979      -0.480\n",
      "reg_hour_14                 0.1990      0.122      1.631      0.103      -0.040       0.438\n",
      "reg_hour_15                 0.2703      0.125      2.168      0.030       0.026       0.515\n",
      "reg_hour_16                 0.3207      0.122      2.634      0.008       0.082       0.559\n",
      "reg_hour_17                -0.7607      0.123     -6.162      0.000      -1.003      -0.519\n",
      "reg_hour_18                -0.9504      0.120     -7.906      0.000      -1.186      -0.715\n",
      "reg_hour_19                -0.9673      0.121     -8.012      0.000      -1.204      -0.731\n",
      "reg_hour_20                -0.4927      0.121     -4.057      0.000      -0.731      -0.255\n",
      "reg_hour_21                 0.4262      0.120      3.552      0.000       0.191       0.661\n",
      "reg_hour_22                 1.1595      0.122      9.535      0.000       0.921       1.398\n",
      "reg_hour_23                 0.3665      0.138      2.660      0.008       0.096       0.636\n",
      "pick_category_BAEKBAN      -0.4148      0.106     -3.927      0.000      -0.622      -0.208\n",
      "pick_category_BURGER       -0.3291      0.110     -3.004      0.003      -0.544      -0.114\n",
      "pick_category_CAFE         -0.5200      0.099     -5.253      0.000      -0.714      -0.326\n",
      "pick_category_CHICKEN      -0.7523      0.106     -7.115      0.000      -0.960      -0.545\n",
      "pick_category_CHINESE      -0.1842      0.106     -1.731      0.083      -0.393       0.024\n",
      "pick_category_JAPANESE     -0.4361      0.111     -3.931      0.000      -0.654      -0.219\n",
      "pick_category_JOKBAL       -0.5901      0.155     -3.814      0.000      -0.893      -0.287\n",
      "pick_category_MEAT         -0.2002      0.116     -1.731      0.083      -0.427       0.026\n",
      "pick_category_PIZZA        -0.2271      0.117     -1.946      0.052      -0.456       0.002\n",
      "pick_category_SNACK        -0.6069      0.104     -5.845      0.000      -0.810      -0.403\n",
      "pick_category_WESTERN      -0.3782      0.117     -3.241      0.001      -0.607      -0.150\n",
      "pick_category_ZZIM_TANG    -0.5612      0.110     -5.081      0.000      -0.778      -0.345\n",
      "pick_건물용도_교육시설             -0.0990      0.113     -0.877      0.380      -0.320       0.122\n",
      "pick_건물용도_근린생활시설           -0.0652      0.075     -0.866      0.387      -0.213       0.082\n",
      "pick_건물용도_기타시설             -0.0969      0.138     -0.703      0.482      -0.367       0.173\n",
      "pick_건물용도_대형판매점            -0.3266      0.341     -0.956      0.339      -0.996       0.343\n",
      "pick_건물용도_백화점              -0.6582      0.190     -3.470      0.001      -1.030      -0.286\n",
      "pick_건물용도_숙박시설              0.4762      0.242      1.966      0.049       0.002       0.951\n",
      "pick_건물용도_아파트               0.1847      0.080      2.316      0.021       0.028       0.341\n",
      "pick_건물용도_업무시설             -0.1298      0.070     -1.846      0.065      -0.268       0.008\n",
      "pick_건물용도_오피스텔              0.3528      0.229      1.538      0.124      -0.097       0.802\n",
      "pick_건물용도_의료시설             -0.0093      0.123     -0.076      0.939      -0.250       0.231\n",
      "pick_건물용도_일반상점             -0.1844      0.088     -2.099      0.036      -0.357      -0.012\n",
      "pick_건물용도_일반음식점            -0.1150      0.082     -1.402      0.161      -0.276       0.046\n",
      "dlvry_지상층수_저층              -0.1906      0.084     -2.272      0.023      -0.355      -0.026\n",
      "dlvry_지상층수_준초고층             0.2684      0.101      2.661      0.008       0.071       0.466\n",
      "dlvry_지상층수_중상층             -0.1355      0.062     -2.178      0.029      -0.257      -0.014\n",
      "dlvry_지상층수_중층              -0.1356      0.073     -1.850      0.064      -0.279       0.008\n",
      "dlvry_지상층수_초고층              0.0085      0.247      0.034      0.973      -0.475       0.492\n",
      "dlvry_건물용도_공동주택            -1.8998      0.126    -15.105      0.000      -2.146      -1.653\n",
      "dlvry_건물용도_교육시설            -1.5716      0.161     -9.748      0.000      -1.888      -1.256\n",
      "dlvry_건물용도_근린생활시설          -2.3064      0.165    -14.001      0.000      -2.629      -1.984\n",
      "dlvry_건물용도_기타시설            -1.7025      0.218     -7.801      0.000      -2.130      -1.275\n",
      "dlvry_건물용도_숙박시설            -2.0663      0.212     -9.745      0.000      -2.482      -1.651\n",
      "dlvry_건물용도_아파트             -1.8126      0.124    -14.579      0.000      -2.056      -1.569\n",
      "dlvry_건물용도_업무시설            -2.2893      0.130    -17.653      0.000      -2.543      -2.035\n",
      "dlvry_건물용도_오피스텔            -1.7215      0.424     -4.058      0.000      -2.553      -0.890\n",
      "dlvry_건물용도_의료시설            -2.1101      0.195    -10.810      0.000      -2.493      -1.728\n",
      "dlvry_건물용도_일반상점            -1.6145      0.156    -10.374      0.000      -1.919      -1.309\n",
      "dlvry_건물용도_일반음식점           -1.9970      0.208     -9.604      0.000      -2.405      -1.589\n",
      "dlvry_건물용도_종교시설            -1.1437      0.313     -3.657      0.000      -1.757      -0.531\n",
      "===========================================================================================\n"
     ]
    }
   ],
   "source": [
    "glm_1 = sm.GLM(y_train, X_train, family = sm.families.Binomial())\n",
    "glm1_fit = glm_1.fit()\n",
    "print(glm1_fit.summary())"
   ]
  },
  {
   "cell_type": "code",
   "execution_count": 704,
   "metadata": {},
   "outputs": [],
   "source": [
    "# # best class weight 찾기\n",
    "# param_grid = {'class_weight': [\n",
    "#                             {0: 0.1, 1: 0.9},\n",
    "#                             {0: 0.15, 1: 0.85},  \n",
    "#                             {0: 0.2, 1: 0.8}, \n",
    "#                             {0: 0.25, 1: 0.75}, \n",
    "#                             {0: 0.3, 1: 0.7},\n",
    "#                             {0: 0.35, 1: 0.65},\n",
    "#                             {0: 0.4, 1: 0.6},\n",
    "#                             {0: 0.45, 1: 0.55},\n",
    "#                             {0: 0.5, 1: 0.5},\n",
    "#                             {0: 0.55, 1: 0.45},\n",
    "#                             {0: 0.6, 1: 0.4},\n",
    "#                                ]}\n",
    "\n",
    "# grid_search = GridSearchCV(estimator=LogisticRegression(), param_grid=param_grid, cv=5, scoring='accuracy')\n",
    "# grid_search.fit(X_train, y_train)\n",
    "\n",
    "# best_class_weight = grid_search.best_params_['class_weight']\n",
    "# best_model = grid_search.best_estimator_\n",
    "\n",
    "# print(\"Best Class Weight:\", best_class_weight)\n",
    "# y_pred = best_model.predict(X_test)\n",
    "# conf_matrix = confusion_matrix(y_test, y_pred)\n",
    "# test = conf_matrix[1, 1] / (conf_matrix[0, 1] + conf_matrix[1, 1])\n",
    "# print(\"Negative+ :\", test)\n",
    "\n"
   ]
  },
  {
   "cell_type": "code",
   "execution_count": 705,
   "metadata": {},
   "outputs": [
    {
     "name": "stdout",
     "output_type": "stream",
     "text": [
      "Best Class Weight: {0: 0.6, 1: 0.4}\n",
      "Best Test Score: 0.676056338028169\n"
     ]
    }
   ],
   "source": [
    "class_weights_to_test = [\n",
    "                            {0: 0.1, 1: 0.9},\n",
    "                            {0: 0.15, 1: 0.85},  \n",
    "                            {0: 0.2, 1: 0.8}, \n",
    "                            {0: 0.25, 1: 0.75}, \n",
    "                            {0: 0.3, 1: 0.7},\n",
    "                            {0: 0.35, 1: 0.65},\n",
    "                            {0: 0.4, 1: 0.6},\n",
    "                            {0: 0.45, 1: 0.55},\n",
    "                            {0: 0.5, 1: 0.5},\n",
    "                            {0: 0.55, 1: 0.45},\n",
    "                            {0: 0.6, 1: 0.4},\n",
    "]\n",
    "\n",
    "best_class_weight = None\n",
    "best_test_score = 0.0\n",
    "\n",
    "for class_weight in class_weights_to_test:\n",
    "    model = LogisticRegression(class_weight=class_weight)\n",
    "    model.fit(X_train, y_train)\n",
    "    \n",
    "    y_pred = model.predict(X_test)\n",
    "    conf_matrix = confusion_matrix(y_test, y_pred)\n",
    "    test = conf_matrix[1, 1] / (conf_matrix[0, 1] + conf_matrix[1, 1])\n",
    "    \n",
    "    if test > best_test_score:\n",
    "        best_test_score = test\n",
    "        best_class_weight = class_weight\n",
    "\n",
    "print(\"Best Class Weight:\", best_class_weight)\n",
    "print(\"Best Test Score:\", best_test_score)\n"
   ]
  },
  {
   "cell_type": "code",
   "execution_count": 706,
   "metadata": {},
   "outputs": [
    {
     "name": "stdout",
     "output_type": "stream",
     "text": [
      "GLM Model - Confusion Matrix:\n",
      "[[9576  128]\n",
      " [1262  195]]\n",
      "GLM Model - Accuracy: 0.875459188244781\n",
      "GLM Model - Sensitivity (True Positive Rate): 0.1338366506520247\n",
      "GLM Model - Specificity (True Negative Rate): 0.9868095630667766\n",
      "GLM Model - Negative+: 0.6037151702786377\n",
      "\n",
      "LogisticRegression CV Model - Confusion Matrix:\n",
      "[[9658   46]\n",
      " [1361   96]]\n",
      "CV accuracy: 0.8734283277199314\n",
      "LogisticRegression CV Model - Accuracy: 0.8739360272377027\n",
      "LogisticRegression CV Model - Sensitivity (True Positive Rate): 0.06588881262868909\n",
      "LogisticRegression CV Model - Specificity (True Negative Rate): 0.9952596867271228\n",
      "LogisticRegression CV Model - Negative+: 0.676056338028169\n"
     ]
    }
   ],
   "source": [
    "random.seed(123)\n",
    "\n",
    "# GLM 모델 - sm.GLM\n",
    "y_pred_glm = glm1_fit.predict(X_test)\n",
    "threshold = 0.5 \n",
    "y_pred_binary = (y_pred_glm > threshold).astype(int)\n",
    "\n",
    "accuracy_glm = accuracy_score(y_test, y_pred_binary)\n",
    "conf_matrix_glm = confusion_matrix(y_test, y_pred_binary)\n",
    "sensitivity_glm = conf_matrix_glm[1, 1] / (conf_matrix_glm[1, 0] + conf_matrix_glm[1, 1])\n",
    "specificity_glm = conf_matrix_glm[0, 0] / (conf_matrix_glm[0, 0] + conf_matrix_glm[0, 1])\n",
    "test_glm = conf_matrix_glm[1, 1] / (conf_matrix_glm[0, 1] + conf_matrix_glm[1, 1])\n",
    "\n",
    "glm_model = joblib.dump(glm1_fit, 'prj-ML-model-LT_OV30/glm_model.joblib')\n",
    "\n",
    "# LogisticRegression 모델 - 사이킷런\n",
    "model_cv = LogisticRegression(class_weight = best_class_weight)\n",
    "scores = cross_val_score(model_cv, X_train, y_train, cv= 10, scoring = 'accuracy')\n",
    "mean_accracy = scores.mean()\n",
    "\n",
    "model_cv.fit(X_train, y_train)\n",
    "y_pred_prob = model_cv.predict_proba(X_test)\n",
    "y_pred_cv = (y_pred_prob[:, 1] > threshold).astype(int)\n",
    "\n",
    "accuracy_cv = accuracy_score(y_test, y_pred_cv)\n",
    "conf_matrix_cv = confusion_matrix(y_test, y_pred_cv)\n",
    "sensitivity_cv = conf_matrix_cv[1, 1] / (conf_matrix_cv[1, 0] + conf_matrix_cv[1, 1])\n",
    "specificity_cv = conf_matrix_cv[0, 0] / (conf_matrix_cv[0, 0] + conf_matrix_cv[0, 1])\n",
    "test_cv = conf_matrix_cv[1, 1] / (conf_matrix_cv[0, 1] + conf_matrix_cv[1, 1])\n",
    "\n",
    "cv_model = joblib.dump(model_cv, 'prj-ML-model-LT_OV30/cv_model.joblib')\n",
    "\n",
    "# 결과 출력\n",
    "print(\"GLM Model - Confusion Matrix:\")\n",
    "print(conf_matrix_glm)\n",
    "print(\"GLM Model - Accuracy:\", accuracy_glm)\n",
    "print(\"GLM Model - Sensitivity (True Positive Rate):\", sensitivity_glm)\n",
    "print(\"GLM Model - Specificity (True Negative Rate):\", specificity_glm)\n",
    "print(\"GLM Model - Negative+:\", test_glm)\n",
    "\n",
    "print(\"\\nLogisticRegression CV Model - Confusion Matrix:\")\n",
    "print(conf_matrix_cv)\n",
    "print(\"CV accuracy:\", mean_accracy)\n",
    "print(\"LogisticRegression CV Model - Accuracy:\", accuracy_cv)\n",
    "print(\"LogisticRegression CV Model - Sensitivity (True Positive Rate):\", sensitivity_cv)\n",
    "print(\"LogisticRegression CV Model - Specificity (True Negative Rate):\", specificity_cv)\n",
    "print(\"LogisticRegression CV Model - Negative+:\", test_cv)\n"
   ]
  },
  {
   "cell_type": "code",
   "execution_count": 707,
   "metadata": {},
   "outputs": [
    {
     "name": "stdout",
     "output_type": "stream",
     "text": [
      "(11161,)\n",
      "Number of values greater than 0.5: 142\n"
     ]
    }
   ],
   "source": [
    "print(y_pred.shape) #11,161  \n",
    " \n",
    "count_greater_than_0_5 = (y_pred > 0.5).sum()\n",
    "print(\"Number of values greater than 0.5:\", count_greater_than_0_5)                          "
   ]
  },
  {
   "cell_type": "code",
   "execution_count": 708,
   "metadata": {},
   "outputs": [
    {
     "name": "stdout",
     "output_type": "stream",
     "text": [
      "count    11161.000000\n",
      "mean         0.130811\n",
      "std          0.134645\n",
      "min          0.006823\n",
      "25%          0.044780\n",
      "50%          0.082177\n",
      "75%          0.161937\n",
      "max          0.953754\n",
      "dtype: float64\n",
      "count    11161.000000\n",
      "mean         0.095364\n",
      "std          0.106540\n",
      "min          0.005007\n",
      "25%          0.031652\n",
      "50%          0.057173\n",
      "75%          0.114354\n",
      "max          0.884736\n",
      "dtype: float64\n"
     ]
    }
   ],
   "source": [
    "print(y_pred_glm.describe())\n",
    "\n",
    "y_pred_prob_class1 = pd.Series(y_pred_prob[:, 1])\n",
    "print(y_pred_prob_class1.describe())"
   ]
  },
  {
   "attachments": {},
   "cell_type": "markdown",
   "metadata": {},
   "source": [
    "## 6. clustering"
   ]
  },
  {
   "cell_type": "code",
   "execution_count": 709,
   "metadata": {},
   "outputs": [],
   "source": [
    "def visualize_silhouette_scores(data, method='kmeans', param_init='random', param_n_init=10, param_max_iter=300):\n",
    "    clusters_range = range(2, 15)\n",
    "    results = []\n",
    "\n",
    "    for i in clusters_range:\n",
    "        if method == 'kmeans':\n",
    "            clusterer = KMeans(n_clusters=i, init=param_init, n_init=param_n_init, max_iter=param_max_iter, random_state=0)\n",
    "        elif method == 'agglomerative':\n",
    "            clusterer = AgglomerativeClustering(n_clusters=i)\n",
    "        else:\n",
    "            raise ValueError(\"Invalid method. Choose 'kmeans' or 'agglomerative'.\")\n",
    "\n",
    "        cluster_labels = clusterer.fit_predict(data)\n",
    "        silhouette_avg = silhouette_score(data, cluster_labels)\n",
    "        results.append([i, silhouette_avg])\n",
    "\n",
    "    result = pd.DataFrame(results, columns=[\"n_clusters\", \"silhouette_score\"])\n",
    "    \n",
    "    plt.figure()\n",
    "    sns.heatmap(pd.pivot_table(result, index=\"n_clusters\", values=\"silhouette_score\"),annot=True, linewidths=.5, fmt='.3f', cmap=sns.cm._rocket_lut)\n",
    "    plt.tight_layout()\n",
    "    plt.title(f\"Silhouette Scores for {method.capitalize()} Clustering\")\n",
    "    plt.xlabel(\"Number of Clusters\")\n",
    "    plt.ylabel(\"Silhouette Score\")\n",
    "    plt.show()\n"
   ]
  },
  {
   "cell_type": "code",
   "execution_count": 710,
   "metadata": {},
   "outputs": [
    {
     "data": {
      "image/png": "[encoded data removed]",
      "text/plain": [
       "<Figure size 640x480 with 2 Axes>"
      ]
     },
     "metadata": {},
     "output_type": "display_data"
    },
    {
     "data": {
      "image/png": "[encoded data removed]",
      "text/plain": [
       "<Figure size 640x480 with 2 Axes>"
      ]
     },
     "metadata": {},
     "output_type": "display_data"
    }
   ],
   "source": [
    "data_glm  = y_pred_glm.to_numpy().reshape(-1, 1)\n",
    "data_cv  = y_pred_prob_class1.to_numpy().reshape(-1, 1)\n",
    "\n",
    "visualize_silhouette_scores(data_glm, method='kmeans')\n",
    "visualize_silhouette_scores(data_cv, method='kmeans')"
   ]
  },
  {
   "cell_type": "code",
   "execution_count": 711,
   "metadata": {},
   "outputs": [
    {
     "name": "stdout",
     "output_type": "stream",
     "text": [
      "K-Means Silhouette Score_glm : 0.63\n",
      "K-Means Silhouette Score_cv : 0.65\n"
     ]
    },
    {
     "data": {
      "image/png": "[encoded data removed]",
      "text/plain": [
       "<Figure size 1200x400 with 2 Axes>"
      ]
     },
     "metadata": {},
     "output_type": "display_data"
    }
   ],
   "source": [
    "# GLM \n",
    "n_clusters = 4\n",
    "X_glm = y_pred_glm.values.reshape(-1,1)\n",
    "kmeans = KMeans(n_clusters=n_clusters)\n",
    "kmeans_clusters_glm = kmeans.fit_predict(X_glm)\n",
    "kmeans_silhouette_score_glm = silhouette_score(X_glm, kmeans_clusters_glm)\n",
    "print(f\"K-Means Silhouette Score_glm : {kmeans_silhouette_score_glm:.2f}\")\n",
    "\n",
    "# 데이터 시각화\n",
    "plt.figure(figsize=(12, 4))\n",
    "plt.subplot(131)\n",
    "plt.scatter(X_glm, X_glm , c = kmeans_clusters_glm, cmap='viridis')\n",
    "plt.scatter(kmeans.cluster_centers_, kmeans.cluster_centers_, c='red', marker='x', s=100, label='Cluster Centers')\n",
    "plt.title('K-Means Clusters_GLM')\n",
    "plt.xlabel('Y_pred')\n",
    "plt.ylabel('Y_pred')\n",
    "for i, cluster_num in enumerate(np.unique(kmeans_clusters_glm)):\n",
    "    plt.text(kmeans.cluster_centers_[cluster_num, 0], kmeans.cluster_centers_[cluster_num, 0], str(cluster_num), color='black', fontsize=12)\n",
    "\n",
    "# CV 모델 \n",
    "X_cv = y_pred_prob_class1.values.reshape(-1,1)\n",
    "\n",
    "kmeans = KMeans(n_clusters=n_clusters)\n",
    "kmeans_clusters_cv = kmeans.fit_predict(X_cv)\n",
    "kmeans_silhouette_score_cv = silhouette_score(X_cv, kmeans_clusters_cv)\n",
    "print(f\"K-Means Silhouette Score_cv : {kmeans_silhouette_score_cv:.2f}\")\n",
    "\n",
    "# 데이터 시각화\n",
    "plt.subplot(132)\n",
    "plt.scatter(X_cv, X_cv, c=kmeans_clusters_cv, cmap='viridis')\n",
    "plt.scatter(kmeans.cluster_centers_, kmeans.cluster_centers_, c='red', marker='x', s=100, label='Cluster Centers')\n",
    "plt.title('K-Means Clusters_CV')\n",
    "plt.xlabel('Y_pred')\n",
    "plt.ylabel('Y_pred')\n",
    "for i, cluster_num in enumerate(np.unique(kmeans_clusters_cv)):\n",
    "    plt.text(kmeans.cluster_centers_[cluster_num, 0], kmeans.cluster_centers_[cluster_num, 0], str(cluster_num), color='black', fontsize=12)\n",
    "\n",
    "plt.legend()\n",
    "plt.show()"
   ]
  },
  {
   "cell_type": "code",
   "execution_count": 712,
   "metadata": {},
   "outputs": [],
   "source": [
    "# n_clusters = 4\n",
    "# X_glm = y_pred_glm.values.reshape(-1,1)\n",
    "# X_cv = y_pred_prob_class1.values.reshape(-1,1)\n",
    "\n",
    "# kmeans = KMeans(n_clusters=n_clusters)\n",
    "# kmeans_clusters_glm = kmeans.fit_predict(X_glm)\n",
    "# kmeans_clusters_cv = kmeans.fit_predict(X_cv)\n",
    "\n",
    "# kmeans_silhouette_score_glm = silhouette_score(X_glm, kmeans_clusters_glm)\n",
    "# kmeans_silhouette_score_cv = silhouette_score(X_cv, kmeans_clusters_cv)\n",
    "\n",
    "# print(f\"K-Means Silhouette Score_glm : {kmeans_silhouette_score_glm:.2f}\")\n",
    "# print(f\"K-Means Silhouette Score_cv : {kmeans_silhouette_score_cv:.2f}\")\n",
    "\n",
    "# agglomerative = AgglomerativeClustering(n_clusters=n_clusters)\n",
    "# agglomerative_clusters = agglomerative.fit_predict(X)\n",
    "#agglomerative_silhouette_score = silhouette_score(X, agglomerative_clusters)\n",
    "#print(f\"Agglomerative Silhouette Score: {agglomerative_silhouette_score:.2f}\")\n",
    "\n",
    "# 데이터 시각화\n",
    "#plt.figure(figsize=(12, 4))\n",
    "\n",
    "# plt.subplot(131)\n",
    "# plt.scatter(X, X , c=y_pred, cmap='viridis')\n",
    "# plt.title('True Clusters')\n",
    "# plt.xlabel('Y_pred')\n",
    "# plt.ylabel('Y_pred')\n",
    "\n",
    "# plt.subplot(131)\n",
    "# plt.scatter(X_glm, X_glm , c = kmeans_clusters_glm, cmap='viridis')\n",
    "# plt.scatter(kmeans.cluster_centers_, kmeans.cluster_centers_, c='red', marker='x', s=100, label='Cluster Centers')\n",
    "# plt.title('K-Means Clusters_GLM')\n",
    "# plt.xlabel('Y_pred')\n",
    "# plt.ylabel('Y_pred')\n",
    "# for i, cluster_num in enumerate(np.unique(kmeans_clusters_glm)):\n",
    "#     plt.text(kmeans.cluster_centers_[cluster_num, 0], kmeans.cluster_centers_[cluster_num, 0], str(cluster_num), color='black', fontsize=12)\n",
    "    \n",
    "# plt.subplot(132)\n",
    "# plt.scatter(X_cv, X_cv, c=kmeans_clusters_cv, cmap='viridis')\n",
    "# plt.scatter(kmeans.cluster_centers_, kmeans.cluster_centers_, c='red', marker='x', s=100, label='Cluster Centers')\n",
    "# plt.title('K-Means Clusters_CV')\n",
    "# plt.xlabel('Y_pred')\n",
    "# plt.ylabel('Y_pred')\n",
    "# for i, cluster_num in enumerate(np.unique(kmeans_clusters_cv)):\n",
    "#     plt.text(kmeans.cluster_centers_[cluster_num, 0], kmeans.cluster_centers_[cluster_num, 0], str(cluster_num), color='black', fontsize=12)\n",
    "\n",
    "# plt.subplot(133)\n",
    "# plt.scatter(X, X , c=agglomerative_clusters, cmap='viridis')\n",
    "# plt.title('Agglomerative Clusters')\n",
    "# plt.xlabel('Y_pred')\n",
    "# plt.ylabel('Y_pred')\n",
    "# for i, cluster_num in enumerate(np.unique(agglomerative_clusters)):\n",
    "#     plt.text(y_pred[agglomerative_clusters == cluster_num].mean(), y_pred[agglomerative_clusters == cluster_num].mean(), str(cluster_num), color='black', fontsize=12)\n",
    "\n",
    "# plt.legend()\n",
    "# plt.show()\n"
   ]
  },
  {
   "cell_type": "code",
   "execution_count": 713,
   "metadata": {},
   "outputs": [
    {
     "name": "stdout",
     "output_type": "stream",
     "text": [
      "                dlvry_id    전체배차시간  outcome    y_pred  KMeansCluster\n",
      "25622  20230822_3561PFNZ  8.000000        1  0.080727              0\n",
      "52745  20230825_4404SMBE  0.750000        0  0.043962              0\n",
      "44564  20230823_0365XUHR  3.633333        0  0.087162              2\n",
      "7455   20230901_5143VCEC  0.483333        0  0.059976              0\n",
      "14651  20230903_0867KHNV  1.666667        0  0.036754              0\n"
     ]
    }
   ],
   "source": [
    "result_df = pd.DataFrame({'dlvry_id': test_set[\"dlvry_id\"], '전체배차시간': test_set[\"전체배차시간\"],\n",
    "                          'outcome': test_set[\"outcome\"], 'y_pred': y_pred_prob[:, 1].squeeze(),\n",
    "                          'KMeansCluster': kmeans_clusters_cv}) #, 'AgglomerativeCluster': agglomerative_clusters_cv})\n",
    "\n",
    "print(result_df.head())\n",
    "result_df.to_csv('prj-ML-model-LT_OV30/cluster_add_data.csv', index= False, encoding = \"utf-8\")"
   ]
  },
  {
   "cell_type": "code",
   "execution_count": 714,
   "metadata": {},
   "outputs": [
    {
     "name": "stdout",
     "output_type": "stream",
     "text": [
      "KMeansCluster\n",
      "0    7385\n",
      "2    2551\n",
      "1     985\n",
      "3     240\n",
      "Name: count, dtype: int64\n"
     ]
    }
   ],
   "source": [
    "print(result_df['KMeansCluster'].value_counts())\n",
    "#print(result_df['AgglomerativeCluster'].value_counts())"
   ]
  },
  {
   "cell_type": "code",
   "execution_count": 793,
   "metadata": {},
   "outputs": [
    {
     "name": "stdout",
     "output_type": "stream",
     "text": [
      "(11161, 5)\n"
     ]
    }
   ],
   "source": [
    "print(result_df.shape)"
   ]
  },
  {
   "cell_type": "code",
   "execution_count": 715,
   "metadata": {},
   "outputs": [
    {
     "data": {
      "text/html": [
       "<div>\n",
       "<style scoped>\n",
       "    .dataframe tbody tr th:only-of-type {\n",
       "        vertical-align: middle;\n",
       "    }\n",
       "\n",
       "    .dataframe tbody tr th {\n",
       "        vertical-align: top;\n",
       "    }\n",
       "\n",
       "    .dataframe thead th {\n",
       "        text-align: right;\n",
       "    }\n",
       "</style>\n",
       "<table border=\"1\" class=\"dataframe\">\n",
       "  <thead>\n",
       "    <tr style=\"text-align: right;\">\n",
       "      <th></th>\n",
       "      <th>mean</th>\n",
       "      <th>std</th>\n",
       "      <th>min</th>\n",
       "      <th>max</th>\n",
       "    </tr>\n",
       "    <tr>\n",
       "      <th>KMeansCluster</th>\n",
       "      <th></th>\n",
       "      <th></th>\n",
       "      <th></th>\n",
       "      <th></th>\n",
       "    </tr>\n",
       "  </thead>\n",
       "  <tbody>\n",
       "    <tr>\n",
       "      <th>0</th>\n",
       "      <td>1.658016</td>\n",
       "      <td>2.682050</td>\n",
       "      <td>0.116667</td>\n",
       "      <td>41.550000</td>\n",
       "    </tr>\n",
       "    <tr>\n",
       "      <th>1</th>\n",
       "      <td>6.275059</td>\n",
       "      <td>7.692600</td>\n",
       "      <td>0.116667</td>\n",
       "      <td>44.416667</td>\n",
       "    </tr>\n",
       "    <tr>\n",
       "      <th>2</th>\n",
       "      <td>3.698687</td>\n",
       "      <td>5.521817</td>\n",
       "      <td>0.150000</td>\n",
       "      <td>57.400000</td>\n",
       "    </tr>\n",
       "    <tr>\n",
       "      <th>3</th>\n",
       "      <td>11.591528</td>\n",
       "      <td>10.171120</td>\n",
       "      <td>0.233333</td>\n",
       "      <td>50.783333</td>\n",
       "    </tr>\n",
       "  </tbody>\n",
       "</table>\n",
       "</div>"
      ],
      "text/plain": [
       "                    mean        std       min        max\n",
       "KMeansCluster                                           \n",
       "0               1.658016   2.682050  0.116667  41.550000\n",
       "1               6.275059   7.692600  0.116667  44.416667\n",
       "2               3.698687   5.521817  0.150000  57.400000\n",
       "3              11.591528  10.171120  0.233333  50.783333"
      ]
     },
     "execution_count": 715,
     "metadata": {},
     "output_type": "execute_result"
    }
   ],
   "source": [
    "result_df.groupby('KMeansCluster')['전체배차시간'].agg(['mean', 'std', 'min', 'max'])"
   ]
  },
  {
   "cell_type": "code",
   "execution_count": 716,
   "metadata": {},
   "outputs": [],
   "source": [
    "#result_df.groupby('AgglomerativeCluster')['전체배차시간'].agg(['mean', 'std', 'min', 'max'])"
   ]
  },
  {
   "cell_type": "code",
   "execution_count": 717,
   "metadata": {},
   "outputs": [
    {
     "data": {
      "text/html": [
       "<div>\n",
       "<style scoped>\n",
       "    .dataframe tbody tr th:only-of-type {\n",
       "        vertical-align: middle;\n",
       "    }\n",
       "\n",
       "    .dataframe tbody tr th {\n",
       "        vertical-align: top;\n",
       "    }\n",
       "\n",
       "    .dataframe thead th {\n",
       "        text-align: right;\n",
       "    }\n",
       "</style>\n",
       "<table border=\"1\" class=\"dataframe\">\n",
       "  <thead>\n",
       "    <tr style=\"text-align: right;\">\n",
       "      <th></th>\n",
       "      <th>mean</th>\n",
       "      <th>std</th>\n",
       "      <th>min</th>\n",
       "      <th>max</th>\n",
       "    </tr>\n",
       "    <tr>\n",
       "      <th>KMeansCluster</th>\n",
       "      <th></th>\n",
       "      <th></th>\n",
       "      <th></th>\n",
       "      <th></th>\n",
       "    </tr>\n",
       "  </thead>\n",
       "  <tbody>\n",
       "    <tr>\n",
       "      <th>0</th>\n",
       "      <td>0.041603</td>\n",
       "      <td>0.019926</td>\n",
       "      <td>0.005007</td>\n",
       "      <td>0.086666</td>\n",
       "    </tr>\n",
       "    <tr>\n",
       "      <th>1</th>\n",
       "      <td>0.289136</td>\n",
       "      <td>0.059311</td>\n",
       "      <td>0.210432</td>\n",
       "      <td>0.424746</td>\n",
       "    </tr>\n",
       "    <tr>\n",
       "      <th>2</th>\n",
       "      <td>0.132179</td>\n",
       "      <td>0.033604</td>\n",
       "      <td>0.086684</td>\n",
       "      <td>0.210179</td>\n",
       "    </tr>\n",
       "    <tr>\n",
       "      <th>3</th>\n",
       "      <td>0.563026</td>\n",
       "      <td>0.114364</td>\n",
       "      <td>0.427132</td>\n",
       "      <td>0.884736</td>\n",
       "    </tr>\n",
       "  </tbody>\n",
       "</table>\n",
       "</div>"
      ],
      "text/plain": [
       "                   mean       std       min       max\n",
       "KMeansCluster                                        \n",
       "0              0.041603  0.019926  0.005007  0.086666\n",
       "1              0.289136  0.059311  0.210432  0.424746\n",
       "2              0.132179  0.033604  0.086684  0.210179\n",
       "3              0.563026  0.114364  0.427132  0.884736"
      ]
     },
     "execution_count": 717,
     "metadata": {},
     "output_type": "execute_result"
    }
   ],
   "source": [
    "result_df.groupby('KMeansCluster')['y_pred'].agg(['mean', 'std', 'min', 'max'])"
   ]
  },
  {
   "cell_type": "code",
   "execution_count": 718,
   "metadata": {},
   "outputs": [],
   "source": [
    "#result_df.groupby('AgglomerativeCluster')['y_pred'].agg(['mean', 'std', 'min', 'max'])"
   ]
  },
  {
   "attachments": {},
   "cell_type": "markdown",
   "metadata": {},
   "source": [
    "## 7. 최근 3일 서초구 배차건 대입"
   ]
  },
  {
   "cell_type": "code",
   "execution_count": 799,
   "metadata": {},
   "outputs": [
    {
     "name": "stdout",
     "output_type": "stream",
     "text": [
      "            dlvry_id business_day  reg_hour service_type   shop_no  ord_price  \\\n",
      "0  20230916_1540YBKT   2023-09-16        22          배민1  14150430      17500   \n",
      "1  20230916_8028XRNQ   2023-09-16        16          배민1  14071109      14500   \n",
      "\n",
      "   notiOver  actual_dlvry_distance  shop_loc_pnt_lat  shop_loc_pnt_lon  ...  \\\n",
      "0         0                    566         37.481687        126.992855  ...   \n",
      "1         0                   3121         37.487130        126.983189  ...   \n",
      "\n",
      "         dlvry_address  dlvry_지상층수  dlvry_지하층수  dlvry_건물용도  day_of_week  \\\n",
      "0  서울특별시 서초구 방배동 934-7         5.0         0.0        공동주택          Sat   \n",
      "1   서울특별시 서초구 반포동 18-3         5.0         3.0        기타시설          Sat   \n",
      "\n",
      "   is_holiday          일시    기온  강수량  시간  \n",
      "0        True  2023-09-16  24.1  0.1  21  \n",
      "1        True  2023-09-16  26.5  0.0  15  \n",
      "\n",
      "[2 rows x 39 columns]\n"
     ]
    }
   ],
   "source": [
    "new_data = pd.read_csv(\"prj-ML-model-LT_OV30/new_data_final.csv\", encoding=\"utf-8\")\n",
    "\n",
    "\n",
    "new_data.drop_duplicates(subset=['dlvry_id'], keep='first', inplace=True)\n",
    "new_data = new_data.sort_values(by=[\"dlvry_id\"])\n",
    "\n",
    "ㅔ갸ㅜ"
   ]
  },
  {
   "cell_type": "code",
   "execution_count": 800,
   "metadata": {},
   "outputs": [
    {
     "name": "stdout",
     "output_type": "stream",
     "text": [
      "dlvry_id                    0\n",
      "business_day                0\n",
      "reg_hour                    0\n",
      "service_type                0\n",
      "shop_no                     0\n",
      "ord_price                   0\n",
      "notiOver                    0\n",
      "actual_dlvry_distance       0\n",
      "shop_loc_pnt_lat            0\n",
      "shop_loc_pnt_lon            0\n",
      "dlvry_loc_pnt_lat           0\n",
      "dlvry_loc_pnt_lon           0\n",
      "추천노출시간_AI                   0\n",
      "추천노출시간_일반                   0\n",
      "추천미발생시간유                    0\n",
      "추천미발생시간무                    0\n",
      "배차후취소시간                     0\n",
      "전체배차시간                      0\n",
      "notiOver_min_max            0\n",
      "per_display                 0\n",
      "per_no_recomm               0\n",
      "pick_floor                  0\n",
      "pick_rgn2_nm                0\n",
      "pick_rgn3_nm                0\n",
      "pick_category               0\n",
      "pick_건물용도                   0\n",
      "pick_address                0\n",
      "Latitude                    0\n",
      "Longitude                   0\n",
      "dlvry_address               0\n",
      "dlvry_지상층수               2310\n",
      "dlvry_지하층수               2310\n",
      "dlvry_건물용도                  0\n",
      "day_of_week                 0\n",
      "is_holiday                  0\n",
      "일시                          0\n",
      "기온                          0\n",
      "강수량                         0\n",
      "시간                          0\n",
      "dtype: int64\n",
      "(18213, 39)\n"
     ]
    }
   ],
   "source": [
    "print(new_data.isna().sum())\n",
    "print(new_data.shape) #18213"
   ]
  },
  {
   "cell_type": "code",
   "execution_count": 801,
   "metadata": {},
   "outputs": [
    {
     "name": "stdout",
     "output_type": "stream",
     "text": [
      "Index(['dlvry_id', 'business_day', 'reg_hour', 'service_type', 'shop_no',\n",
      "       'ord_price', 'notiOver', 'actual_dlvry_distance', 'shop_loc_pnt_lat',\n",
      "       'shop_loc_pnt_lon', 'dlvry_loc_pnt_lat', 'dlvry_loc_pnt_lon',\n",
      "       '추천노출시간_AI', '추천노출시간_일반', '추천미발생시간유', '추천미발생시간무', '배차후취소시간', '전체배차시간',\n",
      "       'notiOver_min_max', 'per_display', 'per_no_recomm', 'pick_floor',\n",
      "       'pick_rgn2_nm', 'pick_rgn3_nm', 'pick_category', 'pick_건물용도',\n",
      "       'pick_address', 'Latitude', 'Longitude', 'dlvry_address', 'dlvry_지상층수',\n",
      "       'dlvry_지하층수', 'dlvry_건물용도', 'day_of_week', 'is_holiday', '일시', '기온',\n",
      "       '강수량', '시간', 'dlvry_rgn1_nm', 'dlvry_rgn2_nm', 'dlvry_rgn3_nm', 'etc'],\n",
      "      dtype='object')\n"
     ]
    }
   ],
   "source": [
    "new_data[['dlvry_rgn1_nm', 'dlvry_rgn2_nm', 'dlvry_rgn3_nm', 'etc']] = new_data['dlvry_address'].str.split(' ', n=3, expand=True)\n",
    "\n",
    "# dlvry_지하층수 음수로\n",
    "new_data['dlvry_지하층수']  = new_data['dlvry_지하층수'].apply(lambda x: -x)\n",
    "print(new_data.columns)"
   ]
  },
  {
   "attachments": {},
   "cell_type": "markdown",
   "metadata": {},
   "source": [
    "## 7-1. pick_건물용도/dlvry_건물용도 : 개수 축소 "
   ]
  },
  {
   "cell_type": "code",
   "execution_count": 802,
   "metadata": {},
   "outputs": [
    {
     "name": "stdout",
     "output_type": "stream",
     "text": [
      "pick_건물용도\n",
      "업무시설          5783\n",
      "근린생활시설        3277\n",
      "일반음식점         2149\n",
      "아파트           2138\n",
      "일반상점          1676\n",
      "공동주택          1241\n",
      "교육시설           668\n",
      "의료시설           497\n",
      "백화점            183\n",
      "자동차관련시설        160\n",
      "오피스텔           107\n",
      "숙박시설            75\n",
      "기타시설            70\n",
      "위락시설            56\n",
      "대형판매점           49\n",
      "문화시설            47\n",
      "체육시설            19\n",
      "종교시설            12\n",
      "위험물저장및처리시설       5\n",
      "운수시설             1\n",
      "Name: count, dtype: int64\n"
     ]
    }
   ],
   "source": [
    "print(new_data['pick_건물용도'].value_counts())"
   ]
  },
  {
   "cell_type": "code",
   "execution_count": 803,
   "metadata": {},
   "outputs": [
    {
     "name": "stdout",
     "output_type": "stream",
     "text": [
      "pick_건물용도\n",
      "업무시설      5783\n",
      "근린생활시설    3277\n",
      "일반음식점     2149\n",
      "아파트       2138\n",
      "일반상점      1676\n",
      "공동주택      1241\n",
      "교육시설       668\n",
      "의료시설       497\n",
      "기타시설       370\n",
      "백화점        183\n",
      "오피스텔       107\n",
      "숙박시설        75\n",
      "대형판매점       49\n",
      "Name: count, dtype: int64\n"
     ]
    }
   ],
   "source": [
    "# 데이터 정리\n",
    "values_to_replace = ['위락시설', '문화시설', '종교시설', '체육시설','위험물저장및처리시설', '자동차관련시설','운수시설']\n",
    "new_data['pick_건물용도'] = new_data['pick_건물용도'].replace(values_to_replace, '기타시설')\n",
    "print(new_data['pick_건물용도'].value_counts())"
   ]
  },
  {
   "cell_type": "code",
   "execution_count": 804,
   "metadata": {},
   "outputs": [
    {
     "name": "stdout",
     "output_type": "stream",
     "text": [
      "dlvry_건물용도\n",
      "공동주택          7474\n",
      "아파트           6006\n",
      "업무시설          2323\n",
      "근린생활시설         574\n",
      "일반상점           504\n",
      "교육시설           375\n",
      "의료시설           232\n",
      "일반음식점          217\n",
      "숙박시설           211\n",
      "공공시설            60\n",
      "교육연구시설          53\n",
      "종교시설            52\n",
      "오피스텔            35\n",
      "자동차관련시설         20\n",
      "기타시설            14\n",
      "방송통신시설          13\n",
      "백화점             10\n",
      "체육시설             9\n",
      "위락시설             7\n",
      "복지시설             6\n",
      "위험물저장및처리시설       6\n",
      "수련시설             3\n",
      "운수시설             2\n",
      "묘지시설             2\n",
      "동식물시설            2\n",
      "단독주택             1\n",
      "복합몰              1\n",
      "문화시설             1\n",
      "Name: count, dtype: int64\n"
     ]
    }
   ],
   "source": [
    "print(new_data['dlvry_건물용도'].value_counts())"
   ]
  },
  {
   "cell_type": "code",
   "execution_count": 805,
   "metadata": {},
   "outputs": [
    {
     "name": "stdout",
     "output_type": "stream",
     "text": [
      "dlvry_건물용도\n",
      "공동주택      7474\n",
      "아파트       6006\n",
      "업무시설      2323\n",
      "근린생활시설     574\n",
      "일반상점       504\n",
      "교육시설       375\n",
      "기타시설       297\n",
      "의료시설       232\n",
      "일반음식점      217\n",
      "숙박시설       211\n",
      "Name: count, dtype: int64\n"
     ]
    }
   ],
   "source": [
    "new_counts = new_data['dlvry_건물용도'].value_counts()\n",
    "\n",
    "threshold = 100\n",
    "new_data['dlvry_건물용도'] = new_data['dlvry_건물용도'].apply(lambda x: '기타시설' if new_counts[x] <= threshold else x)\n",
    "\n",
    "new_data['dlvry_건물용도'] = new_data['dlvry_건물용도'].replace('교육연구시설', '교육시설')\n",
    "new_data['dlvry_건물용도'] = new_data['dlvry_건물용도'].replace('공공용시설', '공공시설')\n",
    "\n",
    "print(new_data['dlvry_건물용도'].value_counts())"
   ]
  },
  {
   "attachments": {},
   "cell_type": "markdown",
   "metadata": {},
   "source": [
    "## 7-3. dlvry_지상층수/지하층수 : dlvry_건물용도별 median 값 가져오기"
   ]
  },
  {
   "cell_type": "code",
   "execution_count": 806,
   "metadata": {},
   "outputs": [
    {
     "name": "stdout",
     "output_type": "stream",
     "text": [
      "dlvry_id                 0\n",
      "business_day             0\n",
      "reg_hour                 0\n",
      "service_type             0\n",
      "shop_no                  0\n",
      "ord_price                0\n",
      "notiOver                 0\n",
      "actual_dlvry_distance    0\n",
      "shop_loc_pnt_lat         0\n",
      "shop_loc_pnt_lon         0\n",
      "dlvry_loc_pnt_lat        0\n",
      "dlvry_loc_pnt_lon        0\n",
      "추천노출시간_AI                0\n",
      "추천노출시간_일반                0\n",
      "추천미발생시간유                 0\n",
      "추천미발생시간무                 0\n",
      "배차후취소시간                  0\n",
      "전체배차시간                   0\n",
      "notiOver_min_max         0\n",
      "per_display              0\n",
      "per_no_recomm            0\n",
      "pick_floor               0\n",
      "pick_rgn2_nm             0\n",
      "pick_rgn3_nm             0\n",
      "pick_category            0\n",
      "pick_건물용도                0\n",
      "pick_address             0\n",
      "Latitude                 0\n",
      "Longitude                0\n",
      "dlvry_address            0\n",
      "dlvry_지상층수               0\n",
      "dlvry_지하층수               0\n",
      "dlvry_건물용도               0\n",
      "day_of_week              0\n",
      "is_holiday               0\n",
      "일시                       0\n",
      "기온                       0\n",
      "강수량                      0\n",
      "시간                       0\n",
      "dlvry_rgn1_nm            0\n",
      "dlvry_rgn2_nm            0\n",
      "dlvry_rgn3_nm            0\n",
      "etc                      0\n",
      "dtype: int64\n"
     ]
    }
   ],
   "source": [
    "median_values =new_data.dropna().groupby('dlvry_건물용도')[['dlvry_지상층수', 'dlvry_지하층수']].median()\n",
    "mean_values = new_data.dropna().groupby('dlvry_건물용도')[['dlvry_지상층수', 'dlvry_지하층수']].mean()\n",
    "\n",
    "#print(median_values)\n",
    "#print(mean_values)\n",
    "\n",
    "# na 값을 중앙값으로 채우기\n",
    "new_data['dlvry_지상층수'].fillna(new_data['dlvry_건물용도'].map(median_values['dlvry_지상층수']), inplace=True)\n",
    "new_data['dlvry_지하층수'].fillna(new_data['dlvry_건물용도'].map(median_values['dlvry_지하층수']), inplace=True)\n",
    "\n",
    "#print(new_data.describe())\n",
    "print(new_data.isna().sum())"
   ]
  },
  {
   "cell_type": "code",
   "execution_count": 807,
   "metadata": {},
   "outputs": [
    {
     "name": "stdout",
     "output_type": "stream",
     "text": [
      "dlvry_지상층수\n",
      "저층      9328\n",
      "중상층     3428\n",
      "고층      2422\n",
      "중층      2410\n",
      "준초고층     573\n",
      "초고층       52\n",
      "Name: count, dtype: int64\n",
      "pick_floor\n",
      "저층    15333\n",
      "지하     2840\n",
      "중층       40\n",
      "Name: count, dtype: int64\n"
     ]
    }
   ],
   "source": [
    "new_data['pick_floor'] = new_data['pick_floor'].apply(categorize_floor)\n",
    "new_data['dlvry_지상층수'] = new_data['dlvry_지상층수'].apply(categorize_floor)\n",
    "\n",
    "print(new_data['dlvry_지상층수'].value_counts())\n",
    "print(new_data['pick_floor'].value_counts())"
   ]
  },
  {
   "attachments": {},
   "cell_type": "markdown",
   "metadata": {},
   "source": [
    "## 7-4. new_data 전처리"
   ]
  },
  {
   "cell_type": "code",
   "execution_count": 808,
   "metadata": {},
   "outputs": [
    {
     "name": "stdout",
     "output_type": "stream",
     "text": [
      "(18213, 43)\n",
      "<class 'pandas.core.frame.DataFrame'>\n",
      "Index: 18213 entries, 11707 to 15878\n",
      "Data columns (total 43 columns):\n",
      " #   Column                 Non-Null Count  Dtype  \n",
      "---  ------                 --------------  -----  \n",
      " 0   dlvry_id               18213 non-null  object \n",
      " 1   business_day           18213 non-null  object \n",
      " 2   reg_hour               18213 non-null  int64  \n",
      " 3   service_type           18213 non-null  object \n",
      " 4   shop_no                18213 non-null  int64  \n",
      " 5   ord_price              18213 non-null  int64  \n",
      " 6   notiOver               18213 non-null  int64  \n",
      " 7   actual_dlvry_distance  18213 non-null  int64  \n",
      " 8   shop_loc_pnt_lat       18213 non-null  float64\n",
      " 9   shop_loc_pnt_lon       18213 non-null  float64\n",
      " 10  dlvry_loc_pnt_lat      18213 non-null  float64\n",
      " 11  dlvry_loc_pnt_lon      18213 non-null  float64\n",
      " 12  추천노출시간_AI              18213 non-null  float64\n",
      " 13  추천노출시간_일반              18213 non-null  float64\n",
      " 14  추천미발생시간유               18213 non-null  float64\n",
      " 15  추천미발생시간무               18213 non-null  float64\n",
      " 16  배차후취소시간                18213 non-null  float64\n",
      " 17  전체배차시간                 18213 non-null  float64\n",
      " 18  notiOver_min_max       18213 non-null  float64\n",
      " 19  per_display            18213 non-null  float64\n",
      " 20  per_no_recomm          18213 non-null  float64\n",
      " 21  pick_floor             18213 non-null  object \n",
      " 22  pick_rgn2_nm           18213 non-null  object \n",
      " 23  pick_rgn3_nm           18213 non-null  object \n",
      " 24  pick_category          18213 non-null  object \n",
      " 25  pick_건물용도              18213 non-null  object \n",
      " 26  pick_address           18213 non-null  object \n",
      " 27  Latitude               18213 non-null  float64\n",
      " 28  Longitude              18213 non-null  float64\n",
      " 29  dlvry_address          18213 non-null  object \n",
      " 30  dlvry_지상층수             18213 non-null  object \n",
      " 31  dlvry_지하층수             18213 non-null  float64\n",
      " 32  dlvry_건물용도             18213 non-null  object \n",
      " 33  day_of_week            18213 non-null  object \n",
      " 34  is_holiday             18213 non-null  bool   \n",
      " 35  일시                     18213 non-null  object \n",
      " 36  기온                     18213 non-null  float64\n",
      " 37  강수량                    18213 non-null  float64\n",
      " 38  시간                     18213 non-null  int64  \n",
      " 39  dlvry_rgn1_nm          18213 non-null  object \n",
      " 40  dlvry_rgn2_nm          18213 non-null  object \n",
      " 41  dlvry_rgn3_nm          18213 non-null  object \n",
      " 42  etc                    18213 non-null  object \n",
      "dtypes: bool(1), float64(18), int64(6), object(18)\n",
      "memory usage: 6.0+ MB\n",
      "None\n"
     ]
    }
   ],
   "source": [
    "print(new_data.shape) #18,213\n",
    "print(new_data.info()) "
   ]
  },
  {
   "cell_type": "code",
   "execution_count": 809,
   "metadata": {},
   "outputs": [
    {
     "data": {
      "text/plain": [
       "dlvry_id                 0\n",
       "reg_hour                 0\n",
       "ord_price                0\n",
       "actual_dlvry_distance    0\n",
       "pick_floor               0\n",
       "pick_category            0\n",
       "pick_건물용도                0\n",
       "dlvry_지상층수               0\n",
       "dlvry_건물용도               0\n",
       "day_of_week              0\n",
       "is_holiday               0\n",
       "기온                       0\n",
       "dtype: int64"
      ]
     },
     "execution_count": 809,
     "metadata": {},
     "output_type": "execute_result"
    }
   ],
   "source": [
    "new_model_df = new_data[['dlvry_id','reg_hour', 'ord_price','actual_dlvry_distance', 'pick_floor', \n",
    "                         'pick_category', 'pick_건물용도','dlvry_지상층수', \n",
    "                         'dlvry_건물용도','day_of_week', 'is_holiday', '기온'\n",
    "                        ]]\n",
    "new_model_df.isna().sum()\n"
   ]
  },
  {
   "cell_type": "code",
   "execution_count": 810,
   "metadata": {},
   "outputs": [
    {
     "name": "stdout",
     "output_type": "stream",
     "text": [
      "(18213, 12)\n"
     ]
    }
   ],
   "source": [
    "print(new_model_df.shape)"
   ]
  },
  {
   "attachments": {},
   "cell_type": "markdown",
   "metadata": {},
   "source": [
    "## 7-5. factor 변수 encoding"
   ]
  },
  {
   "cell_type": "code",
   "execution_count": 811,
   "metadata": {},
   "outputs": [],
   "source": [
    "# for col in ['reg_hour','pick_floor',  'pick_category', 'pick_건물용도','dlvry_지상층수','dlvry_건물용도',\n",
    "#             'day_of_week', 'is_holiday','dlvry_rgn2_nm'] : \n",
    "#     new_model_df[col] = new_model_df[col].astype('category')\n",
    "\n",
    "# print(new_model_df.dtypes)"
   ]
  },
  {
   "cell_type": "code",
   "execution_count": 812,
   "metadata": {},
   "outputs": [
    {
     "name": "stdout",
     "output_type": "stream",
     "text": [
      "                dlvry_id  ord_price  actual_dlvry_distance day_of_week    기온  \\\n",
      "11707  20230915_0000JACM      27000                    144         Fri  21.8   \n",
      "11693  20230915_0003QVZS      28000                   3994         Fri  23.4   \n",
      "\n",
      "       pick_floor_중층  pick_floor_지하  reg_hour_10  reg_hour_11  reg_hour_12  \\\n",
      "11707              0              0            0            0            1   \n",
      "11693              0              0            0            0            0   \n",
      "\n",
      "       ...  dlvry_지상층수_초고층  dlvry_건물용도_교육시설  dlvry_건물용도_근린생활시설  \\\n",
      "11707  ...               0                0                  0   \n",
      "11693  ...               0                0                  0   \n",
      "\n",
      "       dlvry_건물용도_기타시설  dlvry_건물용도_숙박시설  dlvry_건물용도_아파트  dlvry_건물용도_업무시설  \\\n",
      "11707                0                0               0                1   \n",
      "11693                0                0               0                0   \n",
      "\n",
      "       dlvry_건물용도_의료시설  dlvry_건물용도_일반상점  dlvry_건물용도_일반음식점  \n",
      "11707                0                0                 0  \n",
      "11693                0                0                 0  \n",
      "\n",
      "[2 rows x 59 columns]\n"
     ]
    }
   ],
   "source": [
    "var = ['is_holiday', 'pick_floor', 'reg_hour', 'pick_category', 'pick_건물용도', 'dlvry_지상층수', 'dlvry_건물용도']\n",
    "\n",
    "new_model_df = pd.get_dummies(new_model_df, columns=var, prefix=var, drop_first=True)\n",
    "\n",
    "for column in new_model_df .columns:\n",
    "    for var_column in var:\n",
    "        if var_column in column:\n",
    "            new_model_df [column] = new_model_df [column].astype(int)\n",
    "\n",
    "new_model_df  = new_model_df.sort_values(by=[\"dlvry_id\"])\n",
    "\n",
    "print(new_model_df .head(2))\n",
    "\n",
    "# encoder = OneHotEncoder()\n",
    "# onehot = pd.DataFrame(encoder.fit_transform(new_model_df[var]).toarray(), columns=encoder.get_feature_names_out(var), index = new_model_df.index)\n",
    "# new_model_df = pd.concat([onehot, new_model_df.drop(columns=var)], axis=1)\n",
    "\n",
    "# print(new_model_df.columns)"
   ]
  },
  {
   "cell_type": "code",
   "execution_count": 813,
   "metadata": {},
   "outputs": [
    {
     "name": "stdout",
     "output_type": "stream",
     "text": [
      "                dlvry_id  ord_price  actual_dlvry_distance day_of_week  \\\n",
      "11707  20230915_0000JACM   0.046025               0.017877         Fri   \n",
      "11693  20230915_0003QVZS   0.048117               0.499187         Fri   \n",
      "\n",
      "             기온  pick_floor_중층  pick_floor_지하  reg_hour_10  reg_hour_11  \\\n",
      "11707  0.078740              0              0            0            0   \n",
      "11693  0.204724              0              0            0            0   \n",
      "\n",
      "       reg_hour_12  ...  dlvry_지상층수_초고층  dlvry_건물용도_교육시설  dlvry_건물용도_근린생활시설  \\\n",
      "11707            1  ...               0                0                  0   \n",
      "11693            0  ...               0                0                  0   \n",
      "\n",
      "       dlvry_건물용도_기타시설  dlvry_건물용도_숙박시설  dlvry_건물용도_아파트  dlvry_건물용도_업무시설  \\\n",
      "11707                0                0               0                1   \n",
      "11693                0                0               0                0   \n",
      "\n",
      "       dlvry_건물용도_의료시설  dlvry_건물용도_일반상점  dlvry_건물용도_일반음식점  \n",
      "11707                0                0                 0  \n",
      "11693                0                0                 0  \n",
      "\n",
      "[2 rows x 59 columns]\n"
     ]
    }
   ],
   "source": [
    "# numeric scale\n",
    "new_model_df[num_vars] = scaler.transform(new_model_df[num_vars])\n",
    "print(new_model_df.head(2))"
   ]
  },
  {
   "cell_type": "code",
   "execution_count": 814,
   "metadata": {},
   "outputs": [
    {
     "name": "stdout",
     "output_type": "stream",
     "text": [
      "['is_holiday_True', 'dlvry_건물용도_공동주택', 'dlvry_건물용도_오피스텔', 'dlvry_건물용도_종교시설']\n",
      "       ord_price  actual_dlvry_distance        기온  is_holiday_True  \\\n",
      "11707   0.046025               0.017877  0.078740                0   \n",
      "11693   0.048117               0.499187  0.204724                0   \n",
      "10079   0.030335               0.236405  0.251969                0   \n",
      "8645    0.052301               0.235404  0.031496                0   \n",
      "8306    0.130753               0.163145  0.251969                0   \n",
      "\n",
      "       pick_floor_중층  pick_floor_지하  reg_hour_10  reg_hour_11  reg_hour_12  \\\n",
      "11707              0              0            0            0            1   \n",
      "11693              0              0            0            0            0   \n",
      "10079              0              0            0            0            0   \n",
      "8645               0              0            0            1            0   \n",
      "8306               0              0            0            0            0   \n",
      "\n",
      "       reg_hour_13  ...  dlvry_건물용도_근린생활시설  dlvry_건물용도_기타시설  dlvry_건물용도_숙박시설  \\\n",
      "11707            0  ...                  0                0                0   \n",
      "11693            0  ...                  0                0                0   \n",
      "10079            0  ...                  0                0                0   \n",
      "8645             0  ...                  0                0                0   \n",
      "8306             0  ...                  0                0                0   \n",
      "\n",
      "       dlvry_건물용도_아파트  dlvry_건물용도_업무시설  dlvry_건물용도_오피스텔  dlvry_건물용도_의료시설  \\\n",
      "11707               0                1                0                0   \n",
      "11693               0                0                0                0   \n",
      "10079               0                0                0                0   \n",
      "8645                0                0                0                0   \n",
      "8306                0                0                0                0   \n",
      "\n",
      "       dlvry_건물용도_일반상점  dlvry_건물용도_일반음식점  dlvry_건물용도_종교시설  \n",
      "11707                0                 0                0  \n",
      "11693                0                 0                0  \n",
      "10079                0                 0                0  \n",
      "8645                 0                 0                0  \n",
      "8306                 0                 0                0  \n",
      "\n",
      "[5 rows x 61 columns]\n"
     ]
    }
   ],
   "source": [
    "# 존재하지 않는 category 변수 추가 \n",
    "new_variables = [col for col in X_train.columns if col not in new_model_df.columns]\n",
    "encode_data = pd.DataFrame(0, columns=new_variables, index= new_model_df.index)\n",
    "print(new_variables)\n",
    "\n",
    "new_model_df = pd.concat([new_model_df, encode_data], axis=1)\n",
    "new_model_df = new_model_df.reindex(columns=X_test.columns)\n",
    "print(new_model_df.head())"
   ]
  },
  {
   "attachments": {},
   "cell_type": "markdown",
   "metadata": {},
   "source": [
    "## 7-6. modeling 적용"
   ]
  },
  {
   "cell_type": "code",
   "execution_count": 815,
   "metadata": {},
   "outputs": [
    {
     "name": "stdout",
     "output_type": "stream",
     "text": [
      "(18213, 2)\n"
     ]
    }
   ],
   "source": [
    "y_pred_new = model_cv.predict_proba(new_model_df)\n",
    "print(y_pred_new.shape) #18,213 "
   ]
  },
  {
   "cell_type": "code",
   "execution_count": 816,
   "metadata": {},
   "outputs": [
    {
     "name": "stdout",
     "output_type": "stream",
     "text": [
      "mean    0.132451\n",
      "std     0.134436\n",
      "min     0.007802\n",
      "max     0.970692\n",
      "dtype: float64\n",
      "mean    0.095364\n",
      "std     0.106540\n",
      "min     0.005007\n",
      "max     0.884736\n",
      "dtype: float64\n"
     ]
    }
   ],
   "source": [
    "print(pd.Series(y_pred_new[:, 1]).agg(['mean', 'std', 'min', 'max']))\n",
    "print(y_pred_prob_class1.agg(['mean', 'std', 'min', 'max']))"
   ]
  },
  {
   "cell_type": "code",
   "execution_count": 817,
   "metadata": {},
   "outputs": [
    {
     "name": "stdout",
     "output_type": "stream",
     "text": [
      "(18213, 43)\n",
      "Index(['dlvry_id', 'business_day', 'reg_hour', 'service_type', 'shop_no',\n",
      "       'ord_price', 'notiOver', 'actual_dlvry_distance', 'shop_loc_pnt_lat',\n",
      "       'shop_loc_pnt_lon', 'dlvry_loc_pnt_lat', 'dlvry_loc_pnt_lon',\n",
      "       '추천노출시간_AI', '추천노출시간_일반', '추천미발생시간유', '추천미발생시간무', '배차후취소시간', '전체배차시간',\n",
      "       'notiOver_min_max', 'per_display', 'per_no_recomm', 'pick_floor',\n",
      "       'pick_rgn2_nm', 'pick_rgn3_nm', 'pick_category', 'pick_건물용도',\n",
      "       'pick_address', 'Latitude', 'Longitude', 'dlvry_address', 'dlvry_지상층수',\n",
      "       'dlvry_지하층수', 'dlvry_건물용도', 'day_of_week', 'is_holiday', '일시', '기온',\n",
      "       '강수량', '시간', 'dlvry_rgn1_nm', 'dlvry_rgn2_nm', 'dlvry_rgn3_nm', 'etc'],\n",
      "      dtype='object')\n"
     ]
    }
   ],
   "source": [
    "print(new_data.shape) # 18,213\n",
    "print(new_data.columns)"
   ]
  },
  {
   "cell_type": "code",
   "execution_count": 818,
   "metadata": {},
   "outputs": [
    {
     "name": "stdout",
     "output_type": "stream",
     "text": [
      "(18213, 3)\n"
     ]
    }
   ],
   "source": [
    "#new_value = y_pred_new.to_numpy().reshape(-1,1)\n",
    "new_value = y_pred_new[:, 1].reshape(-1,1)\n",
    "kmeans_new = kmeans.predict(new_value)\n",
    "#agglomerative_new = agglomerative.fit_predict(new_value)\n",
    "\n",
    "result_data = pd.DataFrame({'dlvry_id': new_data[\"dlvry_id\"],\n",
    "                             'y_pred_new': y_pred_new[:, 1].squeeze(),\n",
    "                            'KMeansCluster': kmeans_new #, 'AgglomerativeCluster': agglomerative_new\n",
    "                            }) \n",
    "print(result_data.shape)\n"
   ]
  },
  {
   "cell_type": "code",
   "execution_count": 819,
   "metadata": {},
   "outputs": [
    {
     "name": "stdout",
     "output_type": "stream",
     "text": [
      "            dlvry_id  y_pred_new  KMeansCluster business_day  reg_hour  \\\n",
      "0  20230915_0000JACM    0.015554              0   2023-09-15        12   \n",
      "1  20230915_0003QVZS    0.547863              3   2023-09-15        21   \n",
      "\n",
      "  service_type   shop_no  ord_price  notiOver  actual_dlvry_distance  ...  \\\n",
      "0          배민1  13490855      27000         0                    144  ...   \n",
      "1          배민1  13512425      28000         0                   3994  ...   \n",
      "\n",
      "   day_of_week  is_holiday          일시    기온  강수량  시간  dlvry_rgn1_nm  \\\n",
      "0          Fri        True  2023-09-15  21.8  0.0  11          서울특별시   \n",
      "1          Fri        True  2023-09-15  23.4  0.0  20          서울특별시   \n",
      "\n",
      "   dlvry_rgn2_nm  dlvry_rgn3_nm      etc  \n",
      "0            서초구            서초동  1549-20  \n",
      "1            서초구            서초동  1451-27  \n",
      "\n",
      "[2 rows x 45 columns]\n"
     ]
    }
   ],
   "source": [
    "# join\n",
    "result_data = result_data.merge(new_data, on = 'dlvry_id', how = 'left')\n",
    "print(result_data.head(2))\n",
    "\n",
    "result_data.to_csv('prj-ML-model-LT_OV30/cluster_add_new_data.csv', index= False, encoding = \"utf-8\")\n",
    "result_data.to_excel('prj-ML-model-LT_OV30/cluster_add_new_data.xlsx', index=False)"
   ]
  },
  {
   "cell_type": "code",
   "execution_count": 828,
   "metadata": {},
   "outputs": [
    {
     "name": "stdout",
     "output_type": "stream",
     "text": [
      "                dlvry_id business_day  reg_hour service_type   shop_no  \\\n",
      "8044   20230915_3187LXAE   2023-09-15        16          배민1  13494863   \n",
      "8043   20230915_3187LXAE   2023-09-15        16          배민1  13494863   \n",
      "7097   20230915_8129TQPX   2023-09-15        12          배민1  13726330   \n",
      "7096   20230915_8129TQPX   2023-09-15        12          배민1  13726330   \n",
      "12187  20230917_7674ETQA   2023-09-17        17          배민1  13543243   \n",
      "12188  20230917_7674ETQA   2023-09-17        17          배민1  13543243   \n",
      "12258  20230917_9192MCDZ   2023-09-17        16          배민1  13862588   \n",
      "12259  20230917_9192MCDZ   2023-09-17        16          배민1  13862588   \n",
      "\n",
      "       ord_price  notiOver  actual_dlvry_distance  shop_loc_pnt_lat  \\\n",
      "8044       30000         0                   3599         37.479770   \n",
      "8043       30000         0                   3599         37.479770   \n",
      "7097       18600         0                   2016         37.494380   \n",
      "7096       18600         0                   2016         37.494380   \n",
      "12187      52300         0                   4408         37.491796   \n",
      "12188      52300         0                   4408         37.491796   \n",
      "12258      48400         0                   5064         37.480909   \n",
      "12259      48400         0                   5064         37.480909   \n",
      "\n",
      "       shop_loc_pnt_lon  ...  day_of_week  is_holiday          일시    기온  강수량  \\\n",
      "8044         126.982662  ...          Fri        True  2023-09-15  23.5  0.0   \n",
      "8043         126.982662  ...          Fri        True  2023-09-15  23.5  0.0   \n",
      "7097         127.019825  ...          Fri        True  2023-09-15  21.8  0.0   \n",
      "7096         127.019825  ...          Fri        True  2023-09-15  21.8  0.0   \n",
      "12187        126.990661  ...          Sun        True  2023-09-17  27.8  0.0   \n",
      "12188        126.990661  ...          Sun        True  2023-09-17  27.8  0.0   \n",
      "12258        126.998355  ...          Sun        True  2023-09-17  27.6  0.0   \n",
      "12259        126.998355  ...          Sun        True  2023-09-17  27.6  0.0   \n",
      "\n",
      "       시간  dlvry_rgn1_nm  dlvry_rgn2_nm  dlvry_rgn3_nm   etc  \n",
      "8044   15          서울특별시            관악구            봉천동  1000  \n",
      "8043   15          서울특별시            관악구            봉천동  1000  \n",
      "7097   11          서울특별시            서초구            반포동  83-1  \n",
      "7096   11          서울특별시            서초구            반포동  83-1  \n",
      "12187  16          서울특별시            관악구            봉천동  1706  \n",
      "12188  16          서울특별시            관악구            봉천동  1706  \n",
      "12258  15          서울특별시            관악구            봉천동  1000  \n",
      "12259  15          서울특별시            관악구            봉천동  1000  \n",
      "\n",
      "[8 rows x 43 columns]\n"
     ]
    }
   ],
   "source": [
    "duplicates = new_data[new_data.duplicated(subset=['dlvry_id'], keep=False)]\n",
    "print(duplicates)"
   ]
  },
  {
   "cell_type": "code",
   "execution_count": 826,
   "metadata": {},
   "outputs": [
    {
     "name": "stdout",
     "output_type": "stream",
     "text": [
      "(18221, 45)\n"
     ]
    }
   ],
   "source": [
    "print(result_data.shape)"
   ]
  },
  {
   "cell_type": "code",
   "execution_count": 820,
   "metadata": {},
   "outputs": [
    {
     "name": "stdout",
     "output_type": "stream",
     "text": [
      "KMeansCluster\n",
      "0    9420\n",
      "2    5462\n",
      "1    2433\n",
      "3     906\n",
      "Name: count, dtype: int64\n"
     ]
    }
   ],
   "source": [
    "print(result_data['KMeansCluster'].value_counts())\n",
    "#print(result_data['AgglomerativeCluster'].value_counts())"
   ]
  },
  {
   "cell_type": "code",
   "execution_count": 821,
   "metadata": {},
   "outputs": [],
   "source": [
    "#result_data.groupby('AgglomerativeCluster')['y_pred_new'].agg(['mean', 'std', 'min', 'max'])"
   ]
  },
  {
   "cell_type": "code",
   "execution_count": 822,
   "metadata": {},
   "outputs": [
    {
     "data": {
      "text/html": [
       "<div>\n",
       "<style scoped>\n",
       "    .dataframe tbody tr th:only-of-type {\n",
       "        vertical-align: middle;\n",
       "    }\n",
       "\n",
       "    .dataframe tbody tr th {\n",
       "        vertical-align: top;\n",
       "    }\n",
       "\n",
       "    .dataframe thead th {\n",
       "        text-align: right;\n",
       "    }\n",
       "</style>\n",
       "<table border=\"1\" class=\"dataframe\">\n",
       "  <thead>\n",
       "    <tr style=\"text-align: right;\">\n",
       "      <th></th>\n",
       "      <th>mean</th>\n",
       "      <th>std</th>\n",
       "      <th>min</th>\n",
       "      <th>max</th>\n",
       "    </tr>\n",
       "    <tr>\n",
       "      <th>KMeansCluster</th>\n",
       "      <th></th>\n",
       "      <th></th>\n",
       "      <th></th>\n",
       "      <th></th>\n",
       "    </tr>\n",
       "  </thead>\n",
       "  <tbody>\n",
       "    <tr>\n",
       "      <th>0</th>\n",
       "      <td>0.048217</td>\n",
       "      <td>0.019412</td>\n",
       "      <td>0.007802</td>\n",
       "      <td>0.086653</td>\n",
       "    </tr>\n",
       "    <tr>\n",
       "      <th>1</th>\n",
       "      <td>0.291203</td>\n",
       "      <td>0.058744</td>\n",
       "      <td>0.210331</td>\n",
       "      <td>0.425886</td>\n",
       "    </tr>\n",
       "    <tr>\n",
       "      <th>2</th>\n",
       "      <td>0.135356</td>\n",
       "      <td>0.035070</td>\n",
       "      <td>0.086686</td>\n",
       "      <td>0.210298</td>\n",
       "    </tr>\n",
       "    <tr>\n",
       "      <th>3</th>\n",
       "      <td>0.566508</td>\n",
       "      <td>0.116568</td>\n",
       "      <td>0.426008</td>\n",
       "      <td>0.970692</td>\n",
       "    </tr>\n",
       "  </tbody>\n",
       "</table>\n",
       "</div>"
      ],
      "text/plain": [
       "                   mean       std       min       max\n",
       "KMeansCluster                                        \n",
       "0              0.048217  0.019412  0.007802  0.086653\n",
       "1              0.291203  0.058744  0.210331  0.425886\n",
       "2              0.135356  0.035070  0.086686  0.210298\n",
       "3              0.566508  0.116568  0.426008  0.970692"
      ]
     },
     "execution_count": 822,
     "metadata": {},
     "output_type": "execute_result"
    }
   ],
   "source": [
    "result_data.groupby('KMeansCluster')['y_pred_new'].agg(['mean', 'std', 'min', 'max'])"
   ]
  },
  {
   "cell_type": "code",
   "execution_count": 823,
   "metadata": {},
   "outputs": [
    {
     "data": {
      "text/html": [
       "<div>\n",
       "<style scoped>\n",
       "    .dataframe tbody tr th:only-of-type {\n",
       "        vertical-align: middle;\n",
       "    }\n",
       "\n",
       "    .dataframe tbody tr th {\n",
       "        vertical-align: top;\n",
       "    }\n",
       "\n",
       "    .dataframe thead th {\n",
       "        text-align: right;\n",
       "    }\n",
       "</style>\n",
       "<table border=\"1\" class=\"dataframe\">\n",
       "  <thead>\n",
       "    <tr style=\"text-align: right;\">\n",
       "      <th></th>\n",
       "      <th>mean</th>\n",
       "      <th>std</th>\n",
       "      <th>min</th>\n",
       "      <th>max</th>\n",
       "    </tr>\n",
       "    <tr>\n",
       "      <th>KMeansCluster</th>\n",
       "      <th></th>\n",
       "      <th></th>\n",
       "      <th></th>\n",
       "      <th></th>\n",
       "    </tr>\n",
       "  </thead>\n",
       "  <tbody>\n",
       "    <tr>\n",
       "      <th>0</th>\n",
       "      <td>1.493937</td>\n",
       "      <td>2.685862</td>\n",
       "      <td>0.116667</td>\n",
       "      <td>36.650000</td>\n",
       "    </tr>\n",
       "    <tr>\n",
       "      <th>1</th>\n",
       "      <td>6.788697</td>\n",
       "      <td>8.741564</td>\n",
       "      <td>0.150000</td>\n",
       "      <td>58.900000</td>\n",
       "    </tr>\n",
       "    <tr>\n",
       "      <th>2</th>\n",
       "      <td>3.471235</td>\n",
       "      <td>5.606579</td>\n",
       "      <td>0.133333</td>\n",
       "      <td>57.233333</td>\n",
       "    </tr>\n",
       "    <tr>\n",
       "      <th>3</th>\n",
       "      <td>11.055169</td>\n",
       "      <td>11.085984</td>\n",
       "      <td>0.150000</td>\n",
       "      <td>72.100000</td>\n",
       "    </tr>\n",
       "  </tbody>\n",
       "</table>\n",
       "</div>"
      ],
      "text/plain": [
       "                    mean        std       min        max\n",
       "KMeansCluster                                           \n",
       "0               1.493937   2.685862  0.116667  36.650000\n",
       "1               6.788697   8.741564  0.150000  58.900000\n",
       "2               3.471235   5.606579  0.133333  57.233333\n",
       "3              11.055169  11.085984  0.150000  72.100000"
      ]
     },
     "execution_count": 823,
     "metadata": {},
     "output_type": "execute_result"
    }
   ],
   "source": [
    "result_data.groupby('KMeansCluster')['전체배차시간'].agg(['mean', 'std', 'min', 'max'])"
   ]
  },
  {
   "cell_type": "code",
   "execution_count": 824,
   "metadata": {},
   "outputs": [],
   "source": [
    "#result_data.groupby('AgglomerativeCluster')['전체배차시간'].agg(['mean', 'std', 'min', 'max'])"
   ]
  },
  {
   "cell_type": "code",
   "execution_count": 825,
   "metadata": {},
   "outputs": [
    {
     "name": "stdout",
     "output_type": "stream",
     "text": [
      "KMeansCluster\n",
      "0    488\n",
      "1    919\n",
      "2    997\n",
      "3    520\n",
      "dtype: int64\n"
     ]
    }
   ],
   "source": [
    "# 그룹별 전체배차시간 5.05분 이상인 애들 개수 \n",
    "filtered_df = result_data[result_data['전체배차시간'] > 5.05]\n",
    "grouped_counts = filtered_df.groupby('KMeansCluster').size()\n",
    "\n",
    "print(grouped_counts)"
   ]
  }
 ],
 "metadata": {
  "kernelspec": {
   "display_name": ".venv",
   "language": "python",
   "name": "python3"
  },
  "language_info": {
   "codemirror_mode": {
    "name": "ipython",
    "version": 3
   },
   "file_extension": ".py",
   "mimetype": "text/x-python",
   "name": "python",
   "nbconvert_exporter": "python",
   "pygments_lexer": "ipython3",
   "version": "3.9.6"
  },
  "orig_nbformat": 4
 },
 "nbformat": 4,
 "nbformat_minor": 2
}
