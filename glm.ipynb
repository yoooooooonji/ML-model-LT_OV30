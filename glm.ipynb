{
 "cells": [
  {
   "cell_type": "code",
   "execution_count": 311,
   "metadata": {},
   "outputs": [
    {
     "name": "stdout",
     "output_type": "stream",
     "text": [
      "/Users/yj.noh/Documents/GitHub\n"
     ]
    }
   ],
   "source": [
    "import pandas as pd\n",
    "import numpy as np\n",
    "import os\n",
    "import matplotlib.pyplot as plt\n",
    "import statsmodels.api as sm\n",
    "from datetime import datetime\n",
    "import seaborn as sns\n",
    "from sklearn.preprocessing import OneHotEncoder\n",
    "from sklearn.preprocessing import StandardScaler\n",
    "from sklearn.preprocessing import MinMaxScaler\n",
    "from sklearn.linear_model import LogisticRegression\n",
    "from sklearn.model_selection import train_test_split\n",
    "from sklearn.metrics import accuracy_score, confusion_matrix\n",
    "from sklearn.metrics import classification_report\n",
    "import warnings\n",
    "warnings.filterwarnings(\"ignore\")\n",
    "os.chdir(\"/Users/yj.noh/Documents/GitHub\")\n",
    "print(os.getcwd())"
   ]
  },
  {
   "cell_type": "code",
   "execution_count": 312,
   "metadata": {},
   "outputs": [
    {
     "name": "stdout",
     "output_type": "stream",
     "text": [
      "            dlvry_id  reg_hour  ord_price  actual_dlvry_distance  pick_floor  \\\n",
      "0  20230827_9376QTJN        11      22500                   1274         1.0   \n",
      "1  20230827_1765MBEB        17      15700                   2809         1.0   \n",
      "2  20230827_0741UTNW        18      20400                   1961        -1.0   \n",
      "3  20230827_6306VAVZ        19      16900                   1826         1.0   \n",
      "4  20230827_5544DEBH        11      21000                   1184         2.0   \n",
      "\n",
      "  pick_rgn2_nm pick_rgn3_nm pick_category pick_건물용도  dlvry_지상층수  dlvry_지하층수  \\\n",
      "0          서초구          잠원동       CHINESE      업무시설         NaN         NaN   \n",
      "1          서초구          반포동         SNACK     일반음식점        19.0         5.0   \n",
      "2          서초구          서초동     ZZIM_TANG       아파트         4.0         1.0   \n",
      "3          서초구          방배동         ASIAN       아파트         5.0         0.0   \n",
      "4          서초구          서초동          CAFE       NaN         4.0         1.0   \n",
      "\n",
      "  dlvry_건물용도 day_of_week  is_holiday    기온  강수량 dlvry_rgn2_nm dlvry_rgn3_nm  \\\n",
      "0        NaN         Sun        True  26.1  0.0           서초구           잠원동   \n",
      "1       업무시설         Sun        True  29.1  0.0           강남구           역삼동   \n",
      "2       업무시설         Sun        True  28.9  0.0           서초구           서초동   \n",
      "3       공동주택         Sun        True  28.0  0.0           동작구           사당동   \n",
      "4       업무시설         Sun        True  26.1  0.0           강남구           역삼동   \n",
      "\n",
      "   outcome  \n",
      "0        0  \n",
      "1        0  \n",
      "2        0  \n",
      "3        1  \n",
      "4        0  \n",
      "(68027, 19)\n"
     ]
    }
   ],
   "source": [
    "data = pd.read_csv(\"prj-ML-model-LT_OV30/modeling_data.csv\", encoding = \"cp949\")\n",
    "print(data.head())\n",
    "print(data.shape)"
   ]
  },
  {
   "cell_type": "code",
   "execution_count": 313,
   "metadata": {},
   "outputs": [
    {
     "name": "stdout",
     "output_type": "stream",
     "text": [
      "(44644, 19)\n",
      "outcome\n",
      "0    38816\n",
      "1     5828\n",
      "Name: count, dtype: int64\n"
     ]
    }
   ],
   "source": [
    "# 건물 정보 없는 데이터 삭제 \n",
    "filtered_data = data.dropna(subset=['pick_건물용도', 'dlvry_건물용도'])\n",
    "print(filtered_data.shape) #44,644 \n",
    "print(filtered_data['outcome'].value_counts()) # 38,816, 5,828 "
   ]
  },
  {
   "cell_type": "code",
   "execution_count": 314,
   "metadata": {},
   "outputs": [
    {
     "name": "stdout",
     "output_type": "stream",
     "text": [
      "dlvry_id                    0\n",
      "reg_hour                    0\n",
      "ord_price                   0\n",
      "actual_dlvry_distance       0\n",
      "pick_floor                  0\n",
      "pick_rgn2_nm                0\n",
      "pick_rgn3_nm                0\n",
      "pick_category               0\n",
      "pick_건물용도                   0\n",
      "dlvry_지상층수               5726\n",
      "dlvry_지하층수               5726\n",
      "dlvry_건물용도                  0\n",
      "day_of_week                 0\n",
      "is_holiday                  0\n",
      "기온                          0\n",
      "강수량                         0\n",
      "dlvry_rgn2_nm               0\n",
      "dlvry_rgn3_nm               0\n",
      "outcome                     0\n",
      "dtype: int64\n"
     ]
    }
   ],
   "source": [
    "print(filtered_data.isna().sum())"
   ]
  },
  {
   "cell_type": "code",
   "execution_count": 315,
   "metadata": {},
   "outputs": [
    {
     "name": "stdout",
     "output_type": "stream",
     "text": [
      "dlvry_id                  object\n",
      "reg_hour                   int64\n",
      "ord_price                  int64\n",
      "actual_dlvry_distance      int64\n",
      "pick_floor               float64\n",
      "pick_rgn2_nm              object\n",
      "pick_rgn3_nm              object\n",
      "pick_category             object\n",
      "pick_건물용도                 object\n",
      "dlvry_지상층수               float64\n",
      "dlvry_지하층수               float64\n",
      "dlvry_건물용도                object\n",
      "day_of_week               object\n",
      "is_holiday                  bool\n",
      "기온                       float64\n",
      "강수량                      float64\n",
      "dlvry_rgn2_nm             object\n",
      "dlvry_rgn3_nm             object\n",
      "outcome                    int64\n",
      "dtype: object\n"
     ]
    }
   ],
   "source": [
    "print(filtered_data.dtypes)"
   ]
  },
  {
   "cell_type": "code",
   "execution_count": 316,
   "metadata": {},
   "outputs": [
    {
     "name": "stdout",
     "output_type": "stream",
     "text": [
      "dlvry_id                    0\n",
      "reg_hour                    0\n",
      "ord_price                   0\n",
      "actual_dlvry_distance       0\n",
      "pick_floor                  0\n",
      "pick_rgn2_nm                0\n",
      "pick_rgn3_nm                0\n",
      "pick_category               0\n",
      "pick_건물용도                   0\n",
      "dlvry_지상층수               5726\n",
      "dlvry_지하층수               5726\n",
      "dlvry_건물용도                  0\n",
      "day_of_week                 0\n",
      "is_holiday                  0\n",
      "기온                          0\n",
      "강수량                         0\n",
      "dlvry_rgn2_nm               0\n",
      "dlvry_rgn3_nm               0\n",
      "outcome                     0\n",
      "dtype: int64\n"
     ]
    }
   ],
   "source": [
    "# dlvry_지하층수 음수로\n",
    "# filtered_data['dlvry_지하층수'] = pd.to_numeric(filtered_data['dlvry_지하층수'], errors='coerce')\n",
    "# filtered_data['dlvry_지상층수'] = pd.to_numeric(filtered_data['dlvry_지상층수'], errors='coerce')\n",
    "# filtered_data['pick_floor'] = pd.to_numeric(filtered_data['pick_floor'], errors='coerce')\n",
    "\n",
    "filtered_data['dlvry_지하층수'] = filtered_data['dlvry_지하층수'].apply(lambda x: -x)\n",
    "#print(filtered_data.head())\n",
    "print(filtered_data.isna().sum())"
   ]
  },
  {
   "attachments": {},
   "cell_type": "markdown",
   "metadata": {},
   "source": [
    "## 1. 데이터 전처리\n"
   ]
  },
  {
   "attachments": {},
   "cell_type": "markdown",
   "metadata": {},
   "source": [
    "## 1-1. pick_건물용도/ dlvry_건물용도 : 개수 축소"
   ]
  },
  {
   "cell_type": "code",
   "execution_count": 317,
   "metadata": {},
   "outputs": [
    {
     "name": "stdout",
     "output_type": "stream",
     "text": [
      "pick_건물용도\n",
      "업무시설          14372\n",
      "근린생활시설         7875\n",
      "아파트            5367\n",
      "일반음식점          5206\n",
      "일반상점           3881\n",
      "공동주택           3089\n",
      "교육시설           1604\n",
      "의료시설           1177\n",
      "백화점             534\n",
      "자동차관련시설         471\n",
      "오피스텔            266\n",
      "기타시설            210\n",
      "숙박시설            174\n",
      "대형판매점           141\n",
      "위락시설            134\n",
      "문화시설             87\n",
      "종교시설             30\n",
      "체육시설             16\n",
      "위험물저장및처리시설       10\n",
      "Name: count, dtype: int64\n"
     ]
    }
   ],
   "source": [
    "print(filtered_data['pick_건물용도'].value_counts())"
   ]
  },
  {
   "cell_type": "code",
   "execution_count": 318,
   "metadata": {},
   "outputs": [
    {
     "name": "stdout",
     "output_type": "stream",
     "text": [
      "pick_건물용도\n",
      "업무시설       14372\n",
      "근린생활시설      7875\n",
      "아파트         5367\n",
      "일반음식점       5206\n",
      "일반상점        3881\n",
      "공동주택        3089\n",
      "교육시설        1604\n",
      "의료시설        1177\n",
      "백화점          534\n",
      "기타시설         487\n",
      "자동차관련시설      471\n",
      "오피스텔         266\n",
      "숙박시설         174\n",
      "대형판매점        141\n",
      "Name: count, dtype: int64\n"
     ]
    }
   ],
   "source": [
    "# 데이터 정리\n",
    "values_to_replace = ['위락시설', '문화시설', '종교시설', '체육시설','위험물저장및처리시설']\n",
    "filtered_data['pick_건물용도'] = data['pick_건물용도'].replace(values_to_replace, '기타시설')\n",
    "print(filtered_data['pick_건물용도'].value_counts())"
   ]
  },
  {
   "cell_type": "code",
   "execution_count": 319,
   "metadata": {},
   "outputs": [
    {
     "name": "stdout",
     "output_type": "stream",
     "text": [
      "dlvry_건물용도\n",
      "공동주택          16952\n",
      "아파트           13910\n",
      "업무시설           7279\n",
      "근린생활시설         1559\n",
      "일반상점           1224\n",
      "교육시설           1028\n",
      "의료시설            758\n",
      "일반음식점           557\n",
      "숙박시설            459\n",
      "공공시설            241\n",
      "종교시설            127\n",
      "교육연구시설          120\n",
      "오피스텔            101\n",
      "자동차관련시설          67\n",
      "방송통신시설           53\n",
      "기타시설             39\n",
      "체육시설             36\n",
      "백화점              36\n",
      "위험물저장및처리시설       18\n",
      "복지시설             16\n",
      "문화시설             14\n",
      "위락시설             12\n",
      "복합몰               7\n",
      "창고시설              6\n",
      "수련시설              6\n",
      "동식물시설             5\n",
      "단독주택              5\n",
      "운수시설              3\n",
      "노유자시설             2\n",
      "호텔                2\n",
      "체력시설              1\n",
      "공공용시설             1\n",
      "Name: count, dtype: int64\n"
     ]
    }
   ],
   "source": [
    "print(filtered_data['dlvry_건물용도'].value_counts())"
   ]
  },
  {
   "cell_type": "code",
   "execution_count": 320,
   "metadata": {},
   "outputs": [
    {
     "name": "stdout",
     "output_type": "stream",
     "text": [
      "dlvry_건물용도\n",
      "공동주택      16952\n",
      "아파트       13910\n",
      "업무시설       7279\n",
      "근린생활시설     1559\n",
      "일반상점       1224\n",
      "교육시설       1148\n",
      "의료시설        758\n",
      "일반음식점       557\n",
      "숙박시설        459\n",
      "기타시설        329\n",
      "공공시설        241\n",
      "종교시설        127\n",
      "오피스텔        101\n",
      "Name: count, dtype: int64\n"
     ]
    }
   ],
   "source": [
    "value_counts = filtered_data['dlvry_건물용도'].value_counts()\n",
    "\n",
    "threshold = 100\n",
    "filtered_data['dlvry_건물용도'] = filtered_data['dlvry_건물용도'].apply(lambda x: '기타시설' if value_counts[x] <= threshold else x)\n",
    "\n",
    "filtered_data['dlvry_건물용도'] = filtered_data['dlvry_건물용도'].replace('교육연구시설', '교육시설')\n",
    "filtered_data['dlvry_건물용도'] = filtered_data['dlvry_건물용도'].replace('공공용시설', '공공시설')\n",
    "\n",
    "print(filtered_data['dlvry_건물용도'].value_counts())"
   ]
  },
  {
   "attachments": {},
   "cell_type": "markdown",
   "metadata": {},
   "source": [
    "## 1-2. dlvry_지상층수 /지하층수 : dlvry_건물용도 median 값 가져오기"
   ]
  },
  {
   "cell_type": "code",
   "execution_count": 321,
   "metadata": {},
   "outputs": [
    {
     "name": "stdout",
     "output_type": "stream",
     "text": [
      "Median Values:\n",
      "            dlvry_지상층수  dlvry_지하층수\n",
      "dlvry_건물용도                        \n",
      "공공시설               3.0        -0.0\n",
      "공동주택               4.0        -1.0\n",
      "교육시설               6.0        -1.0\n",
      "근린생활시설             5.0        -1.0\n",
      "기타시설               5.0        -2.0\n",
      "숙박시설              10.0        -1.0\n",
      "아파트               15.0        -1.0\n",
      "업무시설              10.0        -3.0\n",
      "오피스텔              15.0        -7.0\n",
      "의료시설              10.0        -1.0\n",
      "일반상점               4.0        -1.0\n",
      "일반음식점              5.0        -1.0\n",
      "종교시설               4.0        -3.0\n",
      "\n",
      "Mean Values:\n",
      "            dlvry_지상층수  dlvry_지하층수\n",
      "dlvry_건물용도                        \n",
      "공공시설          3.066390   -0.203320\n",
      "공동주택          3.844208   -0.732086\n",
      "교육시설          6.414397   -1.383268\n",
      "근린생활시설        5.316228   -1.250160\n",
      "기타시설          8.412698   -2.501587\n",
      "숙박시설         10.838428   -2.397380\n",
      "아파트          18.313515   -1.368009\n",
      "업무시설         11.697593   -3.120231\n",
      "오피스텔         15.000000   -6.118812\n",
      "의료시설          9.507916   -1.928760\n",
      "일반상점          5.041667   -1.446078\n",
      "일반음식점         4.746858   -1.263914\n",
      "종교시설          4.227642   -2.560976\n"
     ]
    }
   ],
   "source": [
    "median_values = filtered_data.dropna().groupby('dlvry_건물용도')[['dlvry_지상층수', 'dlvry_지하층수']].median()\n",
    "mean_values = filtered_data.dropna().groupby('dlvry_건물용도')[['dlvry_지상층수', 'dlvry_지하층수']].mean()\n",
    "\n",
    "print(\"Median Values:\")\n",
    "print(median_values)\n",
    "\n",
    "print(\"\\nMean Values:\")\n",
    "print(mean_values)\n"
   ]
  },
  {
   "cell_type": "code",
   "execution_count": 322,
   "metadata": {},
   "outputs": [
    {
     "name": "stdout",
     "output_type": "stream",
     "text": [
      "           reg_hour      ord_price  actual_dlvry_distance    pick_floor  \\\n",
      "count  44644.000000   44644.000000           44644.000000  44644.000000   \n",
      "mean      15.780866   27080.946757            1959.281538      0.748006   \n",
      "std        3.745221   17994.351039            1156.483892      0.924460   \n",
      "min        9.000000    5000.000000               1.000000     -1.000000   \n",
      "25%       12.000000   16700.000000            1115.000000      1.000000   \n",
      "50%       16.000000   22400.000000            1756.000000      1.000000   \n",
      "75%       19.000000   31400.000000            2514.000000      1.000000   \n",
      "max       23.000000  483000.000000            8003.000000      8.000000   \n",
      "\n",
      "         dlvry_지상층수    dlvry_지하층수            기온           강수량       outcome  \n",
      "count  44644.000000  44644.000000  44644.000000  44644.000000  44644.000000  \n",
      "mean      10.028380     -1.476481     26.778833      0.609437      0.130544  \n",
      "std        8.766227      1.608017      2.664765      3.162902      0.336905  \n",
      "min        0.000000     -9.000000     20.800000      0.000000      0.000000  \n",
      "25%        4.000000     -1.000000     24.600000      0.000000      0.000000  \n",
      "50%        6.000000     -1.000000     27.100000      0.000000      0.000000  \n",
      "75%       15.000000     -1.000000     28.800000      0.000000      0.000000  \n",
      "max       69.000000     -0.000000     33.500000     27.600000      1.000000  \n",
      "Index(['dlvry_id', 'reg_hour', 'ord_price', 'actual_dlvry_distance',\n",
      "       'pick_floor', 'pick_rgn2_nm', 'pick_rgn3_nm', 'pick_category',\n",
      "       'pick_건물용도', 'dlvry_지상층수', 'dlvry_지하층수', 'dlvry_건물용도', 'day_of_week',\n",
      "       'is_holiday', '기온', '강수량', 'dlvry_rgn2_nm', 'dlvry_rgn3_nm', 'outcome'],\n",
      "      dtype='object')\n"
     ]
    }
   ],
   "source": [
    "# na 값을 중앙값으로 채우기\n",
    "filtered_data['dlvry_지상층수'].fillna(filtered_data['dlvry_건물용도'].map(median_values['dlvry_지상층수']), inplace=True)\n",
    "filtered_data['dlvry_지하층수'].fillna(filtered_data['dlvry_건물용도'].map(median_values['dlvry_지하층수']), inplace=True)\n",
    "\n",
    "print(filtered_data.describe())\n",
    "print(filtered_data.columns)"
   ]
  },
  {
   "cell_type": "code",
   "execution_count": 323,
   "metadata": {},
   "outputs": [
    {
     "name": "stdout",
     "output_type": "stream",
     "text": [
      "dlvry_id                 0\n",
      "reg_hour                 0\n",
      "ord_price                0\n",
      "actual_dlvry_distance    0\n",
      "pick_floor               0\n",
      "pick_rgn2_nm             0\n",
      "pick_rgn3_nm             0\n",
      "pick_category            0\n",
      "pick_건물용도                0\n",
      "dlvry_지상층수               0\n",
      "dlvry_지하층수               0\n",
      "dlvry_건물용도               0\n",
      "day_of_week              0\n",
      "is_holiday               0\n",
      "기온                       0\n",
      "강수량                      0\n",
      "dlvry_rgn2_nm            0\n",
      "dlvry_rgn3_nm            0\n",
      "outcome                  0\n",
      "dtype: int64\n"
     ]
    }
   ],
   "source": [
    "print(filtered_data.isna().sum())"
   ]
  },
  {
   "attachments": {},
   "cell_type": "markdown",
   "metadata": {},
   "source": [
    "## 1-3.  pick_floor, dlvry_지상층수, dlvry_지하층수 "
   ]
  },
  {
   "cell_type": "code",
   "execution_count": 324,
   "metadata": {},
   "outputs": [
    {
     "name": "stdout",
     "output_type": "stream",
     "text": [
      "pick_floor\n",
      " 1.0    31450\n",
      "-1.0     7548\n",
      " 2.0     3810\n",
      " 0.0     1363\n",
      " 3.0      314\n",
      " 4.0       85\n",
      " 8.0       73\n",
      " 6.0        1\n",
      "Name: count, dtype: int64\n"
     ]
    }
   ],
   "source": [
    "print(filtered_data['pick_floor'].value_counts())"
   ]
  },
  {
   "cell_type": "code",
   "execution_count": 325,
   "metadata": {},
   "outputs": [
    {
     "name": "stdout",
     "output_type": "stream",
     "text": [
      "dlvry_지하층수\n",
      "-1.0    24736\n",
      "-0.0     9058\n",
      "-2.0     3590\n",
      "-3.0     1876\n",
      "-4.0     1778\n",
      "-5.0     1483\n",
      "-6.0     1233\n",
      "-7.0      674\n",
      "-8.0      215\n",
      "-9.0        1\n",
      "Name: count, dtype: int64\n"
     ]
    }
   ],
   "source": [
    "print(filtered_data['dlvry_지하층수'].value_counts())"
   ]
  },
  {
   "cell_type": "code",
   "execution_count": 326,
   "metadata": {},
   "outputs": [
    {
     "name": "stdout",
     "output_type": "stream",
     "text": [
      "dlvry_지상층수\n",
      "4.0     9546\n",
      "5.0     5935\n",
      "3.0     4366\n",
      "15.0    4286\n",
      "6.0     2892\n",
      "2.0     1796\n",
      "12.0    1556\n",
      "7.0     1408\n",
      "20.0    1372\n",
      "10.0    1270\n",
      "13.0    1182\n",
      "29.0     872\n",
      "32.0     782\n",
      "14.0     722\n",
      "9.0      713\n",
      "25.0     599\n",
      "18.0     551\n",
      "24.0     526\n",
      "8.0      522\n",
      "11.0     466\n",
      "27.0     413\n",
      "22.0     412\n",
      "16.0     329\n",
      "17.0     269\n",
      "37.0     267\n",
      "21.0     262\n",
      "19.0     248\n",
      "46.0     184\n",
      "26.0     177\n",
      "1.0      171\n",
      "23.0     166\n",
      "31.0     114\n",
      "66.0      52\n",
      "28.0      43\n",
      "69.0      40\n",
      "55.0      30\n",
      "51.0      26\n",
      "34.0      22\n",
      "44.0      20\n",
      "45.0      16\n",
      "0.0        9\n",
      "30.0       8\n",
      "33.0       4\n",
      "Name: count, dtype: int64\n",
      "count    44644.000000\n",
      "mean        10.028380\n",
      "std          8.766227\n",
      "min          0.000000\n",
      "25%          4.000000\n",
      "50%          6.000000\n",
      "75%         15.000000\n",
      "max         69.000000\n",
      "Name: dlvry_지상층수, dtype: float64\n"
     ]
    }
   ],
   "source": [
    "print(filtered_data['dlvry_지상층수'].value_counts())\n",
    "print(filtered_data['dlvry_지상층수'].describe())"
   ]
  },
  {
   "cell_type": "code",
   "execution_count": 327,
   "metadata": {},
   "outputs": [
    {
     "name": "stdout",
     "output_type": "stream",
     "text": [
      "dlvry_지상층수\n",
      "저층      21814\n",
      "중상층      8212\n",
      "중층       6805\n",
      "고층       6239\n",
      "준초고층     1417\n",
      "초고층       148\n",
      "지하          9\n",
      "Name: count, dtype: int64\n",
      "pick_floor\n",
      "저층    35659\n",
      "지하     8911\n",
      "중층       74\n",
      "Name: count, dtype: int64\n"
     ]
    }
   ],
   "source": [
    "def categorize_floor(value):\n",
    "    if value <= 0:\n",
    "        return '지하'\n",
    "    elif 1 <= value <= 5:\n",
    "        return '저층'\n",
    "    elif 6 <= value <= 10 :\n",
    "        return '중층'\n",
    "    elif 11 <= value <= 15 : \n",
    "        return '중상층'\n",
    "    elif 16 <= value <= 29 :\n",
    "        return '고층'\n",
    "    elif 30 <= value <= 49 :\n",
    "        return '준초고층'\n",
    "    elif 50 <= value:\n",
    "        return '초고층'\n",
    "\n",
    "filtered_data['pick_floor'] = filtered_data['pick_floor'].apply(categorize_floor)\n",
    "filtered_data['dlvry_지상층수'] = filtered_data['dlvry_지상층수'].apply(categorize_floor)\n",
    "\n",
    "print(filtered_data['dlvry_지상층수'].value_counts())\n",
    "print(filtered_data['pick_floor'].value_counts())"
   ]
  },
  {
   "attachments": {},
   "cell_type": "markdown",
   "metadata": {},
   "source": [
    "## 2. 데이터 전처리"
   ]
  },
  {
   "cell_type": "code",
   "execution_count": 328,
   "metadata": {},
   "outputs": [
    {
     "name": "stdout",
     "output_type": "stream",
     "text": [
      "(44644, 19)\n",
      "<class 'pandas.core.frame.DataFrame'>\n",
      "Index: 44644 entries, 1 to 68026\n",
      "Data columns (total 19 columns):\n",
      " #   Column                 Non-Null Count  Dtype  \n",
      "---  ------                 --------------  -----  \n",
      " 0   dlvry_id               44644 non-null  object \n",
      " 1   reg_hour               44644 non-null  int64  \n",
      " 2   ord_price              44644 non-null  int64  \n",
      " 3   actual_dlvry_distance  44644 non-null  int64  \n",
      " 4   pick_floor             44644 non-null  object \n",
      " 5   pick_rgn2_nm           44644 non-null  object \n",
      " 6   pick_rgn3_nm           44644 non-null  object \n",
      " 7   pick_category          44644 non-null  object \n",
      " 8   pick_건물용도              44644 non-null  object \n",
      " 9   dlvry_지상층수             44644 non-null  object \n",
      " 10  dlvry_지하층수             44644 non-null  float64\n",
      " 11  dlvry_건물용도             44644 non-null  object \n",
      " 12  day_of_week            44644 non-null  object \n",
      " 13  is_holiday             44644 non-null  bool   \n",
      " 14  기온                     44644 non-null  float64\n",
      " 15  강수량                    44644 non-null  float64\n",
      " 16  dlvry_rgn2_nm          44644 non-null  object \n",
      " 17  dlvry_rgn3_nm          44644 non-null  object \n",
      " 18  outcome                44644 non-null  int64  \n",
      "dtypes: bool(1), float64(3), int64(4), object(11)\n",
      "memory usage: 6.5+ MB\n",
      "None\n"
     ]
    }
   ],
   "source": [
    "print(filtered_data.shape)\n",
    "print(filtered_data.info())"
   ]
  },
  {
   "cell_type": "code",
   "execution_count": 329,
   "metadata": {},
   "outputs": [],
   "source": [
    "dataset = filtered_data[['reg_hour', 'ord_price','actual_dlvry_distance', 'pick_floor', 'pick_rgn3_nm', \n",
    "                         'pick_category', 'pick_건물용도','dlvry_지상층수', 'dlvry_지하층수',\n",
    "                         'dlvry_건물용도','day_of_week', 'is_holiday', '기온', '강수량', 'dlvry_rgn2_nm', 'dlvry_rgn3_nm', 'outcome'\n",
    "                        ]]\n",
    "dataset.isna().sum()\n",
    "dataset.to_csv('prj-ML-model-LT_OV30/modeling_data_final.csv', index= False, encoding = \"utf-8\")"
   ]
  },
  {
   "attachments": {},
   "cell_type": "markdown",
   "metadata": {},
   "source": [
    "## 2-1. factor 변수 / one-hot-encoding"
   ]
  },
  {
   "cell_type": "code",
   "execution_count": 330,
   "metadata": {},
   "outputs": [
    {
     "name": "stdout",
     "output_type": "stream",
     "text": [
      "reg_hour                 category\n",
      "ord_price                   int64\n",
      "actual_dlvry_distance       int64\n",
      "pick_floor               category\n",
      "pick_rgn3_nm             category\n",
      "pick_category            category\n",
      "pick_건물용도                category\n",
      "dlvry_지상층수               category\n",
      "dlvry_지하층수                float64\n",
      "dlvry_건물용도               category\n",
      "day_of_week              category\n",
      "is_holiday               category\n",
      "기온                        float64\n",
      "강수량                       float64\n",
      "dlvry_rgn2_nm            category\n",
      "dlvry_rgn3_nm            category\n",
      "outcome                  category\n",
      "dtype: object\n"
     ]
    }
   ],
   "source": [
    "# category  \n",
    "for col in ['reg_hour','pick_floor', 'pick_rgn3_nm', 'pick_category', 'pick_건물용도','dlvry_지상층수','dlvry_건물용도',\n",
    "            'day_of_week', 'is_holiday','dlvry_rgn2_nm', 'dlvry_rgn3_nm', 'outcome' ] : \n",
    "    dataset[col] = dataset[col].astype('category')\n",
    "\n",
    "print(dataset.dtypes)"
   ]
  },
  {
   "cell_type": "code",
   "execution_count": 331,
   "metadata": {},
   "outputs": [
    {
     "name": "stdout",
     "output_type": "stream",
     "text": [
      "Index(['reg_hour_9', 'reg_hour_10', 'reg_hour_11', 'reg_hour_12',\n",
      "       'reg_hour_13', 'reg_hour_14', 'reg_hour_15', 'reg_hour_16',\n",
      "       'reg_hour_17', 'reg_hour_18',\n",
      "       ...\n",
      "       'dlvry_rgn3_nm_잠원동', 'dlvry_rgn3_nm_주암동', 'dlvry_rgn3_nm_청담동',\n",
      "       'dlvry_rgn3_nm_흑석동', 'ord_price', 'actual_dlvry_distance', 'dlvry_지하층수',\n",
      "       '기온', '강수량', 'outcome'],\n",
      "      dtype='object', length=124)\n"
     ]
    }
   ],
   "source": [
    "var = ['reg_hour','pick_floor', 'pick_rgn3_nm', 'pick_category', 'pick_건물용도','dlvry_지상층수','dlvry_건물용도',\n",
    "            'day_of_week', 'is_holiday','dlvry_rgn2_nm', 'dlvry_rgn3_nm' ] \n",
    "encoder = OneHotEncoder()\n",
    "onehot = pd.DataFrame(encoder.fit_transform(dataset[var]).toarray(), columns=encoder.get_feature_names_out(var), index = dataset.index)\n",
    "dataset = pd.concat([onehot, dataset.drop(columns=var)], axis=1)\n",
    "\n",
    "print(dataset.columns)"
   ]
  },
  {
   "attachments": {},
   "cell_type": "markdown",
   "metadata": {},
   "source": [
    "## 2-2 numeric variables"
   ]
  },
  {
   "cell_type": "code",
   "execution_count": 332,
   "metadata": {},
   "outputs": [
    {
     "name": "stdout",
     "output_type": "stream",
     "text": [
      "   reg_hour_9  reg_hour_10  reg_hour_11  reg_hour_12  reg_hour_13  \\\n",
      "1         0.0          0.0          0.0          0.0          0.0   \n",
      "2         0.0          0.0          0.0          0.0          0.0   \n",
      "3         0.0          0.0          0.0          0.0          0.0   \n",
      "\n",
      "   reg_hour_14  reg_hour_15  reg_hour_16  reg_hour_17  reg_hour_18  ...  \\\n",
      "1          0.0          0.0          0.0          1.0          0.0  ...   \n",
      "2          0.0          0.0          0.0          0.0          1.0  ...   \n",
      "3          0.0          0.0          0.0          0.0          0.0  ...   \n",
      "\n",
      "   dlvry_rgn3_nm_잠원동  dlvry_rgn3_nm_주암동  dlvry_rgn3_nm_청담동  dlvry_rgn3_nm_흑석동  \\\n",
      "1                0.0                0.0                0.0                0.0   \n",
      "2                0.0                0.0                0.0                0.0   \n",
      "3                0.0                0.0                0.0                0.0   \n",
      "\n",
      "   ord_price  actual_dlvry_distance  dlvry_지하층수        기온       강수량  outcome  \n",
      "1  -0.632480               0.734751   -2.191244  0.871069 -0.192685        0  \n",
      "2  -0.371284               0.001486    0.296319  0.796014 -0.192685        0  \n",
      "3  -0.565792              -0.115248    0.918210  0.458270 -0.192685        1  \n",
      "\n",
      "[3 rows x 124 columns]\n"
     ]
    }
   ],
   "source": [
    "scaler = StandardScaler()  #평균 0 , 분산 1로 조정\n",
    "#scaler = MinMaxScaler()\n",
    "\n",
    "num_vars = ['ord_price', 'actual_dlvry_distance', 'dlvry_지하층수', '기온', '강수량']\n",
    "dataset[num_vars] = scaler.fit_transform(dataset[num_vars])\n",
    "\n",
    "print(dataset.head(3))"
   ]
  },
  {
   "attachments": {},
   "cell_type": "markdown",
   "metadata": {},
   "source": [
    "## 3. train/test set split"
   ]
  },
  {
   "cell_type": "code",
   "execution_count": 333,
   "metadata": {},
   "outputs": [],
   "source": [
    "# set.seed(1234)\n",
    "# train_ratio = 0.75\n",
    "# total_samples = dataset.shape[0]\n",
    "# train_samples = int(train_ratio * total_samples)\n",
    "# train_set = dataset[:train_samples]\n",
    "# test_set = dataset[train_samples:]\n",
    "\n",
    "# print(train_set.shape) #33483\n",
    "# print(test_set.shape) #11161"
   ]
  },
  {
   "cell_type": "code",
   "execution_count": 334,
   "metadata": {},
   "outputs": [
    {
     "name": "stdout",
     "output_type": "stream",
     "text": [
      "outcome\n",
      "0    29112\n",
      "1     4371\n",
      "Name: count, dtype: int64\n",
      "outcome\n",
      "0    9704\n",
      "1    1457\n",
      "Name: count, dtype: int64\n",
      "(33483, 124)\n",
      "(11161, 124)\n"
     ]
    }
   ],
   "source": [
    "outcome_counts = dataset['outcome'].value_counts()\n",
    "train_set, test_set = train_test_split(dataset, test_size=0.25, stratify = dataset['outcome'], random_state=1234)\n",
    "\n",
    "train_outcome_counts = train_set['outcome'].value_counts()\n",
    "test_outcome_counts = test_set['outcome'].value_counts()\n",
    "\n",
    "print(train_outcome_counts)\n",
    "print(test_outcome_counts)\n",
    "\n",
    "print(train_set.shape) #33483\n",
    "print(test_set.shape) #11161"
   ]
  },
  {
   "cell_type": "code",
   "execution_count": 335,
   "metadata": {},
   "outputs": [
    {
     "name": "stdout",
     "output_type": "stream",
     "text": [
      "Index(['reg_hour_9', 'reg_hour_10', 'reg_hour_11', 'reg_hour_12',\n",
      "       'reg_hour_13', 'reg_hour_14', 'reg_hour_15', 'reg_hour_16',\n",
      "       'reg_hour_17', 'reg_hour_18',\n",
      "       ...\n",
      "       'dlvry_rgn3_nm_자곡동', 'dlvry_rgn3_nm_잠원동', 'dlvry_rgn3_nm_주암동',\n",
      "       'dlvry_rgn3_nm_청담동', 'dlvry_rgn3_nm_흑석동', 'ord_price',\n",
      "       'actual_dlvry_distance', 'dlvry_지하층수', '기온', '강수량'],\n",
      "      dtype='object', length=123)\n"
     ]
    }
   ],
   "source": [
    "X_train = train_set.drop(columns=['outcome'])\n",
    "y_train = train_set['outcome']\n",
    "\n",
    "X_test = test_set.drop(columns=['outcome'])\n",
    "y_test = test_set['outcome']\n",
    "\n",
    "print(X_train.columns)"
   ]
  },
  {
   "attachments": {},
   "cell_type": "markdown",
   "metadata": {},
   "source": [
    "## 4. modeling - Logistic Regression"
   ]
  },
  {
   "cell_type": "code",
   "execution_count": null,
   "metadata": {},
   "outputs": [],
   "source": [
    "X_train = sm.add_constant(X_train) \n",
    "logit_model = sm.Logit(y_train, X_train)\n",
    "result = logit_model.fit()\n",
    "\n",
    "print(result.summary())\n",
    "\n",
    "X_test = sm.add_constant(X_test) \n",
    "y_pred = result.predict(X_test)  \n",
    "\n",
    "y_pred_binary = (y_pred > 0.5).astype(int)\n",
    "\n",
    "conf_matrix = confusion_matrix(y_test, y_pred_binary)\n",
    "accuracy = accuracy_score(y_test, y_pred_binary)\n",
    "sensitivity = conf_matrix[1, 1] / (conf_matrix[1, 0] + conf_matrix[1, 1])\n",
    "specificity = conf_matrix[0, 0] / (conf_matrix[0, 0] + conf_matrix[0, 1])\n",
    "\n",
    "print(\"\\nConfusion Matrix:\")\n",
    "print(conf_matrix)\n",
    "print(\"\\nAccuracy:\", accuracy)\n",
    "print(\"Sensitivity (True Positive Rate):\", sensitivity)\n",
    "print(\"Specificity (True Negative Rate):\", specificity)\n"
   ]
  },
  {
   "cell_type": "code",
   "execution_count": 337,
   "metadata": {},
   "outputs": [
    {
     "ename": "LinAlgError",
     "evalue": "SVD did not converge",
     "output_type": "error",
     "traceback": [
      "\u001b[0;31m---------------------------------------------------------------------------\u001b[0m",
      "\u001b[0;31mLinAlgError\u001b[0m                               Traceback (most recent call last)",
      "Cell \u001b[0;32mIn[337], line 10\u001b[0m\n\u001b[1;32m      7\u001b[0m     \u001b[39mreturn\u001b[39;00m vif_data\n\u001b[1;32m      9\u001b[0m \u001b[39m# 다중 공선성 확인\u001b[39;00m\n\u001b[0;32m---> 10\u001b[0m vif_result \u001b[39m=\u001b[39m calculate_vif(X_train)\n\u001b[1;32m     11\u001b[0m \u001b[39mprint\u001b[39m(vif_result)\n",
      "Cell \u001b[0;32mIn[337], line 6\u001b[0m, in \u001b[0;36mcalculate_vif\u001b[0;34m(data)\u001b[0m\n\u001b[1;32m      4\u001b[0m vif_data \u001b[39m=\u001b[39m pd\u001b[39m.\u001b[39mDataFrame()\n\u001b[1;32m      5\u001b[0m vif_data[\u001b[39m\"\u001b[39m\u001b[39mVariable\u001b[39m\u001b[39m\"\u001b[39m] \u001b[39m=\u001b[39m data\u001b[39m.\u001b[39mcolumns\n\u001b[0;32m----> 6\u001b[0m vif_data[\u001b[39m\"\u001b[39m\u001b[39mVIF\u001b[39m\u001b[39m\"\u001b[39m] \u001b[39m=\u001b[39m [variance_inflation_factor(data\u001b[39m.\u001b[39mvalues, i) \u001b[39mfor\u001b[39;00m i \u001b[39min\u001b[39;00m \u001b[39mrange\u001b[39m(data\u001b[39m.\u001b[39mshape[\u001b[39m1\u001b[39m])]\n\u001b[1;32m      7\u001b[0m \u001b[39mreturn\u001b[39;00m vif_data\n",
      "Cell \u001b[0;32mIn[337], line 6\u001b[0m, in \u001b[0;36m<listcomp>\u001b[0;34m(.0)\u001b[0m\n\u001b[1;32m      4\u001b[0m vif_data \u001b[39m=\u001b[39m pd\u001b[39m.\u001b[39mDataFrame()\n\u001b[1;32m      5\u001b[0m vif_data[\u001b[39m\"\u001b[39m\u001b[39mVariable\u001b[39m\u001b[39m\"\u001b[39m] \u001b[39m=\u001b[39m data\u001b[39m.\u001b[39mcolumns\n\u001b[0;32m----> 6\u001b[0m vif_data[\u001b[39m\"\u001b[39m\u001b[39mVIF\u001b[39m\u001b[39m\"\u001b[39m] \u001b[39m=\u001b[39m [variance_inflation_factor(data\u001b[39m.\u001b[39;49mvalues, i) \u001b[39mfor\u001b[39;00m i \u001b[39min\u001b[39;00m \u001b[39mrange\u001b[39m(data\u001b[39m.\u001b[39mshape[\u001b[39m1\u001b[39m])]\n\u001b[1;32m      7\u001b[0m \u001b[39mreturn\u001b[39;00m vif_data\n",
      "File \u001b[0;32m~/Documents/GitHub/.venv/lib/python3.9/site-packages/statsmodels/stats/outliers_influence.py:197\u001b[0m, in \u001b[0;36mvariance_inflation_factor\u001b[0;34m(exog, exog_idx)\u001b[0m\n\u001b[1;32m    195\u001b[0m mask \u001b[39m=\u001b[39m np\u001b[39m.\u001b[39marange(k_vars) \u001b[39m!=\u001b[39m exog_idx\n\u001b[1;32m    196\u001b[0m x_noti \u001b[39m=\u001b[39m exog[:, mask]\n\u001b[0;32m--> 197\u001b[0m r_squared_i \u001b[39m=\u001b[39m OLS(x_i, x_noti)\u001b[39m.\u001b[39;49mfit()\u001b[39m.\u001b[39mrsquared\n\u001b[1;32m    198\u001b[0m vif \u001b[39m=\u001b[39m \u001b[39m1.\u001b[39m \u001b[39m/\u001b[39m (\u001b[39m1.\u001b[39m \u001b[39m-\u001b[39m r_squared_i)\n\u001b[1;32m    199\u001b[0m \u001b[39mreturn\u001b[39;00m vif\n",
      "File \u001b[0;32m~/Documents/GitHub/.venv/lib/python3.9/site-packages/statsmodels/regression/linear_model.py:335\u001b[0m, in \u001b[0;36mRegressionModel.fit\u001b[0;34m(self, method, cov_type, cov_kwds, use_t, **kwargs)\u001b[0m\n\u001b[1;32m    330\u001b[0m \u001b[39mif\u001b[39;00m method \u001b[39m==\u001b[39m \u001b[39m\"\u001b[39m\u001b[39mpinv\u001b[39m\u001b[39m\"\u001b[39m:\n\u001b[1;32m    331\u001b[0m     \u001b[39mif\u001b[39;00m \u001b[39mnot\u001b[39;00m (\u001b[39mhasattr\u001b[39m(\u001b[39mself\u001b[39m, \u001b[39m'\u001b[39m\u001b[39mpinv_wexog\u001b[39m\u001b[39m'\u001b[39m) \u001b[39mand\u001b[39;00m\n\u001b[1;32m    332\u001b[0m             \u001b[39mhasattr\u001b[39m(\u001b[39mself\u001b[39m, \u001b[39m'\u001b[39m\u001b[39mnormalized_cov_params\u001b[39m\u001b[39m'\u001b[39m) \u001b[39mand\u001b[39;00m\n\u001b[1;32m    333\u001b[0m             \u001b[39mhasattr\u001b[39m(\u001b[39mself\u001b[39m, \u001b[39m'\u001b[39m\u001b[39mrank\u001b[39m\u001b[39m'\u001b[39m)):\n\u001b[0;32m--> 335\u001b[0m         \u001b[39mself\u001b[39m\u001b[39m.\u001b[39mpinv_wexog, singular_values \u001b[39m=\u001b[39m pinv_extended(\u001b[39mself\u001b[39;49m\u001b[39m.\u001b[39;49mwexog)\n\u001b[1;32m    336\u001b[0m         \u001b[39mself\u001b[39m\u001b[39m.\u001b[39mnormalized_cov_params \u001b[39m=\u001b[39m np\u001b[39m.\u001b[39mdot(\n\u001b[1;32m    337\u001b[0m             \u001b[39mself\u001b[39m\u001b[39m.\u001b[39mpinv_wexog, np\u001b[39m.\u001b[39mtranspose(\u001b[39mself\u001b[39m\u001b[39m.\u001b[39mpinv_wexog))\n\u001b[1;32m    339\u001b[0m         \u001b[39m# Cache these singular values for use later.\u001b[39;00m\n",
      "File \u001b[0;32m~/Documents/GitHub/.venv/lib/python3.9/site-packages/statsmodels/tools/tools.py:264\u001b[0m, in \u001b[0;36mpinv_extended\u001b[0;34m(x, rcond)\u001b[0m\n\u001b[1;32m    262\u001b[0m x \u001b[39m=\u001b[39m np\u001b[39m.\u001b[39masarray(x)\n\u001b[1;32m    263\u001b[0m x \u001b[39m=\u001b[39m x\u001b[39m.\u001b[39mconjugate()\n\u001b[0;32m--> 264\u001b[0m u, s, vt \u001b[39m=\u001b[39m np\u001b[39m.\u001b[39;49mlinalg\u001b[39m.\u001b[39;49msvd(x, \u001b[39mFalse\u001b[39;49;00m)\n\u001b[1;32m    265\u001b[0m s_orig \u001b[39m=\u001b[39m np\u001b[39m.\u001b[39mcopy(s)\n\u001b[1;32m    266\u001b[0m m \u001b[39m=\u001b[39m u\u001b[39m.\u001b[39mshape[\u001b[39m0\u001b[39m]\n",
      "File \u001b[0;32m~/Documents/GitHub/.venv/lib/python3.9/site-packages/numpy/linalg/linalg.py:1681\u001b[0m, in \u001b[0;36msvd\u001b[0;34m(a, full_matrices, compute_uv, hermitian)\u001b[0m\n\u001b[1;32m   1678\u001b[0m         gufunc \u001b[39m=\u001b[39m _umath_linalg\u001b[39m.\u001b[39msvd_n_s\n\u001b[1;32m   1680\u001b[0m signature \u001b[39m=\u001b[39m \u001b[39m'\u001b[39m\u001b[39mD->DdD\u001b[39m\u001b[39m'\u001b[39m \u001b[39mif\u001b[39;00m isComplexType(t) \u001b[39melse\u001b[39;00m \u001b[39m'\u001b[39m\u001b[39md->ddd\u001b[39m\u001b[39m'\u001b[39m\n\u001b[0;32m-> 1681\u001b[0m u, s, vh \u001b[39m=\u001b[39m gufunc(a, signature\u001b[39m=\u001b[39;49msignature, extobj\u001b[39m=\u001b[39;49mextobj)\n\u001b[1;32m   1682\u001b[0m u \u001b[39m=\u001b[39m u\u001b[39m.\u001b[39mastype(result_t, copy\u001b[39m=\u001b[39m\u001b[39mFalse\u001b[39;00m)\n\u001b[1;32m   1683\u001b[0m s \u001b[39m=\u001b[39m s\u001b[39m.\u001b[39mastype(_realType(result_t), copy\u001b[39m=\u001b[39m\u001b[39mFalse\u001b[39;00m)\n",
      "File \u001b[0;32m~/Documents/GitHub/.venv/lib/python3.9/site-packages/numpy/linalg/linalg.py:121\u001b[0m, in \u001b[0;36m_raise_linalgerror_svd_nonconvergence\u001b[0;34m(err, flag)\u001b[0m\n\u001b[1;32m    120\u001b[0m \u001b[39mdef\u001b[39;00m \u001b[39m_raise_linalgerror_svd_nonconvergence\u001b[39m(err, flag):\n\u001b[0;32m--> 121\u001b[0m     \u001b[39mraise\u001b[39;00m LinAlgError(\u001b[39m\"\u001b[39m\u001b[39mSVD did not converge\u001b[39m\u001b[39m\"\u001b[39m)\n",
      "\u001b[0;31mLinAlgError\u001b[0m: SVD did not converge"
     ]
    }
   ],
   "source": [
    "from statsmodels.stats.outliers_influence import variance_inflation_factor\n",
    "\n",
    "def calculate_vif(data):\n",
    "    vif_data = pd.DataFrame()\n",
    "    vif_data[\"Variable\"] = data.columns\n",
    "    vif_data[\"VIF\"] = [variance_inflation_factor(data.values, i) for i in range(data.shape[1])]\n",
    "    return vif_data\n",
    "\n",
    "# 다중 공선성 확인\n",
    "vif_result = calculate_vif(X_train)\n",
    "print(vif_result)\n"
   ]
  },
  {
   "cell_type": "code",
   "execution_count": null,
   "metadata": {},
   "outputs": [
    {
     "name": "stdout",
     "output_type": "stream",
     "text": [
      "Warning: Maximum number of iterations has been exceeded.\n",
      "         Current function value: 0.303403\n",
      "         Iterations: 35\n",
      "                  Variable  Coefficient  p-value\n",
      "0                    const    -0.165094      NaN\n",
      "1               reg_hour_9    -0.074391      NaN\n",
      "2              reg_hour_10    -0.683044      NaN\n",
      "3              reg_hour_11    -1.232871      NaN\n",
      "4              reg_hour_12    -0.994115      NaN\n",
      "..                     ...          ...      ...\n",
      "119              ord_price     0.121922      NaN\n",
      "120  actual_dlvry_distance     0.669519      NaN\n",
      "121             dlvry_지하층수     0.026519      NaN\n",
      "122                     기온    -0.178313      NaN\n",
      "123                    강수량     0.007233      NaN\n",
      "\n",
      "[124 rows x 3 columns]\n"
     ]
    }
   ],
   "source": [
    "glm_2 = LogisticRegression(penalty='l2')\n",
    "glm_2.fit(X_train, y_train)\n",
    "\n",
    "variable_names = X_train.columns\n",
    "coef = glm_2.coef_[0]\n",
    "\n",
    "coef_table = pd.DataFrame({'Variable': variable_names, 'Coefficient': coef})\n",
    "\n",
    "logit_model = sm.Logit(y_train, X_train)\n",
    "result = logit_model.fit()\n",
    "p_values = result.pvalues\n",
    "coef_table['p-value'] = p_values\n",
    "\n",
    "print(coef_table)"
   ]
  },
  {
   "cell_type": "code",
   "execution_count": null,
   "metadata": {},
   "outputs": [
    {
     "name": "stdout",
     "output_type": "stream",
     "text": [
      "              precision    recall  f1-score   support\n",
      "\n",
      "           0       0.90      0.96      0.93      9781\n",
      "           1       0.48      0.24      0.32      1380\n",
      "\n",
      "    accuracy                           0.87     11161\n",
      "   macro avg       0.69      0.60      0.63     11161\n",
      "weighted avg       0.85      0.87      0.85     11161\n",
      "\n"
     ]
    }
   ],
   "source": [
    "pred_glm = glm_2.predict(X_test)\n",
    "class_report = classification_report(y_test, pred_glm)\n",
    "print(class_report)"
   ]
  },
  {
   "cell_type": "code",
   "execution_count": null,
   "metadata": {},
   "outputs": [],
   "source": []
  }
 ],
 "metadata": {
  "kernelspec": {
   "display_name": ".venv",
   "language": "python",
   "name": "python3"
  },
  "language_info": {
   "codemirror_mode": {
    "name": "ipython",
    "version": 3
   },
   "file_extension": ".py",
   "mimetype": "text/x-python",
   "name": "python",
   "nbconvert_exporter": "python",
   "pygments_lexer": "ipython3",
   "version": "3.9.6"
  },
  "orig_nbformat": 4
 },
 "nbformat": 4,
 "nbformat_minor": 2
}
