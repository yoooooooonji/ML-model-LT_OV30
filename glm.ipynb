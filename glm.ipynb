{
 "cells": [
  {
   "cell_type": "code",
   "execution_count": 3,
   "metadata": {},
   "outputs": [
    {
     "name": "stdout",
     "output_type": "stream",
     "text": [
      "/Users/yj.noh/Documents/GitHub\n"
     ]
    }
   ],
   "source": [
    "import pandas as pd\n",
    "import numpy as np\n",
    "import random \n",
    "import os\n",
    "import joblib\n",
    "import matplotlib.pyplot as plt\n",
    "import statsmodels.api as sm\n",
    "from datetime import datetime\n",
    "import seaborn as sns\n",
    "from sklearn.preprocessing import OneHotEncoder\n",
    "from sklearn.preprocessing import StandardScaler\n",
    "from sklearn.preprocessing import MinMaxScaler\n",
    "from sklearn.linear_model import LogisticRegression\n",
    "from sklearn.model_selection import train_test_split, cross_val_score\n",
    "from sklearn.metrics import log_loss, roc_auc_score, recall_score, precision_score, average_precision_score, f1_score, classification_report, accuracy_score,confusion_matrix, silhouette_score\n",
    "from statsmodels.stats.outliers_influence import variance_inflation_factor\n",
    "from sklearn.model_selection import GridSearchCV\n",
    "from sklearn.model_selection import cross_val_predict\n",
    "\n",
    "from sklearn.cluster import KMeans, AgglomerativeClustering, DBSCAN\n",
    "from sklearn.datasets import make_blobs\n",
    "\n",
    "import warnings\n",
    "warnings.filterwarnings(\"ignore\")\n",
    "os.chdir(\"/Users/yj.noh/Documents/GitHub\")\n",
    "print(os.getcwd())"
   ]
  },
  {
   "cell_type": "code",
   "execution_count": 4,
   "metadata": {},
   "outputs": [
    {
     "name": "stdout",
     "output_type": "stream",
     "text": [
      "                dlvry_id    전체배차시간  reg_hour  ord_price  \\\n",
      "17290  20230821_0000UUJQ  0.550000        19      16000   \n",
      "19315  20230821_0001DIBV  0.950000        10      35200   \n",
      "21143  20230821_0002BYML  1.150000        11      14400   \n",
      "20366  20230821_0003SQZC  0.516667        10      21100   \n",
      "18254  20230821_0004RRXD  0.250000        18      31100   \n",
      "\n",
      "       actual_dlvry_distance  pick_floor pick_rgn2_nm pick_rgn3_nm  \\\n",
      "17290                    123         1.0          서초구          서초동   \n",
      "19315                   1314         1.0          서초구          반포동   \n",
      "21143                   2067         1.0          서초구          방배동   \n",
      "20366                   1825         1.0          서초구          방배동   \n",
      "18254                   3867         1.0          서초구          반포동   \n",
      "\n",
      "      pick_category pick_건물용도  dlvry_지상층수  dlvry_지하층수 dlvry_건물용도 day_of_week  \\\n",
      "17290         SNACK      의료시설         6.0         2.0       의료시설         Mon   \n",
      "19315       BAEKBAN      의료시설         NaN         NaN        NaN         Mon   \n",
      "21143       WESTERN      업무시설        11.0         0.0        아파트         Mon   \n",
      "20366          CAFE     일반음식점         NaN         NaN       공동주택         Mon   \n",
      "18254        BURGER      교육시설        10.0         0.0        아파트         Mon   \n",
      "\n",
      "       is_holiday    기온  강수량 dlvry_rgn2_nm dlvry_rgn3_nm  outcome  \n",
      "17290       False  31.3  0.0           서초구           서초동        0  \n",
      "19315       False  28.8  0.0           서초구           반포동        0  \n",
      "21143       False  30.2  0.0           관악구           남현동        0  \n",
      "20366       False  28.8  0.0           서초구           반포동        0  \n",
      "18254       False  31.4  0.0           서초구           방배동        0  \n",
      "(68027, 20)\n"
     ]
    }
   ],
   "source": [
    "data = pd.read_csv(\"prj-ML-model-LT_OV30/modeling_data.csv\", encoding = \"cp949\")\n",
    "data = data.sort_values(by=[\"dlvry_id\"])\n",
    "print(data.head())\n",
    "print(data.shape)"
   ]
  },
  {
   "cell_type": "code",
   "execution_count": 5,
   "metadata": {},
   "outputs": [
    {
     "name": "stdout",
     "output_type": "stream",
     "text": [
      "(44644, 20)\n",
      "outcome\n",
      "0    38816\n",
      "1     5828\n",
      "Name: count, dtype: int64\n"
     ]
    }
   ],
   "source": [
    "# 건물 정보 없는 데이터 삭제 \n",
    "filtered_data = data.dropna(subset=['pick_건물용도', 'dlvry_건물용도'])\n",
    "print(filtered_data.shape) #44,644 \n",
    "print(filtered_data['outcome'].value_counts()) # 38,816, 5,828 "
   ]
  },
  {
   "cell_type": "code",
   "execution_count": 6,
   "metadata": {},
   "outputs": [
    {
     "name": "stdout",
     "output_type": "stream",
     "text": [
      "dlvry_id                    0\n",
      "전체배차시간                      0\n",
      "reg_hour                    0\n",
      "ord_price                   0\n",
      "actual_dlvry_distance       0\n",
      "pick_floor                  0\n",
      "pick_rgn2_nm                0\n",
      "pick_rgn3_nm                0\n",
      "pick_category               0\n",
      "pick_건물용도                   0\n",
      "dlvry_지상층수               5726\n",
      "dlvry_지하층수               5726\n",
      "dlvry_건물용도                  0\n",
      "day_of_week                 0\n",
      "is_holiday                  0\n",
      "기온                          0\n",
      "강수량                         0\n",
      "dlvry_rgn2_nm               0\n",
      "dlvry_rgn3_nm               0\n",
      "outcome                     0\n",
      "dtype: int64\n"
     ]
    }
   ],
   "source": [
    "print(filtered_data.isna().sum())"
   ]
  },
  {
   "cell_type": "code",
   "execution_count": 7,
   "metadata": {},
   "outputs": [
    {
     "name": "stdout",
     "output_type": "stream",
     "text": [
      "dlvry_id                  object\n",
      "전체배차시간                   float64\n",
      "reg_hour                   int64\n",
      "ord_price                  int64\n",
      "actual_dlvry_distance      int64\n",
      "pick_floor               float64\n",
      "pick_rgn2_nm              object\n",
      "pick_rgn3_nm              object\n",
      "pick_category             object\n",
      "pick_건물용도                 object\n",
      "dlvry_지상층수               float64\n",
      "dlvry_지하층수               float64\n",
      "dlvry_건물용도                object\n",
      "day_of_week               object\n",
      "is_holiday                  bool\n",
      "기온                       float64\n",
      "강수량                      float64\n",
      "dlvry_rgn2_nm             object\n",
      "dlvry_rgn3_nm             object\n",
      "outcome                    int64\n",
      "dtype: object\n"
     ]
    }
   ],
   "source": [
    "print(filtered_data.dtypes)"
   ]
  },
  {
   "cell_type": "code",
   "execution_count": 8,
   "metadata": {},
   "outputs": [
    {
     "name": "stdout",
     "output_type": "stream",
     "text": [
      "dlvry_id                    0\n",
      "전체배차시간                      0\n",
      "reg_hour                    0\n",
      "ord_price                   0\n",
      "actual_dlvry_distance       0\n",
      "pick_floor                  0\n",
      "pick_rgn2_nm                0\n",
      "pick_rgn3_nm                0\n",
      "pick_category               0\n",
      "pick_건물용도                   0\n",
      "dlvry_지상층수               5726\n",
      "dlvry_지하층수               5726\n",
      "dlvry_건물용도                  0\n",
      "day_of_week                 0\n",
      "is_holiday                  0\n",
      "기온                          0\n",
      "강수량                         0\n",
      "dlvry_rgn2_nm               0\n",
      "dlvry_rgn3_nm               0\n",
      "outcome                     0\n",
      "dtype: int64\n"
     ]
    }
   ],
   "source": [
    "# dlvry_지하층수 음수로\n",
    "# filtered_data['dlvry_지하층수'] = pd.to_numeric(filtered_data['dlvry_지하층수'], errors='coerce')\n",
    "# filtered_data['dlvry_지상층수'] = pd.to_numeric(filtered_data['dlvry_지상층수'], errors='coerce')\n",
    "# filtered_data['pick_floor'] = pd.to_numeric(filtered_data['pick_floor'], errors='coerce')\n",
    "\n",
    "filtered_data['dlvry_지하층수'] = filtered_data['dlvry_지하층수'].apply(lambda x: -x)\n",
    "#print(filtered_data.head())\n",
    "print(filtered_data.isna().sum())"
   ]
  },
  {
   "attachments": {},
   "cell_type": "markdown",
   "metadata": {},
   "source": [
    "## 1. 데이터 전처리\n"
   ]
  },
  {
   "attachments": {},
   "cell_type": "markdown",
   "metadata": {},
   "source": [
    "## 1-1. pick_건물용도/ dlvry_건물용도 : 개수 축소"
   ]
  },
  {
   "cell_type": "code",
   "execution_count": 9,
   "metadata": {},
   "outputs": [
    {
     "name": "stdout",
     "output_type": "stream",
     "text": [
      "pick_건물용도\n",
      "업무시설          14372\n",
      "근린생활시설         7875\n",
      "아파트            5367\n",
      "일반음식점          5206\n",
      "일반상점           3881\n",
      "공동주택           3089\n",
      "교육시설           1604\n",
      "의료시설           1177\n",
      "백화점             534\n",
      "자동차관련시설         471\n",
      "오피스텔            266\n",
      "기타시설            210\n",
      "숙박시설            174\n",
      "대형판매점           141\n",
      "위락시설            134\n",
      "문화시설             87\n",
      "종교시설             30\n",
      "체육시설             16\n",
      "위험물저장및처리시설       10\n",
      "Name: count, dtype: int64\n"
     ]
    }
   ],
   "source": [
    "print(filtered_data['pick_건물용도'].value_counts())"
   ]
  },
  {
   "cell_type": "code",
   "execution_count": 10,
   "metadata": {},
   "outputs": [
    {
     "name": "stdout",
     "output_type": "stream",
     "text": [
      "pick_건물용도\n",
      "업무시설      14372\n",
      "근린생활시설     7875\n",
      "아파트        5367\n",
      "일반음식점      5206\n",
      "일반상점       3881\n",
      "공동주택       3089\n",
      "교육시설       1604\n",
      "의료시설       1177\n",
      "기타시설        958\n",
      "백화점         534\n",
      "오피스텔        266\n",
      "숙박시설        174\n",
      "대형판매점       141\n",
      "Name: count, dtype: int64\n"
     ]
    }
   ],
   "source": [
    "# 데이터 정리\n",
    "values_to_replace = ['위락시설', '문화시설', '종교시설', '체육시설','위험물저장및처리시설', '자동차관련시설']\n",
    "filtered_data['pick_건물용도'] = data['pick_건물용도'].replace(values_to_replace, '기타시설')\n",
    "print(filtered_data['pick_건물용도'].value_counts())"
   ]
  },
  {
   "cell_type": "code",
   "execution_count": 11,
   "metadata": {},
   "outputs": [
    {
     "name": "stdout",
     "output_type": "stream",
     "text": [
      "dlvry_건물용도\n",
      "공동주택          16952\n",
      "아파트           13910\n",
      "업무시설           7279\n",
      "근린생활시설         1559\n",
      "일반상점           1224\n",
      "교육시설           1028\n",
      "의료시설            758\n",
      "일반음식점           557\n",
      "숙박시설            459\n",
      "공공시설            241\n",
      "종교시설            127\n",
      "교육연구시설          120\n",
      "오피스텔            101\n",
      "자동차관련시설          67\n",
      "방송통신시설           53\n",
      "기타시설             39\n",
      "백화점              36\n",
      "체육시설             36\n",
      "위험물저장및처리시설       18\n",
      "복지시설             16\n",
      "문화시설             14\n",
      "위락시설             12\n",
      "복합몰               7\n",
      "창고시설              6\n",
      "수련시설              6\n",
      "단독주택              5\n",
      "동식물시설             5\n",
      "운수시설              3\n",
      "노유자시설             2\n",
      "호텔                2\n",
      "체력시설              1\n",
      "공공용시설             1\n",
      "Name: count, dtype: int64\n"
     ]
    }
   ],
   "source": [
    "print(filtered_data['dlvry_건물용도'].value_counts())"
   ]
  },
  {
   "cell_type": "code",
   "execution_count": 12,
   "metadata": {},
   "outputs": [
    {
     "name": "stdout",
     "output_type": "stream",
     "text": [
      "dlvry_건물용도\n",
      "공동주택      16952\n",
      "아파트       13910\n",
      "업무시설       7279\n",
      "근린생활시설     1559\n",
      "일반상점       1224\n",
      "교육시설       1148\n",
      "의료시설        758\n",
      "일반음식점       557\n",
      "숙박시설        459\n",
      "기타시설        329\n",
      "공공시설        241\n",
      "종교시설        127\n",
      "오피스텔        101\n",
      "Name: count, dtype: int64\n"
     ]
    }
   ],
   "source": [
    "value_counts = filtered_data['dlvry_건물용도'].value_counts()\n",
    "\n",
    "threshold = 100\n",
    "filtered_data['dlvry_건물용도'] = filtered_data['dlvry_건물용도'].apply(lambda x: '기타시설' if value_counts[x] <= threshold else x)\n",
    "\n",
    "filtered_data['dlvry_건물용도'] = filtered_data['dlvry_건물용도'].replace('교육연구시설', '교육시설')\n",
    "filtered_data['dlvry_건물용도'] = filtered_data['dlvry_건물용도'].replace('공공용시설', '공공시설')\n",
    "\n",
    "print(filtered_data['dlvry_건물용도'].value_counts())"
   ]
  },
  {
   "attachments": {},
   "cell_type": "markdown",
   "metadata": {},
   "source": [
    "## 1-2. dlvry_지상층수 /지하층수 : dlvry_건물용도 median 값 가져오기"
   ]
  },
  {
   "cell_type": "code",
   "execution_count": 13,
   "metadata": {},
   "outputs": [
    {
     "name": "stdout",
     "output_type": "stream",
     "text": [
      "Median Values:\n",
      "            dlvry_지상층수  dlvry_지하층수\n",
      "dlvry_건물용도                        \n",
      "공공시설               3.0        -0.0\n",
      "공동주택               4.0        -1.0\n",
      "교육시설               6.0        -1.0\n",
      "근린생활시설             5.0        -1.0\n",
      "기타시설               5.0        -2.0\n",
      "숙박시설              10.0        -1.0\n",
      "아파트               15.0        -1.0\n",
      "업무시설              10.0        -3.0\n",
      "오피스텔              15.0        -7.0\n",
      "의료시설              10.0        -1.0\n",
      "일반상점               4.0        -1.0\n",
      "일반음식점              5.0        -1.0\n",
      "종교시설               4.0        -3.0\n",
      "\n",
      "Mean Values:\n",
      "            dlvry_지상층수  dlvry_지하층수\n",
      "dlvry_건물용도                        \n",
      "공공시설          3.066390   -0.203320\n",
      "공동주택          3.844208   -0.732086\n",
      "교육시설          6.414397   -1.383268\n",
      "근린생활시설        5.316228   -1.250160\n",
      "기타시설          8.412698   -2.501587\n",
      "숙박시설         10.838428   -2.397380\n",
      "아파트          18.313515   -1.368009\n",
      "업무시설         11.697593   -3.120231\n",
      "오피스텔         15.000000   -6.118812\n",
      "의료시설          9.507916   -1.928760\n",
      "일반상점          5.041667   -1.446078\n",
      "일반음식점         4.746858   -1.263914\n",
      "종교시설          4.227642   -2.560976\n"
     ]
    }
   ],
   "source": [
    "median_values = filtered_data.dropna().groupby('dlvry_건물용도')[['dlvry_지상층수', 'dlvry_지하층수']].median()\n",
    "mean_values = filtered_data.dropna().groupby('dlvry_건물용도')[['dlvry_지상층수', 'dlvry_지하층수']].mean()\n",
    "\n",
    "print(\"Median Values:\")\n",
    "print(median_values)\n",
    "\n",
    "print(\"\\nMean Values:\")\n",
    "print(mean_values)\n"
   ]
  },
  {
   "cell_type": "code",
   "execution_count": 14,
   "metadata": {},
   "outputs": [
    {
     "name": "stdout",
     "output_type": "stream",
     "text": [
      "             전체배차시간      reg_hour      ord_price  actual_dlvry_distance  \\\n",
      "count  44644.000000  44644.000000   44644.000000           44644.000000   \n",
      "mean       2.737062     15.780866   27080.946757            1959.281538   \n",
      "std        4.813153      3.745221   17994.351039            1156.483892   \n",
      "min        0.083333      9.000000    5000.000000               1.000000   \n",
      "25%        0.550000     12.000000   16700.000000            1115.000000   \n",
      "50%        1.000000     16.000000   22400.000000            1756.000000   \n",
      "75%        2.483333     19.000000   31400.000000            2514.000000   \n",
      "max       77.600000     23.000000  483000.000000            8003.000000   \n",
      "\n",
      "         pick_floor    dlvry_지상층수    dlvry_지하층수            기온           강수량  \\\n",
      "count  44644.000000  44644.000000  44644.000000  44644.000000  44644.000000   \n",
      "mean       0.748006     10.028380     -1.476481     26.778833      0.609437   \n",
      "std        0.924460      8.766227      1.608017      2.664765      3.162902   \n",
      "min       -1.000000      0.000000     -9.000000     20.800000      0.000000   \n",
      "25%        1.000000      4.000000     -1.000000     24.600000      0.000000   \n",
      "50%        1.000000      6.000000     -1.000000     27.100000      0.000000   \n",
      "75%        1.000000     15.000000     -1.000000     28.800000      0.000000   \n",
      "max        8.000000     69.000000     -0.000000     33.500000     27.600000   \n",
      "\n",
      "            outcome  \n",
      "count  44644.000000  \n",
      "mean       0.130544  \n",
      "std        0.336905  \n",
      "min        0.000000  \n",
      "25%        0.000000  \n",
      "50%        0.000000  \n",
      "75%        0.000000  \n",
      "max        1.000000  \n",
      "Index(['dlvry_id', '전체배차시간', 'reg_hour', 'ord_price', 'actual_dlvry_distance',\n",
      "       'pick_floor', 'pick_rgn2_nm', 'pick_rgn3_nm', 'pick_category',\n",
      "       'pick_건물용도', 'dlvry_지상층수', 'dlvry_지하층수', 'dlvry_건물용도', 'day_of_week',\n",
      "       'is_holiday', '기온', '강수량', 'dlvry_rgn2_nm', 'dlvry_rgn3_nm', 'outcome'],\n",
      "      dtype='object')\n"
     ]
    }
   ],
   "source": [
    "# na 값을 중앙값으로 채우기\n",
    "filtered_data['dlvry_지상층수'].fillna(filtered_data['dlvry_건물용도'].map(median_values['dlvry_지상층수']), inplace=True)\n",
    "filtered_data['dlvry_지하층수'].fillna(filtered_data['dlvry_건물용도'].map(median_values['dlvry_지하층수']), inplace=True)\n",
    "\n",
    "print(filtered_data.describe())\n",
    "print(filtered_data.columns)"
   ]
  },
  {
   "cell_type": "code",
   "execution_count": 15,
   "metadata": {},
   "outputs": [
    {
     "name": "stdout",
     "output_type": "stream",
     "text": [
      "dlvry_id                 0\n",
      "전체배차시간                   0\n",
      "reg_hour                 0\n",
      "ord_price                0\n",
      "actual_dlvry_distance    0\n",
      "pick_floor               0\n",
      "pick_rgn2_nm             0\n",
      "pick_rgn3_nm             0\n",
      "pick_category            0\n",
      "pick_건물용도                0\n",
      "dlvry_지상층수               0\n",
      "dlvry_지하층수               0\n",
      "dlvry_건물용도               0\n",
      "day_of_week              0\n",
      "is_holiday               0\n",
      "기온                       0\n",
      "강수량                      0\n",
      "dlvry_rgn2_nm            0\n",
      "dlvry_rgn3_nm            0\n",
      "outcome                  0\n",
      "dtype: int64\n"
     ]
    }
   ],
   "source": [
    "print(filtered_data.isna().sum())"
   ]
  },
  {
   "attachments": {},
   "cell_type": "markdown",
   "metadata": {},
   "source": [
    "## 1-3.  pick_floor, dlvry_지상층수, dlvry_지하층수 "
   ]
  },
  {
   "cell_type": "code",
   "execution_count": 16,
   "metadata": {},
   "outputs": [
    {
     "name": "stdout",
     "output_type": "stream",
     "text": [
      "pick_floor\n",
      " 1.0    31450\n",
      "-1.0     7548\n",
      " 2.0     3810\n",
      " 0.0     1363\n",
      " 3.0      314\n",
      " 4.0       85\n",
      " 8.0       73\n",
      " 6.0        1\n",
      "Name: count, dtype: int64\n"
     ]
    }
   ],
   "source": [
    "print(filtered_data['pick_floor'].value_counts())"
   ]
  },
  {
   "cell_type": "code",
   "execution_count": 17,
   "metadata": {},
   "outputs": [
    {
     "name": "stdout",
     "output_type": "stream",
     "text": [
      "dlvry_지하층수\n",
      "-1.0    24736\n",
      "-0.0     9058\n",
      "-2.0     3590\n",
      "-3.0     1876\n",
      "-4.0     1778\n",
      "-5.0     1483\n",
      "-6.0     1233\n",
      "-7.0      674\n",
      "-8.0      215\n",
      "-9.0        1\n",
      "Name: count, dtype: int64\n"
     ]
    }
   ],
   "source": [
    "print(filtered_data['dlvry_지하층수'].value_counts())"
   ]
  },
  {
   "cell_type": "code",
   "execution_count": 18,
   "metadata": {},
   "outputs": [
    {
     "name": "stdout",
     "output_type": "stream",
     "text": [
      "dlvry_지상층수\n",
      "4.0     9546\n",
      "5.0     5935\n",
      "3.0     4366\n",
      "15.0    4286\n",
      "6.0     2892\n",
      "2.0     1796\n",
      "12.0    1556\n",
      "7.0     1408\n",
      "20.0    1372\n",
      "10.0    1270\n",
      "13.0    1182\n",
      "29.0     872\n",
      "32.0     782\n",
      "14.0     722\n",
      "9.0      713\n",
      "25.0     599\n",
      "18.0     551\n",
      "24.0     526\n",
      "8.0      522\n",
      "11.0     466\n",
      "27.0     413\n",
      "22.0     412\n",
      "16.0     329\n",
      "17.0     269\n",
      "37.0     267\n",
      "21.0     262\n",
      "19.0     248\n",
      "46.0     184\n",
      "26.0     177\n",
      "1.0      171\n",
      "23.0     166\n",
      "31.0     114\n",
      "66.0      52\n",
      "28.0      43\n",
      "69.0      40\n",
      "55.0      30\n",
      "51.0      26\n",
      "34.0      22\n",
      "44.0      20\n",
      "45.0      16\n",
      "0.0        9\n",
      "30.0       8\n",
      "33.0       4\n",
      "Name: count, dtype: int64\n",
      "count    44644.000000\n",
      "mean        10.028380\n",
      "std          8.766227\n",
      "min          0.000000\n",
      "25%          4.000000\n",
      "50%          6.000000\n",
      "75%         15.000000\n",
      "max         69.000000\n",
      "Name: dlvry_지상층수, dtype: float64\n"
     ]
    }
   ],
   "source": [
    "print(filtered_data['dlvry_지상층수'].value_counts())\n",
    "print(filtered_data['dlvry_지상층수'].describe())"
   ]
  },
  {
   "cell_type": "code",
   "execution_count": 19,
   "metadata": {},
   "outputs": [
    {
     "name": "stdout",
     "output_type": "stream",
     "text": [
      "dlvry_지상층수\n",
      "저층      21823\n",
      "중상층      8212\n",
      "중층       6805\n",
      "고층       6239\n",
      "준초고층     1417\n",
      "초고층       148\n",
      "Name: count, dtype: int64\n",
      "pick_floor\n",
      "저층    37022\n",
      "지하     7548\n",
      "중층       74\n",
      "Name: count, dtype: int64\n"
     ]
    }
   ],
   "source": [
    "def categorize_floor(value):\n",
    "    if value < 0:\n",
    "        return '지하'\n",
    "    elif 0 <= value <= 5:\n",
    "        return '저층'\n",
    "    elif 6 <= value <= 10 :\n",
    "        return '중층'\n",
    "    elif 11 <= value <= 15 : \n",
    "        return '중상층'\n",
    "    elif 16 <= value <= 29 :\n",
    "        return '고층'\n",
    "    elif 30 <= value <= 49 :\n",
    "        return '준초고층'\n",
    "    elif 50 <= value:\n",
    "        return '초고층'\n",
    "\n",
    "filtered_data['pick_floor'] = filtered_data['pick_floor'].apply(categorize_floor)\n",
    "filtered_data['dlvry_지상층수'] = filtered_data['dlvry_지상층수'].apply(categorize_floor)\n",
    "\n",
    "print(filtered_data['dlvry_지상층수'].value_counts())\n",
    "print(filtered_data['pick_floor'].value_counts())"
   ]
  },
  {
   "attachments": {},
   "cell_type": "markdown",
   "metadata": {},
   "source": [
    "## 1-4. pick_rgn2_nm, dlvry_rgn2_nm, dlvry_rgn3_nm 정제"
   ]
  },
  {
   "cell_type": "code",
   "execution_count": 20,
   "metadata": {},
   "outputs": [
    {
     "name": "stdout",
     "output_type": "stream",
     "text": [
      "dlvry_rgn2_nm\n",
      "서초구    32886\n",
      "강남구     8302\n",
      "동작구     2388\n",
      "관악구      937\n",
      "과천시      126\n",
      "용산구        5\n",
      "Name: count, dtype: int64\n",
      "dlvry_rgn3_nm\n",
      "서초동      13101\n",
      "방배동       6994\n",
      "반포동       6344\n",
      "역삼동       2814\n",
      "양재동       2729\n",
      "잠원동       2043\n",
      "사당동       1999\n",
      "논현동       1832\n",
      "우면동       1675\n",
      "도곡동       1218\n",
      "개포동        995\n",
      "남현동        500\n",
      "봉천동        427\n",
      "대치동        418\n",
      "신사동        417\n",
      "삼성동        267\n",
      "압구정동       161\n",
      "흑석동        151\n",
      "청담동        148\n",
      "동작동        128\n",
      "상도동         76\n",
      "주암동         75\n",
      "과천동         48\n",
      "일원동         25\n",
      "상도1동        18\n",
      "신림동         10\n",
      "본동          10\n",
      "노량진동         6\n",
      "용산동6가        5\n",
      "자곡동          5\n",
      "부림동          3\n",
      "수서동          2\n",
      "Name: count, dtype: int64\n"
     ]
    }
   ],
   "source": [
    "print(filtered_data['dlvry_rgn2_nm'].value_counts())\n",
    "print(filtered_data['dlvry_rgn3_nm'].value_counts())"
   ]
  },
  {
   "attachments": {},
   "cell_type": "markdown",
   "metadata": {},
   "source": [
    "## 2. 데이터 전처리"
   ]
  },
  {
   "cell_type": "code",
   "execution_count": 21,
   "metadata": {},
   "outputs": [
    {
     "name": "stdout",
     "output_type": "stream",
     "text": [
      "(44644, 20)\n",
      "<class 'pandas.core.frame.DataFrame'>\n",
      "Index: 44644 entries, 17290 to 15409\n",
      "Data columns (total 20 columns):\n",
      " #   Column                 Non-Null Count  Dtype  \n",
      "---  ------                 --------------  -----  \n",
      " 0   dlvry_id               44644 non-null  object \n",
      " 1   전체배차시간                 44644 non-null  float64\n",
      " 2   reg_hour               44644 non-null  int64  \n",
      " 3   ord_price              44644 non-null  int64  \n",
      " 4   actual_dlvry_distance  44644 non-null  int64  \n",
      " 5   pick_floor             44644 non-null  object \n",
      " 6   pick_rgn2_nm           44644 non-null  object \n",
      " 7   pick_rgn3_nm           44644 non-null  object \n",
      " 8   pick_category          44644 non-null  object \n",
      " 9   pick_건물용도              44644 non-null  object \n",
      " 10  dlvry_지상층수             44644 non-null  object \n",
      " 11  dlvry_지하층수             44644 non-null  float64\n",
      " 12  dlvry_건물용도             44644 non-null  object \n",
      " 13  day_of_week            44644 non-null  object \n",
      " 14  is_holiday             44644 non-null  bool   \n",
      " 15  기온                     44644 non-null  float64\n",
      " 16  강수량                    44644 non-null  float64\n",
      " 17  dlvry_rgn2_nm          44644 non-null  object \n",
      " 18  dlvry_rgn3_nm          44644 non-null  object \n",
      " 19  outcome                44644 non-null  int64  \n",
      "dtypes: bool(1), float64(4), int64(4), object(11)\n",
      "memory usage: 6.9+ MB\n",
      "None\n"
     ]
    }
   ],
   "source": [
    "print(filtered_data.shape) #44,644\n",
    "print(filtered_data.info())"
   ]
  },
  {
   "cell_type": "code",
   "execution_count": 22,
   "metadata": {},
   "outputs": [],
   "source": [
    "dataset = filtered_data[[ 'dlvry_id','reg_hour', 'ord_price','actual_dlvry_distance', 'pick_floor', \n",
    "                         'pick_category', 'pick_건물용도','dlvry_지상층수', \n",
    "                         'dlvry_건물용도','day_of_week', 'is_holiday', '기온',  'outcome', '전체배차시간'\n",
    "                        ]]\n",
    "dataset.isna().sum()\n",
    "dataset = dataset.sort_values(by=[\"dlvry_id\"])\n",
    "dataset.to_csv('prj-ML-model-LT_OV30/modeling_data_final.csv', index= False, encoding = \"utf-8\")"
   ]
  },
  {
   "cell_type": "code",
   "execution_count": 23,
   "metadata": {},
   "outputs": [
    {
     "name": "stdout",
     "output_type": "stream",
     "text": [
      "outcome\n",
      "0    38816\n",
      "1     5828\n",
      "Name: count, dtype: int64\n",
      "0\n"
     ]
    }
   ],
   "source": [
    "print(dataset['outcome'].value_counts())\n",
    "print(dataset['outcome'].isna().sum())"
   ]
  },
  {
   "attachments": {},
   "cell_type": "markdown",
   "metadata": {},
   "source": [
    "## 2-1. factor 변수 / one-hot-encoding"
   ]
  },
  {
   "attachments": {},
   "cell_type": "markdown",
   "metadata": {},
   "source": [
    "### category화"
   ]
  },
  {
   "cell_type": "code",
   "execution_count": 24,
   "metadata": {},
   "outputs": [],
   "source": [
    "# category  \n",
    "# for col in ['reg_hour','pick_floor',  'pick_category', 'pick_건물용도','dlvry_지상층수','dlvry_건물용도',\n",
    "#             'day_of_week', 'is_holiday', 'outcome' ] : \n",
    "#     dataset[col] = dataset[col].astype('category')\n",
    "\n",
    "# print(dataset.dtypes)"
   ]
  },
  {
   "attachments": {},
   "cell_type": "markdown",
   "metadata": {},
   "source": [
    "### mean target encoding"
   ]
  },
  {
   "cell_type": "code",
   "execution_count": 25,
   "metadata": {},
   "outputs": [],
   "source": [
    "# mean target encoding \n",
    "# categorical_vars = ['reg_hour', 'pick_category', 'pick_건물용도','dlvry_지상층수','dlvry_건물용도']\n",
    "\n",
    "# for var in categorical_vars:\n",
    "#     target_mean = dataset.groupby(var)['outcome'].mean() \n",
    "#     dataset[f'{var}_target_mean'] = dataset[var].map(target_mean)\n",
    "\n",
    "# dataset.drop(columns=categorical_vars, inplace=True)\n"
   ]
  },
  {
   "attachments": {},
   "cell_type": "markdown",
   "metadata": {},
   "source": [
    "### get dummies"
   ]
  },
  {
   "cell_type": "code",
   "execution_count": 26,
   "metadata": {},
   "outputs": [
    {
     "name": "stdout",
     "output_type": "stream",
     "text": [
      "                dlvry_id  ord_price  actual_dlvry_distance day_of_week    기온  \\\n",
      "17290  20230821_0000UUJQ      16000                    123         Mon  31.3   \n",
      "21143  20230821_0002BYML      14400                   2067         Mon  30.2   \n",
      "\n",
      "       outcome  전체배차시간  is_holiday_True  pick_floor_중층  pick_floor_지하  ...  \\\n",
      "17290        0    0.55                0              0              0  ...   \n",
      "21143        0    1.15                0              0              0  ...   \n",
      "\n",
      "       dlvry_건물용도_근린생활시설  dlvry_건물용도_기타시설  dlvry_건물용도_숙박시설  dlvry_건물용도_아파트  \\\n",
      "17290                  0                0                0               0   \n",
      "21143                  0                0                0               1   \n",
      "\n",
      "       dlvry_건물용도_업무시설  dlvry_건물용도_오피스텔  dlvry_건물용도_의료시설  dlvry_건물용도_일반상점  \\\n",
      "17290                0                0                1                0   \n",
      "21143                0                0                0                0   \n",
      "\n",
      "       dlvry_건물용도_일반음식점  dlvry_건물용도_종교시설  \n",
      "17290                 0                0  \n",
      "21143                 0                0  \n",
      "\n",
      "[2 rows x 65 columns]\n"
     ]
    }
   ],
   "source": [
    "var = ['is_holiday', 'pick_floor', 'reg_hour', 'pick_category', 'pick_건물용도', 'dlvry_지상층수', 'dlvry_건물용도']\n",
    "\n",
    "dataset = pd.get_dummies(dataset, columns=var, prefix=var, drop_first=True)\n",
    "\n",
    "for column in dataset.columns:\n",
    "    for var_column in var:\n",
    "        if var_column in column:\n",
    "            dataset[column] = dataset[column].astype(int)\n",
    "\n",
    "dataset = dataset.sort_values(by=[\"dlvry_id\"])\n",
    "\n",
    "print(dataset.head(2))"
   ]
  },
  {
   "attachments": {},
   "cell_type": "markdown",
   "metadata": {},
   "source": [
    "### One Hot Encoding"
   ]
  },
  {
   "cell_type": "code",
   "execution_count": 27,
   "metadata": {},
   "outputs": [],
   "source": [
    "# var = ['is_holiday', 'pick_floor', 'reg_hour', 'pick_category', 'pick_건물용도', 'dlvry_지상층수', 'dlvry_건물용도'] \n",
    "# encoder = OneHotEncoder(sparse = False) #array 필요\n",
    "# onehot = pd.DataFrame(encoder.fit_transform(dataset[var]).toarray(), columns=encoder.get_feature_names_out(var), index = dataset.index)\n",
    "# dataset = pd.concat([onehot, dataset.drop(columns=var)], axis=1)\n",
    "# dataset = dataset.sort_values(by=[\"dlvry_id\"])\n",
    "# print(dataset.columns)"
   ]
  },
  {
   "attachments": {},
   "cell_type": "markdown",
   "metadata": {},
   "source": [
    "## 3. train/test set split"
   ]
  },
  {
   "cell_type": "code",
   "execution_count": 28,
   "metadata": {},
   "outputs": [
    {
     "name": "stdout",
     "output_type": "stream",
     "text": [
      "outcome\n",
      "0    29112\n",
      "1     4371\n",
      "Name: count, dtype: int64\n",
      "outcome\n",
      "0    9704\n",
      "1    1457\n",
      "Name: count, dtype: int64\n",
      "(33483, 65)\n",
      "(11161, 65)\n"
     ]
    }
   ],
   "source": [
    "outcome_counts = dataset['outcome'].value_counts()\n",
    "train_set, test_set = train_test_split(dataset, test_size=0.25, stratify = dataset['outcome'], random_state=1234)\n",
    "\n",
    "train_outcome_counts = train_set['outcome'].value_counts()\n",
    "test_outcome_counts = test_set['outcome'].value_counts()\n",
    "\n",
    "print(train_outcome_counts)\n",
    "print(test_outcome_counts)\n",
    "\n",
    "print(train_set.shape) #33,483\n",
    "print(test_set.shape) #11,161"
   ]
  },
  {
   "cell_type": "code",
   "execution_count": 29,
   "metadata": {},
   "outputs": [
    {
     "name": "stdout",
     "output_type": "stream",
     "text": [
      "Index(['ord_price', 'actual_dlvry_distance', '기온', 'is_holiday_True',\n",
      "       'pick_floor_중층', 'pick_floor_지하', 'reg_hour_10', 'reg_hour_11',\n",
      "       'reg_hour_12', 'reg_hour_13', 'reg_hour_14', 'reg_hour_15',\n",
      "       'reg_hour_16', 'reg_hour_17', 'reg_hour_18', 'reg_hour_19',\n",
      "       'reg_hour_20', 'reg_hour_21', 'reg_hour_22', 'reg_hour_23',\n",
      "       'pick_category_BAEKBAN', 'pick_category_BURGER', 'pick_category_CAFE',\n",
      "       'pick_category_CHICKEN', 'pick_category_CHINESE',\n",
      "       'pick_category_JAPANESE', 'pick_category_JOKBAL', 'pick_category_MEAT',\n",
      "       'pick_category_PIZZA', 'pick_category_SNACK', 'pick_category_WESTERN',\n",
      "       'pick_category_ZZIM_TANG', 'pick_건물용도_교육시설', 'pick_건물용도_근린생활시설',\n",
      "       'pick_건물용도_기타시설', 'pick_건물용도_대형판매점', 'pick_건물용도_백화점', 'pick_건물용도_숙박시설',\n",
      "       'pick_건물용도_아파트', 'pick_건물용도_업무시설', 'pick_건물용도_오피스텔', 'pick_건물용도_의료시설',\n",
      "       'pick_건물용도_일반상점', 'pick_건물용도_일반음식점', 'dlvry_지상층수_저층', 'dlvry_지상층수_준초고층',\n",
      "       'dlvry_지상층수_중상층', 'dlvry_지상층수_중층', 'dlvry_지상층수_초고층', 'dlvry_건물용도_공동주택',\n",
      "       'dlvry_건물용도_교육시설', 'dlvry_건물용도_근린생활시설', 'dlvry_건물용도_기타시설',\n",
      "       'dlvry_건물용도_숙박시설', 'dlvry_건물용도_아파트', 'dlvry_건물용도_업무시설',\n",
      "       'dlvry_건물용도_오피스텔', 'dlvry_건물용도_의료시설', 'dlvry_건물용도_일반상점',\n",
      "       'dlvry_건물용도_일반음식점', 'dlvry_건물용도_종교시설'],\n",
      "      dtype='object')\n"
     ]
    }
   ],
   "source": [
    "X_train = train_set.drop(columns=['outcome', '전체배차시간','dlvry_id', 'day_of_week'])\n",
    "y_train = train_set['outcome']\n",
    "\n",
    "X_test = test_set.drop(columns=['outcome', '전체배차시간','dlvry_id', 'day_of_week'])\n",
    "y_test = test_set['outcome']\n",
    "\n",
    "print(X_train.columns)"
   ]
  },
  {
   "cell_type": "code",
   "execution_count": 30,
   "metadata": {},
   "outputs": [],
   "source": [
    "# set.seed(1234)\n",
    "# train_ratio = 0.75\n",
    "# total_samples = dataset.shape[0]\n",
    "# train_samples = int(train_ratio * total_samples)\n",
    "# train_set = dataset[:train_samples]\n",
    "# test_set = dataset[train_samples:]\n",
    "\n",
    "# print(train_set.shape) #33483\n",
    "# print(test_set.shape) #11161"
   ]
  },
  {
   "attachments": {},
   "cell_type": "markdown",
   "metadata": {},
   "source": [
    "## 4. numeric variables"
   ]
  },
  {
   "cell_type": "code",
   "execution_count": 31,
   "metadata": {},
   "outputs": [
    {
     "name": "stdout",
     "output_type": "stream",
     "text": [
      "(33483, 61)\n",
      "(11161, 61)\n"
     ]
    }
   ],
   "source": [
    "num_vars = ['ord_price', 'actual_dlvry_distance', '기온']\n",
    "scaler = MinMaxScaler()\n",
    "\n",
    "X_train[num_vars] = scaler.fit_transform(X_train[num_vars])\n",
    "X_test[num_vars] = scaler.transform(X_test[num_vars])\n",
    "\n",
    "#print(X_train.head())\n",
    "print(X_train.shape) #33,483\n",
    "print(X_test.shape) #11,161"
   ]
  },
  {
   "attachments": {},
   "cell_type": "markdown",
   "metadata": {},
   "source": [
    "## 5. modeling - Logistic Regression"
   ]
  },
  {
   "cell_type": "code",
   "execution_count": 32,
   "metadata": {},
   "outputs": [],
   "source": [
    "# def calculate_vif(data):\n",
    "#     vif_data = pd.DataFrame()\n",
    "#     vif_data[\"Variable\"] = data.columns\n",
    "#     vif_data[\"VIF\"] = [variance_inflation_factor(data.values, i) for i in range(data.shape[1])]\n",
    "#     return vif_data\n",
    "\n",
    "# # 다중 공선성 확인\n",
    "# vif_result = calculate_vif(X_train)\n",
    "# print(vif_result)"
   ]
  },
  {
   "attachments": {},
   "cell_type": "markdown",
   "metadata": {},
   "source": [
    "### sm.GLM"
   ]
  },
  {
   "cell_type": "code",
   "execution_count": 33,
   "metadata": {},
   "outputs": [
    {
     "name": "stdout",
     "output_type": "stream",
     "text": [
      "                 Generalized Linear Model Regression Results                  \n",
      "==============================================================================\n",
      "Dep. Variable:                outcome   No. Observations:                33483\n",
      "Model:                            GLM   Df Residuals:                    33422\n",
      "Model Family:                Binomial   Df Model:                           60\n",
      "Link Function:                  Logit   Scale:                          1.0000\n",
      "Method:                          IRLS   Log-Likelihood:                -10871.\n",
      "Date:                Wed, 11 Oct 2023   Deviance:                       21743.\n",
      "Time:                        15:25:27   Pearson chi2:                 3.42e+04\n",
      "No. Iterations:                     6   Pseudo R-squ. (CS):             0.1179\n",
      "Covariance Type:            nonrobust                                         \n",
      "===========================================================================================\n",
      "                              coef    std err          z      P>|z|      [0.025      0.975]\n",
      "-------------------------------------------------------------------------------------------\n",
      "ord_price                   2.4650      0.443      5.560      0.000       1.596       3.334\n",
      "actual_dlvry_distance       5.0412      0.112     44.915      0.000       4.821       5.261\n",
      "기온                         -1.1435      0.102    -11.254      0.000      -1.343      -0.944\n",
      "is_holiday_True             0.1093      0.039      2.811      0.005       0.033       0.185\n",
      "pick_floor_중층               1.2950      0.333      3.887      0.000       0.642       1.948\n",
      "pick_floor_지하              -0.0396      0.051     -0.773      0.440      -0.140       0.061\n",
      "reg_hour_10                -0.9383      0.135     -6.966      0.000      -1.202      -0.674\n",
      "reg_hour_11                -1.2595      0.119    -10.599      0.000      -1.492      -1.027\n",
      "reg_hour_12                -0.9923      0.121     -8.234      0.000      -1.228      -0.756\n",
      "reg_hour_13                -0.7293      0.127     -5.723      0.000      -0.979      -0.480\n",
      "reg_hour_14                 0.1990      0.122      1.631      0.103      -0.040       0.438\n",
      "reg_hour_15                 0.2703      0.125      2.168      0.030       0.026       0.515\n",
      "reg_hour_16                 0.3207      0.122      2.634      0.008       0.082       0.559\n",
      "reg_hour_17                -0.7607      0.123     -6.162      0.000      -1.003      -0.519\n",
      "reg_hour_18                -0.9504      0.120     -7.906      0.000      -1.186      -0.715\n",
      "reg_hour_19                -0.9673      0.121     -8.012      0.000      -1.204      -0.731\n",
      "reg_hour_20                -0.4927      0.121     -4.057      0.000      -0.731      -0.255\n",
      "reg_hour_21                 0.4262      0.120      3.552      0.000       0.191       0.661\n",
      "reg_hour_22                 1.1595      0.122      9.535      0.000       0.921       1.398\n",
      "reg_hour_23                 0.3665      0.138      2.660      0.008       0.096       0.636\n",
      "pick_category_BAEKBAN      -0.4148      0.106     -3.927      0.000      -0.622      -0.208\n",
      "pick_category_BURGER       -0.3291      0.110     -3.004      0.003      -0.544      -0.114\n",
      "pick_category_CAFE         -0.5200      0.099     -5.253      0.000      -0.714      -0.326\n",
      "pick_category_CHICKEN      -0.7523      0.106     -7.115      0.000      -0.960      -0.545\n",
      "pick_category_CHINESE      -0.1842      0.106     -1.731      0.083      -0.393       0.024\n",
      "pick_category_JAPANESE     -0.4361      0.111     -3.931      0.000      -0.654      -0.219\n",
      "pick_category_JOKBAL       -0.5901      0.155     -3.814      0.000      -0.893      -0.287\n",
      "pick_category_MEAT         -0.2002      0.116     -1.731      0.083      -0.427       0.026\n",
      "pick_category_PIZZA        -0.2271      0.117     -1.946      0.052      -0.456       0.002\n",
      "pick_category_SNACK        -0.6069      0.104     -5.845      0.000      -0.810      -0.403\n",
      "pick_category_WESTERN      -0.3782      0.117     -3.241      0.001      -0.607      -0.150\n",
      "pick_category_ZZIM_TANG    -0.5612      0.110     -5.081      0.000      -0.778      -0.345\n",
      "pick_건물용도_교육시설             -0.0990      0.113     -0.877      0.380      -0.320       0.122\n",
      "pick_건물용도_근린생활시설           -0.0652      0.075     -0.866      0.387      -0.213       0.082\n",
      "pick_건물용도_기타시설             -0.0969      0.138     -0.703      0.482      -0.367       0.173\n",
      "pick_건물용도_대형판매점            -0.3266      0.341     -0.956      0.339      -0.996       0.343\n",
      "pick_건물용도_백화점              -0.6582      0.190     -3.470      0.001      -1.030      -0.286\n",
      "pick_건물용도_숙박시설              0.4762      0.242      1.966      0.049       0.002       0.951\n",
      "pick_건물용도_아파트               0.1847      0.080      2.316      0.021       0.028       0.341\n",
      "pick_건물용도_업무시설             -0.1298      0.070     -1.846      0.065      -0.268       0.008\n",
      "pick_건물용도_오피스텔              0.3528      0.229      1.538      0.124      -0.097       0.802\n",
      "pick_건물용도_의료시설             -0.0093      0.123     -0.076      0.939      -0.250       0.231\n",
      "pick_건물용도_일반상점             -0.1844      0.088     -2.099      0.036      -0.357      -0.012\n",
      "pick_건물용도_일반음식점            -0.1150      0.082     -1.402      0.161      -0.276       0.046\n",
      "dlvry_지상층수_저층              -0.1906      0.084     -2.272      0.023      -0.355      -0.026\n",
      "dlvry_지상층수_준초고층             0.2684      0.101      2.661      0.008       0.071       0.466\n",
      "dlvry_지상층수_중상층             -0.1355      0.062     -2.178      0.029      -0.257      -0.014\n",
      "dlvry_지상층수_중층              -0.1356      0.073     -1.850      0.064      -0.279       0.008\n",
      "dlvry_지상층수_초고층              0.0085      0.247      0.034      0.973      -0.475       0.492\n",
      "dlvry_건물용도_공동주택            -1.8998      0.126    -15.105      0.000      -2.146      -1.653\n",
      "dlvry_건물용도_교육시설            -1.5716      0.161     -9.748      0.000      -1.888      -1.256\n",
      "dlvry_건물용도_근린생활시설          -2.3064      0.165    -14.001      0.000      -2.629      -1.984\n",
      "dlvry_건물용도_기타시설            -1.7025      0.218     -7.801      0.000      -2.130      -1.275\n",
      "dlvry_건물용도_숙박시설            -2.0663      0.212     -9.745      0.000      -2.482      -1.651\n",
      "dlvry_건물용도_아파트             -1.8126      0.124    -14.579      0.000      -2.056      -1.569\n",
      "dlvry_건물용도_업무시설            -2.2893      0.130    -17.653      0.000      -2.543      -2.035\n",
      "dlvry_건물용도_오피스텔            -1.7215      0.424     -4.058      0.000      -2.553      -0.890\n",
      "dlvry_건물용도_의료시설            -2.1101      0.195    -10.810      0.000      -2.493      -1.728\n",
      "dlvry_건물용도_일반상점            -1.6145      0.156    -10.374      0.000      -1.919      -1.309\n",
      "dlvry_건물용도_일반음식점           -1.9970      0.208     -9.604      0.000      -2.405      -1.589\n",
      "dlvry_건물용도_종교시설            -1.1437      0.313     -3.657      0.000      -1.757      -0.531\n",
      "===========================================================================================\n"
     ]
    }
   ],
   "source": [
    "glm_1 = sm.GLM(y_train, X_train, family = sm.families.Binomial())\n",
    "glm1_fit = glm_1.fit()\n",
    "print(glm1_fit.summary())"
   ]
  },
  {
   "cell_type": "code",
   "execution_count": null,
   "metadata": {},
   "outputs": [],
   "source": [
    "# # best class weight 찾기\n",
    "# param_grid = {'class_weight': [\n",
    "#                             {0: 0.1, 1: 0.9},\n",
    "#                             {0: 0.15, 1: 0.85},  \n",
    "#                             {0: 0.2, 1: 0.8}, \n",
    "#                             {0: 0.25, 1: 0.75}, \n",
    "#                             {0: 0.3, 1: 0.7},\n",
    "#                             {0: 0.35, 1: 0.65},\n",
    "#                             {0: 0.4, 1: 0.6},\n",
    "#                             {0: 0.45, 1: 0.55},\n",
    "#                             {0: 0.5, 1: 0.5},\n",
    "#                             {0: 0.55, 1: 0.45},\n",
    "#                             {0: 0.6, 1: 0.4},\n",
    "#                                ]}\n",
    "\n",
    "# grid_search = GridSearchCV(estimator=LogisticRegression(), param_grid=param_grid, cv=5, scoring='accuracy')\n",
    "# grid_search.fit(X_train, y_train)\n",
    "\n",
    "# best_class_weight = grid_search.best_params_['class_weight']\n",
    "# best_model = grid_search.best_estimator_\n",
    "\n",
    "# print(\"Best Class Weight:\", best_class_weight)\n",
    "# y_pred = best_model.predict(X_test)\n",
    "# conf_matrix = confusion_matrix(y_test, y_pred)\n",
    "# test = conf_matrix[1, 1] / (conf_matrix[0, 1] + conf_matrix[1, 1])\n",
    "# print(\"Negative+ :\", test)\n",
    "\n"
   ]
  },
  {
   "cell_type": "code",
   "execution_count": 35,
   "metadata": {},
   "outputs": [
    {
     "name": "stdout",
     "output_type": "stream",
     "text": [
      "Best Class Weight: {0: 0.6, 1: 0.4}\n",
      "Best Test Score: 0.676056338028169\n"
     ]
    }
   ],
   "source": [
    "class_weights_to_test = [\n",
    "                            {0: 0.1, 1: 0.9},\n",
    "                            {0: 0.15, 1: 0.85},  \n",
    "                            {0: 0.2, 1: 0.8}, \n",
    "                            {0: 0.25, 1: 0.75}, \n",
    "                            {0: 0.3, 1: 0.7},\n",
    "                            {0: 0.35, 1: 0.65},\n",
    "                            {0: 0.4, 1: 0.6},\n",
    "                            {0: 0.45, 1: 0.55},\n",
    "                            {0: 0.5, 1: 0.5},\n",
    "                            {0: 0.55, 1: 0.45},\n",
    "                            {0: 0.6, 1: 0.4},\n",
    "]\n",
    "\n",
    "best_class_weight = None\n",
    "best_test_score = 0.0\n",
    "\n",
    "for class_weight in class_weights_to_test:\n",
    "    model = LogisticRegression(class_weight=class_weight)\n",
    "    model.fit(X_train, y_train)\n",
    "    \n",
    "    y_pred = model.predict(X_test)\n",
    "    conf_matrix = confusion_matrix(y_test, y_pred)\n",
    "    test = conf_matrix[1, 1] / (conf_matrix[0, 1] + conf_matrix[1, 1])\n",
    "    \n",
    "    if test > best_test_score:\n",
    "        best_test_score = test\n",
    "        best_class_weight = class_weight\n",
    "\n",
    "print(\"Best Class Weight:\", best_class_weight)\n",
    "print(\"Best Test Score:\", best_test_score)\n"
   ]
  },
  {
   "cell_type": "code",
   "execution_count": 36,
   "metadata": {},
   "outputs": [
    {
     "name": "stdout",
     "output_type": "stream",
     "text": [
      "GLM Model - Confusion Matrix:\n",
      "[[9576  128]\n",
      " [1262  195]]\n",
      "GLM Model - Accuracy: 0.875459188244781\n",
      "GLM Model - Sensitivity (True Positive Rate): 0.1338366506520247\n",
      "GLM Model - Specificity (True Negative Rate): 0.9868095630667766\n",
      "GLM Model - Negative+: 0.6037151702786377\n",
      "\n",
      "LogisticRegression CV Model - Confusion Matrix:\n",
      "[[9658   46]\n",
      " [1361   96]]\n",
      "CV accuracy: 0.8734283277199314\n",
      "LogisticRegression CV Model - Accuracy: 0.8739360272377027\n",
      "LogisticRegression CV Model - Sensitivity (True Positive Rate): 0.06588881262868909\n",
      "LogisticRegression CV Model - Specificity (True Negative Rate): 0.9952596867271228\n",
      "LogisticRegression CV Model - Negative+: 0.676056338028169\n"
     ]
    }
   ],
   "source": [
    "random.seed(123)\n",
    "\n",
    "# GLM 모델 - sm.GLM\n",
    "y_pred_glm = glm1_fit.predict(X_test)\n",
    "threshold = 0.5 \n",
    "y_pred_binary = (y_pred_glm > threshold).astype(int)\n",
    "\n",
    "accuracy_glm = accuracy_score(y_test, y_pred_binary)\n",
    "conf_matrix_glm = confusion_matrix(y_test, y_pred_binary)\n",
    "sensitivity_glm = conf_matrix_glm[1, 1] / (conf_matrix_glm[1, 0] + conf_matrix_glm[1, 1])\n",
    "specificity_glm = conf_matrix_glm[0, 0] / (conf_matrix_glm[0, 0] + conf_matrix_glm[0, 1])\n",
    "test_glm = conf_matrix_glm[1, 1] / (conf_matrix_glm[0, 1] + conf_matrix_glm[1, 1])\n",
    "\n",
    "glm_model = joblib.dump(glm1_fit, 'prj-ML-model-LT_OV30/glm_model.joblib')\n",
    "\n",
    "# LogisticRegression 모델 - 사이킷런\n",
    "model_cv = LogisticRegression(class_weight = best_class_weight)\n",
    "scores = cross_val_score(model_cv, X_train, y_train, cv= 10, scoring = 'accuracy')\n",
    "mean_accracy = scores.mean()\n",
    "\n",
    "model_cv.fit(X_train, y_train)\n",
    "y_pred_prob = model_cv.predict_proba(X_test)\n",
    "y_pred_cv = (y_pred_prob[:, 1] > threshold).astype(int)\n",
    "\n",
    "accuracy_cv = accuracy_score(y_test, y_pred_cv)\n",
    "conf_matrix_cv = confusion_matrix(y_test, y_pred_cv)\n",
    "sensitivity_cv = conf_matrix_cv[1, 1] / (conf_matrix_cv[1, 0] + conf_matrix_cv[1, 1])\n",
    "specificity_cv = conf_matrix_cv[0, 0] / (conf_matrix_cv[0, 0] + conf_matrix_cv[0, 1])\n",
    "test_cv = conf_matrix_cv[1, 1] / (conf_matrix_cv[0, 1] + conf_matrix_cv[1, 1])\n",
    "\n",
    "cv_model = joblib.dump(model_cv, 'prj-ML-model-LT_OV30/cv_model.joblib')\n",
    "\n",
    "# 결과 출력\n",
    "print(\"GLM Model - Confusion Matrix:\")\n",
    "print(conf_matrix_glm)\n",
    "print(\"GLM Model - Accuracy:\", accuracy_glm)\n",
    "print(\"GLM Model - Sensitivity (True Positive Rate):\", sensitivity_glm)\n",
    "print(\"GLM Model - Specificity (True Negative Rate):\", specificity_glm)\n",
    "print(\"GLM Model - Negative+:\", test_glm)\n",
    "\n",
    "print(\"\\nLogisticRegression CV Model - Confusion Matrix:\")\n",
    "print(conf_matrix_cv)\n",
    "print(\"CV accuracy:\", mean_accracy)\n",
    "print(\"LogisticRegression CV Model - Accuracy:\", accuracy_cv)\n",
    "print(\"LogisticRegression CV Model - Sensitivity (True Positive Rate):\", sensitivity_cv)\n",
    "print(\"LogisticRegression CV Model - Specificity (True Negative Rate):\", specificity_cv)\n",
    "print(\"LogisticRegression CV Model - Negative+:\", test_cv)\n"
   ]
  },
  {
   "cell_type": "code",
   "execution_count": 37,
   "metadata": {},
   "outputs": [
    {
     "name": "stdout",
     "output_type": "stream",
     "text": [
      "(11161,)\n",
      "Number of values greater than 0.5: 142\n"
     ]
    }
   ],
   "source": [
    "print(y_pred.shape) #11,161  \n",
    " \n",
    "count_greater_than_0_5 = (y_pred > 0.5).sum()\n",
    "print(\"Number of values greater than 0.5:\", count_greater_than_0_5)                          "
   ]
  },
  {
   "cell_type": "code",
   "execution_count": 38,
   "metadata": {},
   "outputs": [
    {
     "name": "stdout",
     "output_type": "stream",
     "text": [
      "count    11161.000000\n",
      "mean         0.130811\n",
      "std          0.134645\n",
      "min          0.006823\n",
      "25%          0.044780\n",
      "50%          0.082177\n",
      "75%          0.161937\n",
      "max          0.953754\n",
      "dtype: float64\n",
      "count    11161.000000\n",
      "mean         0.095364\n",
      "std          0.106540\n",
      "min          0.005007\n",
      "25%          0.031652\n",
      "50%          0.057173\n",
      "75%          0.114354\n",
      "max          0.884736\n",
      "dtype: float64\n"
     ]
    }
   ],
   "source": [
    "print(y_pred_glm.describe())\n",
    "\n",
    "y_pred_prob_class1 = pd.Series(y_pred_prob[:, 1])\n",
    "print(y_pred_prob_class1.describe())"
   ]
  },
  {
   "attachments": {},
   "cell_type": "markdown",
   "metadata": {},
   "source": [
    "## 6. clustering"
   ]
  },
  {
   "cell_type": "code",
   "execution_count": 39,
   "metadata": {},
   "outputs": [],
   "source": [
    "def visualize_silhouette_scores(data, method='kmeans', param_init='random', param_n_init=10, param_max_iter=300):\n",
    "    clusters_range = range(2, 15)\n",
    "    results = []\n",
    "\n",
    "    for i in clusters_range:\n",
    "        if method == 'kmeans':\n",
    "            clusterer = KMeans(n_clusters=i, init=param_init, n_init=param_n_init, max_iter=param_max_iter, random_state=0)\n",
    "        elif method == 'agglomerative':\n",
    "            clusterer = AgglomerativeClustering(n_clusters=i)\n",
    "        else:\n",
    "            raise ValueError(\"Invalid method. Choose 'kmeans' or 'agglomerative'.\")\n",
    "\n",
    "        cluster_labels = clusterer.fit_predict(data)\n",
    "        silhouette_avg = silhouette_score(data, cluster_labels)\n",
    "        results.append([i, silhouette_avg])\n",
    "\n",
    "    result = pd.DataFrame(results, columns=[\"n_clusters\", \"silhouette_score\"])\n",
    "    \n",
    "    plt.figure()\n",
    "    sns.heatmap(pd.pivot_table(result, index=\"n_clusters\", values=\"silhouette_score\"),annot=True, linewidths=.5, fmt='.3f', cmap=sns.cm._rocket_lut)\n",
    "    plt.tight_layout()\n",
    "    plt.title(f\"Silhouette Scores for {method.capitalize()} Clustering\")\n",
    "    plt.xlabel(\"Number of Clusters\")\n",
    "    plt.ylabel(\"Silhouette Score\")\n",
    "    plt.show()\n"
   ]
  },
  {
   "cell_type": "code",
   "execution_count": 40,
   "metadata": {},
   "outputs": [
    {
     "data": {
      "image/png": "[encoded data removed]",
      "text/plain": [
       "<Figure size 640x480 with 2 Axes>"
      ]
     },
     "metadata": {},
     "output_type": "display_data"
    },
    {
     "data": {
      "image/png": "[encoded data removed]",
      "text/plain": [
       "<Figure size 640x480 with 2 Axes>"
      ]
     },
     "metadata": {},
     "output_type": "display_data"
    }
   ],
   "source": [
    "data_glm  = y_pred_glm.to_numpy().reshape(-1, 1)\n",
    "data_cv  = y_pred_prob_class1.to_numpy().reshape(-1, 1)\n",
    "\n",
    "visualize_silhouette_scores(data_glm, method='kmeans')\n",
    "visualize_silhouette_scores(data_cv, method='kmeans')"
   ]
  },
  {
   "cell_type": "code",
   "execution_count": 41,
   "metadata": {},
   "outputs": [
    {
     "name": "stdout",
     "output_type": "stream",
     "text": [
      "K-Means Silhouette Score_glm : 0.63\n",
      "K-Means Silhouette Score_cv : 0.65\n"
     ]
    },
    {
     "data": {
      "image/png": "[encoded data removed]",
      "text/plain": [
       "<Figure size 1200x400 with 2 Axes>"
      ]
     },
     "metadata": {},
     "output_type": "display_data"
    }
   ],
   "source": [
    "# GLM \n",
    "n_clusters = 4\n",
    "X_glm = y_pred_glm.values.reshape(-1,1)\n",
    "kmeans = KMeans(n_clusters=n_clusters)\n",
    "kmeans_clusters_glm = kmeans.fit_predict(X_glm)\n",
    "kmeans_silhouette_score_glm = silhouette_score(X_glm, kmeans_clusters_glm)\n",
    "print(f\"K-Means Silhouette Score_glm : {kmeans_silhouette_score_glm:.2f}\")\n",
    "\n",
    "# 데이터 시각화\n",
    "plt.figure(figsize=(12, 4))\n",
    "plt.subplot(131)\n",
    "plt.scatter(X_glm, X_glm , c = kmeans_clusters_glm, cmap='viridis')\n",
    "plt.scatter(kmeans.cluster_centers_, kmeans.cluster_centers_, c='red', marker='x', s=100, label='Cluster Centers')\n",
    "plt.title('K-Means Clusters_GLM')\n",
    "plt.xlabel('Y_pred')\n",
    "plt.ylabel('Y_pred')\n",
    "for i, cluster_num in enumerate(np.unique(kmeans_clusters_glm)):\n",
    "    plt.text(kmeans.cluster_centers_[cluster_num, 0], kmeans.cluster_centers_[cluster_num, 0], str(cluster_num), color='black', fontsize=12)\n",
    "\n",
    "# CV 모델 \n",
    "X_cv = y_pred_prob_class1.values.reshape(-1,1)\n",
    "\n",
    "kmeans = KMeans(n_clusters=n_clusters)\n",
    "kmeans_clusters_cv = kmeans.fit_predict(X_cv)\n",
    "kmeans_silhouette_score_cv = silhouette_score(X_cv, kmeans_clusters_cv)\n",
    "print(f\"K-Means Silhouette Score_cv : {kmeans_silhouette_score_cv:.2f}\")\n",
    "\n",
    "# 데이터 시각화\n",
    "plt.subplot(132)\n",
    "plt.scatter(X_cv, X_cv, c=kmeans_clusters_cv, cmap='viridis')\n",
    "plt.scatter(kmeans.cluster_centers_, kmeans.cluster_centers_, c='red', marker='x', s=100, label='Cluster Centers')\n",
    "plt.title('K-Means Clusters_CV')\n",
    "plt.xlabel('Y_pred')\n",
    "plt.ylabel('Y_pred')\n",
    "for i, cluster_num in enumerate(np.unique(kmeans_clusters_cv)):\n",
    "    plt.text(kmeans.cluster_centers_[cluster_num, 0], kmeans.cluster_centers_[cluster_num, 0], str(cluster_num), color='black', fontsize=12)\n",
    "\n",
    "plt.legend()\n",
    "plt.show()"
   ]
  },
  {
   "cell_type": "code",
   "execution_count": 42,
   "metadata": {},
   "outputs": [],
   "source": [
    "# n_clusters = 4\n",
    "# X_glm = y_pred_glm.values.reshape(-1,1)\n",
    "# X_cv = y_pred_prob_class1.values.reshape(-1,1)\n",
    "\n",
    "# kmeans = KMeans(n_clusters=n_clusters)\n",
    "# kmeans_clusters_glm = kmeans.fit_predict(X_glm)\n",
    "# kmeans_clusters_cv = kmeans.fit_predict(X_cv)\n",
    "\n",
    "# kmeans_silhouette_score_glm = silhouette_score(X_glm, kmeans_clusters_glm)\n",
    "# kmeans_silhouette_score_cv = silhouette_score(X_cv, kmeans_clusters_cv)\n",
    "\n",
    "# print(f\"K-Means Silhouette Score_glm : {kmeans_silhouette_score_glm:.2f}\")\n",
    "# print(f\"K-Means Silhouette Score_cv : {kmeans_silhouette_score_cv:.2f}\")\n",
    "\n",
    "# agglomerative = AgglomerativeClustering(n_clusters=n_clusters)\n",
    "# agglomerative_clusters = agglomerative.fit_predict(X)\n",
    "#agglomerative_silhouette_score = silhouette_score(X, agglomerative_clusters)\n",
    "#print(f\"Agglomerative Silhouette Score: {agglomerative_silhouette_score:.2f}\")\n",
    "\n",
    "# 데이터 시각화\n",
    "#plt.figure(figsize=(12, 4))\n",
    "\n",
    "# plt.subplot(131)\n",
    "# plt.scatter(X, X , c=y_pred, cmap='viridis')\n",
    "# plt.title('True Clusters')\n",
    "# plt.xlabel('Y_pred')\n",
    "# plt.ylabel('Y_pred')\n",
    "\n",
    "# plt.subplot(131)\n",
    "# plt.scatter(X_glm, X_glm , c = kmeans_clusters_glm, cmap='viridis')\n",
    "# plt.scatter(kmeans.cluster_centers_, kmeans.cluster_centers_, c='red', marker='x', s=100, label='Cluster Centers')\n",
    "# plt.title('K-Means Clusters_GLM')\n",
    "# plt.xlabel('Y_pred')\n",
    "# plt.ylabel('Y_pred')\n",
    "# for i, cluster_num in enumerate(np.unique(kmeans_clusters_glm)):\n",
    "#     plt.text(kmeans.cluster_centers_[cluster_num, 0], kmeans.cluster_centers_[cluster_num, 0], str(cluster_num), color='black', fontsize=12)\n",
    "    \n",
    "# plt.subplot(132)\n",
    "# plt.scatter(X_cv, X_cv, c=kmeans_clusters_cv, cmap='viridis')\n",
    "# plt.scatter(kmeans.cluster_centers_, kmeans.cluster_centers_, c='red', marker='x', s=100, label='Cluster Centers')\n",
    "# plt.title('K-Means Clusters_CV')\n",
    "# plt.xlabel('Y_pred')\n",
    "# plt.ylabel('Y_pred')\n",
    "# for i, cluster_num in enumerate(np.unique(kmeans_clusters_cv)):\n",
    "#     plt.text(kmeans.cluster_centers_[cluster_num, 0], kmeans.cluster_centers_[cluster_num, 0], str(cluster_num), color='black', fontsize=12)\n",
    "\n",
    "# plt.subplot(133)\n",
    "# plt.scatter(X, X , c=agglomerative_clusters, cmap='viridis')\n",
    "# plt.title('Agglomerative Clusters')\n",
    "# plt.xlabel('Y_pred')\n",
    "# plt.ylabel('Y_pred')\n",
    "# for i, cluster_num in enumerate(np.unique(agglomerative_clusters)):\n",
    "#     plt.text(y_pred[agglomerative_clusters == cluster_num].mean(), y_pred[agglomerative_clusters == cluster_num].mean(), str(cluster_num), color='black', fontsize=12)\n",
    "\n",
    "# plt.legend()\n",
    "# plt.show()\n"
   ]
  },
  {
   "cell_type": "code",
   "execution_count": 43,
   "metadata": {},
   "outputs": [
    {
     "name": "stdout",
     "output_type": "stream",
     "text": [
      "                    mean        std       min        max\n",
      "KMeansCluster                                           \n",
      "0               1.662938   2.692493  0.116667  41.550000\n",
      "1               6.263074   7.644554  0.116667  44.416667\n",
      "2               3.747496   5.595767  0.150000  57.400000\n",
      "3              11.586262  10.192138  0.233333  50.783333\n"
     ]
    }
   ],
   "source": [
    "# k = 2,3,4,5, 10 전체 배차시간, y_pred값 보기\n",
    "\n",
    "cluster_nums = [2, 3, 4, 5, 10]\n",
    "cluster_stats_df = pd.DataFrame(index=cluster_nums)\n",
    "\n",
    "for k in cluster_nums :\n",
    "    result_df = pd.DataFrame({'dlvry_id': test_set[\"dlvry_id\"], '전체배차시간': test_set[\"전체배차시간\"],\n",
    "                          'outcome': test_set[\"outcome\"], 'y_pred': y_pred_prob[:, 1].squeeze(),\n",
    "                          'KMeansCluster': kmeans_clusters_cv})\n",
    "    cluster_stats_df = result_df.groupby('KMeansCluster')['전체배차시간'].agg(['mean', 'std', 'min', 'max'])\n",
    "\n",
    "print(cluster_stats_df)\n",
    "\n"
   ]
  },
  {
   "cell_type": "code",
   "execution_count": 44,
   "metadata": {},
   "outputs": [
    {
     "data": {
      "text/html": [
       "<style type=\"text/css\">\n",
       "</style>\n",
       "<table id=\"T_623d4\">\n",
       "  <thead>\n",
       "    <tr>\n",
       "      <th class=\"blank level0\" >&nbsp;</th>\n",
       "      <th id=\"T_623d4_level0_col0\" class=\"col_heading level0 col0\" >Cluster_Num</th>\n",
       "      <th id=\"T_623d4_level0_col1\" class=\"col_heading level0 col1\" >mean</th>\n",
       "      <th id=\"T_623d4_level0_col2\" class=\"col_heading level0 col2\" >std</th>\n",
       "      <th id=\"T_623d4_level0_col3\" class=\"col_heading level0 col3\" >min</th>\n",
       "      <th id=\"T_623d4_level0_col4\" class=\"col_heading level0 col4\" >max</th>\n",
       "    </tr>\n",
       "  </thead>\n",
       "  <tbody>\n",
       "    <tr>\n",
       "      <th id=\"T_623d4_level0_row0\" class=\"row_heading level0 row0\" >0</th>\n",
       "      <td id=\"T_623d4_row0_col0\" class=\"data row0 col0\" >2</td>\n",
       "      <td id=\"T_623d4_row0_col1\" class=\"data row0 col1\" >0.06</td>\n",
       "      <td id=\"T_623d4_row0_col2\" class=\"data row0 col2\" >0.04</td>\n",
       "      <td id=\"T_623d4_row0_col3\" class=\"data row0 col3\" >0.01</td>\n",
       "      <td id=\"T_623d4_row0_col4\" class=\"data row0 col4\" >0.20</td>\n",
       "    </tr>\n",
       "    <tr>\n",
       "      <th id=\"T_623d4_level0_row1\" class=\"row_heading level0 row1\" >1</th>\n",
       "      <td id=\"T_623d4_row1_col0\" class=\"data row1 col0\" >2</td>\n",
       "      <td id=\"T_623d4_row1_col1\" class=\"data row1 col1\" >0.33</td>\n",
       "      <td id=\"T_623d4_row1_col2\" class=\"data row1 col2\" >0.13</td>\n",
       "      <td id=\"T_623d4_row1_col3\" class=\"data row1 col3\" >0.20</td>\n",
       "      <td id=\"T_623d4_row1_col4\" class=\"data row1 col4\" >0.88</td>\n",
       "    </tr>\n",
       "    <tr>\n",
       "      <th id=\"T_623d4_level0_row2\" class=\"row_heading level0 row2\" >2</th>\n",
       "      <td id=\"T_623d4_row2_col0\" class=\"data row2 col0\" >3</td>\n",
       "      <td id=\"T_623d4_row2_col1\" class=\"data row2 col1\" >0.05</td>\n",
       "      <td id=\"T_623d4_row2_col2\" class=\"data row2 col2\" >0.03</td>\n",
       "      <td id=\"T_623d4_row2_col3\" class=\"data row2 col3\" >0.01</td>\n",
       "      <td id=\"T_623d4_row2_col4\" class=\"data row2 col4\" >0.13</td>\n",
       "    </tr>\n",
       "    <tr>\n",
       "      <th id=\"T_623d4_level0_row3\" class=\"row_heading level0 row3\" >3</th>\n",
       "      <td id=\"T_623d4_row3_col0\" class=\"data row3 col0\" >3</td>\n",
       "      <td id=\"T_623d4_row3_col1\" class=\"data row3 col1\" >0.20</td>\n",
       "      <td id=\"T_623d4_row3_col2\" class=\"data row3 col2\" >0.06</td>\n",
       "      <td id=\"T_623d4_row3_col3\" class=\"data row3 col3\" >0.13</td>\n",
       "      <td id=\"T_623d4_row3_col4\" class=\"data row3 col4\" >0.34</td>\n",
       "    </tr>\n",
       "    <tr>\n",
       "      <th id=\"T_623d4_level0_row4\" class=\"row_heading level0 row4\" >4</th>\n",
       "      <td id=\"T_623d4_row4_col0\" class=\"data row4 col0\" >3</td>\n",
       "      <td id=\"T_623d4_row4_col1\" class=\"data row4 col1\" >0.48</td>\n",
       "      <td id=\"T_623d4_row4_col2\" class=\"data row4 col2\" >0.12</td>\n",
       "      <td id=\"T_623d4_row4_col3\" class=\"data row4 col3\" >0.34</td>\n",
       "      <td id=\"T_623d4_row4_col4\" class=\"data row4 col4\" >0.88</td>\n",
       "    </tr>\n",
       "    <tr>\n",
       "      <th id=\"T_623d4_level0_row5\" class=\"row_heading level0 row5\" >5</th>\n",
       "      <td id=\"T_623d4_row5_col0\" class=\"data row5 col0\" >4</td>\n",
       "      <td id=\"T_623d4_row5_col1\" class=\"data row5 col1\" >0.04</td>\n",
       "      <td id=\"T_623d4_row5_col2\" class=\"data row5 col2\" >0.02</td>\n",
       "      <td id=\"T_623d4_row5_col3\" class=\"data row5 col3\" >0.01</td>\n",
       "      <td id=\"T_623d4_row5_col4\" class=\"data row5 col4\" >0.09</td>\n",
       "    </tr>\n",
       "    <tr>\n",
       "      <th id=\"T_623d4_level0_row6\" class=\"row_heading level0 row6\" >6</th>\n",
       "      <td id=\"T_623d4_row6_col0\" class=\"data row6 col0\" >4</td>\n",
       "      <td id=\"T_623d4_row6_col1\" class=\"data row6 col1\" >0.13</td>\n",
       "      <td id=\"T_623d4_row6_col2\" class=\"data row6 col2\" >0.03</td>\n",
       "      <td id=\"T_623d4_row6_col3\" class=\"data row6 col3\" >0.09</td>\n",
       "      <td id=\"T_623d4_row6_col4\" class=\"data row6 col4\" >0.21</td>\n",
       "    </tr>\n",
       "    <tr>\n",
       "      <th id=\"T_623d4_level0_row7\" class=\"row_heading level0 row7\" >7</th>\n",
       "      <td id=\"T_623d4_row7_col0\" class=\"data row7 col0\" >4</td>\n",
       "      <td id=\"T_623d4_row7_col1\" class=\"data row7 col1\" >0.29</td>\n",
       "      <td id=\"T_623d4_row7_col2\" class=\"data row7 col2\" >0.06</td>\n",
       "      <td id=\"T_623d4_row7_col3\" class=\"data row7 col3\" >0.21</td>\n",
       "      <td id=\"T_623d4_row7_col4\" class=\"data row7 col4\" >0.42</td>\n",
       "    </tr>\n",
       "    <tr>\n",
       "      <th id=\"T_623d4_level0_row8\" class=\"row_heading level0 row8\" >8</th>\n",
       "      <td id=\"T_623d4_row8_col0\" class=\"data row8 col0\" >4</td>\n",
       "      <td id=\"T_623d4_row8_col1\" class=\"data row8 col1\" >0.56</td>\n",
       "      <td id=\"T_623d4_row8_col2\" class=\"data row8 col2\" >0.11</td>\n",
       "      <td id=\"T_623d4_row8_col3\" class=\"data row8 col3\" >0.43</td>\n",
       "      <td id=\"T_623d4_row8_col4\" class=\"data row8 col4\" >0.88</td>\n",
       "    </tr>\n",
       "    <tr>\n",
       "      <th id=\"T_623d4_level0_row9\" class=\"row_heading level0 row9\" >9</th>\n",
       "      <td id=\"T_623d4_row9_col0\" class=\"data row9 col0\" >5</td>\n",
       "      <td id=\"T_623d4_row9_col1\" class=\"data row9 col1\" >0.04</td>\n",
       "      <td id=\"T_623d4_row9_col2\" class=\"data row9 col2\" >0.02</td>\n",
       "      <td id=\"T_623d4_row9_col3\" class=\"data row9 col3\" >0.01</td>\n",
       "      <td id=\"T_623d4_row9_col4\" class=\"data row9 col4\" >0.07</td>\n",
       "    </tr>\n",
       "    <tr>\n",
       "      <th id=\"T_623d4_level0_row10\" class=\"row_heading level0 row10\" >10</th>\n",
       "      <td id=\"T_623d4_row10_col0\" class=\"data row10 col0\" >5</td>\n",
       "      <td id=\"T_623d4_row10_col1\" class=\"data row10 col1\" >0.11</td>\n",
       "      <td id=\"T_623d4_row10_col2\" class=\"data row10 col2\" >0.02</td>\n",
       "      <td id=\"T_623d4_row10_col3\" class=\"data row10 col3\" >0.07</td>\n",
       "      <td id=\"T_623d4_row10_col4\" class=\"data row10 col4\" >0.16</td>\n",
       "    </tr>\n",
       "    <tr>\n",
       "      <th id=\"T_623d4_level0_row11\" class=\"row_heading level0 row11\" >11</th>\n",
       "      <td id=\"T_623d4_row11_col0\" class=\"data row11 col0\" >5</td>\n",
       "      <td id=\"T_623d4_row11_col1\" class=\"data row11 col1\" >0.21</td>\n",
       "      <td id=\"T_623d4_row11_col2\" class=\"data row11 col2\" >0.04</td>\n",
       "      <td id=\"T_623d4_row11_col3\" class=\"data row11 col3\" >0.16</td>\n",
       "      <td id=\"T_623d4_row11_col4\" class=\"data row11 col4\" >0.29</td>\n",
       "    </tr>\n",
       "    <tr>\n",
       "      <th id=\"T_623d4_level0_row12\" class=\"row_heading level0 row12\" >12</th>\n",
       "      <td id=\"T_623d4_row12_col0\" class=\"data row12 col0\" >5</td>\n",
       "      <td id=\"T_623d4_row12_col1\" class=\"data row12 col1\" >0.37</td>\n",
       "      <td id=\"T_623d4_row12_col2\" class=\"data row12 col2\" >0.06</td>\n",
       "      <td id=\"T_623d4_row12_col3\" class=\"data row12 col3\" >0.29</td>\n",
       "      <td id=\"T_623d4_row12_col4\" class=\"data row12 col4\" >0.50</td>\n",
       "    </tr>\n",
       "    <tr>\n",
       "      <th id=\"T_623d4_level0_row13\" class=\"row_heading level0 row13\" >13</th>\n",
       "      <td id=\"T_623d4_row13_col0\" class=\"data row13 col0\" >5</td>\n",
       "      <td id=\"T_623d4_row13_col1\" class=\"data row13 col1\" >0.64</td>\n",
       "      <td id=\"T_623d4_row13_col2\" class=\"data row13 col2\" >0.10</td>\n",
       "      <td id=\"T_623d4_row13_col3\" class=\"data row13 col3\" >0.50</td>\n",
       "      <td id=\"T_623d4_row13_col4\" class=\"data row13 col4\" >0.88</td>\n",
       "    </tr>\n",
       "    <tr>\n",
       "      <th id=\"T_623d4_level0_row14\" class=\"row_heading level0 row14\" >14</th>\n",
       "      <td id=\"T_623d4_row14_col0\" class=\"data row14 col0\" >10</td>\n",
       "      <td id=\"T_623d4_row14_col1\" class=\"data row14 col1\" >0.02</td>\n",
       "      <td id=\"T_623d4_row14_col2\" class=\"data row14 col2\" >0.01</td>\n",
       "      <td id=\"T_623d4_row14_col3\" class=\"data row14 col3\" >0.01</td>\n",
       "      <td id=\"T_623d4_row14_col4\" class=\"data row14 col4\" >0.04</td>\n",
       "    </tr>\n",
       "    <tr>\n",
       "      <th id=\"T_623d4_level0_row15\" class=\"row_heading level0 row15\" >15</th>\n",
       "      <td id=\"T_623d4_row15_col0\" class=\"data row15 col0\" >10</td>\n",
       "      <td id=\"T_623d4_row15_col1\" class=\"data row15 col1\" >0.05</td>\n",
       "      <td id=\"T_623d4_row15_col2\" class=\"data row15 col2\" >0.01</td>\n",
       "      <td id=\"T_623d4_row15_col3\" class=\"data row15 col3\" >0.04</td>\n",
       "      <td id=\"T_623d4_row15_col4\" class=\"data row15 col4\" >0.07</td>\n",
       "    </tr>\n",
       "    <tr>\n",
       "      <th id=\"T_623d4_level0_row16\" class=\"row_heading level0 row16\" >16</th>\n",
       "      <td id=\"T_623d4_row16_col0\" class=\"data row16 col0\" >10</td>\n",
       "      <td id=\"T_623d4_row16_col1\" class=\"data row16 col1\" >0.08</td>\n",
       "      <td id=\"T_623d4_row16_col2\" class=\"data row16 col2\" >0.01</td>\n",
       "      <td id=\"T_623d4_row16_col3\" class=\"data row16 col3\" >0.07</td>\n",
       "      <td id=\"T_623d4_row16_col4\" class=\"data row16 col4\" >0.10</td>\n",
       "    </tr>\n",
       "    <tr>\n",
       "      <th id=\"T_623d4_level0_row17\" class=\"row_heading level0 row17\" >17</th>\n",
       "      <td id=\"T_623d4_row17_col0\" class=\"data row17 col0\" >10</td>\n",
       "      <td id=\"T_623d4_row17_col1\" class=\"data row17 col1\" >0.13</td>\n",
       "      <td id=\"T_623d4_row17_col2\" class=\"data row17 col2\" >0.01</td>\n",
       "      <td id=\"T_623d4_row17_col3\" class=\"data row17 col3\" >0.10</td>\n",
       "      <td id=\"T_623d4_row17_col4\" class=\"data row17 col4\" >0.15</td>\n",
       "    </tr>\n",
       "    <tr>\n",
       "      <th id=\"T_623d4_level0_row18\" class=\"row_heading level0 row18\" >18</th>\n",
       "      <td id=\"T_623d4_row18_col0\" class=\"data row18 col0\" >10</td>\n",
       "      <td id=\"T_623d4_row18_col1\" class=\"data row18 col1\" >0.18</td>\n",
       "      <td id=\"T_623d4_row18_col2\" class=\"data row18 col2\" >0.02</td>\n",
       "      <td id=\"T_623d4_row18_col3\" class=\"data row18 col3\" >0.15</td>\n",
       "      <td id=\"T_623d4_row18_col4\" class=\"data row18 col4\" >0.21</td>\n",
       "    </tr>\n",
       "    <tr>\n",
       "      <th id=\"T_623d4_level0_row19\" class=\"row_heading level0 row19\" >19</th>\n",
       "      <td id=\"T_623d4_row19_col0\" class=\"data row19 col0\" >10</td>\n",
       "      <td id=\"T_623d4_row19_col1\" class=\"data row19 col1\" >0.24</td>\n",
       "      <td id=\"T_623d4_row19_col2\" class=\"data row19 col2\" >0.02</td>\n",
       "      <td id=\"T_623d4_row19_col3\" class=\"data row19 col3\" >0.21</td>\n",
       "      <td id=\"T_623d4_row19_col4\" class=\"data row19 col4\" >0.28</td>\n",
       "    </tr>\n",
       "    <tr>\n",
       "      <th id=\"T_623d4_level0_row20\" class=\"row_heading level0 row20\" >20</th>\n",
       "      <td id=\"T_623d4_row20_col0\" class=\"data row20 col0\" >10</td>\n",
       "      <td id=\"T_623d4_row20_col1\" class=\"data row20 col1\" >0.33</td>\n",
       "      <td id=\"T_623d4_row20_col2\" class=\"data row20 col2\" >0.03</td>\n",
       "      <td id=\"T_623d4_row20_col3\" class=\"data row20 col3\" >0.29</td>\n",
       "      <td id=\"T_623d4_row20_col4\" class=\"data row20 col4\" >0.38</td>\n",
       "    </tr>\n",
       "    <tr>\n",
       "      <th id=\"T_623d4_level0_row21\" class=\"row_heading level0 row21\" >21</th>\n",
       "      <td id=\"T_623d4_row21_col0\" class=\"data row21 col0\" >10</td>\n",
       "      <td id=\"T_623d4_row21_col1\" class=\"data row21 col1\" >0.43</td>\n",
       "      <td id=\"T_623d4_row21_col2\" class=\"data row21 col2\" >0.03</td>\n",
       "      <td id=\"T_623d4_row21_col3\" class=\"data row21 col3\" >0.38</td>\n",
       "      <td id=\"T_623d4_row21_col4\" class=\"data row21 col4\" >0.50</td>\n",
       "    </tr>\n",
       "    <tr>\n",
       "      <th id=\"T_623d4_level0_row22\" class=\"row_heading level0 row22\" >22</th>\n",
       "      <td id=\"T_623d4_row22_col0\" class=\"data row22 col0\" >10</td>\n",
       "      <td id=\"T_623d4_row22_col1\" class=\"data row22 col1\" >0.57</td>\n",
       "      <td id=\"T_623d4_row22_col2\" class=\"data row22 col2\" >0.04</td>\n",
       "      <td id=\"T_623d4_row22_col3\" class=\"data row22 col3\" >0.50</td>\n",
       "      <td id=\"T_623d4_row22_col4\" class=\"data row22 col4\" >0.65</td>\n",
       "    </tr>\n",
       "    <tr>\n",
       "      <th id=\"T_623d4_level0_row23\" class=\"row_heading level0 row23\" >23</th>\n",
       "      <td id=\"T_623d4_row23_col0\" class=\"data row23 col0\" >10</td>\n",
       "      <td id=\"T_623d4_row23_col1\" class=\"data row23 col1\" >0.74</td>\n",
       "      <td id=\"T_623d4_row23_col2\" class=\"data row23 col2\" >0.06</td>\n",
       "      <td id=\"T_623d4_row23_col3\" class=\"data row23 col3\" >0.66</td>\n",
       "      <td id=\"T_623d4_row23_col4\" class=\"data row23 col4\" >0.88</td>\n",
       "    </tr>\n",
       "  </tbody>\n",
       "</table>\n"
      ],
      "text/plain": [
       "<pandas.io.formats.style.Styler at 0x16fd853a0>"
      ]
     },
     "metadata": {},
     "output_type": "display_data"
    }
   ],
   "source": [
    "cluster_nums = [2, 3, 4, 5, 10]\n",
    "\n",
    "cluster_stats_df = pd.DataFrame()\n",
    "\n",
    "for k in cluster_nums:\n",
    "    kmeans = KMeans(n_clusters=k)\n",
    "    kmeans_clusters_cv = kmeans.fit_predict(X_cv)\n",
    "    kmeans_silhouette_score_cv = silhouette_score(X_cv, kmeans_clusters_cv)\n",
    "\n",
    "    result_df = pd.DataFrame({'dlvry_id': test_set[\"dlvry_id\"], '전체배차시간': test_set[\"전체배차시간\"],\n",
    "                              'outcome': test_set[\"outcome\"], 'y_pred': y_pred_prob[:, 1].squeeze(),\n",
    "                              'KMeansCluster': kmeans_clusters_cv})\n",
    "    \n",
    "    cluster_stats = result_df.groupby('KMeansCluster')['y_pred'].agg(['mean', 'std', 'min', 'max'])\n",
    "    cluster_stats['Cluster_Num'] = k\n",
    "    cluster_stats = cluster_stats[['Cluster_Num', 'mean', 'std', 'min', 'max']]\n",
    "    cluster_stats_df = pd.concat([cluster_stats_df, cluster_stats], ignore_index=True)\n",
    "\n",
    "\n",
    "cluster_stats_df = cluster_stats_df.sort_values(by=['Cluster_Num', 'mean'])\n",
    "styled_cluster_stats_df = cluster_stats_df.style.format({'mean': '{:.2f}', 'std': '{:.2f}', 'min': '{:.2f}', 'max': '{:.2f}'})\n",
    "cluster_stats_df.reset_index(drop=True, inplace=True)\n",
    "\n",
    "display(styled_cluster_stats_df)\n"
   ]
  },
  {
   "cell_type": "code",
   "execution_count": 45,
   "metadata": {},
   "outputs": [
    {
     "name": "stdout",
     "output_type": "stream",
     "text": [
      "                dlvry_id    전체배차시간  outcome    y_pred  KMeansCluster\n",
      "25622  20230822_3561PFNZ  8.000000        1  0.080727              9\n",
      "52745  20230825_4404SMBE  0.750000        0  0.043962              5\n",
      "44564  20230823_0365XUHR  3.633333        0  0.087162              9\n",
      "7455   20230901_5143VCEC  0.483333        0  0.059976              5\n",
      "14651  20230903_0867KHNV  1.666667        0  0.036754              2\n"
     ]
    }
   ],
   "source": [
    "result_df = pd.DataFrame({'dlvry_id': test_set[\"dlvry_id\"], '전체배차시간': test_set[\"전체배차시간\"],\n",
    "                          'outcome': test_set[\"outcome\"], 'y_pred': y_pred_prob[:, 1].squeeze(),\n",
    "                          'KMeansCluster': kmeans_clusters_cv}) #, 'AgglomerativeCluster': agglomerative_clusters_cv})\n",
    "\n",
    "print(result_df.head())\n",
    "result_df.to_csv('prj-ML-model-LT_OV30/cluster_add_data.csv', index= False, encoding = \"utf-8\")"
   ]
  },
  {
   "cell_type": "code",
   "execution_count": 46,
   "metadata": {},
   "outputs": [
    {
     "name": "stdout",
     "output_type": "stream",
     "text": [
      "KMeansCluster\n",
      "2    3628\n",
      "5    2694\n",
      "9    1730\n",
      "0    1171\n",
      "4     718\n",
      "7     531\n",
      "1     340\n",
      "6     207\n",
      "8      90\n",
      "3      52\n",
      "Name: count, dtype: int64\n"
     ]
    }
   ],
   "source": [
    "print(result_df['KMeansCluster'].value_counts())\n",
    "#print(result_df['AgglomerativeCluster'].value_counts())"
   ]
  },
  {
   "cell_type": "code",
   "execution_count": 47,
   "metadata": {},
   "outputs": [
    {
     "name": "stdout",
     "output_type": "stream",
     "text": [
      "(11161, 5)\n"
     ]
    }
   ],
   "source": [
    "print(result_df.shape)"
   ]
  },
  {
   "cell_type": "code",
   "execution_count": 48,
   "metadata": {},
   "outputs": [
    {
     "data": {
      "text/html": [
       "<div>\n",
       "<style scoped>\n",
       "    .dataframe tbody tr th:only-of-type {\n",
       "        vertical-align: middle;\n",
       "    }\n",
       "\n",
       "    .dataframe tbody tr th {\n",
       "        vertical-align: top;\n",
       "    }\n",
       "\n",
       "    .dataframe thead th {\n",
       "        text-align: right;\n",
       "    }\n",
       "</style>\n",
       "<table border=\"1\" class=\"dataframe\">\n",
       "  <thead>\n",
       "    <tr style=\"text-align: right;\">\n",
       "      <th></th>\n",
       "      <th>mean</th>\n",
       "      <th>std</th>\n",
       "      <th>min</th>\n",
       "      <th>max</th>\n",
       "    </tr>\n",
       "    <tr>\n",
       "      <th>KMeansCluster</th>\n",
       "      <th></th>\n",
       "      <th></th>\n",
       "      <th></th>\n",
       "      <th></th>\n",
       "    </tr>\n",
       "  </thead>\n",
       "  <tbody>\n",
       "    <tr>\n",
       "      <th>0</th>\n",
       "      <td>3.746826</td>\n",
       "      <td>5.682740</td>\n",
       "      <td>0.150000</td>\n",
       "      <td>57.400000</td>\n",
       "    </tr>\n",
       "    <tr>\n",
       "      <th>1</th>\n",
       "      <td>6.690931</td>\n",
       "      <td>7.802514</td>\n",
       "      <td>0.250000</td>\n",
       "      <td>43.166667</td>\n",
       "    </tr>\n",
       "    <tr>\n",
       "      <th>2</th>\n",
       "      <td>1.363676</td>\n",
       "      <td>2.251703</td>\n",
       "      <td>0.133333</td>\n",
       "      <td>41.550000</td>\n",
       "    </tr>\n",
       "    <tr>\n",
       "      <th>3</th>\n",
       "      <td>15.730449</td>\n",
       "      <td>12.346890</td>\n",
       "      <td>0.233333</td>\n",
       "      <td>50.783333</td>\n",
       "    </tr>\n",
       "    <tr>\n",
       "      <th>4</th>\n",
       "      <td>4.437210</td>\n",
       "      <td>5.843444</td>\n",
       "      <td>0.200000</td>\n",
       "      <td>36.300000</td>\n",
       "    </tr>\n",
       "    <tr>\n",
       "      <th>5</th>\n",
       "      <td>1.777772</td>\n",
       "      <td>2.580959</td>\n",
       "      <td>0.150000</td>\n",
       "      <td>31.350000</td>\n",
       "    </tr>\n",
       "    <tr>\n",
       "      <th>6</th>\n",
       "      <td>9.019324</td>\n",
       "      <td>8.726007</td>\n",
       "      <td>0.283333</td>\n",
       "      <td>42.883333</td>\n",
       "    </tr>\n",
       "    <tr>\n",
       "      <th>7</th>\n",
       "      <td>5.614815</td>\n",
       "      <td>7.379587</td>\n",
       "      <td>0.116667</td>\n",
       "      <td>44.416667</td>\n",
       "    </tr>\n",
       "    <tr>\n",
       "      <th>8</th>\n",
       "      <td>10.990741</td>\n",
       "      <td>9.495781</td>\n",
       "      <td>0.250000</td>\n",
       "      <td>41.783333</td>\n",
       "    </tr>\n",
       "    <tr>\n",
       "      <th>9</th>\n",
       "      <td>2.544499</td>\n",
       "      <td>4.227177</td>\n",
       "      <td>0.116667</td>\n",
       "      <td>43.283333</td>\n",
       "    </tr>\n",
       "  </tbody>\n",
       "</table>\n",
       "</div>"
      ],
      "text/plain": [
       "                    mean        std       min        max\n",
       "KMeansCluster                                           \n",
       "0               3.746826   5.682740  0.150000  57.400000\n",
       "1               6.690931   7.802514  0.250000  43.166667\n",
       "2               1.363676   2.251703  0.133333  41.550000\n",
       "3              15.730449  12.346890  0.233333  50.783333\n",
       "4               4.437210   5.843444  0.200000  36.300000\n",
       "5               1.777772   2.580959  0.150000  31.350000\n",
       "6               9.019324   8.726007  0.283333  42.883333\n",
       "7               5.614815   7.379587  0.116667  44.416667\n",
       "8              10.990741   9.495781  0.250000  41.783333\n",
       "9               2.544499   4.227177  0.116667  43.283333"
      ]
     },
     "execution_count": 48,
     "metadata": {},
     "output_type": "execute_result"
    }
   ],
   "source": [
    "result_df.groupby('KMeansCluster')['전체배차시간'].agg(['mean', 'std', 'min', 'max'])"
   ]
  },
  {
   "cell_type": "code",
   "execution_count": 49,
   "metadata": {},
   "outputs": [],
   "source": [
    "#result_df.groupby('AgglomerativeCluster')['전체배차시간'].agg(['mean', 'std', 'min', 'max'])"
   ]
  },
  {
   "cell_type": "code",
   "execution_count": 50,
   "metadata": {},
   "outputs": [
    {
     "data": {
      "text/html": [
       "<div>\n",
       "<style scoped>\n",
       "    .dataframe tbody tr th:only-of-type {\n",
       "        vertical-align: middle;\n",
       "    }\n",
       "\n",
       "    .dataframe tbody tr th {\n",
       "        vertical-align: top;\n",
       "    }\n",
       "\n",
       "    .dataframe thead th {\n",
       "        text-align: right;\n",
       "    }\n",
       "</style>\n",
       "<table border=\"1\" class=\"dataframe\">\n",
       "  <thead>\n",
       "    <tr style=\"text-align: right;\">\n",
       "      <th></th>\n",
       "      <th>mean</th>\n",
       "      <th>std</th>\n",
       "      <th>min</th>\n",
       "      <th>max</th>\n",
       "    </tr>\n",
       "    <tr>\n",
       "      <th>KMeansCluster</th>\n",
       "      <th></th>\n",
       "      <th></th>\n",
       "      <th></th>\n",
       "      <th></th>\n",
       "    </tr>\n",
       "  </thead>\n",
       "  <tbody>\n",
       "    <tr>\n",
       "      <th>0</th>\n",
       "      <td>0.125595</td>\n",
       "      <td>0.013832</td>\n",
       "      <td>0.104185</td>\n",
       "      <td>0.151705</td>\n",
       "    </tr>\n",
       "    <tr>\n",
       "      <th>1</th>\n",
       "      <td>0.325645</td>\n",
       "      <td>0.025831</td>\n",
       "      <td>0.285080</td>\n",
       "      <td>0.376940</td>\n",
       "    </tr>\n",
       "    <tr>\n",
       "      <th>2</th>\n",
       "      <td>0.024727</td>\n",
       "      <td>0.007581</td>\n",
       "      <td>0.005007</td>\n",
       "      <td>0.037657</td>\n",
       "    </tr>\n",
       "    <tr>\n",
       "      <th>3</th>\n",
       "      <td>0.743311</td>\n",
       "      <td>0.058363</td>\n",
       "      <td>0.660296</td>\n",
       "      <td>0.884736</td>\n",
       "    </tr>\n",
       "    <tr>\n",
       "      <th>4</th>\n",
       "      <td>0.177950</td>\n",
       "      <td>0.016490</td>\n",
       "      <td>0.151775</td>\n",
       "      <td>0.210943</td>\n",
       "    </tr>\n",
       "    <tr>\n",
       "      <th>5</th>\n",
       "      <td>0.050856</td>\n",
       "      <td>0.008330</td>\n",
       "      <td>0.037663</td>\n",
       "      <td>0.066761</td>\n",
       "    </tr>\n",
       "    <tr>\n",
       "      <th>6</th>\n",
       "      <td>0.428872</td>\n",
       "      <td>0.033465</td>\n",
       "      <td>0.378228</td>\n",
       "      <td>0.498000</td>\n",
       "    </tr>\n",
       "    <tr>\n",
       "      <th>7</th>\n",
       "      <td>0.243417</td>\n",
       "      <td>0.021368</td>\n",
       "      <td>0.210984</td>\n",
       "      <td>0.284544</td>\n",
       "    </tr>\n",
       "    <tr>\n",
       "      <th>8</th>\n",
       "      <td>0.571885</td>\n",
       "      <td>0.042563</td>\n",
       "      <td>0.501478</td>\n",
       "      <td>0.650096</td>\n",
       "    </tr>\n",
       "    <tr>\n",
       "      <th>9</th>\n",
       "      <td>0.083193</td>\n",
       "      <td>0.010842</td>\n",
       "      <td>0.066804</td>\n",
       "      <td>0.104156</td>\n",
       "    </tr>\n",
       "  </tbody>\n",
       "</table>\n",
       "</div>"
      ],
      "text/plain": [
       "                   mean       std       min       max\n",
       "KMeansCluster                                        \n",
       "0              0.125595  0.013832  0.104185  0.151705\n",
       "1              0.325645  0.025831  0.285080  0.376940\n",
       "2              0.024727  0.007581  0.005007  0.037657\n",
       "3              0.743311  0.058363  0.660296  0.884736\n",
       "4              0.177950  0.016490  0.151775  0.210943\n",
       "5              0.050856  0.008330  0.037663  0.066761\n",
       "6              0.428872  0.033465  0.378228  0.498000\n",
       "7              0.243417  0.021368  0.210984  0.284544\n",
       "8              0.571885  0.042563  0.501478  0.650096\n",
       "9              0.083193  0.010842  0.066804  0.104156"
      ]
     },
     "execution_count": 50,
     "metadata": {},
     "output_type": "execute_result"
    }
   ],
   "source": [
    "result_df.groupby('KMeansCluster')['y_pred'].agg(['mean', 'std', 'min', 'max'])"
   ]
  },
  {
   "cell_type": "code",
   "execution_count": 51,
   "metadata": {},
   "outputs": [],
   "source": [
    "#result_df.groupby('AgglomerativeCluster')['y_pred'].agg(['mean', 'std', 'min', 'max'])"
   ]
  },
  {
   "attachments": {},
   "cell_type": "markdown",
   "metadata": {},
   "source": [
    "## 7. 최근 3일 서초구 배차건 대입"
   ]
  },
  {
   "cell_type": "code",
   "execution_count": 52,
   "metadata": {},
   "outputs": [
    {
     "name": "stdout",
     "output_type": "stream",
     "text": [
      "(18209, 39)\n"
     ]
    }
   ],
   "source": [
    "new_data = pd.read_csv(\"prj-ML-model-LT_OV30/new_data_final.csv\", encoding=\"utf-8\")\n",
    "\n",
    "\n",
    "new_data.drop_duplicates(subset=['dlvry_id'], keep='first', inplace=True)\n",
    "new_data = new_data.sort_values(by=[\"dlvry_id\"])\n",
    "print(new_data.shape) #18209"
   ]
  },
  {
   "cell_type": "code",
   "execution_count": 53,
   "metadata": {},
   "outputs": [
    {
     "name": "stdout",
     "output_type": "stream",
     "text": [
      "dlvry_id                    0\n",
      "business_day                0\n",
      "reg_hour                    0\n",
      "service_type                0\n",
      "shop_no                     0\n",
      "ord_price                   0\n",
      "notiOver                    0\n",
      "actual_dlvry_distance       0\n",
      "shop_loc_pnt_lat            0\n",
      "shop_loc_pnt_lon            0\n",
      "dlvry_loc_pnt_lat           0\n",
      "dlvry_loc_pnt_lon           0\n",
      "추천노출시간_AI                   0\n",
      "추천노출시간_일반                   0\n",
      "추천미발생시간유                    0\n",
      "추천미발생시간무                    0\n",
      "배차후취소시간                     0\n",
      "전체배차시간                      0\n",
      "notiOver_min_max            0\n",
      "per_display                 0\n",
      "per_no_recomm               0\n",
      "pick_floor                  0\n",
      "pick_rgn2_nm                0\n",
      "pick_rgn3_nm                0\n",
      "pick_category               0\n",
      "pick_건물용도                   0\n",
      "pick_address                0\n",
      "Latitude                    0\n",
      "Longitude                   0\n",
      "dlvry_address               0\n",
      "dlvry_지상층수               2310\n",
      "dlvry_지하층수               2310\n",
      "dlvry_건물용도                  0\n",
      "day_of_week                 0\n",
      "is_holiday                  0\n",
      "일시                          0\n",
      "기온                          0\n",
      "강수량                         0\n",
      "시간                          0\n",
      "dtype: int64\n",
      "(18209, 39)\n"
     ]
    }
   ],
   "source": [
    "print(new_data.isna().sum())\n",
    "print(new_data.shape) #18209"
   ]
  },
  {
   "cell_type": "code",
   "execution_count": 54,
   "metadata": {},
   "outputs": [
    {
     "name": "stdout",
     "output_type": "stream",
     "text": [
      "18209\n"
     ]
    }
   ],
   "source": [
    "n_distinct_count = new_data['dlvry_id'].nunique()\n",
    "print(n_distinct_count)"
   ]
  },
  {
   "cell_type": "code",
   "execution_count": 55,
   "metadata": {},
   "outputs": [
    {
     "name": "stdout",
     "output_type": "stream",
     "text": [
      "Index(['dlvry_id', 'business_day', 'reg_hour', 'service_type', 'shop_no',\n",
      "       'ord_price', 'notiOver', 'actual_dlvry_distance', 'shop_loc_pnt_lat',\n",
      "       'shop_loc_pnt_lon', 'dlvry_loc_pnt_lat', 'dlvry_loc_pnt_lon',\n",
      "       '추천노출시간_AI', '추천노출시간_일반', '추천미발생시간유', '추천미발생시간무', '배차후취소시간', '전체배차시간',\n",
      "       'notiOver_min_max', 'per_display', 'per_no_recomm', 'pick_floor',\n",
      "       'pick_rgn2_nm', 'pick_rgn3_nm', 'pick_category', 'pick_건물용도',\n",
      "       'pick_address', 'Latitude', 'Longitude', 'dlvry_address', 'dlvry_지상층수',\n",
      "       'dlvry_지하층수', 'dlvry_건물용도', 'day_of_week', 'is_holiday', '일시', '기온',\n",
      "       '강수량', '시간', 'dlvry_rgn1_nm', 'dlvry_rgn2_nm', 'dlvry_rgn3_nm', 'etc'],\n",
      "      dtype='object')\n"
     ]
    }
   ],
   "source": [
    "new_data[['dlvry_rgn1_nm', 'dlvry_rgn2_nm', 'dlvry_rgn3_nm', 'etc']] = new_data['dlvry_address'].str.split(' ', n=3, expand=True)\n",
    "\n",
    "# dlvry_지하층수 음수로\n",
    "new_data['dlvry_지하층수']  = new_data['dlvry_지하층수'].apply(lambda x: -x)\n",
    "print(new_data.columns)"
   ]
  },
  {
   "attachments": {},
   "cell_type": "markdown",
   "metadata": {},
   "source": [
    "## 7-1. pick_건물용도/dlvry_건물용도 : 개수 축소 "
   ]
  },
  {
   "cell_type": "code",
   "execution_count": 56,
   "metadata": {},
   "outputs": [
    {
     "name": "stdout",
     "output_type": "stream",
     "text": [
      "pick_건물용도\n",
      "업무시설          5780\n",
      "근린생활시설        3277\n",
      "일반음식점         2149\n",
      "아파트           2138\n",
      "일반상점          1676\n",
      "공동주택          1241\n",
      "교육시설           668\n",
      "의료시설           497\n",
      "백화점            183\n",
      "자동차관련시설        160\n",
      "오피스텔           107\n",
      "숙박시설            74\n",
      "기타시설            70\n",
      "위락시설            56\n",
      "대형판매점           49\n",
      "문화시설            47\n",
      "체육시설            19\n",
      "종교시설            12\n",
      "위험물저장및처리시설       5\n",
      "운수시설             1\n",
      "Name: count, dtype: int64\n"
     ]
    }
   ],
   "source": [
    "print(new_data['pick_건물용도'].value_counts())"
   ]
  },
  {
   "cell_type": "code",
   "execution_count": 57,
   "metadata": {},
   "outputs": [
    {
     "name": "stdout",
     "output_type": "stream",
     "text": [
      "pick_건물용도\n",
      "업무시설      5780\n",
      "근린생활시설    3277\n",
      "일반음식점     2149\n",
      "아파트       2138\n",
      "일반상점      1676\n",
      "공동주택      1241\n",
      "교육시설       668\n",
      "의료시설       497\n",
      "기타시설       370\n",
      "백화점        183\n",
      "오피스텔       107\n",
      "숙박시설        74\n",
      "대형판매점       49\n",
      "Name: count, dtype: int64\n"
     ]
    }
   ],
   "source": [
    "# 데이터 정리\n",
    "values_to_replace = ['위락시설', '문화시설', '종교시설', '체육시설','위험물저장및처리시설', '자동차관련시설','운수시설']\n",
    "new_data['pick_건물용도'] = new_data['pick_건물용도'].replace(values_to_replace, '기타시설')\n",
    "print(new_data['pick_건물용도'].value_counts())"
   ]
  },
  {
   "cell_type": "code",
   "execution_count": 58,
   "metadata": {},
   "outputs": [
    {
     "name": "stdout",
     "output_type": "stream",
     "text": [
      "dlvry_건물용도\n",
      "공동주택          7473\n",
      "아파트           6003\n",
      "업무시설          2323\n",
      "근린생활시설         574\n",
      "일반상점           504\n",
      "교육시설           375\n",
      "의료시설           232\n",
      "일반음식점          217\n",
      "숙박시설           211\n",
      "공공시설            60\n",
      "교육연구시설          53\n",
      "종교시설            52\n",
      "오피스텔            35\n",
      "자동차관련시설         20\n",
      "기타시설            14\n",
      "방송통신시설          13\n",
      "백화점             10\n",
      "체육시설             9\n",
      "위락시설             7\n",
      "복지시설             6\n",
      "위험물저장및처리시설       6\n",
      "수련시설             3\n",
      "운수시설             2\n",
      "묘지시설             2\n",
      "동식물시설            2\n",
      "단독주택             1\n",
      "복합몰              1\n",
      "문화시설             1\n",
      "Name: count, dtype: int64\n"
     ]
    }
   ],
   "source": [
    "print(new_data['dlvry_건물용도'].value_counts())"
   ]
  },
  {
   "cell_type": "code",
   "execution_count": 59,
   "metadata": {},
   "outputs": [
    {
     "name": "stdout",
     "output_type": "stream",
     "text": [
      "dlvry_건물용도\n",
      "공동주택      7473\n",
      "아파트       6003\n",
      "업무시설      2323\n",
      "근린생활시설     574\n",
      "일반상점       504\n",
      "교육시설       375\n",
      "기타시설       297\n",
      "의료시설       232\n",
      "일반음식점      217\n",
      "숙박시설       211\n",
      "Name: count, dtype: int64\n"
     ]
    }
   ],
   "source": [
    "new_counts = new_data['dlvry_건물용도'].value_counts()\n",
    "\n",
    "threshold = 100\n",
    "new_data['dlvry_건물용도'] = new_data['dlvry_건물용도'].apply(lambda x: '기타시설' if new_counts[x] <= threshold else x)\n",
    "\n",
    "new_data['dlvry_건물용도'] = new_data['dlvry_건물용도'].replace('교육연구시설', '교육시설')\n",
    "new_data['dlvry_건물용도'] = new_data['dlvry_건물용도'].replace('공공용시설', '공공시설')\n",
    "\n",
    "print(new_data['dlvry_건물용도'].value_counts())"
   ]
  },
  {
   "attachments": {},
   "cell_type": "markdown",
   "metadata": {},
   "source": [
    "## 7-3. dlvry_지상층수/지하층수 : dlvry_건물용도별 median 값 가져오기"
   ]
  },
  {
   "cell_type": "code",
   "execution_count": 60,
   "metadata": {},
   "outputs": [
    {
     "name": "stdout",
     "output_type": "stream",
     "text": [
      "dlvry_id                 0\n",
      "business_day             0\n",
      "reg_hour                 0\n",
      "service_type             0\n",
      "shop_no                  0\n",
      "ord_price                0\n",
      "notiOver                 0\n",
      "actual_dlvry_distance    0\n",
      "shop_loc_pnt_lat         0\n",
      "shop_loc_pnt_lon         0\n",
      "dlvry_loc_pnt_lat        0\n",
      "dlvry_loc_pnt_lon        0\n",
      "추천노출시간_AI                0\n",
      "추천노출시간_일반                0\n",
      "추천미발생시간유                 0\n",
      "추천미발생시간무                 0\n",
      "배차후취소시간                  0\n",
      "전체배차시간                   0\n",
      "notiOver_min_max         0\n",
      "per_display              0\n",
      "per_no_recomm            0\n",
      "pick_floor               0\n",
      "pick_rgn2_nm             0\n",
      "pick_rgn3_nm             0\n",
      "pick_category            0\n",
      "pick_건물용도                0\n",
      "pick_address             0\n",
      "Latitude                 0\n",
      "Longitude                0\n",
      "dlvry_address            0\n",
      "dlvry_지상층수               0\n",
      "dlvry_지하층수               0\n",
      "dlvry_건물용도               0\n",
      "day_of_week              0\n",
      "is_holiday               0\n",
      "일시                       0\n",
      "기온                       0\n",
      "강수량                      0\n",
      "시간                       0\n",
      "dlvry_rgn1_nm            0\n",
      "dlvry_rgn2_nm            0\n",
      "dlvry_rgn3_nm            0\n",
      "etc                      0\n",
      "dtype: int64\n"
     ]
    }
   ],
   "source": [
    "median_values =new_data.dropna().groupby('dlvry_건물용도')[['dlvry_지상층수', 'dlvry_지하층수']].median()\n",
    "mean_values = new_data.dropna().groupby('dlvry_건물용도')[['dlvry_지상층수', 'dlvry_지하층수']].mean()\n",
    "\n",
    "#print(median_values)\n",
    "#print(mean_values)\n",
    "\n",
    "# na 값을 중앙값으로 채우기\n",
    "new_data['dlvry_지상층수'].fillna(new_data['dlvry_건물용도'].map(median_values['dlvry_지상층수']), inplace=True)\n",
    "new_data['dlvry_지하층수'].fillna(new_data['dlvry_건물용도'].map(median_values['dlvry_지하층수']), inplace=True)\n",
    "\n",
    "#print(new_data.describe())\n",
    "print(new_data.isna().sum())"
   ]
  },
  {
   "cell_type": "code",
   "execution_count": 61,
   "metadata": {},
   "outputs": [
    {
     "name": "stdout",
     "output_type": "stream",
     "text": [
      "dlvry_지상층수\n",
      "저층      9327\n",
      "중상층     3426\n",
      "고층      2421\n",
      "중층      2410\n",
      "준초고층     573\n",
      "초고층       52\n",
      "Name: count, dtype: int64\n",
      "pick_floor\n",
      "저층    15329\n",
      "지하     2840\n",
      "중층       40\n",
      "Name: count, dtype: int64\n"
     ]
    }
   ],
   "source": [
    "new_data['pick_floor'] = new_data['pick_floor'].apply(categorize_floor)\n",
    "new_data['dlvry_지상층수'] = new_data['dlvry_지상층수'].apply(categorize_floor)\n",
    "\n",
    "print(new_data['dlvry_지상층수'].value_counts())\n",
    "print(new_data['pick_floor'].value_counts())"
   ]
  },
  {
   "attachments": {},
   "cell_type": "markdown",
   "metadata": {},
   "source": [
    "## 7-4. new_data 전처리"
   ]
  },
  {
   "cell_type": "code",
   "execution_count": 62,
   "metadata": {},
   "outputs": [
    {
     "name": "stdout",
     "output_type": "stream",
     "text": [
      "(18209, 43)\n",
      "<class 'pandas.core.frame.DataFrame'>\n",
      "Index: 18209 entries, 11707 to 15878\n",
      "Data columns (total 43 columns):\n",
      " #   Column                 Non-Null Count  Dtype  \n",
      "---  ------                 --------------  -----  \n",
      " 0   dlvry_id               18209 non-null  object \n",
      " 1   business_day           18209 non-null  object \n",
      " 2   reg_hour               18209 non-null  int64  \n",
      " 3   service_type           18209 non-null  object \n",
      " 4   shop_no                18209 non-null  int64  \n",
      " 5   ord_price              18209 non-null  int64  \n",
      " 6   notiOver               18209 non-null  int64  \n",
      " 7   actual_dlvry_distance  18209 non-null  int64  \n",
      " 8   shop_loc_pnt_lat       18209 non-null  float64\n",
      " 9   shop_loc_pnt_lon       18209 non-null  float64\n",
      " 10  dlvry_loc_pnt_lat      18209 non-null  float64\n",
      " 11  dlvry_loc_pnt_lon      18209 non-null  float64\n",
      " 12  추천노출시간_AI              18209 non-null  float64\n",
      " 13  추천노출시간_일반              18209 non-null  float64\n",
      " 14  추천미발생시간유               18209 non-null  float64\n",
      " 15  추천미발생시간무               18209 non-null  float64\n",
      " 16  배차후취소시간                18209 non-null  float64\n",
      " 17  전체배차시간                 18209 non-null  float64\n",
      " 18  notiOver_min_max       18209 non-null  float64\n",
      " 19  per_display            18209 non-null  float64\n",
      " 20  per_no_recomm          18209 non-null  float64\n",
      " 21  pick_floor             18209 non-null  object \n",
      " 22  pick_rgn2_nm           18209 non-null  object \n",
      " 23  pick_rgn3_nm           18209 non-null  object \n",
      " 24  pick_category          18209 non-null  object \n",
      " 25  pick_건물용도              18209 non-null  object \n",
      " 26  pick_address           18209 non-null  object \n",
      " 27  Latitude               18209 non-null  float64\n",
      " 28  Longitude              18209 non-null  float64\n",
      " 29  dlvry_address          18209 non-null  object \n",
      " 30  dlvry_지상층수             18209 non-null  object \n",
      " 31  dlvry_지하층수             18209 non-null  float64\n",
      " 32  dlvry_건물용도             18209 non-null  object \n",
      " 33  day_of_week            18209 non-null  object \n",
      " 34  is_holiday             18209 non-null  bool   \n",
      " 35  일시                     18209 non-null  object \n",
      " 36  기온                     18209 non-null  float64\n",
      " 37  강수량                    18209 non-null  float64\n",
      " 38  시간                     18209 non-null  int64  \n",
      " 39  dlvry_rgn1_nm          18209 non-null  object \n",
      " 40  dlvry_rgn2_nm          18209 non-null  object \n",
      " 41  dlvry_rgn3_nm          18209 non-null  object \n",
      " 42  etc                    18209 non-null  object \n",
      "dtypes: bool(1), float64(18), int64(6), object(18)\n",
      "memory usage: 6.0+ MB\n",
      "None\n"
     ]
    }
   ],
   "source": [
    "print(new_data.shape) #18,213\n",
    "print(new_data.info()) "
   ]
  },
  {
   "cell_type": "code",
   "execution_count": 63,
   "metadata": {},
   "outputs": [
    {
     "data": {
      "text/plain": [
       "dlvry_id                 0\n",
       "reg_hour                 0\n",
       "ord_price                0\n",
       "actual_dlvry_distance    0\n",
       "pick_floor               0\n",
       "pick_category            0\n",
       "pick_건물용도                0\n",
       "dlvry_지상층수               0\n",
       "dlvry_건물용도               0\n",
       "day_of_week              0\n",
       "is_holiday               0\n",
       "기온                       0\n",
       "dtype: int64"
      ]
     },
     "execution_count": 63,
     "metadata": {},
     "output_type": "execute_result"
    }
   ],
   "source": [
    "new_model_df = new_data[['dlvry_id','reg_hour', 'ord_price','actual_dlvry_distance', 'pick_floor', \n",
    "                         'pick_category', 'pick_건물용도','dlvry_지상층수', \n",
    "                         'dlvry_건물용도','day_of_week', 'is_holiday', '기온'\n",
    "                        ]]\n",
    "new_model_df.isna().sum()\n"
   ]
  },
  {
   "cell_type": "code",
   "execution_count": 64,
   "metadata": {},
   "outputs": [
    {
     "name": "stdout",
     "output_type": "stream",
     "text": [
      "(18209, 12)\n"
     ]
    }
   ],
   "source": [
    "print(new_model_df.shape)"
   ]
  },
  {
   "attachments": {},
   "cell_type": "markdown",
   "metadata": {},
   "source": [
    "## 7-5. factor 변수 encoding"
   ]
  },
  {
   "cell_type": "code",
   "execution_count": 65,
   "metadata": {},
   "outputs": [],
   "source": [
    "# for col in ['reg_hour','pick_floor',  'pick_category', 'pick_건물용도','dlvry_지상층수','dlvry_건물용도',\n",
    "#             'day_of_week', 'is_holiday','dlvry_rgn2_nm'] : \n",
    "#     new_model_df[col] = new_model_df[col].astype('category')\n",
    "\n",
    "# print(new_model_df.dtypes)"
   ]
  },
  {
   "cell_type": "code",
   "execution_count": 66,
   "metadata": {},
   "outputs": [
    {
     "name": "stdout",
     "output_type": "stream",
     "text": [
      "                dlvry_id  ord_price  actual_dlvry_distance day_of_week    기온  \\\n",
      "11707  20230915_0000JACM      27000                    144         Fri  21.8   \n",
      "11693  20230915_0003QVZS      28000                   3994         Fri  23.4   \n",
      "\n",
      "       pick_floor_중층  pick_floor_지하  reg_hour_10  reg_hour_11  reg_hour_12  \\\n",
      "11707              0              0            0            0            1   \n",
      "11693              0              0            0            0            0   \n",
      "\n",
      "       ...  dlvry_지상층수_초고층  dlvry_건물용도_교육시설  dlvry_건물용도_근린생활시설  \\\n",
      "11707  ...               0                0                  0   \n",
      "11693  ...               0                0                  0   \n",
      "\n",
      "       dlvry_건물용도_기타시설  dlvry_건물용도_숙박시설  dlvry_건물용도_아파트  dlvry_건물용도_업무시설  \\\n",
      "11707                0                0               0                1   \n",
      "11693                0                0               0                0   \n",
      "\n",
      "       dlvry_건물용도_의료시설  dlvry_건물용도_일반상점  dlvry_건물용도_일반음식점  \n",
      "11707                0                0                 0  \n",
      "11693                0                0                 0  \n",
      "\n",
      "[2 rows x 59 columns]\n"
     ]
    }
   ],
   "source": [
    "var = ['is_holiday', 'pick_floor', 'reg_hour', 'pick_category', 'pick_건물용도', 'dlvry_지상층수', 'dlvry_건물용도']\n",
    "\n",
    "new_model_df = pd.get_dummies(new_model_df, columns=var, prefix=var, drop_first=True)\n",
    "\n",
    "for column in new_model_df .columns:\n",
    "    for var_column in var:\n",
    "        if var_column in column:\n",
    "            new_model_df [column] = new_model_df [column].astype(int)\n",
    "\n",
    "new_model_df  = new_model_df.sort_values(by=[\"dlvry_id\"])\n",
    "\n",
    "print(new_model_df .head(2))\n",
    "\n",
    "# encoder = OneHotEncoder()\n",
    "# onehot = pd.DataFrame(encoder.fit_transform(new_model_df[var]).toarray(), columns=encoder.get_feature_names_out(var), index = new_model_df.index)\n",
    "# new_model_df = pd.concat([onehot, new_model_df.drop(columns=var)], axis=1)\n",
    "\n",
    "# print(new_model_df.columns)"
   ]
  },
  {
   "cell_type": "code",
   "execution_count": 67,
   "metadata": {},
   "outputs": [
    {
     "name": "stdout",
     "output_type": "stream",
     "text": [
      "                dlvry_id  ord_price  actual_dlvry_distance day_of_week  \\\n",
      "11707  20230915_0000JACM   0.046025               0.017877         Fri   \n",
      "11693  20230915_0003QVZS   0.048117               0.499187         Fri   \n",
      "\n",
      "             기온  pick_floor_중층  pick_floor_지하  reg_hour_10  reg_hour_11  \\\n",
      "11707  0.078740              0              0            0            0   \n",
      "11693  0.204724              0              0            0            0   \n",
      "\n",
      "       reg_hour_12  ...  dlvry_지상층수_초고층  dlvry_건물용도_교육시설  dlvry_건물용도_근린생활시설  \\\n",
      "11707            1  ...               0                0                  0   \n",
      "11693            0  ...               0                0                  0   \n",
      "\n",
      "       dlvry_건물용도_기타시설  dlvry_건물용도_숙박시설  dlvry_건물용도_아파트  dlvry_건물용도_업무시설  \\\n",
      "11707                0                0               0                1   \n",
      "11693                0                0               0                0   \n",
      "\n",
      "       dlvry_건물용도_의료시설  dlvry_건물용도_일반상점  dlvry_건물용도_일반음식점  \n",
      "11707                0                0                 0  \n",
      "11693                0                0                 0  \n",
      "\n",
      "[2 rows x 59 columns]\n"
     ]
    }
   ],
   "source": [
    "# numeric scale\n",
    "new_model_df[num_vars] = scaler.transform(new_model_df[num_vars])\n",
    "print(new_model_df.head(2))"
   ]
  },
  {
   "cell_type": "code",
   "execution_count": 68,
   "metadata": {},
   "outputs": [
    {
     "name": "stdout",
     "output_type": "stream",
     "text": [
      "['is_holiday_True', 'dlvry_건물용도_공동주택', 'dlvry_건물용도_오피스텔', 'dlvry_건물용도_종교시설']\n",
      "       ord_price  actual_dlvry_distance        기온  is_holiday_True  \\\n",
      "11707   0.046025               0.017877  0.078740                0   \n",
      "11693   0.048117               0.499187  0.204724                0   \n",
      "10079   0.030335               0.236405  0.251969                0   \n",
      "8645    0.052301               0.235404  0.031496                0   \n",
      "8306    0.130753               0.163145  0.251969                0   \n",
      "\n",
      "       pick_floor_중층  pick_floor_지하  reg_hour_10  reg_hour_11  reg_hour_12  \\\n",
      "11707              0              0            0            0            1   \n",
      "11693              0              0            0            0            0   \n",
      "10079              0              0            0            0            0   \n",
      "8645               0              0            0            1            0   \n",
      "8306               0              0            0            0            0   \n",
      "\n",
      "       reg_hour_13  ...  dlvry_건물용도_근린생활시설  dlvry_건물용도_기타시설  dlvry_건물용도_숙박시설  \\\n",
      "11707            0  ...                  0                0                0   \n",
      "11693            0  ...                  0                0                0   \n",
      "10079            0  ...                  0                0                0   \n",
      "8645             0  ...                  0                0                0   \n",
      "8306             0  ...                  0                0                0   \n",
      "\n",
      "       dlvry_건물용도_아파트  dlvry_건물용도_업무시설  dlvry_건물용도_오피스텔  dlvry_건물용도_의료시설  \\\n",
      "11707               0                1                0                0   \n",
      "11693               0                0                0                0   \n",
      "10079               0                0                0                0   \n",
      "8645                0                0                0                0   \n",
      "8306                0                0                0                0   \n",
      "\n",
      "       dlvry_건물용도_일반상점  dlvry_건물용도_일반음식점  dlvry_건물용도_종교시설  \n",
      "11707                0                 0                0  \n",
      "11693                0                 0                0  \n",
      "10079                0                 0                0  \n",
      "8645                 0                 0                0  \n",
      "8306                 0                 0                0  \n",
      "\n",
      "[5 rows x 61 columns]\n"
     ]
    }
   ],
   "source": [
    "# 존재하지 않는 category 변수 추가 \n",
    "new_variables = [col for col in X_train.columns if col not in new_model_df.columns]\n",
    "encode_data = pd.DataFrame(0, columns=new_variables, index= new_model_df.index)\n",
    "print(new_variables)\n",
    "\n",
    "new_model_df = pd.concat([new_model_df, encode_data], axis=1)\n",
    "new_model_df = new_model_df.reindex(columns=X_test.columns)\n",
    "print(new_model_df.head())"
   ]
  },
  {
   "attachments": {},
   "cell_type": "markdown",
   "metadata": {},
   "source": [
    "## 7-6. modeling 적용"
   ]
  },
  {
   "cell_type": "code",
   "execution_count": 69,
   "metadata": {},
   "outputs": [
    {
     "name": "stdout",
     "output_type": "stream",
     "text": [
      "(18209, 2)\n"
     ]
    }
   ],
   "source": [
    "y_pred_new = model_cv.predict_proba(new_model_df)\n",
    "print(y_pred_new.shape) #18,213 "
   ]
  },
  {
   "cell_type": "code",
   "execution_count": 70,
   "metadata": {},
   "outputs": [
    {
     "name": "stdout",
     "output_type": "stream",
     "text": [
      "mean    0.132399\n",
      "std     0.134379\n",
      "min     0.007802\n",
      "max     0.970692\n",
      "dtype: float64\n",
      "mean    0.095364\n",
      "std     0.106540\n",
      "min     0.005007\n",
      "max     0.884736\n",
      "dtype: float64\n"
     ]
    }
   ],
   "source": [
    "print(pd.Series(y_pred_new[:, 1]).agg(['mean', 'std', 'min', 'max']))\n",
    "print(y_pred_prob_class1.agg(['mean', 'std', 'min', 'max']))"
   ]
  },
  {
   "cell_type": "code",
   "execution_count": 71,
   "metadata": {},
   "outputs": [
    {
     "name": "stdout",
     "output_type": "stream",
     "text": [
      "(18209, 43)\n",
      "Index(['dlvry_id', 'business_day', 'reg_hour', 'service_type', 'shop_no',\n",
      "       'ord_price', 'notiOver', 'actual_dlvry_distance', 'shop_loc_pnt_lat',\n",
      "       'shop_loc_pnt_lon', 'dlvry_loc_pnt_lat', 'dlvry_loc_pnt_lon',\n",
      "       '추천노출시간_AI', '추천노출시간_일반', '추천미발생시간유', '추천미발생시간무', '배차후취소시간', '전체배차시간',\n",
      "       'notiOver_min_max', 'per_display', 'per_no_recomm', 'pick_floor',\n",
      "       'pick_rgn2_nm', 'pick_rgn3_nm', 'pick_category', 'pick_건물용도',\n",
      "       'pick_address', 'Latitude', 'Longitude', 'dlvry_address', 'dlvry_지상층수',\n",
      "       'dlvry_지하층수', 'dlvry_건물용도', 'day_of_week', 'is_holiday', '일시', '기온',\n",
      "       '강수량', '시간', 'dlvry_rgn1_nm', 'dlvry_rgn2_nm', 'dlvry_rgn3_nm', 'etc'],\n",
      "      dtype='object')\n"
     ]
    }
   ],
   "source": [
    "print(new_data.shape) # 18,213\n",
    "print(new_data.columns)"
   ]
  },
  {
   "cell_type": "code",
   "execution_count": 72,
   "metadata": {},
   "outputs": [
    {
     "name": "stdout",
     "output_type": "stream",
     "text": [
      "(18209, 3)\n"
     ]
    }
   ],
   "source": [
    "#new_value = y_pred_new.to_numpy().reshape(-1,1)\n",
    "new_value = y_pred_new[:, 1].reshape(-1,1)\n",
    "kmeans_new = kmeans.predict(new_value)\n",
    "#agglomerative_new = agglomerative.fit_predict(new_value)\n",
    "\n",
    "result_data = pd.DataFrame({'dlvry_id': new_data[\"dlvry_id\"],\n",
    "                             'y_pred_new': y_pred_new[:, 1].squeeze(),\n",
    "                            'KMeansCluster': kmeans_new #, 'AgglomerativeCluster': agglomerative_new\n",
    "                            }) \n",
    "print(result_data.shape)\n"
   ]
  },
  {
   "cell_type": "code",
   "execution_count": 73,
   "metadata": {},
   "outputs": [
    {
     "name": "stdout",
     "output_type": "stream",
     "text": [
      "            dlvry_id  y_pred_new  KMeansCluster business_day  reg_hour  \\\n",
      "0  20230915_0000JACM    0.015554              2   2023-09-15        12   \n",
      "1  20230915_0003QVZS    0.547863              8   2023-09-15        21   \n",
      "\n",
      "  service_type   shop_no  ord_price  notiOver  actual_dlvry_distance  ...  \\\n",
      "0          배민1  13490855      27000         0                    144  ...   \n",
      "1          배민1  13512425      28000         0                   3994  ...   \n",
      "\n",
      "   day_of_week  is_holiday          일시    기온  강수량  시간  dlvry_rgn1_nm  \\\n",
      "0          Fri        True  2023-09-15  21.8  0.0  11          서울특별시   \n",
      "1          Fri        True  2023-09-15  23.4  0.0  20          서울특별시   \n",
      "\n",
      "   dlvry_rgn2_nm  dlvry_rgn3_nm      etc  \n",
      "0            서초구            서초동  1549-20  \n",
      "1            서초구            서초동  1451-27  \n",
      "\n",
      "[2 rows x 45 columns]\n"
     ]
    }
   ],
   "source": [
    "# join\n",
    "result_data = result_data.merge(new_data, on = 'dlvry_id', how = 'left')\n",
    "print(result_data.head(2))\n",
    "\n",
    "result_data.to_csv('prj-ML-model-LT_OV30/cluster_add_new_data.csv', index= False, encoding = \"utf-8\")\n",
    "result_data.to_excel('prj-ML-model-LT_OV30/cluster_add_new_data.xlsx', index=False)"
   ]
  },
  {
   "cell_type": "code",
   "execution_count": 74,
   "metadata": {},
   "outputs": [
    {
     "name": "stdout",
     "output_type": "stream",
     "text": [
      "(18209, 45)\n"
     ]
    }
   ],
   "source": [
    "print(result_data.shape)"
   ]
  },
  {
   "cell_type": "code",
   "execution_count": 75,
   "metadata": {},
   "outputs": [
    {
     "name": "stdout",
     "output_type": "stream",
     "text": [
      "KMeansCluster\n",
      "5    4231\n",
      "9    3338\n",
      "2    3188\n",
      "0    2335\n",
      "4    1803\n",
      "7    1272\n",
      "1     862\n",
      "6     615\n",
      "8     361\n",
      "3     204\n",
      "Name: count, dtype: int64\n"
     ]
    }
   ],
   "source": [
    "print(result_data['KMeansCluster'].value_counts())\n",
    "#print(result_data['AgglomerativeCluster'].value_counts())"
   ]
  },
  {
   "cell_type": "code",
   "execution_count": 76,
   "metadata": {},
   "outputs": [],
   "source": [
    "#result_data.groupby('AgglomerativeCluster')['y_pred_new'].agg(['mean', 'std', 'min', 'max'])"
   ]
  },
  {
   "cell_type": "code",
   "execution_count": 77,
   "metadata": {},
   "outputs": [
    {
     "data": {
      "text/html": [
       "<div>\n",
       "<style scoped>\n",
       "    .dataframe tbody tr th:only-of-type {\n",
       "        vertical-align: middle;\n",
       "    }\n",
       "\n",
       "    .dataframe tbody tr th {\n",
       "        vertical-align: top;\n",
       "    }\n",
       "\n",
       "    .dataframe thead th {\n",
       "        text-align: right;\n",
       "    }\n",
       "</style>\n",
       "<table border=\"1\" class=\"dataframe\">\n",
       "  <thead>\n",
       "    <tr style=\"text-align: right;\">\n",
       "      <th></th>\n",
       "      <th>mean</th>\n",
       "      <th>std</th>\n",
       "      <th>min</th>\n",
       "      <th>max</th>\n",
       "    </tr>\n",
       "    <tr>\n",
       "      <th>KMeansCluster</th>\n",
       "      <th></th>\n",
       "      <th></th>\n",
       "      <th></th>\n",
       "      <th></th>\n",
       "    </tr>\n",
       "  </thead>\n",
       "  <tbody>\n",
       "    <tr>\n",
       "      <th>0</th>\n",
       "      <td>0.125400</td>\n",
       "      <td>0.013621</td>\n",
       "      <td>0.104171</td>\n",
       "      <td>0.151697</td>\n",
       "    </tr>\n",
       "    <tr>\n",
       "      <th>1</th>\n",
       "      <td>0.325653</td>\n",
       "      <td>0.026449</td>\n",
       "      <td>0.285217</td>\n",
       "      <td>0.377494</td>\n",
       "    </tr>\n",
       "    <tr>\n",
       "      <th>2</th>\n",
       "      <td>0.026884</td>\n",
       "      <td>0.007013</td>\n",
       "      <td>0.007802</td>\n",
       "      <td>0.037651</td>\n",
       "    </tr>\n",
       "    <tr>\n",
       "      <th>3</th>\n",
       "      <td>0.745920</td>\n",
       "      <td>0.072047</td>\n",
       "      <td>0.658325</td>\n",
       "      <td>0.970692</td>\n",
       "    </tr>\n",
       "    <tr>\n",
       "      <th>4</th>\n",
       "      <td>0.178859</td>\n",
       "      <td>0.017004</td>\n",
       "      <td>0.151730</td>\n",
       "      <td>0.210953</td>\n",
       "    </tr>\n",
       "    <tr>\n",
       "      <th>5</th>\n",
       "      <td>0.051122</td>\n",
       "      <td>0.008252</td>\n",
       "      <td>0.037658</td>\n",
       "      <td>0.066777</td>\n",
       "    </tr>\n",
       "    <tr>\n",
       "      <th>6</th>\n",
       "      <td>0.432838</td>\n",
       "      <td>0.035406</td>\n",
       "      <td>0.377606</td>\n",
       "      <td>0.500231</td>\n",
       "    </tr>\n",
       "    <tr>\n",
       "      <th>7</th>\n",
       "      <td>0.244815</td>\n",
       "      <td>0.020908</td>\n",
       "      <td>0.211013</td>\n",
       "      <td>0.284976</td>\n",
       "    </tr>\n",
       "    <tr>\n",
       "      <th>8</th>\n",
       "      <td>0.564452</td>\n",
       "      <td>0.043861</td>\n",
       "      <td>0.500809</td>\n",
       "      <td>0.657424</td>\n",
       "    </tr>\n",
       "    <tr>\n",
       "      <th>9</th>\n",
       "      <td>0.083675</td>\n",
       "      <td>0.010824</td>\n",
       "      <td>0.066788</td>\n",
       "      <td>0.104161</td>\n",
       "    </tr>\n",
       "  </tbody>\n",
       "</table>\n",
       "</div>"
      ],
      "text/plain": [
       "                   mean       std       min       max\n",
       "KMeansCluster                                        \n",
       "0              0.125400  0.013621  0.104171  0.151697\n",
       "1              0.325653  0.026449  0.285217  0.377494\n",
       "2              0.026884  0.007013  0.007802  0.037651\n",
       "3              0.745920  0.072047  0.658325  0.970692\n",
       "4              0.178859  0.017004  0.151730  0.210953\n",
       "5              0.051122  0.008252  0.037658  0.066777\n",
       "6              0.432838  0.035406  0.377606  0.500231\n",
       "7              0.244815  0.020908  0.211013  0.284976\n",
       "8              0.564452  0.043861  0.500809  0.657424\n",
       "9              0.083675  0.010824  0.066788  0.104161"
      ]
     },
     "execution_count": 77,
     "metadata": {},
     "output_type": "execute_result"
    }
   ],
   "source": [
    "result_data.groupby('KMeansCluster')['y_pred_new'].agg(['mean', 'std', 'min', 'max'])\n",
    "#result_data.groupby('KMeansCluster')['기온'].agg(['mean', 'std', 'min', 'max'])\n"
   ]
  },
  {
   "cell_type": "code",
   "execution_count": 78,
   "metadata": {},
   "outputs": [
    {
     "data": {
      "text/html": [
       "<div>\n",
       "<style scoped>\n",
       "    .dataframe tbody tr th:only-of-type {\n",
       "        vertical-align: middle;\n",
       "    }\n",
       "\n",
       "    .dataframe tbody tr th {\n",
       "        vertical-align: top;\n",
       "    }\n",
       "\n",
       "    .dataframe thead th {\n",
       "        text-align: right;\n",
       "    }\n",
       "</style>\n",
       "<table border=\"1\" class=\"dataframe\">\n",
       "  <thead>\n",
       "    <tr style=\"text-align: right;\">\n",
       "      <th></th>\n",
       "      <th>mean</th>\n",
       "      <th>std</th>\n",
       "      <th>min</th>\n",
       "      <th>max</th>\n",
       "    </tr>\n",
       "    <tr>\n",
       "      <th>KMeansCluster</th>\n",
       "      <th></th>\n",
       "      <th></th>\n",
       "      <th></th>\n",
       "      <th></th>\n",
       "    </tr>\n",
       "  </thead>\n",
       "  <tbody>\n",
       "    <tr>\n",
       "      <th>0</th>\n",
       "      <td>3.314568</td>\n",
       "      <td>5.540755</td>\n",
       "      <td>0.133333</td>\n",
       "      <td>57.233333</td>\n",
       "    </tr>\n",
       "    <tr>\n",
       "      <th>1</th>\n",
       "      <td>7.348782</td>\n",
       "      <td>8.882665</td>\n",
       "      <td>0.150000</td>\n",
       "      <td>55.633333</td>\n",
       "    </tr>\n",
       "    <tr>\n",
       "      <th>2</th>\n",
       "      <td>1.141996</td>\n",
       "      <td>1.952567</td>\n",
       "      <td>0.116667</td>\n",
       "      <td>32.550000</td>\n",
       "    </tr>\n",
       "    <tr>\n",
       "      <th>3</th>\n",
       "      <td>14.876225</td>\n",
       "      <td>12.057388</td>\n",
       "      <td>0.183333</td>\n",
       "      <td>52.700000</td>\n",
       "    </tr>\n",
       "    <tr>\n",
       "      <th>4</th>\n",
       "      <td>4.395258</td>\n",
       "      <td>6.314979</td>\n",
       "      <td>0.150000</td>\n",
       "      <td>45.133333</td>\n",
       "    </tr>\n",
       "    <tr>\n",
       "      <th>5</th>\n",
       "      <td>1.500780</td>\n",
       "      <td>2.665759</td>\n",
       "      <td>0.133333</td>\n",
       "      <td>36.650000</td>\n",
       "    </tr>\n",
       "    <tr>\n",
       "      <th>6</th>\n",
       "      <td>8.867507</td>\n",
       "      <td>10.010981</td>\n",
       "      <td>0.150000</td>\n",
       "      <td>50.100000</td>\n",
       "    </tr>\n",
       "    <tr>\n",
       "      <th>7</th>\n",
       "      <td>6.024476</td>\n",
       "      <td>8.153176</td>\n",
       "      <td>0.150000</td>\n",
       "      <td>58.900000</td>\n",
       "    </tr>\n",
       "    <tr>\n",
       "      <th>8</th>\n",
       "      <td>10.905586</td>\n",
       "      <td>11.317001</td>\n",
       "      <td>0.216667</td>\n",
       "      <td>72.100000</td>\n",
       "    </tr>\n",
       "    <tr>\n",
       "      <th>9</th>\n",
       "      <td>2.225250</td>\n",
       "      <td>3.887032</td>\n",
       "      <td>0.133333</td>\n",
       "      <td>38.750000</td>\n",
       "    </tr>\n",
       "  </tbody>\n",
       "</table>\n",
       "</div>"
      ],
      "text/plain": [
       "                    mean        std       min        max\n",
       "KMeansCluster                                           \n",
       "0               3.314568   5.540755  0.133333  57.233333\n",
       "1               7.348782   8.882665  0.150000  55.633333\n",
       "2               1.141996   1.952567  0.116667  32.550000\n",
       "3              14.876225  12.057388  0.183333  52.700000\n",
       "4               4.395258   6.314979  0.150000  45.133333\n",
       "5               1.500780   2.665759  0.133333  36.650000\n",
       "6               8.867507  10.010981  0.150000  50.100000\n",
       "7               6.024476   8.153176  0.150000  58.900000\n",
       "8              10.905586  11.317001  0.216667  72.100000\n",
       "9               2.225250   3.887032  0.133333  38.750000"
      ]
     },
     "execution_count": 78,
     "metadata": {},
     "output_type": "execute_result"
    }
   ],
   "source": [
    "result_data.groupby('KMeansCluster')['전체배차시간'].agg(['mean', 'std', 'min', 'max'])"
   ]
  },
  {
   "cell_type": "code",
   "execution_count": 79,
   "metadata": {},
   "outputs": [],
   "source": [
    "#result_data.groupby('AgglomerativeCluster')['전체배차시간'].agg(['mean', 'std', 'min', 'max'])"
   ]
  },
  {
   "cell_type": "code",
   "execution_count": 80,
   "metadata": {},
   "outputs": [
    {
     "name": "stdout",
     "output_type": "stream",
     "text": [
      "KMeansCluster\n",
      "0    394\n",
      "1    357\n",
      "2     83\n",
      "3    151\n",
      "4    442\n",
      "5    233\n",
      "6    293\n",
      "7    434\n",
      "8    198\n",
      "9    336\n",
      "dtype: int64\n"
     ]
    }
   ],
   "source": [
    "# 그룹별 전체배차시간 5.05분 이상인 애들 개수 \n",
    "filtered_df = result_data[result_data['전체배차시간'] > 5.05]\n",
    "grouped_counts = filtered_df.groupby('KMeansCluster').size()\n",
    "\n",
    "print(grouped_counts)"
   ]
  },
  {
   "attachments": {},
   "cell_type": "markdown",
   "metadata": {},
   "source": [
    "## 배달비 데이터 + 클러스터 join "
   ]
  },
  {
   "cell_type": "code",
   "execution_count": 82,
   "metadata": {},
   "outputs": [
    {
     "name": "stdout",
     "output_type": "stream",
     "text": [
      "(27654, 24)\n",
      "(18209, 45)\n"
     ]
    }
   ],
   "source": [
    "fee_data = pd.read_csv(\"prj-ML-model-LT_OV30/new_data_add_fee.csv\", encoding=\"utf-8\")\n",
    "result_data = pd.read_csv('prj-ML-model-LT_OV30/cluster_add_new_data.csv', encoding = \"utf-8\")\n",
    "\n",
    "print(fee_data.shape) #27,654\n",
    "print(result_data.shape) # 18,209"
   ]
  },
  {
   "cell_type": "code",
   "execution_count": 83,
   "metadata": {},
   "outputs": [
    {
     "name": "stdout",
     "output_type": "stream",
     "text": [
      "dlvry_id              object\n",
      "business_day          object\n",
      "reg_hour               int64\n",
      "service_type          object\n",
      "shop_no                int64\n",
      "ord_price              int64\n",
      "notiOver               int64\n",
      "shop_loc_pnt_lat     float64\n",
      "shop_loc_pnt_lon     float64\n",
      "dlvry_loc_pnt_lat    float64\n",
      "dlvry_loc_pnt_lon    float64\n",
      "추천노출시간_AI            float64\n",
      "추천노출시간_일반            float64\n",
      "추천미발생시간유             float64\n",
      "추천미발생시간무             float64\n",
      "배차후취소시간              float64\n",
      "전체배차시간               float64\n",
      "notiOver_min_max     float64\n",
      "rider_dlvry_fee        int64\n",
      "fee_1st                int64\n",
      "fee_LT_system          int64\n",
      "fee_LT_manager         int64\n",
      "per_display          float64\n",
      "per_no_recomm        float64\n",
      "dtype: object\n"
     ]
    }
   ],
   "source": [
    "print(fee_data.dtypes)"
   ]
  },
  {
   "cell_type": "code",
   "execution_count": 85,
   "metadata": {},
   "outputs": [
    {
     "name": "stdout",
     "output_type": "stream",
     "text": [
      "(18209, 45)\n"
     ]
    }
   ],
   "source": [
    "final_data = pd.merge(result_data, fee_data[['dlvry_id', 'fee_1st', 'fee_LT_system', 'fee_LT_manager']], on='dlvry_id', how='left')\n",
    "\n",
    "print(result_data.shape) # 18,209\n"
   ]
  },
  {
   "cell_type": "code",
   "execution_count": 86,
   "metadata": {},
   "outputs": [
    {
     "name": "stdout",
     "output_type": "stream",
     "text": [
      "dlvry_id                 0\n",
      "y_pred_new               0\n",
      "KMeansCluster            0\n",
      "business_day             0\n",
      "reg_hour                 0\n",
      "service_type             0\n",
      "shop_no                  0\n",
      "ord_price                0\n",
      "notiOver                 0\n",
      "actual_dlvry_distance    0\n",
      "shop_loc_pnt_lat         0\n",
      "shop_loc_pnt_lon         0\n",
      "dlvry_loc_pnt_lat        0\n",
      "dlvry_loc_pnt_lon        0\n",
      "추천노출시간_AI                0\n",
      "추천노출시간_일반                0\n",
      "추천미발생시간유                 0\n",
      "추천미발생시간무                 0\n",
      "배차후취소시간                  0\n",
      "전체배차시간                   0\n",
      "notiOver_min_max         0\n",
      "per_display              0\n",
      "per_no_recomm            0\n",
      "pick_floor               0\n",
      "pick_rgn2_nm             0\n",
      "pick_rgn3_nm             0\n",
      "pick_category            0\n",
      "pick_건물용도                0\n",
      "pick_address             0\n",
      "Latitude                 0\n",
      "Longitude                0\n",
      "dlvry_address            0\n",
      "dlvry_지상층수               0\n",
      "dlvry_지하층수               0\n",
      "dlvry_건물용도               0\n",
      "day_of_week              0\n",
      "is_holiday               0\n",
      "일시                       0\n",
      "기온                       0\n",
      "강수량                      0\n",
      "시간                       0\n",
      "dlvry_rgn1_nm            0\n",
      "dlvry_rgn2_nm            0\n",
      "dlvry_rgn3_nm            0\n",
      "etc                      0\n",
      "fee_1st                  0\n",
      "fee_LT_system            0\n",
      "fee_LT_manager           0\n",
      "dtype: int64\n"
     ]
    }
   ],
   "source": [
    "print(final_data.isna().sum())"
   ]
  },
  {
   "cell_type": "code",
   "execution_count": 87,
   "metadata": {},
   "outputs": [],
   "source": [
    "final_data.to_csv('prj-ML-model-LT_OV30/cluster_fee_add_new_data.csv', index= False, encoding = \"utf-8\")"
   ]
  },
  {
   "cell_type": "code",
   "execution_count": null,
   "metadata": {},
   "outputs": [],
   "source": []
  }
 ],
 "metadata": {
  "kernelspec": {
   "display_name": ".venv",
   "language": "python",
   "name": "python3"
  },
  "language_info": {
   "codemirror_mode": {
    "name": "ipython",
    "version": 3
   },
   "file_extension": ".py",
   "mimetype": "text/x-python",
   "name": "python",
   "nbconvert_exporter": "python",
   "pygments_lexer": "ipython3",
   "version": "3.9.6"
  },
  "orig_nbformat": 4
 },
 "nbformat": 4,
 "nbformat_minor": 2
}
