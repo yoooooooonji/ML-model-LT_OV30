{
 "cells": [
  {
   "cell_type": "code",
   "execution_count": 33,
   "metadata": {},
   "outputs": [
    {
     "name": "stdout",
     "output_type": "stream",
     "text": [
      "/Users/yj.noh/Documents/GitHub\n"
     ]
    }
   ],
   "source": [
    "import pandas as pd\n",
    "import numpy as np\n",
    "import os\n",
    "import matplotlib.pyplot as plt\n",
    "import statsmodels.api as sm\n",
    "from datetime import datetime\n",
    "import seaborn as sns\n",
    "from sklearn.preprocessing import OneHotEncoder\n",
    "from sklearn.preprocessing import StandardScaler\n",
    "from sklearn.preprocessing import MinMaxScaler\n",
    "from sklearn.linear_model import LogisticRegression\n",
    "from sklearn.model_selection import train_test_split, cross_val_score\n",
    "from sklearn.metrics import accuracy_score, confusion_matrix\n",
    "from sklearn.metrics import classification_report\n",
    "from statsmodels.stats.outliers_influence import variance_inflation_factor\n",
    "\n",
    "\n",
    "import warnings\n",
    "warnings.filterwarnings(\"ignore\")\n",
    "os.chdir(\"/Users/yj.noh/Documents/GitHub\")\n",
    "print(os.getcwd())"
   ]
  },
  {
   "cell_type": "code",
   "execution_count": 2,
   "metadata": {},
   "outputs": [
    {
     "name": "stdout",
     "output_type": "stream",
     "text": [
      "            dlvry_id  reg_hour  ord_price  actual_dlvry_distance  pick_floor  \\\n",
      "0  20230827_9376QTJN        11      22500                   1274         1.0   \n",
      "1  20230827_1765MBEB        17      15700                   2809         1.0   \n",
      "2  20230827_0741UTNW        18      20400                   1961        -1.0   \n",
      "3  20230827_6306VAVZ        19      16900                   1826         1.0   \n",
      "4  20230827_5544DEBH        11      21000                   1184         2.0   \n",
      "\n",
      "  pick_rgn2_nm pick_rgn3_nm pick_category pick_건물용도  dlvry_지상층수  dlvry_지하층수  \\\n",
      "0          서초구          잠원동       CHINESE      업무시설         NaN         NaN   \n",
      "1          서초구          반포동         SNACK     일반음식점        19.0         5.0   \n",
      "2          서초구          서초동     ZZIM_TANG       아파트         4.0         1.0   \n",
      "3          서초구          방배동         ASIAN       아파트         5.0         0.0   \n",
      "4          서초구          서초동          CAFE       NaN         4.0         1.0   \n",
      "\n",
      "  dlvry_건물용도 day_of_week  is_holiday    기온  강수량 dlvry_rgn2_nm dlvry_rgn3_nm  \\\n",
      "0        NaN         Sun        True  26.1  0.0           서초구           잠원동   \n",
      "1       업무시설         Sun        True  29.1  0.0           강남구           역삼동   \n",
      "2       업무시설         Sun        True  28.9  0.0           서초구           서초동   \n",
      "3       공동주택         Sun        True  28.0  0.0           동작구           사당동   \n",
      "4       업무시설         Sun        True  26.1  0.0           강남구           역삼동   \n",
      "\n",
      "   outcome  \n",
      "0        0  \n",
      "1        0  \n",
      "2        0  \n",
      "3        1  \n",
      "4        0  \n",
      "(68027, 19)\n"
     ]
    }
   ],
   "source": [
    "data = pd.read_csv(\"prj-ML-model-LT_OV30/modeling_data.csv\", encoding = \"cp949\")\n",
    "print(data.head())\n",
    "print(data.shape)"
   ]
  },
  {
   "cell_type": "code",
   "execution_count": 3,
   "metadata": {},
   "outputs": [
    {
     "name": "stdout",
     "output_type": "stream",
     "text": [
      "(44644, 19)\n",
      "outcome\n",
      "0    38816\n",
      "1     5828\n",
      "Name: count, dtype: int64\n"
     ]
    }
   ],
   "source": [
    "# 건물 정보 없는 데이터 삭제 \n",
    "filtered_data = data.dropna(subset=['pick_건물용도', 'dlvry_건물용도'])\n",
    "print(filtered_data.shape) #44,644 \n",
    "print(filtered_data['outcome'].value_counts()) # 38,816, 5,828 "
   ]
  },
  {
   "cell_type": "code",
   "execution_count": 4,
   "metadata": {},
   "outputs": [
    {
     "name": "stdout",
     "output_type": "stream",
     "text": [
      "dlvry_id                    0\n",
      "reg_hour                    0\n",
      "ord_price                   0\n",
      "actual_dlvry_distance       0\n",
      "pick_floor                  0\n",
      "pick_rgn2_nm                0\n",
      "pick_rgn3_nm                0\n",
      "pick_category               0\n",
      "pick_건물용도                   0\n",
      "dlvry_지상층수               5726\n",
      "dlvry_지하층수               5726\n",
      "dlvry_건물용도                  0\n",
      "day_of_week                 0\n",
      "is_holiday                  0\n",
      "기온                          0\n",
      "강수량                         0\n",
      "dlvry_rgn2_nm               0\n",
      "dlvry_rgn3_nm               0\n",
      "outcome                     0\n",
      "dtype: int64\n"
     ]
    }
   ],
   "source": [
    "print(filtered_data.isna().sum())"
   ]
  },
  {
   "cell_type": "code",
   "execution_count": 5,
   "metadata": {},
   "outputs": [
    {
     "name": "stdout",
     "output_type": "stream",
     "text": [
      "dlvry_id                  object\n",
      "reg_hour                   int64\n",
      "ord_price                  int64\n",
      "actual_dlvry_distance      int64\n",
      "pick_floor               float64\n",
      "pick_rgn2_nm              object\n",
      "pick_rgn3_nm              object\n",
      "pick_category             object\n",
      "pick_건물용도                 object\n",
      "dlvry_지상층수               float64\n",
      "dlvry_지하층수               float64\n",
      "dlvry_건물용도                object\n",
      "day_of_week               object\n",
      "is_holiday                  bool\n",
      "기온                       float64\n",
      "강수량                      float64\n",
      "dlvry_rgn2_nm             object\n",
      "dlvry_rgn3_nm             object\n",
      "outcome                    int64\n",
      "dtype: object\n"
     ]
    }
   ],
   "source": [
    "print(filtered_data.dtypes)"
   ]
  },
  {
   "cell_type": "code",
   "execution_count": 6,
   "metadata": {},
   "outputs": [
    {
     "name": "stdout",
     "output_type": "stream",
     "text": [
      "dlvry_id                    0\n",
      "reg_hour                    0\n",
      "ord_price                   0\n",
      "actual_dlvry_distance       0\n",
      "pick_floor                  0\n",
      "pick_rgn2_nm                0\n",
      "pick_rgn3_nm                0\n",
      "pick_category               0\n",
      "pick_건물용도                   0\n",
      "dlvry_지상층수               5726\n",
      "dlvry_지하층수               5726\n",
      "dlvry_건물용도                  0\n",
      "day_of_week                 0\n",
      "is_holiday                  0\n",
      "기온                          0\n",
      "강수량                         0\n",
      "dlvry_rgn2_nm               0\n",
      "dlvry_rgn3_nm               0\n",
      "outcome                     0\n",
      "dtype: int64\n"
     ]
    }
   ],
   "source": [
    "# dlvry_지하층수 음수로\n",
    "# filtered_data['dlvry_지하층수'] = pd.to_numeric(filtered_data['dlvry_지하층수'], errors='coerce')\n",
    "# filtered_data['dlvry_지상층수'] = pd.to_numeric(filtered_data['dlvry_지상층수'], errors='coerce')\n",
    "# filtered_data['pick_floor'] = pd.to_numeric(filtered_data['pick_floor'], errors='coerce')\n",
    "\n",
    "filtered_data['dlvry_지하층수'] = filtered_data['dlvry_지하층수'].apply(lambda x: -x)\n",
    "#print(filtered_data.head())\n",
    "print(filtered_data.isna().sum())"
   ]
  },
  {
   "attachments": {},
   "cell_type": "markdown",
   "metadata": {},
   "source": [
    "## 1. 데이터 전처리\n"
   ]
  },
  {
   "attachments": {},
   "cell_type": "markdown",
   "metadata": {},
   "source": [
    "## 1-1. pick_건물용도/ dlvry_건물용도 : 개수 축소"
   ]
  },
  {
   "cell_type": "code",
   "execution_count": 7,
   "metadata": {},
   "outputs": [
    {
     "name": "stdout",
     "output_type": "stream",
     "text": [
      "pick_건물용도\n",
      "업무시설          14372\n",
      "근린생활시설         7875\n",
      "아파트            5367\n",
      "일반음식점          5206\n",
      "일반상점           3881\n",
      "공동주택           3089\n",
      "교육시설           1604\n",
      "의료시설           1177\n",
      "백화점             534\n",
      "자동차관련시설         471\n",
      "오피스텔            266\n",
      "기타시설            210\n",
      "숙박시설            174\n",
      "대형판매점           141\n",
      "위락시설            134\n",
      "문화시설             87\n",
      "종교시설             30\n",
      "체육시설             16\n",
      "위험물저장및처리시설       10\n",
      "Name: count, dtype: int64\n"
     ]
    }
   ],
   "source": [
    "print(filtered_data['pick_건물용도'].value_counts())"
   ]
  },
  {
   "cell_type": "code",
   "execution_count": 8,
   "metadata": {},
   "outputs": [
    {
     "name": "stdout",
     "output_type": "stream",
     "text": [
      "pick_건물용도\n",
      "업무시설      14372\n",
      "근린생활시설     7875\n",
      "아파트        5367\n",
      "일반음식점      5206\n",
      "일반상점       3881\n",
      "공동주택       3089\n",
      "교육시설       1604\n",
      "의료시설       1177\n",
      "기타시설        958\n",
      "백화점         534\n",
      "오피스텔        266\n",
      "숙박시설        174\n",
      "대형판매점       141\n",
      "Name: count, dtype: int64\n"
     ]
    }
   ],
   "source": [
    "# 데이터 정리\n",
    "values_to_replace = ['위락시설', '문화시설', '종교시설', '체육시설','위험물저장및처리시설', '자동차관련시설']\n",
    "filtered_data['pick_건물용도'] = data['pick_건물용도'].replace(values_to_replace, '기타시설')\n",
    "print(filtered_data['pick_건물용도'].value_counts())"
   ]
  },
  {
   "cell_type": "code",
   "execution_count": 9,
   "metadata": {},
   "outputs": [
    {
     "name": "stdout",
     "output_type": "stream",
     "text": [
      "dlvry_건물용도\n",
      "공동주택          16952\n",
      "아파트           13910\n",
      "업무시설           7279\n",
      "근린생활시설         1559\n",
      "일반상점           1224\n",
      "교육시설           1028\n",
      "의료시설            758\n",
      "일반음식점           557\n",
      "숙박시설            459\n",
      "공공시설            241\n",
      "종교시설            127\n",
      "교육연구시설          120\n",
      "오피스텔            101\n",
      "자동차관련시설          67\n",
      "방송통신시설           53\n",
      "기타시설             39\n",
      "체육시설             36\n",
      "백화점              36\n",
      "위험물저장및처리시설       18\n",
      "복지시설             16\n",
      "문화시설             14\n",
      "위락시설             12\n",
      "복합몰               7\n",
      "창고시설              6\n",
      "수련시설              6\n",
      "동식물시설             5\n",
      "단독주택              5\n",
      "운수시설              3\n",
      "노유자시설             2\n",
      "호텔                2\n",
      "체력시설              1\n",
      "공공용시설             1\n",
      "Name: count, dtype: int64\n"
     ]
    }
   ],
   "source": [
    "print(filtered_data['dlvry_건물용도'].value_counts())"
   ]
  },
  {
   "cell_type": "code",
   "execution_count": 10,
   "metadata": {},
   "outputs": [
    {
     "name": "stdout",
     "output_type": "stream",
     "text": [
      "dlvry_건물용도\n",
      "공동주택      16952\n",
      "아파트       13910\n",
      "업무시설       7279\n",
      "근린생활시설     1559\n",
      "일반상점       1224\n",
      "교육시설       1148\n",
      "의료시설        758\n",
      "일반음식점       557\n",
      "숙박시설        459\n",
      "기타시설        329\n",
      "공공시설        241\n",
      "종교시설        127\n",
      "오피스텔        101\n",
      "Name: count, dtype: int64\n"
     ]
    }
   ],
   "source": [
    "value_counts = filtered_data['dlvry_건물용도'].value_counts()\n",
    "\n",
    "threshold = 100\n",
    "filtered_data['dlvry_건물용도'] = filtered_data['dlvry_건물용도'].apply(lambda x: '기타시설' if value_counts[x] <= threshold else x)\n",
    "\n",
    "filtered_data['dlvry_건물용도'] = filtered_data['dlvry_건물용도'].replace('교육연구시설', '교육시설')\n",
    "filtered_data['dlvry_건물용도'] = filtered_data['dlvry_건물용도'].replace('공공용시설', '공공시설')\n",
    "\n",
    "print(filtered_data['dlvry_건물용도'].value_counts())"
   ]
  },
  {
   "attachments": {},
   "cell_type": "markdown",
   "metadata": {},
   "source": [
    "## 1-2. dlvry_지상층수 /지하층수 : dlvry_건물용도 median 값 가져오기"
   ]
  },
  {
   "cell_type": "code",
   "execution_count": 11,
   "metadata": {},
   "outputs": [
    {
     "name": "stdout",
     "output_type": "stream",
     "text": [
      "Median Values:\n",
      "            dlvry_지상층수  dlvry_지하층수\n",
      "dlvry_건물용도                        \n",
      "공공시설               3.0        -0.0\n",
      "공동주택               4.0        -1.0\n",
      "교육시설               6.0        -1.0\n",
      "근린생활시설             5.0        -1.0\n",
      "기타시설               5.0        -2.0\n",
      "숙박시설              10.0        -1.0\n",
      "아파트               15.0        -1.0\n",
      "업무시설              10.0        -3.0\n",
      "오피스텔              15.0        -7.0\n",
      "의료시설              10.0        -1.0\n",
      "일반상점               4.0        -1.0\n",
      "일반음식점              5.0        -1.0\n",
      "종교시설               4.0        -3.0\n",
      "\n",
      "Mean Values:\n",
      "            dlvry_지상층수  dlvry_지하층수\n",
      "dlvry_건물용도                        \n",
      "공공시설          3.066390   -0.203320\n",
      "공동주택          3.844208   -0.732086\n",
      "교육시설          6.414397   -1.383268\n",
      "근린생활시설        5.316228   -1.250160\n",
      "기타시설          8.412698   -2.501587\n",
      "숙박시설         10.838428   -2.397380\n",
      "아파트          18.313515   -1.368009\n",
      "업무시설         11.697593   -3.120231\n",
      "오피스텔         15.000000   -6.118812\n",
      "의료시설          9.507916   -1.928760\n",
      "일반상점          5.041667   -1.446078\n",
      "일반음식점         4.746858   -1.263914\n",
      "종교시설          4.227642   -2.560976\n"
     ]
    }
   ],
   "source": [
    "median_values = filtered_data.dropna().groupby('dlvry_건물용도')[['dlvry_지상층수', 'dlvry_지하층수']].median()\n",
    "mean_values = filtered_data.dropna().groupby('dlvry_건물용도')[['dlvry_지상층수', 'dlvry_지하층수']].mean()\n",
    "\n",
    "print(\"Median Values:\")\n",
    "print(median_values)\n",
    "\n",
    "print(\"\\nMean Values:\")\n",
    "print(mean_values)\n"
   ]
  },
  {
   "cell_type": "code",
   "execution_count": 12,
   "metadata": {},
   "outputs": [
    {
     "name": "stdout",
     "output_type": "stream",
     "text": [
      "           reg_hour      ord_price  actual_dlvry_distance    pick_floor  \\\n",
      "count  44644.000000   44644.000000           44644.000000  44644.000000   \n",
      "mean      15.780866   27080.946757            1959.281538      0.748006   \n",
      "std        3.745221   17994.351039            1156.483892      0.924460   \n",
      "min        9.000000    5000.000000               1.000000     -1.000000   \n",
      "25%       12.000000   16700.000000            1115.000000      1.000000   \n",
      "50%       16.000000   22400.000000            1756.000000      1.000000   \n",
      "75%       19.000000   31400.000000            2514.000000      1.000000   \n",
      "max       23.000000  483000.000000            8003.000000      8.000000   \n",
      "\n",
      "         dlvry_지상층수    dlvry_지하층수            기온           강수량       outcome  \n",
      "count  44644.000000  44644.000000  44644.000000  44644.000000  44644.000000  \n",
      "mean      10.028380     -1.476481     26.778833      0.609437      0.130544  \n",
      "std        8.766227      1.608017      2.664765      3.162902      0.336905  \n",
      "min        0.000000     -9.000000     20.800000      0.000000      0.000000  \n",
      "25%        4.000000     -1.000000     24.600000      0.000000      0.000000  \n",
      "50%        6.000000     -1.000000     27.100000      0.000000      0.000000  \n",
      "75%       15.000000     -1.000000     28.800000      0.000000      0.000000  \n",
      "max       69.000000     -0.000000     33.500000     27.600000      1.000000  \n",
      "Index(['dlvry_id', 'reg_hour', 'ord_price', 'actual_dlvry_distance',\n",
      "       'pick_floor', 'pick_rgn2_nm', 'pick_rgn3_nm', 'pick_category',\n",
      "       'pick_건물용도', 'dlvry_지상층수', 'dlvry_지하층수', 'dlvry_건물용도', 'day_of_week',\n",
      "       'is_holiday', '기온', '강수량', 'dlvry_rgn2_nm', 'dlvry_rgn3_nm', 'outcome'],\n",
      "      dtype='object')\n"
     ]
    }
   ],
   "source": [
    "# na 값을 중앙값으로 채우기\n",
    "filtered_data['dlvry_지상층수'].fillna(filtered_data['dlvry_건물용도'].map(median_values['dlvry_지상층수']), inplace=True)\n",
    "filtered_data['dlvry_지하층수'].fillna(filtered_data['dlvry_건물용도'].map(median_values['dlvry_지하층수']), inplace=True)\n",
    "\n",
    "print(filtered_data.describe())\n",
    "print(filtered_data.columns)"
   ]
  },
  {
   "cell_type": "code",
   "execution_count": 13,
   "metadata": {},
   "outputs": [
    {
     "name": "stdout",
     "output_type": "stream",
     "text": [
      "dlvry_id                 0\n",
      "reg_hour                 0\n",
      "ord_price                0\n",
      "actual_dlvry_distance    0\n",
      "pick_floor               0\n",
      "pick_rgn2_nm             0\n",
      "pick_rgn3_nm             0\n",
      "pick_category            0\n",
      "pick_건물용도                0\n",
      "dlvry_지상층수               0\n",
      "dlvry_지하층수               0\n",
      "dlvry_건물용도               0\n",
      "day_of_week              0\n",
      "is_holiday               0\n",
      "기온                       0\n",
      "강수량                      0\n",
      "dlvry_rgn2_nm            0\n",
      "dlvry_rgn3_nm            0\n",
      "outcome                  0\n",
      "dtype: int64\n"
     ]
    }
   ],
   "source": [
    "print(filtered_data.isna().sum())"
   ]
  },
  {
   "attachments": {},
   "cell_type": "markdown",
   "metadata": {},
   "source": [
    "## 1-3.  pick_floor, dlvry_지상층수, dlvry_지하층수 "
   ]
  },
  {
   "cell_type": "code",
   "execution_count": 14,
   "metadata": {},
   "outputs": [
    {
     "name": "stdout",
     "output_type": "stream",
     "text": [
      "pick_floor\n",
      " 1.0    31450\n",
      "-1.0     7548\n",
      " 2.0     3810\n",
      " 0.0     1363\n",
      " 3.0      314\n",
      " 4.0       85\n",
      " 8.0       73\n",
      " 6.0        1\n",
      "Name: count, dtype: int64\n"
     ]
    }
   ],
   "source": [
    "print(filtered_data['pick_floor'].value_counts())"
   ]
  },
  {
   "cell_type": "code",
   "execution_count": 15,
   "metadata": {},
   "outputs": [
    {
     "name": "stdout",
     "output_type": "stream",
     "text": [
      "dlvry_지하층수\n",
      "-1.0    24736\n",
      "-0.0     9058\n",
      "-2.0     3590\n",
      "-3.0     1876\n",
      "-4.0     1778\n",
      "-5.0     1483\n",
      "-6.0     1233\n",
      "-7.0      674\n",
      "-8.0      215\n",
      "-9.0        1\n",
      "Name: count, dtype: int64\n"
     ]
    }
   ],
   "source": [
    "print(filtered_data['dlvry_지하층수'].value_counts())"
   ]
  },
  {
   "cell_type": "code",
   "execution_count": 16,
   "metadata": {},
   "outputs": [
    {
     "name": "stdout",
     "output_type": "stream",
     "text": [
      "dlvry_지상층수\n",
      "4.0     9546\n",
      "5.0     5935\n",
      "3.0     4366\n",
      "15.0    4286\n",
      "6.0     2892\n",
      "2.0     1796\n",
      "12.0    1556\n",
      "7.0     1408\n",
      "20.0    1372\n",
      "10.0    1270\n",
      "13.0    1182\n",
      "29.0     872\n",
      "32.0     782\n",
      "14.0     722\n",
      "9.0      713\n",
      "25.0     599\n",
      "18.0     551\n",
      "24.0     526\n",
      "8.0      522\n",
      "11.0     466\n",
      "27.0     413\n",
      "22.0     412\n",
      "16.0     329\n",
      "17.0     269\n",
      "37.0     267\n",
      "21.0     262\n",
      "19.0     248\n",
      "46.0     184\n",
      "26.0     177\n",
      "1.0      171\n",
      "23.0     166\n",
      "31.0     114\n",
      "66.0      52\n",
      "28.0      43\n",
      "69.0      40\n",
      "55.0      30\n",
      "51.0      26\n",
      "34.0      22\n",
      "44.0      20\n",
      "45.0      16\n",
      "0.0        9\n",
      "30.0       8\n",
      "33.0       4\n",
      "Name: count, dtype: int64\n",
      "count    44644.000000\n",
      "mean        10.028380\n",
      "std          8.766227\n",
      "min          0.000000\n",
      "25%          4.000000\n",
      "50%          6.000000\n",
      "75%         15.000000\n",
      "max         69.000000\n",
      "Name: dlvry_지상층수, dtype: float64\n"
     ]
    }
   ],
   "source": [
    "print(filtered_data['dlvry_지상층수'].value_counts())\n",
    "print(filtered_data['dlvry_지상층수'].describe())"
   ]
  },
  {
   "cell_type": "code",
   "execution_count": 17,
   "metadata": {},
   "outputs": [
    {
     "name": "stdout",
     "output_type": "stream",
     "text": [
      "dlvry_지상층수\n",
      "저층      21823\n",
      "중상층      8212\n",
      "중층       6805\n",
      "고층       6239\n",
      "준초고층     1417\n",
      "초고층       148\n",
      "Name: count, dtype: int64\n",
      "pick_floor\n",
      "저층    37022\n",
      "지하     7548\n",
      "중층       74\n",
      "Name: count, dtype: int64\n"
     ]
    }
   ],
   "source": [
    "def categorize_floor(value):\n",
    "    if value < 0:\n",
    "        return '지하'\n",
    "    elif 0 <= value <= 5:\n",
    "        return '저층'\n",
    "    elif 6 <= value <= 10 :\n",
    "        return '중층'\n",
    "    elif 11 <= value <= 15 : \n",
    "        return '중상층'\n",
    "    elif 16 <= value <= 29 :\n",
    "        return '고층'\n",
    "    elif 30 <= value <= 49 :\n",
    "        return '준초고층'\n",
    "    elif 50 <= value:\n",
    "        return '초고층'\n",
    "\n",
    "filtered_data['pick_floor'] = filtered_data['pick_floor'].apply(categorize_floor)\n",
    "filtered_data['dlvry_지상층수'] = filtered_data['dlvry_지상층수'].apply(categorize_floor)\n",
    "\n",
    "print(filtered_data['dlvry_지상층수'].value_counts())\n",
    "print(filtered_data['pick_floor'].value_counts())"
   ]
  },
  {
   "attachments": {},
   "cell_type": "markdown",
   "metadata": {},
   "source": [
    "## 1-4. pick_rgn2_nm, dlvry_rgn2_nm, dlvry_rgn3_nm 정제"
   ]
  },
  {
   "cell_type": "code",
   "execution_count": 18,
   "metadata": {},
   "outputs": [
    {
     "name": "stdout",
     "output_type": "stream",
     "text": [
      "dlvry_rgn2_nm\n",
      "서초구    32886\n",
      "강남구     8302\n",
      "동작구     2388\n",
      "관악구      937\n",
      "과천시      126\n",
      "용산구        5\n",
      "Name: count, dtype: int64\n",
      "dlvry_rgn3_nm\n",
      "서초동      13101\n",
      "방배동       6994\n",
      "반포동       6344\n",
      "역삼동       2814\n",
      "양재동       2729\n",
      "잠원동       2043\n",
      "사당동       1999\n",
      "논현동       1832\n",
      "우면동       1675\n",
      "도곡동       1218\n",
      "개포동        995\n",
      "남현동        500\n",
      "봉천동        427\n",
      "대치동        418\n",
      "신사동        417\n",
      "삼성동        267\n",
      "압구정동       161\n",
      "흑석동        151\n",
      "청담동        148\n",
      "동작동        128\n",
      "상도동         76\n",
      "주암동         75\n",
      "과천동         48\n",
      "일원동         25\n",
      "상도1동        18\n",
      "본동          10\n",
      "신림동         10\n",
      "노량진동         6\n",
      "자곡동          5\n",
      "용산동6가        5\n",
      "부림동          3\n",
      "수서동          2\n",
      "Name: count, dtype: int64\n"
     ]
    }
   ],
   "source": [
    "print(filtered_data['dlvry_rgn2_nm'].value_counts())\n",
    "print(filtered_data['dlvry_rgn3_nm'].value_counts())"
   ]
  },
  {
   "attachments": {},
   "cell_type": "markdown",
   "metadata": {},
   "source": [
    "## 2. 데이터 전처리"
   ]
  },
  {
   "cell_type": "code",
   "execution_count": 19,
   "metadata": {},
   "outputs": [
    {
     "name": "stdout",
     "output_type": "stream",
     "text": [
      "(44644, 19)\n",
      "<class 'pandas.core.frame.DataFrame'>\n",
      "Index: 44644 entries, 1 to 68026\n",
      "Data columns (total 19 columns):\n",
      " #   Column                 Non-Null Count  Dtype  \n",
      "---  ------                 --------------  -----  \n",
      " 0   dlvry_id               44644 non-null  object \n",
      " 1   reg_hour               44644 non-null  int64  \n",
      " 2   ord_price              44644 non-null  int64  \n",
      " 3   actual_dlvry_distance  44644 non-null  int64  \n",
      " 4   pick_floor             44644 non-null  object \n",
      " 5   pick_rgn2_nm           44644 non-null  object \n",
      " 6   pick_rgn3_nm           44644 non-null  object \n",
      " 7   pick_category          44644 non-null  object \n",
      " 8   pick_건물용도              44644 non-null  object \n",
      " 9   dlvry_지상층수             44644 non-null  object \n",
      " 10  dlvry_지하층수             44644 non-null  float64\n",
      " 11  dlvry_건물용도             44644 non-null  object \n",
      " 12  day_of_week            44644 non-null  object \n",
      " 13  is_holiday             44644 non-null  bool   \n",
      " 14  기온                     44644 non-null  float64\n",
      " 15  강수량                    44644 non-null  float64\n",
      " 16  dlvry_rgn2_nm          44644 non-null  object \n",
      " 17  dlvry_rgn3_nm          44644 non-null  object \n",
      " 18  outcome                44644 non-null  int64  \n",
      "dtypes: bool(1), float64(3), int64(4), object(11)\n",
      "memory usage: 6.5+ MB\n",
      "None\n"
     ]
    }
   ],
   "source": [
    "print(filtered_data.shape) #44,644\n",
    "print(filtered_data.info())"
   ]
  },
  {
   "cell_type": "code",
   "execution_count": 20,
   "metadata": {},
   "outputs": [],
   "source": [
    "dataset = filtered_data[['reg_hour', 'ord_price','actual_dlvry_distance', 'pick_floor', \n",
    "                         'pick_category', 'pick_건물용도','dlvry_지상층수', 'dlvry_지하층수',\n",
    "                         'dlvry_건물용도','day_of_week', 'is_holiday', '기온', '강수량', 'dlvry_rgn2_nm', 'outcome'\n",
    "                        ]]\n",
    "dataset.isna().sum()\n",
    "dataset.to_csv('prj-ML-model-LT_OV30/modeling_data_final.csv', index= False, encoding = \"utf-8\")"
   ]
  },
  {
   "attachments": {},
   "cell_type": "markdown",
   "metadata": {},
   "source": [
    "## 2-1. factor 변수 / one-hot-encoding"
   ]
  },
  {
   "cell_type": "code",
   "execution_count": 21,
   "metadata": {},
   "outputs": [
    {
     "name": "stdout",
     "output_type": "stream",
     "text": [
      "reg_hour                 category\n",
      "ord_price                   int64\n",
      "actual_dlvry_distance       int64\n",
      "pick_floor               category\n",
      "pick_category            category\n",
      "pick_건물용도                category\n",
      "dlvry_지상층수               category\n",
      "dlvry_지하층수                float64\n",
      "dlvry_건물용도               category\n",
      "day_of_week              category\n",
      "is_holiday               category\n",
      "기온                        float64\n",
      "강수량                       float64\n",
      "dlvry_rgn2_nm            category\n",
      "outcome                  category\n",
      "dtype: object\n"
     ]
    }
   ],
   "source": [
    "# category  \n",
    "for col in ['reg_hour','pick_floor',  'pick_category', 'pick_건물용도','dlvry_지상층수','dlvry_건물용도',\n",
    "            'day_of_week', 'is_holiday','dlvry_rgn2_nm', 'outcome' ] : \n",
    "    dataset[col] = dataset[col].astype('category')\n",
    "\n",
    "print(dataset.dtypes)"
   ]
  },
  {
   "cell_type": "code",
   "execution_count": 22,
   "metadata": {},
   "outputs": [
    {
     "name": "stdout",
     "output_type": "stream",
     "text": [
      "Index(['reg_hour_9', 'reg_hour_10', 'reg_hour_11', 'reg_hour_12',\n",
      "       'reg_hour_13', 'reg_hour_14', 'reg_hour_15', 'reg_hour_16',\n",
      "       'reg_hour_17', 'reg_hour_18', 'reg_hour_19', 'reg_hour_20',\n",
      "       'reg_hour_21', 'reg_hour_22', 'reg_hour_23', 'pick_floor_저층',\n",
      "       'pick_floor_중층', 'pick_floor_지하', 'pick_category_ASIAN',\n",
      "       'pick_category_BAEKBAN', 'pick_category_BURGER', 'pick_category_CAFE',\n",
      "       'pick_category_CHICKEN', 'pick_category_CHINESE',\n",
      "       'pick_category_JAPANESE', 'pick_category_JOKBAL', 'pick_category_MEAT',\n",
      "       'pick_category_PIZZA', 'pick_category_SNACK', 'pick_category_WESTERN',\n",
      "       'pick_category_ZZIM_TANG', 'pick_건물용도_공동주택', 'pick_건물용도_교육시설',\n",
      "       'pick_건물용도_근린생활시설', 'pick_건물용도_기타시설', 'pick_건물용도_대형판매점',\n",
      "       'pick_건물용도_백화점', 'pick_건물용도_숙박시설', 'pick_건물용도_아파트', 'pick_건물용도_업무시설',\n",
      "       'pick_건물용도_오피스텔', 'pick_건물용도_의료시설', 'pick_건물용도_일반상점', 'pick_건물용도_일반음식점',\n",
      "       'dlvry_지상층수_고층', 'dlvry_지상층수_저층', 'dlvry_지상층수_준초고층', 'dlvry_지상층수_중상층',\n",
      "       'dlvry_지상층수_중층', 'dlvry_지상층수_초고층', 'dlvry_건물용도_공공시설', 'dlvry_건물용도_공동주택',\n",
      "       'dlvry_건물용도_교육시설', 'dlvry_건물용도_근린생활시설', 'dlvry_건물용도_기타시설',\n",
      "       'dlvry_건물용도_숙박시설', 'dlvry_건물용도_아파트', 'dlvry_건물용도_업무시설',\n",
      "       'dlvry_건물용도_오피스텔', 'dlvry_건물용도_의료시설', 'dlvry_건물용도_일반상점',\n",
      "       'dlvry_건물용도_일반음식점', 'dlvry_건물용도_종교시설', 'day_of_week_Fri',\n",
      "       'day_of_week_Mon', 'day_of_week_Sat', 'day_of_week_Sun',\n",
      "       'day_of_week_Thu', 'day_of_week_Tue', 'day_of_week_Wed',\n",
      "       'is_holiday_0.0', 'is_holiday_1.0', 'dlvry_rgn2_nm_강남구',\n",
      "       'dlvry_rgn2_nm_과천시', 'dlvry_rgn2_nm_관악구', 'dlvry_rgn2_nm_동작구',\n",
      "       'dlvry_rgn2_nm_서초구', 'dlvry_rgn2_nm_용산구', 'ord_price',\n",
      "       'actual_dlvry_distance', 'dlvry_지하층수', '기온', '강수량', 'outcome'],\n",
      "      dtype='object')\n"
     ]
    }
   ],
   "source": [
    "var = ['reg_hour','pick_floor',  'pick_category', 'pick_건물용도','dlvry_지상층수','dlvry_건물용도',\n",
    "            'day_of_week', 'is_holiday','dlvry_rgn2_nm' ] \n",
    "encoder = OneHotEncoder()\n",
    "onehot = pd.DataFrame(encoder.fit_transform(dataset[var]).toarray(), columns=encoder.get_feature_names_out(var), index = dataset.index)\n",
    "dataset = pd.concat([onehot, dataset.drop(columns=var)], axis=1)\n",
    "\n",
    "print(dataset.columns)"
   ]
  },
  {
   "attachments": {},
   "cell_type": "markdown",
   "metadata": {},
   "source": [
    "## 2-2 numeric variables"
   ]
  },
  {
   "cell_type": "code",
   "execution_count": 23,
   "metadata": {},
   "outputs": [
    {
     "name": "stdout",
     "output_type": "stream",
     "text": [
      "   reg_hour_9  reg_hour_10  reg_hour_11  reg_hour_12  reg_hour_13  \\\n",
      "1         0.0          0.0          0.0          0.0          0.0   \n",
      "2         0.0          0.0          0.0          0.0          0.0   \n",
      "3         0.0          0.0          0.0          0.0          0.0   \n",
      "\n",
      "   reg_hour_14  reg_hour_15  reg_hour_16  reg_hour_17  reg_hour_18  ...  \\\n",
      "1          0.0          0.0          0.0          1.0          0.0  ...   \n",
      "2          0.0          0.0          0.0          0.0          1.0  ...   \n",
      "3          0.0          0.0          0.0          0.0          0.0  ...   \n",
      "\n",
      "   dlvry_rgn2_nm_관악구  dlvry_rgn2_nm_동작구  dlvry_rgn2_nm_서초구  dlvry_rgn2_nm_용산구  \\\n",
      "1                0.0                0.0                0.0                0.0   \n",
      "2                0.0                0.0                1.0                0.0   \n",
      "3                0.0                1.0                0.0                0.0   \n",
      "\n",
      "   ord_price  actual_dlvry_distance  dlvry_지하층수        기온  강수량  outcome  \n",
      "1   0.022385               0.350912    0.444444  0.653543  0.0        0  \n",
      "2   0.032218               0.244939    0.888889  0.637795  0.0        0  \n",
      "3   0.024895               0.228068    1.000000  0.566929  0.0        1  \n",
      "\n",
      "[3 rows x 84 columns]\n"
     ]
    }
   ],
   "source": [
    "#scaler = StandardScaler()  #평균 0 , 분산 1로 조정\n",
    "scaler = MinMaxScaler()\n",
    "\n",
    "num_vars = ['ord_price', 'actual_dlvry_distance', 'dlvry_지하층수', '기온', '강수량']\n",
    "dataset[num_vars] = scaler.fit_transform(dataset[num_vars])\n",
    "\n",
    "print(dataset.head(3))"
   ]
  },
  {
   "attachments": {},
   "cell_type": "markdown",
   "metadata": {},
   "source": [
    "## 3. train/test set split"
   ]
  },
  {
   "cell_type": "code",
   "execution_count": 24,
   "metadata": {},
   "outputs": [],
   "source": [
    "# set.seed(1234)\n",
    "# train_ratio = 0.75\n",
    "# total_samples = dataset.shape[0]\n",
    "# train_samples = int(train_ratio * total_samples)\n",
    "# train_set = dataset[:train_samples]\n",
    "# test_set = dataset[train_samples:]\n",
    "\n",
    "# print(train_set.shape) #33483\n",
    "# print(test_set.shape) #11161"
   ]
  },
  {
   "cell_type": "code",
   "execution_count": 25,
   "metadata": {},
   "outputs": [
    {
     "name": "stdout",
     "output_type": "stream",
     "text": [
      "outcome\n",
      "0    29112\n",
      "1     4371\n",
      "Name: count, dtype: int64\n",
      "outcome\n",
      "0    9704\n",
      "1    1457\n",
      "Name: count, dtype: int64\n",
      "(33483, 84)\n",
      "(11161, 84)\n"
     ]
    }
   ],
   "source": [
    "outcome_counts = dataset['outcome'].value_counts()\n",
    "train_set, test_set = train_test_split(dataset, test_size=0.25, stratify = dataset['outcome'], random_state=1234)\n",
    "\n",
    "train_outcome_counts = train_set['outcome'].value_counts()\n",
    "test_outcome_counts = test_set['outcome'].value_counts()\n",
    "\n",
    "print(train_outcome_counts)\n",
    "print(test_outcome_counts)\n",
    "\n",
    "print(train_set.shape) #33483\n",
    "print(test_set.shape) #11161"
   ]
  },
  {
   "cell_type": "code",
   "execution_count": 26,
   "metadata": {},
   "outputs": [
    {
     "name": "stdout",
     "output_type": "stream",
     "text": [
      "Index(['reg_hour_9', 'reg_hour_10', 'reg_hour_11', 'reg_hour_12',\n",
      "       'reg_hour_13', 'reg_hour_14', 'reg_hour_15', 'reg_hour_16',\n",
      "       'reg_hour_17', 'reg_hour_18', 'reg_hour_19', 'reg_hour_20',\n",
      "       'reg_hour_21', 'reg_hour_22', 'reg_hour_23', 'pick_floor_저층',\n",
      "       'pick_floor_중층', 'pick_floor_지하', 'pick_category_ASIAN',\n",
      "       'pick_category_BAEKBAN', 'pick_category_BURGER', 'pick_category_CAFE',\n",
      "       'pick_category_CHICKEN', 'pick_category_CHINESE',\n",
      "       'pick_category_JAPANESE', 'pick_category_JOKBAL', 'pick_category_MEAT',\n",
      "       'pick_category_PIZZA', 'pick_category_SNACK', 'pick_category_WESTERN',\n",
      "       'pick_category_ZZIM_TANG', 'pick_건물용도_공동주택', 'pick_건물용도_교육시설',\n",
      "       'pick_건물용도_근린생활시설', 'pick_건물용도_기타시설', 'pick_건물용도_대형판매점',\n",
      "       'pick_건물용도_백화점', 'pick_건물용도_숙박시설', 'pick_건물용도_아파트', 'pick_건물용도_업무시설',\n",
      "       'pick_건물용도_오피스텔', 'pick_건물용도_의료시설', 'pick_건물용도_일반상점', 'pick_건물용도_일반음식점',\n",
      "       'dlvry_지상층수_고층', 'dlvry_지상층수_저층', 'dlvry_지상층수_준초고층', 'dlvry_지상층수_중상층',\n",
      "       'dlvry_지상층수_중층', 'dlvry_지상층수_초고층', 'dlvry_건물용도_공공시설', 'dlvry_건물용도_공동주택',\n",
      "       'dlvry_건물용도_교육시설', 'dlvry_건물용도_근린생활시설', 'dlvry_건물용도_기타시설',\n",
      "       'dlvry_건물용도_숙박시설', 'dlvry_건물용도_아파트', 'dlvry_건물용도_업무시설',\n",
      "       'dlvry_건물용도_오피스텔', 'dlvry_건물용도_의료시설', 'dlvry_건물용도_일반상점',\n",
      "       'dlvry_건물용도_일반음식점', 'dlvry_건물용도_종교시설', 'day_of_week_Fri',\n",
      "       'day_of_week_Mon', 'day_of_week_Sat', 'day_of_week_Sun',\n",
      "       'day_of_week_Thu', 'day_of_week_Tue', 'day_of_week_Wed',\n",
      "       'is_holiday_0.0', 'is_holiday_1.0', 'dlvry_rgn2_nm_강남구',\n",
      "       'dlvry_rgn2_nm_과천시', 'dlvry_rgn2_nm_관악구', 'dlvry_rgn2_nm_동작구',\n",
      "       'dlvry_rgn2_nm_서초구', 'dlvry_rgn2_nm_용산구', 'ord_price',\n",
      "       'actual_dlvry_distance', 'dlvry_지하층수', '기온', '강수량'],\n",
      "      dtype='object')\n"
     ]
    }
   ],
   "source": [
    "X_train = train_set.drop(columns=['outcome'])\n",
    "y_train = train_set['outcome']\n",
    "\n",
    "X_test = test_set.drop(columns=['outcome'])\n",
    "y_test = test_set['outcome']\n",
    "\n",
    "print(X_train.columns)"
   ]
  },
  {
   "attachments": {},
   "cell_type": "markdown",
   "metadata": {},
   "source": [
    "## 4. modeling - Logistic Regression"
   ]
  },
  {
   "cell_type": "code",
   "execution_count": null,
   "metadata": {},
   "outputs": [],
   "source": [
    "def calculate_vif(data):\n",
    "    vif_data = pd.DataFrame()\n",
    "    vif_data[\"Variable\"] = data.columns\n",
    "    vif_data[\"VIF\"] = [variance_inflation_factor(data.values, i) for i in range(data.shape[1])]\n",
    "    return vif_data\n",
    "\n",
    "# 다중 공선성 확인\n",
    "vif_result = calculate_vif(X_train)\n",
    "print(vif_result)\n"
   ]
  },
  {
   "cell_type": "code",
   "execution_count": 32,
   "metadata": {},
   "outputs": [
    {
     "name": "stdout",
     "output_type": "stream",
     "text": [
      "                 Generalized Linear Model Regression Results                  \n",
      "==============================================================================\n",
      "Dep. Variable:                outcome   No. Observations:                33483\n",
      "Model:                            GLM   Df Residuals:                    33409\n",
      "Model Family:                Binomial   Df Model:                           73\n",
      "Link Function:                  Logit   Scale:                          1.0000\n",
      "Method:                          IRLS   Log-Likelihood:                -10471.\n",
      "Date:                Sun, 17 Sep 2023   Deviance:                       20942.\n",
      "Time:                        22:38:39   Pearson chi2:                 3.42e+04\n",
      "No. Iterations:                   100   Pseudo R-squ. (CS):             0.1388\n",
      "Covariance Type:            nonrobust                                         \n",
      "===========================================================================================\n",
      "                              coef    std err          z      P>|z|      [0.025      0.975]\n",
      "-------------------------------------------------------------------------------------------\n",
      "const                      -0.8512      0.103     -8.289      0.000      -1.053      -0.650\n",
      "reg_hour_9                 -0.0207      0.116     -0.179      0.858      -0.247       0.206\n",
      "reg_hour_10                -0.6765      0.089     -7.560      0.000      -0.852      -0.501\n",
      "reg_hour_11                -1.0991      0.065    -16.864      0.000      -1.227      -0.971\n",
      "reg_hour_12                -0.7659      0.065    -11.739      0.000      -0.894      -0.638\n",
      "reg_hour_13                -0.4993      0.077     -6.482      0.000      -0.650      -0.348\n",
      "reg_hour_14                 0.4352      0.067      6.449      0.000       0.303       0.567\n",
      "reg_hour_15                 0.4350      0.070      6.233      0.000       0.298       0.572\n",
      "reg_hour_16                 0.5222      0.063      8.256      0.000       0.398       0.646\n",
      "reg_hour_17                -0.5393      0.064     -8.378      0.000      -0.666      -0.413\n",
      "reg_hour_18                -0.7662      0.061    -12.611      0.000      -0.885      -0.647\n",
      "reg_hour_19                -0.6714      0.064    -10.435      0.000      -0.798      -0.545\n",
      "reg_hour_20                -0.2377      0.066     -3.614      0.000      -0.367      -0.109\n",
      "reg_hour_21                 0.9080      0.063     14.376      0.000       0.784       1.032\n",
      "reg_hour_22                 1.4988      0.068     21.907      0.000       1.365       1.633\n",
      "reg_hour_23                 0.6257      0.093      6.745      0.000       0.444       0.807\n",
      "pick_floor_저층              -0.8190      0.107     -7.654      0.000      -1.029      -0.609\n",
      "pick_floor_중층               0.6610      0.245      2.700      0.007       0.181       1.141\n",
      "pick_floor_지하              -0.6932      0.109     -6.334      0.000      -0.908      -0.479\n",
      "pick_category_ASIAN        -0.1285      0.106     -1.210      0.226      -0.337       0.080\n",
      "pick_category_BAEKBAN      -0.0974      0.058     -1.667      0.096      -0.212       0.017\n",
      "pick_category_BURGER        0.0838      0.064      1.307      0.191      -0.042       0.209\n",
      "pick_category_CAFE         -0.0776      0.049     -1.579      0.114      -0.174       0.019\n",
      "pick_category_CHICKEN      -0.2500      0.058     -4.280      0.000      -0.364      -0.136\n",
      "pick_category_CHINESE       0.0677      0.060      1.138      0.255      -0.049       0.184\n",
      "pick_category_JAPANESE     -0.1690      0.068     -2.485      0.013      -0.302      -0.036\n",
      "pick_category_JOKBAL       -0.2490      0.120     -2.079      0.038      -0.484      -0.014\n",
      "pick_category_MEAT          0.1101      0.074      1.484      0.138      -0.035       0.255\n",
      "pick_category_PIZZA         0.1724      0.075      2.286      0.022       0.025       0.320\n",
      "pick_category_SNACK        -0.1795      0.057     -3.155      0.002      -0.291      -0.068\n",
      "pick_category_WESTERN       0.0316      0.074      0.424      0.671      -0.114       0.178\n",
      "pick_category_ZZIM_TANG    -0.1659      0.066     -2.515      0.012      -0.295      -0.037\n",
      "pick_건물용도_공동주택             -0.2085      0.077     -2.721      0.007      -0.359      -0.058\n",
      "pick_건물용도_교육시설             -0.0887      0.098     -0.904      0.366      -0.281       0.104\n",
      "pick_건물용도_근린생활시설           -0.0547      0.058     -0.938      0.348      -0.169       0.060\n",
      "pick_건물용도_기타시설             -0.0318      0.121     -0.264      0.792      -0.268       0.205\n",
      "pick_건물용도_대형판매점            -0.2207      0.311     -0.709      0.478      -0.831       0.389\n",
      "pick_건물용도_백화점              -0.6426      0.166     -3.868      0.000      -0.968      -0.317\n",
      "pick_건물용도_숙박시설              0.0705      0.240      0.293      0.769      -0.401       0.542\n",
      "pick_건물용도_아파트               0.1510      0.063      2.393      0.017       0.027       0.275\n",
      "pick_건물용도_업무시설             -0.0933      0.052     -1.780      0.075      -0.196       0.009\n",
      "pick_건물용도_오피스텔              0.5476      0.200      2.740      0.006       0.156       0.939\n",
      "pick_건물용도_의료시설              0.0447      0.106      0.423      0.672      -0.162       0.252\n",
      "pick_건물용도_일반상점             -0.2653      0.072     -3.659      0.000      -0.407      -0.123\n",
      "pick_건물용도_일반음식점            -0.0593      0.066     -0.898      0.369      -0.189       0.070\n",
      "dlvry_지상층수_고층              -0.2458      0.064     -3.841      0.000      -0.371      -0.120\n",
      "dlvry_지상층수_저층              -0.2735      0.081     -3.366      0.001      -0.433      -0.114\n",
      "dlvry_지상층수_준초고층             0.1435      0.091      1.570      0.116      -0.036       0.323\n",
      "dlvry_지상층수_중상층             -0.3465      0.061     -5.657      0.000      -0.467      -0.226\n",
      "dlvry_지상층수_중층              -0.2605      0.067     -3.862      0.000      -0.393      -0.128\n",
      "dlvry_지상층수_초고층              0.1315      0.219      0.600      0.549      -0.298       0.561\n",
      "dlvry_건물용도_공공시설             0.6396      0.177      3.609      0.000       0.292       0.987\n",
      "dlvry_건물용도_공동주택            -0.3561      0.069     -5.192      0.000      -0.491      -0.222\n",
      "dlvry_건물용도_교육시설             0.1618      0.110      1.470      0.141      -0.054       0.377\n",
      "dlvry_건물용도_근린생활시설          -0.6064      0.116     -5.237      0.000      -0.833      -0.379\n",
      "dlvry_건물용도_기타시설            -0.0334      0.183     -0.183      0.855      -0.391       0.325\n",
      "dlvry_건물용도_숙박시설            -0.4160      0.177     -2.356      0.018      -0.762      -0.070\n",
      "dlvry_건물용도_아파트             -0.0659      0.081     -0.819      0.413      -0.224       0.092\n",
      "dlvry_건물용도_업무시설            -0.4134      0.074     -5.590      0.000      -0.558      -0.268\n",
      "dlvry_건물용도_오피스텔            -0.0616      0.422     -0.146      0.884      -0.889       0.766\n",
      "dlvry_건물용도_의료시설            -0.1722      0.147     -1.169      0.243      -0.461       0.117\n",
      "dlvry_건물용도_일반상점            -0.0398      0.110     -0.362      0.717      -0.256       0.176\n",
      "dlvry_건물용도_일반음식점           -0.0985      0.159     -0.620      0.535      -0.410       0.213\n",
      "dlvry_건물용도_종교시설             0.6108      0.279      2.192      0.028       0.065       1.157\n",
      "day_of_week_Fri            -0.2681      0.042     -6.452      0.000      -0.350      -0.187\n",
      "day_of_week_Mon            -0.7591      0.051    -15.031      0.000      -0.858      -0.660\n",
      "day_of_week_Sat            -0.0631      0.041     -1.540      0.123      -0.143       0.017\n",
      "day_of_week_Sun            -0.0894      0.040     -2.239      0.025      -0.168      -0.011\n",
      "day_of_week_Thu            -0.5125      0.049    -10.564      0.000      -0.608      -0.417\n",
      "day_of_week_Tue             0.2449      0.044      5.581      0.000       0.159       0.331\n",
      "day_of_week_Wed             0.5960      0.047     12.627      0.000       0.503       0.689\n",
      "is_holiday_0.0             -0.4306      0.054     -7.957      0.000      -0.537      -0.325\n",
      "is_holiday_1.0             -0.4206      0.053     -7.894      0.000      -0.525      -0.316\n",
      "dlvry_rgn2_nm_강남구          -1.0796      0.188     -5.755      0.000      -1.447      -0.712\n",
      "dlvry_rgn2_nm_과천시          -0.4603      0.276     -1.669      0.095      -1.001       0.080\n",
      "dlvry_rgn2_nm_관악구           0.0316      0.200      0.158      0.875      -0.361       0.425\n",
      "dlvry_rgn2_nm_동작구           0.2749      0.192      1.434      0.151      -0.101       0.651\n",
      "dlvry_rgn2_nm_서초구          -0.6508      0.185     -3.516      0.000      -1.014      -0.288\n",
      "dlvry_rgn2_nm_용산구           1.0329      0.967      1.068      0.286      -0.863       2.929\n",
      "ord_price                   3.5504      0.461      7.700      0.000       2.647       4.454\n",
      "actual_dlvry_distance       5.3437      0.119     44.894      0.000       5.110       5.577\n",
      "dlvry_지하층수                  0.3567      0.137      2.596      0.009       0.087       0.626\n",
      "기온                         -0.4843      0.115     -4.217      0.000      -0.709      -0.259\n",
      "강수량                        -0.2731      0.169     -1.619      0.105      -0.604       0.058\n",
      "===========================================================================================\n"
     ]
    }
   ],
   "source": [
    "glm_3 = sm.GLM(y_train, X_train, family = sm.families.Binomial())\n",
    "fit = glm_3.fit()\n",
    "print(fit.summary())"
   ]
  },
  {
   "cell_type": "code",
   "execution_count": 41,
   "metadata": {},
   "outputs": [
    {
     "name": "stdout",
     "output_type": "stream",
     "text": [
      "Cross-Validation Mean Accuracy: 0.8782963992329524\n"
     ]
    }
   ],
   "source": [
    "logit_model = LogisticRegression()\n",
    "cv_scores = cross_val_score(logit_model, X_train, y_train, cv=5, scoring='accuracy')\n",
    "mean_cv_accuracy = cv_scores.mean()\n",
    "print(\"Cross-Validation Mean Accuracy:\", mean_cv_accuracy)\n",
    "\n",
    "# logit_model.fit(X_train, y_train)\n",
    "# print(\"Model Coefficients:\", logit_model.coef_)\n"
   ]
  },
  {
   "cell_type": "code",
   "execution_count": null,
   "metadata": {},
   "outputs": [],
   "source": [
    "y_pred = logit_model.predict(X_test)\n",
    "\n",
    "threshold = 0.5\n",
    "y_pred_binary = (y_pred > threshold).astype(int)\n",
    "\n",
    "accuracy = accuracy_score(y_test, y_pred_binary)\n",
    "confusion_matrix = confusion_matrix(y_test, y_pred_binary)\n",
    "\n",
    "TP = confusion_matrix[1, 1]\n",
    "TN = confusion_matrix[0, 0]\n",
    "FP = confusion_matrix[0, 1]\n",
    "FN = confusion_matrix[1, 0]\n",
    "\n",
    "sensitivity = TP / (TP + FN)\n",
    "specificity = TN / (TN + FP)\n",
    "\n",
    "print(\"Accuracy:\", accuracy)\n",
    "print(\"Sensitivity:\", sensitivity)\n",
    "print(\"Specificity:\", specificity)\n"
   ]
  },
  {
   "cell_type": "code",
   "execution_count": null,
   "metadata": {},
   "outputs": [],
   "source": [
    "# X_train = sm.add_constant(X_train) \n",
    "# logit_model = sm.Logit(y_train, X_train)\n",
    "# result = logit_model.fit()\n",
    "\n",
    "# print(result.summary())\n",
    "\n",
    "# X_test = sm.add_constant(X_test) \n",
    "# y_pred = result.predict(X_test)  \n",
    "\n",
    "# y_pred_binary = (y_pred > 0.5).astype(int)\n",
    "\n",
    "# conf_matrix = confusion_matrix(y_test, y_pred_binary)\n",
    "# accuracy = accuracy_score(y_test, y_pred_binary)\n",
    "# sensitivity = conf_matrix[1, 1] / (conf_matrix[1, 0] + conf_matrix[1, 1])\n",
    "# specificity = conf_matrix[0, 0] / (conf_matrix[0, 0] + conf_matrix[0, 1])\n",
    "\n",
    "# print(\"\\nConfusion Matrix:\")\n",
    "# print(conf_matrix)\n",
    "# print(\"\\nAccuracy:\", accuracy)\n",
    "# print(\"Sensitivity (True Positive Rate):\", sensitivity)\n",
    "# print(\"Specificity (True Negative Rate):\", specificity)\n"
   ]
  },
  {
   "cell_type": "code",
   "execution_count": null,
   "metadata": {},
   "outputs": [],
   "source": [
    "# glm_2 = LogisticRegression(penalty='l2')\n",
    "# glm_2.fit(X_train, y_train)\n",
    "\n",
    "# variable_names = X_train.columns\n",
    "# coef = glm_2.coef_[0]\n",
    "\n",
    "# coef_table = pd.DataFrame({'Variable': variable_names, 'Coefficient': coef})\n",
    "\n",
    "# logit_model = sm.Logit(y_train, X_train)\n",
    "# result = logit_model.fit()\n",
    "# p_values = result.pvalues\n",
    "# coef_table['p-value'] = p_values\n",
    "\n",
    "# print(coef_table)\n",
    "# pred_glm = glm_2.predict(X_test)\n",
    "# class_report = classification_report(y_test, pred_glm)\n",
    "# print(class_report)"
   ]
  }
 ],
 "metadata": {
  "kernelspec": {
   "display_name": ".venv",
   "language": "python",
   "name": "python3"
  },
  "language_info": {
   "codemirror_mode": {
    "name": "ipython",
    "version": 3
   },
   "file_extension": ".py",
   "mimetype": "text/x-python",
   "name": "python",
   "nbconvert_exporter": "python",
   "pygments_lexer": "ipython3",
   "version": "3.9.6"
  },
  "orig_nbformat": 4
 },
 "nbformat": 4,
 "nbformat_minor": 2
}
