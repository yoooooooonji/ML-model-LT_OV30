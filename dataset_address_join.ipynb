{
 "cells": [
  {
   "attachments": {},
   "cell_type": "markdown",
   "metadata": {},
   "source": [
    "## 1. dataset join \n",
    "## 픽업지, 전달지 건물 정보 + raw_data join "
   ]
  },
  {
   "cell_type": "code",
   "execution_count": 9,
   "metadata": {},
   "outputs": [],
   "source": [
    "import pandas as pd\n",
    "import os "
   ]
  },
  {
   "cell_type": "code",
   "execution_count": 10,
   "metadata": {},
   "outputs": [
    {
     "name": "stdout",
     "output_type": "stream",
     "text": [
      "/Users/yj.noh/Documents/GitHub\n"
     ]
    }
   ],
   "source": [
    "os.chdir(\"/Users/yj.noh/Documents/GitHub\")\n",
    "print(os.getcwd())"
   ]
  },
  {
   "cell_type": "code",
   "execution_count": 11,
   "metadata": {},
   "outputs": [],
   "source": [
    "# dataload\n",
    "pick_floor = pd.read_excel(\"prj-ML-model-LT_OV30/pick_floor_data.xls\")\n",
    "pick_info = pd.read_excel(\"prj-ML-model-LT_OV30/address/shop_final.xls\")\n",
    "data = pd.read_excel(\"prj-ML-model-LT_OV30/raw_data_time.xlsx\")\n",
    "dlvry = pd.read_excel(\"prj-ML-model-LT_OV30/address/dlvry_final.xls\")"
   ]
  },
  {
   "cell_type": "code",
   "execution_count": 12,
   "metadata": {},
   "outputs": [
    {
     "name": "stdout",
     "output_type": "stream",
     "text": [
      "shop_no          0\n",
      "addr             0\n",
      "floor            0\n",
      "rgn1_nm          0\n",
      "rgn2_nm          0\n",
      "rgn3_nm          0\n",
      "shop_category    0\n",
      "latitude         0\n",
      "longitude        0\n",
      "PICK             0\n",
      "dtype: int64\n",
      "Latitude        0\n",
      "Longitude       0\n",
      "Address         0\n",
      "건물용도명         212\n",
      "지상층수_max      212\n",
      "지하층수_min      212\n",
      "주용도코드명       1484\n",
      "건물용도명_2       196\n",
      "dtype: int64\n",
      "dlvry_id                 0\n",
      "business_day             0\n",
      "reg_hour                 0\n",
      "service_type             0\n",
      "shop_no                  0\n",
      "ord_price                0\n",
      "notiOver                 0\n",
      "actual_dlvry_distance    0\n",
      "shop_loc_pnt_lat         0\n",
      "shop_loc_pnt_lon         0\n",
      "dlvry_loc_pnt_lat        0\n",
      "dlvry_loc_pnt_lon        0\n",
      "추천노출시간_AI                0\n",
      "추천노출시간_일반                0\n",
      "추천미발생시간유                 0\n",
      "추천미발생시간무                 0\n",
      "배차후취소시간                  0\n",
      "전체배차시간                   0\n",
      "notiOver_min_max         0\n",
      "per_display              0\n",
      "per_no_recomm            0\n",
      "dtype: int64\n",
      "Latitude         0\n",
      "Longitude        0\n",
      "Address          0\n",
      "건물용도명        13629\n",
      "지상층수_max     13629\n",
      "지하층수_min     13629\n",
      "주용도코드명       37378\n",
      "건물용도명_2      10585\n",
      "n                0\n",
      "dtype: int64\n"
     ]
    }
   ],
   "source": [
    "print(pick_floor.isna().sum())\n",
    "print(pick_info.isna().sum())\n",
    "print(data.isna().sum())\n",
    "print(dlvry.isna().sum())"
   ]
  },
  {
   "cell_type": "code",
   "execution_count": 13,
   "metadata": {},
   "outputs": [
    {
     "name": "stdout",
     "output_type": "stream",
     "text": [
      "(2935, 10)\n",
      "(1534, 8)\n",
      "(115823, 21)\n",
      "(46951, 9)\n"
     ]
    }
   ],
   "source": [
    "print(pick_floor.shape) #2935\n",
    "print(pick_info.shape) #1534\n",
    "print(data.shape) #115,823\n",
    "print(dlvry.shape) #46951"
   ]
  },
  {
   "cell_type": "code",
   "execution_count": 14,
   "metadata": {},
   "outputs": [
    {
     "name": "stdout",
     "output_type": "stream",
     "text": [
      "shop_no             0\n",
      "addr                0\n",
      "floor               0\n",
      "rgn1_nm             0\n",
      "rgn2_nm             0\n",
      "rgn3_nm             0\n",
      "shop_category       0\n",
      "latitude            0\n",
      "longitude           0\n",
      "PICK                0\n",
      "Latitude          782\n",
      "Longitude         782\n",
      "Address           782\n",
      "건물용도명_2          1091\n",
      "dtype: int64\n"
     ]
    }
   ],
   "source": [
    "# 픽업지 건물정보 join\n",
    "pick_floor = pd.merge(pick_floor, pick_info[['Latitude', 'Longitude', 'Address', '건물용도명_2']],\n",
    "                      left_on=['latitude', 'longitude'], right_on=['Latitude', 'Longitude'], how='left')\n",
    "print(pick_floor.isna().sum())"
   ]
  },
  {
   "cell_type": "code",
   "execution_count": 15,
   "metadata": {},
   "outputs": [],
   "source": [
    "# raw_data + 픽업지 정보\n",
    "data = pd.merge(data, pick_floor[['shop_no', 'floor', 'rgn2_nm', 'rgn3_nm', 'shop_category', '건물용도명_2', 'Address']], on='shop_no', how='left')\n",
    "data = data.rename(columns={\n",
    "    'floor': 'pick_floor',\n",
    "    'rgn2_nm': 'pick_rgn2_nm',\n",
    "    'rgn3_nm': 'pick_rgn3_nm',\n",
    "    '건물용도명_2': 'pick_건물용도',\n",
    "    'shop_category': 'pick_category',\n",
    "    'Address': 'pick_address'\n",
    "})"
   ]
  },
  {
   "cell_type": "code",
   "execution_count": 16,
   "metadata": {},
   "outputs": [],
   "source": [
    "dlvry['Latitude'] = pd.to_numeric(dlvry['Latitude'], errors='coerce')\n",
    "dlvry['Longitude'] = pd.to_numeric(dlvry['Longitude'], errors='coerce')\n",
    "data['dlvry_loc_pnt_lat'] = pd.to_numeric(data['dlvry_loc_pnt_lat'], errors='coerce')\n",
    "data['dlvry_loc_pnt_lon'] = pd.to_numeric(data['dlvry_loc_pnt_lon'], errors='coerce')\n",
    "\n",
    "dlvry['Latitude'] = dlvry['Latitude'].round(7).astype(str)\n",
    "dlvry['Longitude'] = dlvry['Longitude'].round(7).astype(str)\n",
    "data['dlvry_loc_pnt_lat'] = data['dlvry_loc_pnt_lat'].round(7).astype(str)\n",
    "data['dlvry_loc_pnt_lon'] = data['dlvry_loc_pnt_lon'].round(7).astype(str)\n"
   ]
  },
  {
   "cell_type": "code",
   "execution_count": 17,
   "metadata": {},
   "outputs": [
    {
     "name": "stdout",
     "output_type": "stream",
     "text": [
      "<class 'pandas.core.frame.DataFrame'>\n",
      "RangeIndex: 46951 entries, 0 to 46950\n",
      "Data columns (total 9 columns):\n",
      " #   Column     Non-Null Count  Dtype  \n",
      "---  ------     --------------  -----  \n",
      " 0   Latitude   46951 non-null  object \n",
      " 1   Longitude  46951 non-null  object \n",
      " 2   Address    46951 non-null  object \n",
      " 3   건물용도명      33322 non-null  object \n",
      " 4   지상층수_max   33322 non-null  float64\n",
      " 5   지하층수_min   33322 non-null  float64\n",
      " 6   주용도코드명     9573 non-null   object \n",
      " 7   건물용도명_2    36366 non-null  object \n",
      " 8   n          46951 non-null  int64  \n",
      "dtypes: float64(2), int64(1), object(6)\n",
      "memory usage: 3.2+ MB\n",
      "None\n",
      "<class 'pandas.core.frame.DataFrame'>\n",
      "RangeIndex: 115823 entries, 0 to 115822\n",
      "Data columns (total 27 columns):\n",
      " #   Column                 Non-Null Count   Dtype         \n",
      "---  ------                 --------------   -----         \n",
      " 0   dlvry_id               115823 non-null  object        \n",
      " 1   business_day           115823 non-null  datetime64[ns]\n",
      " 2   reg_hour               115823 non-null  int64         \n",
      " 3   service_type           115823 non-null  object        \n",
      " 4   shop_no                115823 non-null  int64         \n",
      " 5   ord_price              115823 non-null  int64         \n",
      " 6   notiOver               115823 non-null  int64         \n",
      " 7   actual_dlvry_distance  115823 non-null  int64         \n",
      " 8   shop_loc_pnt_lat       115823 non-null  float64       \n",
      " 9   shop_loc_pnt_lon       115823 non-null  float64       \n",
      " 10  dlvry_loc_pnt_lat      115823 non-null  object        \n",
      " 11  dlvry_loc_pnt_lon      115823 non-null  object        \n",
      " 12  추천노출시간_AI              115823 non-null  float64       \n",
      " 13  추천노출시간_일반              115823 non-null  float64       \n",
      " 14  추천미발생시간유               115823 non-null  float64       \n",
      " 15  추천미발생시간무               115823 non-null  float64       \n",
      " 16  배차후취소시간                115823 non-null  float64       \n",
      " 17  전체배차시간                 115823 non-null  float64       \n",
      " 18  notiOver_min_max       115823 non-null  float64       \n",
      " 19  per_display            115823 non-null  float64       \n",
      " 20  per_no_recomm          115823 non-null  float64       \n",
      " 21  pick_floor             115647 non-null  float64       \n",
      " 22  pick_rgn2_nm           115647 non-null  object        \n",
      " 23  pick_rgn3_nm           115647 non-null  object        \n",
      " 24  pick_category          115647 non-null  object        \n",
      " 25  pick_건물용도              102813 non-null  object        \n",
      " 26  pick_address           115385 non-null  object        \n",
      "dtypes: datetime64[ns](1), float64(12), int64(5), object(9)\n",
      "memory usage: 23.9+ MB\n",
      "None\n"
     ]
    }
   ],
   "source": [
    "print(dlvry.info())\n",
    "print(data.info())"
   ]
  },
  {
   "cell_type": "code",
   "execution_count": 18,
   "metadata": {},
   "outputs": [],
   "source": [
    "data = pd.merge(data, dlvry[['Latitude', 'Longitude', 'Address', '지상층수_max', '지하층수_min', '건물용도명_2']],\n",
    "                left_on=['dlvry_loc_pnt_lat', 'dlvry_loc_pnt_lon'], right_on=['Latitude', 'Longitude'], how='left')\n",
    "data = data.rename(columns={\n",
    "    'Address': 'dlvry_address',\n",
    "    '지상층수_max': 'dlvry_지상층수',\n",
    "    '지하층수_min': 'dlvry_지하층수',\n",
    "    '건물용도명_2': 'dlvry_건물용도'\n",
    "})"
   ]
  },
  {
   "cell_type": "code",
   "execution_count": 19,
   "metadata": {},
   "outputs": [],
   "source": [
    "cols_to_replace_na = [\"pick_floor\", \"pick_rgn2_nm\", \"pick_rgn3_nm\", \"pick_category\", \"pick_건물용도\", \"pick_address\", \"dlvry_address\", \"dlvry_지상층수\", \"dlvry_지하층수\", \"dlvry_건물용도\"]\n",
    "for col in cols_to_replace_na:\n",
    "    data[col] = data[col].where(data[col] != 'NA')\n",
    "\n",
    "#print(data.isna().sum())\n",
    "\n",
    "data.to_csv(\"prj-ML-model-LT_OV30/raw_data_final.csv\", encoding=\"utf-8\", index=False)"
   ]
  }
 ],
 "metadata": {
  "kernelspec": {
   "display_name": "Python 3",
   "language": "python",
   "name": "python3"
  },
  "language_info": {
   "codemirror_mode": {
    "name": "ipython",
    "version": 3
   },
   "file_extension": ".py",
   "mimetype": "text/x-python",
   "name": "python",
   "nbconvert_exporter": "python",
   "pygments_lexer": "ipython3",
   "version": "3.9.6"
  },
  "orig_nbformat": 4
 },
 "nbformat": 4,
 "nbformat_minor": 2
}
