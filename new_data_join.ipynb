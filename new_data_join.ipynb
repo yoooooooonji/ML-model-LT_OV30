{
 "cells": [
  {
   "cell_type": "code",
   "execution_count": 31,
   "metadata": {},
   "outputs": [
    {
     "name": "stdout",
     "output_type": "stream",
     "text": [
      "/Users/yj.noh/Documents/GitHub\n"
     ]
    }
   ],
   "source": [
    "import pandas as pd\n",
    "import numpy as np\n",
    "import os\n",
    "import requests\n",
    "import matplotlib.pyplot as plt\n",
    "import statsmodels.api as sm\n",
    "from datetime import datetime\n",
    "import seaborn as sns\n",
    "from sklearn.preprocessing import OneHotEncoder\n",
    "from sklearn.preprocessing import StandardScaler\n",
    "from sklearn.preprocessing import MinMaxScaler\n",
    "from sklearn.linear_model import LogisticRegression\n",
    "from sklearn.model_selection import train_test_split, cross_val_score\n",
    "from sklearn.metrics import log_loss, roc_auc_score, recall_score, precision_score, average_precision_score, f1_score, classification_report, accuracy_score,confusion_matrix, silhouette_score\n",
    "from statsmodels.stats.outliers_influence import variance_inflation_factor\n",
    "\n",
    "from sklearn.cluster import KMeans, AgglomerativeClustering, DBSCAN\n",
    "from sklearn.datasets import make_blobs\n",
    "\n",
    "\n",
    "import warnings\n",
    "warnings.filterwarnings(\"ignore\")\n",
    "os.chdir(\"/Users/yj.noh/Documents/GitHub\")\n",
    "print(os.getcwd())"
   ]
  },
  {
   "attachments": {},
   "cell_type": "markdown",
   "metadata": {},
   "source": [
    "## 1. 위경도 - 지번주소 변환"
   ]
  },
  {
   "cell_type": "code",
   "execution_count": 32,
   "metadata": {},
   "outputs": [],
   "source": [
    "# 픽업지 지번 주소 추출 \n",
    "\n",
    "# apiurl = \"https://api.vworld.kr/req/address\"\n",
    "# api_key = \"57C428EF-A97E-3028-9BF6-734745493260\"\n",
    "\n",
    "# data = pd.read_csv('prj-ML-model-LT_OV30/new_data_pick_address.csv', encoding=\"utf-8\")\n",
    "\n",
    "# shop_results = []\n",
    "\n",
    "# for index, row in data.iterrows():\n",
    "#     lat = row['shop_loc_pnt_lat']\n",
    "#     lon = row['shop_loc_pnt_lon']\n",
    "    \n",
    "#     # 픽업지 주소 추출\n",
    "#     params_shop = {\n",
    "#         \"service\": \"address\",\n",
    "#         \"request\": \"getaddress\",\n",
    "#         \"crs\": \"epsg:4326\",\n",
    "#         \"point\": f\"{lon},{lat}\",  # 경도, 위도 순서로 입력\n",
    "#         \"format\": \"json\",\n",
    "#         \"type\": \"parcel\",\n",
    "#         \"key\": api_key\n",
    "#     }\n",
    "    \n",
    "#     response_shop = requests.get(apiurl, params=params_shop)\n",
    "    \n",
    "#     if response_shop.status_code == 200:\n",
    "#         result_shop = response_shop.json()\n",
    "#         shop_address = result_shop['response']['result'][0]['text']  # 매장의 지번 주소\n",
    "            \n",
    "#     shop_results.append({\n",
    "#         \"Latitude\": lat,\n",
    "#         \"Longitude\": lon,\n",
    "#         \"Address\": shop_address\n",
    "#         })\n",
    "    \n",
    "# shop_result = pd.DataFrame(shop_results)\n",
    "# shop_result.to_csv('prj-ML-model-LT_OV30/new_data_shop_result.csv', index=False, encoding=\"cp949\")"
   ]
  },
  {
   "cell_type": "code",
   "execution_count": 33,
   "metadata": {},
   "outputs": [],
   "source": [
    "\n",
    "# apiurl = \"https://api.vworld.kr/req/address\"\n",
    "# api_key = \"57C428EF-A97E-3028-9BF6-734745493260\"\n",
    "\n",
    "# data = pd.read_csv('prj-ML-model-LT_OV30/new_data_dlvry_address.csv', encoding=\"utf-8\")\n",
    "\n",
    "# dlvry_results = []\n",
    "\n",
    "# for index, row in data.iterrows():\n",
    "#     lat = row['dlvry_loc_pnt_lat']\n",
    "#     lon = row['dlvry_loc_pnt_lon']\n",
    "    \n",
    "#     # 픽업지 주소 추출\n",
    "#     params_shop = {\n",
    "#         \"service\": \"address\",\n",
    "#         \"request\": \"getaddress\",\n",
    "#         \"crs\": \"epsg:4326\",\n",
    "#         \"point\": f\"{lon},{lat}\",  # 경도, 위도 순서로 입력\n",
    "#         \"format\": \"json\",\n",
    "#         \"type\": \"parcel\",\n",
    "#         \"key\": api_key\n",
    "#     }\n",
    "    \n",
    "#     response_shop = requests.get(apiurl, params=params_shop)\n",
    "    \n",
    "#     if response_shop.status_code == 200:\n",
    "#         result_shop = response_shop.json()\n",
    "#         shop_address = result_shop['response']['result'][0]['text']  # 매장의 지번 주소\n",
    "            \n",
    "#     dlvry_results.append({\n",
    "#         \"Latitude\": lat,\n",
    "#         \"Longitude\": lon,\n",
    "#         \"Address\": shop_address\n",
    "#         })\n",
    "    \n",
    "# dlvry_result = pd.DataFrame(dlvry_results)\n",
    "# dlvry_result.to_csv('prj-ML-model-LT_OV30/new_data_dlvry_result.csv', index=False, encoding=\"cp949\")"
   ]
  },
  {
   "attachments": {},
   "cell_type": "markdown",
   "metadata": {},
   "source": [
    "## 2. 지번주소 - 건축물대장 join"
   ]
  },
  {
   "cell_type": "code",
   "execution_count": 34,
   "metadata": {},
   "outputs": [],
   "source": [
    "# dataload\n",
    "#픽업지 층 데이터\n",
    "pick_floor = pd.read_excel(\"prj-ML-model-LT_OV30/pick_floor_data.xls\")\n",
    "\n",
    "#픽업지/전달지 지번주소 데이터\n",
    "pick = pd.read_csv(\"prj-ML-model-LT_OV30/address/new_data_shop_result.csv\", encoding = \"cp949\")\n",
    "dlvry = pd.read_csv(\"prj-ML-model-LT_OV30/address/new_data_dlvry_result.csv\", encoding = \"cp949\")\n",
    "\n",
    "# 건축물대장 데이터\n",
    "info_1 = pd.read_csv('/Users/yj.noh/Documents/GitHub/prj-ML-model-LT_OV30/address/건축물정보/building_final.csv', encoding = \"cp949\")\n",
    "info_2 = pd.read_csv('/Users/yj.noh/Documents/GitHub/prj-ML-model-LT_OV30/address/건축물대장_all.csv', encoding = \"cp949\")\n"
   ]
  },
  {
   "cell_type": "code",
   "execution_count": 35,
   "metadata": {},
   "outputs": [
    {
     "name": "stdout",
     "output_type": "stream",
     "text": [
      "             Address  건물용도명  지상층수_max  지하층수_min  n  pick  dlvry\n",
      "0  서울특별시 서초구 방배동 1-3  일반음식점       6.0         2  1     1      1\n",
      "1  서울특별시 서초구 방배동 1-4   공동주택       2.0         1  1     1      1\n"
     ]
    }
   ],
   "source": [
    "info_1.rename(columns={'address':'Address'},inplace = True)\n",
    "print(info_1.head(2)) # address로 pick, dlvry join"
   ]
  },
  {
   "cell_type": "code",
   "execution_count": 36,
   "metadata": {},
   "outputs": [
    {
     "name": "stdout",
     "output_type": "stream",
     "text": [
      "       건축면적  부속건축물면적  부속건축물수   건폐율  법정동코드            건물명   블록  번  외필지수  \\\n",
      "0  41238.98      0.0       0  4.58  10900  전투원대기숙소외 236동  NaN  1   172   \n",
      "1    419.48      0.0       0  0.00  10900            NaN  NaN  1     0   \n",
      "\n",
      "       생성일자  ...  대장종류코드명 순번  시군구코드 특수지명  착공일       연면적  총주차수  사용승인일   용적률  \\\n",
      "0  20220705  ...    총괄표제부  1  11650  NaN  NaN  56267.51     0    NaN  6.11   \n",
      "1  20200801  ...    총괄표제부  2  11650  NaN  NaN    419.48     0    NaN  0.00   \n",
      "\n",
      "   용적률산정연면적  \n",
      "0  55056.45  \n",
      "1    388.74  \n",
      "\n",
      "[2 rows x 65 columns]\n"
     ]
    }
   ],
   "source": [
    "info_2.rename(columns = {'대지위치' : 'Address'}, inplace = True)\n",
    "print(info_2.head(2))"
   ]
  },
  {
   "cell_type": "code",
   "execution_count": 37,
   "metadata": {},
   "outputs": [
    {
     "name": "stdout",
     "output_type": "stream",
     "text": [
      "(1336, 3)\n",
      "Latitude     0\n",
      "Longitude    0\n",
      "Address      0\n",
      "dtype: int64\n"
     ]
    }
   ],
   "source": [
    "print(pick.shape) #1,336\n",
    "print(pick.isna().sum())"
   ]
  },
  {
   "cell_type": "code",
   "execution_count": 38,
   "metadata": {},
   "outputs": [
    {
     "name": "stdout",
     "output_type": "stream",
     "text": [
      "(17824, 3)\n",
      "Latitude     0\n",
      "Longitude    0\n",
      "Address      0\n",
      "dtype: int64\n"
     ]
    }
   ],
   "source": [
    "print(dlvry.shape) # 17,824\n",
    "print(dlvry.isna().sum()) "
   ]
  },
  {
   "cell_type": "code",
   "execution_count": 39,
   "metadata": {},
   "outputs": [
    {
     "name": "stdout",
     "output_type": "stream",
     "text": [
      "Index(['Address', '건물용도명', '지상층수_max', '지하층수_min', 'n', 'pick', 'dlvry'], dtype='object')\n",
      "Index(['Latitude', 'Longitude', 'Address'], dtype='object')\n"
     ]
    }
   ],
   "source": [
    "info_1_pick = info_1[info_1['pick'] == 1]\n",
    "info_1_dlvry = info_1[info_1['dlvry'] == 1]\n",
    "\n",
    "print(info_1_pick.columns)\n",
    "print(pick.columns)"
   ]
  },
  {
   "attachments": {},
   "cell_type": "markdown",
   "metadata": {},
   "source": [
    "## 2-1. info_1 join"
   ]
  },
  {
   "cell_type": "code",
   "execution_count": 40,
   "metadata": {},
   "outputs": [
    {
     "name": "stdout",
     "output_type": "stream",
     "text": [
      "Latitude       0\n",
      "Longitude      0\n",
      "Address        0\n",
      "건물용도명        183\n",
      "dtype: int64\n",
      "(1336, 4)\n"
     ]
    }
   ],
   "source": [
    "pick = pd.merge(pick, info_1_pick[['Address', '건물용도명']], \n",
    "                left_on = ['Address'], right_on = ['Address'], how = 'left')\n",
    "\n",
    "print(pick.isna().sum()) #183개\n",
    "print(pick.shape)"
   ]
  },
  {
   "cell_type": "code",
   "execution_count": 41,
   "metadata": {},
   "outputs": [
    {
     "name": "stdout",
     "output_type": "stream",
     "text": [
      "Index(['Address', '건물용도명', '지상층수_max', '지하층수_min', 'n', 'pick', 'dlvry'], dtype='object')\n"
     ]
    }
   ],
   "source": [
    "print(info_1_dlvry.columns)"
   ]
  },
  {
   "cell_type": "code",
   "execution_count": 42,
   "metadata": {},
   "outputs": [
    {
     "name": "stdout",
     "output_type": "stream",
     "text": [
      "Latitude        0\n",
      "Longitude       0\n",
      "Address         0\n",
      "건물용도명        5125\n",
      "지상층수_max     5125\n",
      "지하층수_min     5125\n",
      "dtype: int64\n",
      "(17824, 6)\n"
     ]
    }
   ],
   "source": [
    "dlvry = pd.merge(dlvry, info_1_dlvry[['Address', '건물용도명', '지상층수_max', '지하층수_min']], \n",
    "                left_on = ['Address'], right_on = ['Address'], how = 'left')\n",
    "\n",
    "print(dlvry.isna().sum()) # 5,125개\n",
    "print(dlvry.shape)"
   ]
  },
  {
   "attachments": {},
   "cell_type": "markdown",
   "metadata": {},
   "source": [
    "## 2-2. info_2 join"
   ]
  },
  {
   "cell_type": "code",
   "execution_count": 43,
   "metadata": {},
   "outputs": [],
   "source": [
    "info_2 = info_2[[\"주용도코드명\", \"Address\"]]\n",
    "pick = pd.merge(pick, info_2, \n",
    "                left_on=\"Address\", right_on=\"Address\", how=\"left\")\n",
    "\n",
    "dlvry = pd.merge(dlvry, info_2, \n",
    "                 left_on=\"Address\", right_on=\"Address\", how=\"left\")\n",
    "\n",
    "\n",
    "pick[\"건물용도명_2\"] = pick.apply(lambda row: row[\"주용도코드명\"] if pd.isna(row[\"건물용도명\"]) else row[\"건물용도명\"], axis=1)\n",
    "dlvry[\"건물용도명_2\"] = dlvry.apply(lambda row: row[\"주용도코드명\"] if pd.isna(row[\"건물용도명\"]) else row[\"건물용도명\"], axis=1)\n"
   ]
  },
  {
   "cell_type": "code",
   "execution_count": 44,
   "metadata": {},
   "outputs": [
    {
     "name": "stdout",
     "output_type": "stream",
     "text": [
      "Latitude        0\n",
      "Longitude       0\n",
      "Address         0\n",
      "건물용도명         183\n",
      "주용도코드명       1292\n",
      "건물용도명_2       169\n",
      "dtype: int64\n",
      "(1336, 6)\n"
     ]
    }
   ],
   "source": [
    "print(pick.isna().sum()) # 169\n",
    "print(pick.shape) #1336"
   ]
  },
  {
   "cell_type": "code",
   "execution_count": 45,
   "metadata": {},
   "outputs": [
    {
     "name": "stdout",
     "output_type": "stream",
     "text": [
      "Latitude         0\n",
      "Longitude        0\n",
      "Address          0\n",
      "건물용도명         5131\n",
      "지상층수_max      5131\n",
      "지하층수_min      5131\n",
      "주용도코드명       13793\n",
      "건물용도명_2       3823\n",
      "dtype: int64\n",
      "(17835, 8)\n"
     ]
    }
   ],
   "source": [
    "print(dlvry.isna().sum()) # 3823\n",
    "print(dlvry.shape) #17835"
   ]
  },
  {
   "attachments": {},
   "cell_type": "markdown",
   "metadata": {},
   "source": [
    "## 2-3. 픽업지 층수 데이터 join"
   ]
  },
  {
   "cell_type": "code",
   "execution_count": 46,
   "metadata": {},
   "outputs": [
    {
     "name": "stdout",
     "output_type": "stream",
     "text": [
      "(2935, 10)\n"
     ]
    }
   ],
   "source": [
    "pick_floor.rename(columns = {'longitude' : 'Longitude', 'latitude' : 'Latitude', 'addr' : 'Address'}, inplace = True)\n",
    "print(pick_floor.shape) #2935"
   ]
  },
  {
   "cell_type": "code",
   "execution_count": 47,
   "metadata": {},
   "outputs": [
    {
     "name": "stdout",
     "output_type": "stream",
     "text": [
      "Index(['shop_no', 'Address', 'floor', 'rgn1_nm', 'rgn2_nm', 'rgn3_nm',\n",
      "       'shop_category', 'Latitude', 'Longitude', 'PICK'],\n",
      "      dtype='object')\n",
      "Index(['Latitude', 'Longitude', 'Address', '건물용도명', '주용도코드명', '건물용도명_2'], dtype='object')\n"
     ]
    }
   ],
   "source": [
    "print(pick_floor.columns)\n",
    "print(pick.columns)"
   ]
  },
  {
   "cell_type": "code",
   "execution_count": 48,
   "metadata": {},
   "outputs": [
    {
     "name": "stdout",
     "output_type": "stream",
     "text": [
      "shop_no             0\n",
      "Address             0\n",
      "floor               0\n",
      "rgn1_nm             0\n",
      "rgn2_nm             0\n",
      "rgn3_nm             0\n",
      "shop_category       0\n",
      "Latitude            0\n",
      "Longitude           0\n",
      "PICK                0\n",
      "건물용도명_2          1272\n",
      "dtype: int64\n",
      "(2935, 11)\n"
     ]
    }
   ],
   "source": [
    "# 픽업지 건물정보 join\n",
    "pick_floor = pd.merge(pick_floor, pick[['Latitude', 'Longitude', '건물용도명_2']],\n",
    "                      left_on=['Latitude', 'Longitude'], right_on=['Latitude', 'Longitude'], how='left')\n",
    "print(pick_floor.isna().sum())\n",
    "print(pick_floor.shape) #2,935"
   ]
  },
  {
   "attachments": {},
   "cell_type": "markdown",
   "metadata": {},
   "source": [
    "## 3. raw_data join"
   ]
  },
  {
   "cell_type": "code",
   "execution_count": 49,
   "metadata": {},
   "outputs": [
    {
     "name": "stdout",
     "output_type": "stream",
     "text": [
      "            dlvry_id business_day  reg_hour service_type   shop_no  ord_price  \\\n",
      "0  20230916_1540YBKT   2023-09-16        22          배민1  14150430      17500   \n",
      "1  20230915_6952RRHU   2023-09-15        11          배민1  10643316      62500   \n",
      "\n",
      "   notiOver  actual_dlvry_distance  shop_loc_pnt_lat  shop_loc_pnt_lon  ...  \\\n",
      "0         0                    566         37.481687        126.992855  ...   \n",
      "1         0                    551         37.505045        127.022297  ...   \n",
      "\n",
      "   dlvry_loc_pnt_lon  추천노출시간_AI  추천노출시간_일반   추천미발생시간유  추천미발생시간무  배차후취소시간  \\\n",
      "0         126.992994   0.416667        0.0  21.950000  2.383333      0.0   \n",
      "1         127.024574   0.850000        0.0   0.333333  0.166667      0.0   \n",
      "\n",
      "   전체배차시간  notiOver_min_max  per_display  per_no_recomm  \n",
      "0   24.75               0.0     1.683502      98.316498  \n",
      "1    1.35               0.0    62.962963      37.037037  \n",
      "\n",
      "[2 rows x 21 columns]\n",
      "(27654, 21)\n"
     ]
    }
   ],
   "source": [
    "data = pd.read_csv('/Users/yj.noh/Documents/GitHub/prj-ML-model-LT_OV30/new_data.csv', encoding = 'utf-8')\n",
    "print(data.head(2))\n",
    "print(data.shape) #27654"
   ]
  },
  {
   "cell_type": "code",
   "execution_count": 50,
   "metadata": {},
   "outputs": [],
   "source": [
    "# raw_data + 픽업지 정보\n",
    "data = pd.merge(data, pick_floor[['shop_no', 'floor', 'rgn2_nm', 'rgn3_nm', 'shop_category', '건물용도명_2', 'Address']], on='shop_no', how='left')\n",
    "data = data.rename(columns={\n",
    "    'floor': 'pick_floor',\n",
    "    'rgn2_nm': 'pick_rgn2_nm',\n",
    "    'rgn3_nm': 'pick_rgn3_nm',\n",
    "    '건물용도명_2': 'pick_건물용도',\n",
    "    'shop_category': 'pick_category',\n",
    "    'Address': 'pick_address'\n",
    "})"
   ]
  },
  {
   "cell_type": "code",
   "execution_count": 51,
   "metadata": {},
   "outputs": [],
   "source": [
    "dlvry['Latitude'] = pd.to_numeric(dlvry['Latitude'], errors='coerce')\n",
    "dlvry['Longitude'] = pd.to_numeric(dlvry['Longitude'], errors='coerce')\n",
    "data['dlvry_loc_pnt_lat'] = pd.to_numeric(data['dlvry_loc_pnt_lat'], errors='coerce')\n",
    "data['dlvry_loc_pnt_lon'] = pd.to_numeric(data['dlvry_loc_pnt_lon'], errors='coerce')\n",
    "\n",
    "dlvry['Latitude'] = dlvry['Latitude'].round(7).astype(str)\n",
    "dlvry['Longitude'] = dlvry['Longitude'].round(7).astype(str)\n",
    "data['dlvry_loc_pnt_lat'] = data['dlvry_loc_pnt_lat'].round(7).astype(str)\n",
    "data['dlvry_loc_pnt_lon'] = data['dlvry_loc_pnt_lon'].round(7).astype(str)"
   ]
  },
  {
   "cell_type": "code",
   "execution_count": 52,
   "metadata": {},
   "outputs": [],
   "source": [
    "# raw_data + 전달지 정보\n",
    "data = pd.merge(data, dlvry[['Latitude', 'Longitude', 'Address', '지상층수_max', '지하층수_min', '건물용도명_2']],\n",
    "                left_on=['dlvry_loc_pnt_lat', 'dlvry_loc_pnt_lon'], right_on=['Latitude', 'Longitude'], how='left')\n",
    "data = data.rename(columns={\n",
    "    'Address': 'dlvry_address',\n",
    "    '지상층수_max': 'dlvry_지상층수',\n",
    "    '지하층수_min': 'dlvry_지하층수',\n",
    "    '건물용도명_2': 'dlvry_건물용도'\n",
    "})"
   ]
  },
  {
   "cell_type": "code",
   "execution_count": 53,
   "metadata": {},
   "outputs": [
    {
     "name": "stdout",
     "output_type": "stream",
     "text": [
      "dlvry_id                    0\n",
      "business_day                0\n",
      "reg_hour                    0\n",
      "service_type                0\n",
      "shop_no                     0\n",
      "ord_price                   0\n",
      "notiOver                    0\n",
      "actual_dlvry_distance       0\n",
      "shop_loc_pnt_lat            0\n",
      "shop_loc_pnt_lon            0\n",
      "dlvry_loc_pnt_lat           0\n",
      "dlvry_loc_pnt_lon           0\n",
      "추천노출시간_AI                   0\n",
      "추천노출시간_일반                   0\n",
      "추천미발생시간유                    0\n",
      "추천미발생시간무                    0\n",
      "배차후취소시간                     0\n",
      "전체배차시간                      0\n",
      "notiOver_min_max            0\n",
      "per_display                 0\n",
      "per_no_recomm               0\n",
      "pick_floor                115\n",
      "pick_rgn2_nm              115\n",
      "pick_rgn3_nm              115\n",
      "pick_category             115\n",
      "pick_건물용도                3235\n",
      "pick_address              115\n",
      "Latitude                 1214\n",
      "Longitude                1214\n",
      "dlvry_address            1214\n",
      "dlvry_지상층수               9736\n",
      "dlvry_지하층수               9736\n",
      "dlvry_건물용도               7135\n",
      "dtype: int64\n"
     ]
    }
   ],
   "source": [
    "print(data.isna().sum())"
   ]
  },
  {
   "cell_type": "code",
   "execution_count": 54,
   "metadata": {},
   "outputs": [],
   "source": [
    "cols_to_replace_na = [\"pick_floor\", \"pick_rgn2_nm\", \"pick_rgn3_nm\", \"pick_category\", \"pick_건물용도\", \"pick_address\", \"dlvry_address\", \"dlvry_지상층수\", \"dlvry_지하층수\", \"dlvry_건물용도\"]\n",
    "for col in cols_to_replace_na:\n",
    "    data[col] = data[col].where(data[col] != 'NA')"
   ]
  },
  {
   "cell_type": "code",
   "execution_count": 55,
   "metadata": {},
   "outputs": [
    {
     "name": "stdout",
     "output_type": "stream",
     "text": [
      "(18213, 33)\n",
      "dlvry_id                    0\n",
      "business_day                0\n",
      "reg_hour                    0\n",
      "service_type                0\n",
      "shop_no                     0\n",
      "ord_price                   0\n",
      "notiOver                    0\n",
      "actual_dlvry_distance       0\n",
      "shop_loc_pnt_lat            0\n",
      "shop_loc_pnt_lon            0\n",
      "dlvry_loc_pnt_lat           0\n",
      "dlvry_loc_pnt_lon           0\n",
      "추천노출시간_AI                   0\n",
      "추천노출시간_일반                   0\n",
      "추천미발생시간유                    0\n",
      "추천미발생시간무                    0\n",
      "배차후취소시간                     0\n",
      "전체배차시간                      0\n",
      "notiOver_min_max            0\n",
      "per_display                 0\n",
      "per_no_recomm               0\n",
      "pick_floor                  0\n",
      "pick_rgn2_nm                0\n",
      "pick_rgn3_nm                0\n",
      "pick_category               0\n",
      "pick_건물용도                   0\n",
      "pick_address                0\n",
      "Latitude                    0\n",
      "Longitude                   0\n",
      "dlvry_address               0\n",
      "dlvry_지상층수               2310\n",
      "dlvry_지하층수               2310\n",
      "dlvry_건물용도                  0\n",
      "dtype: int64\n"
     ]
    }
   ],
   "source": [
    "data = data[(data['pick_건물용도'].notna()) & (data['dlvry_건물용도'].notna())]\n",
    "print(data.shape) # 18213\n",
    "print(data.isna().sum()) \n"
   ]
  },
  {
   "attachments": {},
   "cell_type": "markdown",
   "metadata": {},
   "source": [
    "## 4. is_holiday, 요일 파생변수 생성"
   ]
  },
  {
   "cell_type": "code",
   "execution_count": 56,
   "metadata": {},
   "outputs": [
    {
     "name": "stdout",
     "output_type": "stream",
     "text": [
      "day_of_week\n",
      "Sat    6338\n",
      "Sun    6120\n",
      "Fri    5755\n",
      "Name: count, dtype: int64\n",
      "is_holiday\n",
      "True    18213\n",
      "Name: count, dtype: int64\n"
     ]
    }
   ],
   "source": [
    "holiday_list = pd.to_datetime([\n",
    "    \"2022-01-01\", \"2022-01-31\", \"2022-02-01\", \"2022-03-01\", \"2022-03-09\",\n",
    "    \"2022-05-05\", \"2022-05-08\", \"2022-06-01\", \"2022-06-06\", \"2022-08-15\",\n",
    "    \"2022-09-09\", \"2022-09-10\", \"2022-09-11\", \"2022-09-12\", \"2022-10-03\",\n",
    "    \"2022-10-09\", \"2022-10-10\", \"2022-12-25\", \"2023-01-01\", \"2023-01-21\",\n",
    "    \"2023-01-22\", \"2023-01-23\", \"2023-01-24\", \"2023-03-01\", \"2023-05-01\",\n",
    "    \"2023-05-05\", \"2023-05-27\", \"2023-05-29\", \"2023-06-06\", \"2023-08-15\",\n",
    "    \"2023-09-28\", \"2023-09-29\", \"2023-09-30\", \"2023-10-03\", \"2023-10-09\",\n",
    "    \"2023-12-25\"\n",
    "])\n",
    "\n",
    "# 요일\n",
    "data['business_day'] = pd.to_datetime(data['business_day'])\n",
    "data.loc[:, 'day_of_week'] = data['business_day'].dt.day_name().str[:3]\n",
    "data.loc[:, 'is_holiday'] = data['business_day'].isin(holiday_list) | data['day_of_week'].isin([\"Fri\", \"Sat\", \"Sun\"])\n",
    "\n",
    "print(data['day_of_week'].value_counts())\n",
    "print(data['is_holiday'].value_counts())"
   ]
  },
  {
   "attachments": {},
   "cell_type": "markdown",
   "metadata": {},
   "source": [
    "## 5. weather data join"
   ]
  },
  {
   "cell_type": "code",
   "execution_count": 57,
   "metadata": {},
   "outputs": [
    {
     "name": "stdout",
     "output_type": "stream",
     "text": [
      "            일시    기온  강수량  시간\n",
      "8   2023-09-14  20.1  0.0   8\n",
      "9   2023-09-14  22.7  0.0   9\n",
      "10  2023-09-14  24.3  0.0  10\n",
      "11  2023-09-14  25.9  0.0  11\n",
      "12  2023-09-14  27.0  0.0  12\n"
     ]
    }
   ],
   "source": [
    "weather_new = pd.read_csv('/Users/yj.noh/Documents/GitHub/prj-ML-model-LT_OV30/new_data_weather.csv', encoding = 'cp949')\n",
    "weather_new['일시'] = pd.to_datetime(weather_new['일시'])\n",
    "weather_new['시간'] = weather_new['일시'].dt.hour\n",
    "weather_new['일시'] = weather_new['일시'].dt.strftime('%Y-%m-%d')\n",
    "weather = weather_new.fillna(0)\n",
    "\n",
    "weather = weather[(weather['시간'] >= 8) & (weather['시간'] <= 22)]\n",
    "weather.rename(columns={\"기온(°C)\":'기온',\"강수량(mm)\":'강수량'},inplace=True)\n",
    "weather = weather[['일시', '기온', '강수량', '시간']]\n",
    "print(weather.head())"
   ]
  },
  {
   "cell_type": "code",
   "execution_count": 58,
   "metadata": {},
   "outputs": [
    {
     "name": "stdout",
     "output_type": "stream",
     "text": [
      "(18213, 39)\n"
     ]
    }
   ],
   "source": [
    "data['business_day'] = data['business_day'].dt.strftime('%Y-%m-%d')\n",
    "merged_data = data.merge(weather, left_on='business_day', right_on='일시')\n",
    "filtered_data = merged_data[(merged_data['reg_hour']-1 == merged_data['시간'])]\n",
    "\n",
    "print(filtered_data.shape) # 18213 "
   ]
  },
  {
   "cell_type": "code",
   "execution_count": 59,
   "metadata": {},
   "outputs": [
    {
     "name": "stdout",
     "output_type": "stream",
     "text": [
      "Index(['dlvry_id', 'business_day', 'reg_hour', 'service_type', 'shop_no',\n",
      "       'ord_price', 'notiOver', 'actual_dlvry_distance', 'shop_loc_pnt_lat',\n",
      "       'shop_loc_pnt_lon', 'dlvry_loc_pnt_lat', 'dlvry_loc_pnt_lon',\n",
      "       '추천노출시간_AI', '추천노출시간_일반', '추천미발생시간유', '추천미발생시간무', '배차후취소시간', '전체배차시간',\n",
      "       'notiOver_min_max', 'per_display', 'per_no_recomm', 'pick_floor',\n",
      "       'pick_rgn2_nm', 'pick_rgn3_nm', 'pick_category', 'pick_건물용도',\n",
      "       'pick_address', 'Latitude', 'Longitude', 'dlvry_address', 'dlvry_지상층수',\n",
      "       'dlvry_지하층수', 'dlvry_건물용도', 'day_of_week', 'is_holiday', '일시', '기온',\n",
      "       '강수량', '시간'],\n",
      "      dtype='object')\n"
     ]
    }
   ],
   "source": [
    "print(filtered_data.columns)"
   ]
  },
  {
   "cell_type": "code",
   "execution_count": 60,
   "metadata": {},
   "outputs": [],
   "source": [
    "filtered_data.to_csv(\"prj-ML-model-LT_OV30/new_data_final.csv\", encoding=\"utf-8\", index=False)"
   ]
  },
  {
   "cell_type": "code",
   "execution_count": null,
   "metadata": {},
   "outputs": [],
   "source": []
  }
 ],
 "metadata": {
  "kernelspec": {
   "display_name": ".venv",
   "language": "python",
   "name": "python3"
  },
  "language_info": {
   "codemirror_mode": {
    "name": "ipython",
    "version": 3
   },
   "file_extension": ".py",
   "mimetype": "text/x-python",
   "name": "python",
   "nbconvert_exporter": "python",
   "pygments_lexer": "ipython3",
   "version": "3.9.6"
  },
  "orig_nbformat": 4
 },
 "nbformat": 4,
 "nbformat_minor": 2
}
