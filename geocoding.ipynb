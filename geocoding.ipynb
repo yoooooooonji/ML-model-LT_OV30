{
 "cells": [
  {
   "attachments": {},
   "cell_type": "markdown",
   "metadata": {},
   "source": [
    "# 1. 위경도 -> 지번 주소 추출 (API 사용)"
   ]
  },
  {
   "cell_type": "code",
   "execution_count": 35,
   "metadata": {},
   "outputs": [
    {
     "name": "stdout",
     "output_type": "stream",
     "text": [
      "만남의거리, 성남동 젊음의 거리, 중구, 울산, 44532, 대한민국\n"
     ]
    }
   ],
   "source": [
    "from geopy.geocoders import Nominatim\n",
    "\n",
    "def geocoding_reverse(lat_lng_str): \n",
    "    geolocoder = Nominatim(user_agent = 'South Korea', timeout=None)\n",
    "    address = geolocoder.reverse(lat_lng_str)\n",
    "\n",
    "    return address\n",
    "\n",
    "address = geocoding_reverse('35.5547651056571, 129.32045439272568')\n",
    "print(address)"
   ]
  },
  {
   "cell_type": "code",
   "execution_count": 17,
   "metadata": {},
   "outputs": [
    {
     "name": "stdout",
     "output_type": "stream",
     "text": [
      "경기도 성남시 분당구 삼평동 624-3\n"
     ]
    }
   ],
   "source": [
    "# test \n",
    "import requests\n",
    "apiurl = \"https://api.vworld.kr/req/address?\"\n",
    "params = {\n",
    "    \"service\": \"address\",\n",
    "    \"request\": \"getaddress\",\n",
    "    \"crs\": \"epsg:4326\",\n",
    "    \"point\": \"127.101313354,37.402352535\",\n",
    "    \"format\": \"json\",\n",
    "    \"type\": \"parcel\",\n",
    "    \"key\": \"57C428EF-A97E-3028-9BF6-734745493260\"\n",
    "}\n",
    "response = requests.get(apiurl, params=params)\n",
    "if response.status_code == 200:\n",
    "    json_data = response.json()\n",
    "    print(json_data['response']['result'][0]['text']) # 지번주소 "
   ]
  },
  {
   "cell_type": "code",
   "execution_count": 33,
   "metadata": {},
   "outputs": [],
   "source": [
    "# 픽업지 지번 주소 추출 \n",
    "\n",
    "import requests\n",
    "import pandas as pd\n",
    "\n",
    "apiurl = \"https://api.vworld.kr/req/address\"\n",
    "api_key = \"57C428EF-A97E-3028-9BF6-734745493260\"\n",
    "\n",
    "data = pd.read_csv('/Users/yj.noh/Desktop/pick_address.csv', encoding=\"utf-8\")\n",
    "\n",
    "shop_results = []\n",
    "\n",
    "for index, row in data.iterrows():\n",
    "    lat = row['shop_loc_pnt_lat']\n",
    "    lon = row['shop_loc_pnt_lon']\n",
    "    \n",
    "    # 픽업지 주소 추출\n",
    "    params_shop = {\n",
    "        \"service\": \"address\",\n",
    "        \"request\": \"getaddress\",\n",
    "        \"crs\": \"epsg:4326\",\n",
    "        \"point\": f\"{lon},{lat}\",  # 경도, 위도 순서로 입력\n",
    "        \"format\": \"json\",\n",
    "        \"type\": \"parcel\",\n",
    "        \"key\": api_key\n",
    "    }\n",
    "    \n",
    "    response_shop = requests.get(apiurl, params=params_shop)\n",
    "    \n",
    "    if response_shop.status_code == 200:\n",
    "        result_shop = response_shop.json()\n",
    "        shop_address = result_shop['response']['result'][0]['text']  # 매장의 지번 주소\n",
    "            \n",
    "    shop_results.append({\n",
    "        \"Latitude\": lat,\n",
    "        \"Longitude\": lon,\n",
    "        \"Address\": shop_address\n",
    "        })\n",
    "    \n",
    "shop_result = pd.DataFrame(shop_results)\n",
    "shop_result.to_csv('shop_result.csv', index=False, encoding=\"cp949\")\n",
    "\n",
    "\n"
   ]
  },
  {
   "cell_type": "code",
   "execution_count": 34,
   "metadata": {},
   "outputs": [],
   "source": [
    "# 전달지 지번 주소 추출 \n",
    "\n",
    "import requests\n",
    "import pandas as pd\n",
    "\n",
    "apiurl = \"https://api.vworld.kr/req/address\"\n",
    "api_key = \"57C428EF-A97E-3028-9BF6-734745493260\"\n",
    "\n",
    "data = pd.read_csv('/Users/yj.noh/Desktop/dlvry_address.csv', encoding=\"utf-8\")\n",
    "\n",
    "dlvry_results = []\n",
    "\n",
    "for index, row in data.iterrows():\n",
    "    lat = row['dlvry_loc_pnt_lat']\n",
    "    lon = row['dlvry_loc_pnt_lon']\n",
    "    \n",
    "    # 픽업지 주소 추출\n",
    "    params_shop = {\n",
    "        \"service\": \"address\",\n",
    "        \"request\": \"getaddress\",\n",
    "        \"crs\": \"epsg:4326\",\n",
    "        \"point\": f\"{lon},{lat}\",  # 경도, 위도 순서로 입력\n",
    "        \"format\": \"json\",\n",
    "        \"type\": \"parcel\",\n",
    "        \"key\": api_key\n",
    "    }\n",
    "    \n",
    "    response_shop = requests.get(apiurl, params=params_shop)\n",
    "    \n",
    "    if response_shop.status_code == 200:\n",
    "        result_shop = response_shop.json()\n",
    "        shop_address = result_shop['response']['result'][0]['text']  # 매장의 지번 주소\n",
    "            \n",
    "    dlvry_results.append({\n",
    "        \"Latitude\": lat,\n",
    "        \"Longitude\": lon,\n",
    "        \"Address\": shop_address\n",
    "        })\n",
    "    \n",
    "dlvry_result = pd.DataFrame(dlvry_results)\n",
    "dlvry_result.to_csv('dlvry_result.csv', index=False, encoding=\"cp949\")"
   ]
  },
  {
   "cell_type": "code",
   "execution_count": null,
   "metadata": {},
   "outputs": [],
   "source": [
    "# 픽업지 - 전달지 지번 주소 추출 \n",
    "\n",
    "import requests\n",
    "import pandas as pd\n",
    "\n",
    "apiurl = \"https://api.vworld.kr/req/address\"\n",
    "api_key = \"57C428EF-A97E-3028-9BF6-734745493260\"\n",
    "\n",
    "data = pd.read_csv('/Users/yj.noh/Desktop/pick_dlvry_lat_loc.csv', encoding=\"cp949\")\n",
    "\n",
    "shop_results = []\n",
    "dlvry_results = []\n",
    "\n",
    "for index, row in data.iterrows():\n",
    "    shop_lat = row['shop_loc_pnt_lat']\n",
    "    shop_lon = row['shop_loc_pnt_lon']\n",
    "    dlvry_lat = row['dlvry_loc_pnt_lat']\n",
    "    dlvry_lon = row['dlvry_loc_pnt_lon']\n",
    "    \n",
    "    # 픽업지 주소 추출\n",
    "    params_shop = {\n",
    "        \"service\": \"address\",\n",
    "        \"request\": \"getaddress\",\n",
    "        \"crs\": \"epsg:4326\",\n",
    "        \"point\": f\"{shop_lon},{shop_lat}\",  # 경도, 위도 순서로 입력\n",
    "        \"format\": \"json\",\n",
    "        \"type\": \"parcel\",\n",
    "        \"key\": api_key\n",
    "    }\n",
    "    \n",
    "    response_shop = requests.get(apiurl, params=params_shop)\n",
    "    \n",
    "    if response_shop.status_code == 200:\n",
    "        result_shop = response_shop.json()\n",
    "        shop_address = result_shop['response']['result'][0]['text']  # 매장의 지번 주소\n",
    "    \n",
    "    # 전달지 주소 추출\n",
    "    params_dlvry = {\n",
    "        \"service\": \"address\",\n",
    "        \"request\": \"getaddress\",\n",
    "        \"crs\": \"epsg:4326\",\n",
    "        \"point\": f\"{dlvry_lon},{dlvry_lat}\",  # 경도, 위도 순서로 입력\n",
    "        \"format\": \"json\",\n",
    "        \"type\": \"parcel\",\n",
    "        \"key\": api_key\n",
    "    }\n",
    "    \n",
    "    response_dlvry = requests.get(apiurl, params=params_dlvry)\n",
    "    \n",
    "    if response_dlvry.status_code == 200:\n",
    "        result_dlvry = response_dlvry.json()\n",
    "        dlvry_address = result_dlvry['response']['result'][0]['text']  # 배송지의 지번 주소\n",
    "        \n",
    "    shop_results.append({\n",
    "        \"Latitude\": shop_lat,\n",
    "        \"Longitude\": shop_lon,\n",
    "        \"Address\": shop_address\n",
    "        })\n",
    "    \n",
    "    dlvry_results.append ({\n",
    "        \"Latitude\": dlvry_lat,\n",
    "        \"Longitude\": dlvry_lon,\n",
    "        \"Address\": dlvry_address\n",
    "    })\n",
    "\n",
    "shop_result = pd.DataFrame(shop_results)\n",
    "dlvry_result = pd.DataFrame(dlvry_results)\n",
    "\n",
    "result = pd.concat([shop_result, dlvry_result])\n",
    "result.to_csv('address_result.csv', index=False, encoding=\"cp949\")\n",
    "\n",
    "\n"
   ]
  },
  {
   "attachments": {},
   "cell_type": "markdown",
   "metadata": {},
   "source": [
    "# 2. 지번주소 -> 건물 형태 데이터 join "
   ]
  },
  {
   "cell_type": "code",
   "execution_count": 53,
   "metadata": {},
   "outputs": [
    {
     "name": "stdout",
     "output_type": "stream",
     "text": [
      "출처: 행정기관(행정동) 및 관할구역(법정동) 변경내역(2023. 7. 3. 시행)\n"
     ]
    }
   ],
   "source": [
    "# 공공데이터 건축물대장정보 데이터 가져오기\n",
    "from PublicDataReader import BuildingLedger\n",
    "import PublicDataReader as pdr\n",
    "import pandas as pd \n",
    "\n",
    "# 시군구코드, 법정동코드 조회하기\n",
    "service_key = \"uw7Y8kgQ1Fqg6z9GjnSN8jJ8S%2FuV%2Bl%2B8PnHC4By9xwtYF5ZAExmO2Ip1mJcQC3HDTDcKmIxB9rBBuI0gDaIYVA%3D%3D\"\n",
    "api = BuildingLedger(service_key)\n",
    "\n",
    "gu_name = ['서초구'] #, '강남구', '관악구', '동작구', '과천시']\n",
    "code = pdr.code_bdong()\n",
    "\n",
    "code['말소일자'] = pd.to_datetime(code['말소일자'])\n",
    "filtered_data = code[code['시군구명'].str.contains('|'.join(gu_name)) & (code['말소일자'].isna()) & (code['읍면동명'].fillna('') != '')]\n",
    "#filtered_data.to_csv('시군구법정코드추출.csv', index=False, encoding = \"cp949\")"
   ]
  },
  {
   "cell_type": "code",
   "execution_count": null,
   "metadata": {},
   "outputs": [],
   "source": [
    "# 시군구 법정동에 존재하는 건물 데이터 추출\n",
    "all_data = []\n",
    "\n",
    "for index, row in filtered_data.iterrows():\n",
    "    sigungu_code = 11650\n",
    "    bdong_code = row['법정동코드'][-5:]\n",
    "\n",
    "    df = api.get_data(\n",
    "        ledger_type = \"총괄표제부\",\n",
    "        sigungu_code = sigungu_code,\n",
    "        bdong_code = bdong_code,\n",
    "        bun = \"\",\n",
    "        ji = \"\",\n",
    "    )\n",
    "    all_data.append(df)\n",
    "\n",
    "combined_data = pd.concat(all_data, ignore_index=True)\n",
    "combined_data.to_csv('address/all_building_info.csv', index=False, encoding=\"cp949\")\n"
   ]
  },
  {
   "cell_type": "code",
   "execution_count": 130,
   "metadata": {},
   "outputs": [],
   "source": [
    "df1 = api.get_data(\n",
    "        ledger_type=\"총괄표제부\", \n",
    "        sigungu_code = '41290',\n",
    "        bdong_code = '10600',\n",
    "        bun=\"\", \n",
    "        ji=\"\",\n",
    "    )\n",
    "df1.to_csv('address/건축물대장/과천시/주암동.csv', index=False, encoding = \"cp949\")"
   ]
  },
  {
   "cell_type": "code",
   "execution_count": 132,
   "metadata": {},
   "outputs": [],
   "source": [
    "df1 = api.get_data(\n",
    "        ledger_type=\"총괄표제부\", \n",
    "        sigungu_code = '11650',\n",
    "        bdong_code = '10900',\n",
    "        bun=\"\", \n",
    "        ji=\"\",\n",
    "    )\n",
    "df1.to_csv('address/건축물대장/서초구/내곡동.csv', index=False, encoding = \"cp949\")"
   ]
  },
  {
   "cell_type": "code",
   "execution_count": null,
   "metadata": {},
   "outputs": [],
   "source": []
  }
 ],
 "metadata": {
  "kernelspec": {
   "display_name": "Python 3",
   "language": "python",
   "name": "python3"
  },
  "language_info": {
   "codemirror_mode": {
    "name": "ipython",
    "version": 3
   },
   "file_extension": ".py",
   "mimetype": "text/x-python",
   "name": "python",
   "nbconvert_exporter": "python",
   "pygments_lexer": "ipython3",
   "version": "3.-1.-1"
  },
  "orig_nbformat": 4
 },
 "nbformat": 4,
 "nbformat_minor": 2
}
